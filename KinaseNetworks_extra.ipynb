{
 "cells": [
  {
   "cell_type": "code",
   "execution_count": 1,
   "id": "99ce5d94",
   "metadata": {},
   "outputs": [],
   "source": [
    "import pandas as pd\n",
    "import itertools\n",
    "from itertools import chain\n",
    "#Visualizations\n",
    "import plotly.express as px\n",
    "import plotly.graph_objects as go \n",
    "import matplotlib.cm as cm\n",
    "import matplotlib.pyplot as plt\n"
   ]
  },
  {
   "cell_type": "markdown",
   "id": "51fb5ee3",
   "metadata": {},
   "source": [
    "# TTK in colorectal cancer cell lines"
   ]
  },
  {
   "cell_type": "code",
   "execution_count": 6,
   "id": "0b9818fd",
   "metadata": {},
   "outputs": [
    {
     "data": {
      "text/plain": [
       "[[-1.33949014140857,\n",
       "  1.0627302325143,\n",
       "  0.145420942103213,\n",
       "  1.06503345887664,\n",
       "  -1.21817531197099,\n",
       "  0.0689856384395412,\n",
       "  -1.25112184739382,\n",
       "  -0.259739755872758,\n",
       "  0.296651223632221,\n",
       "  -0.0388716000656698,\n",
       "  0.610244163761365,\n",
       "  0.359143751453239,\n",
       "  0.650271081689848,\n",
       "  0.256376193913559,\n",
       "  1.09575247048525,\n",
       "  0.0354081078125058,\n",
       "  -0.0314786687852968,\n",
       "  4.38018528810574,\n",
       "  0.43931716084128,\n",
       "  -0.356451220598054,\n",
       "  0.104567298408597,\n",
       "  0.253769806156354,\n",
       "  0.741505549958582],\n",
       " [2.17368208760592,\n",
       "  2.90950989167394,\n",
       "  0.077737356847299,\n",
       "  -0.16432283379337,\n",
       "  0.332030302426428,\n",
       "  -0.290080850870891,\n",
       "  -0.186408372291546,\n",
       "  -0.357731247020865,\n",
       "  0.0157408652333942,\n",
       "  -0.190628586554712,\n",
       "  -0.328487471569951,\n",
       "  -0.0330412385735842,\n",
       "  -1.3546379918778,\n",
       "  -0.0957217815078503,\n",
       "  -1.33625742694637,\n",
       "  -0.317302460456917,\n",
       "  0.122059003911933,\n",
       "  -2.80883215641853,\n",
       "  -0.277648344388799,\n",
       "  0.135848722248673,\n",
       "  -0.0096394433019252,\n",
       "  -0.207646442777277,\n",
       "  -0.883843585745308]]"
      ]
     },
     "execution_count": 6,
     "metadata": {},
     "output_type": "execute_result"
    }
   ],
   "source": [
    "networkfile = pd.read_excel('input/edges cell lines and primary breast.xlsm', sheet_name='edges cell lines and primary br')\n",
    "\n",
    "networkfile = networkfile[[\"edge\",\"difference hct116\",\"difference dld1\"]]\n",
    "\n",
    "# Convert first column (kinase interactions/pairs) of the document to a list\n",
    "edges_list= networkfile[networkfile.columns[0]].to_list()\n",
    "# Convert the list into a list of tuples, each tuple being one kinase pair/edge (since this is the format needed to \n",
    "# add edges onto pyvis.network (network visualization package))\n",
    "edges_list2 = pd.DataFrame({'col':[tuple(x.split('.',1)) for x in edges_list]})\n",
    "addr = ['from','to']\n",
    "networkfile = networkfile.join(edges_list2.col.apply(lambda loc: pd.Series(loc, index=addr)))\n",
    "\n",
    "#Select rows that are pik3ca/akt12/mtor edges\n",
    "networkfile = networkfile[ (networkfile['from'].isin(['TTK'])) | (networkfile['to'].isin(['TTK']))]\n",
    "\n",
    "#Kinases\n",
    "kinases = list(set(itertools.chain(*[networkfile['from'],networkfile['to']])))\n",
    "kinases.remove('TTK')\n",
    "kin_dict = {kin:set(itertools.chain(*[networkfile[ (networkfile['from']==kin) | (networkfile['to']==kin) ][[\"from\",\"to\"]] ][0].values.tolist())) for kin in ['TTK']}\n",
    "values = [ [networkfile[( (networkfile['from']==kin) & (networkfile['to']==x) )|( (networkfile['from']==x) & (networkfile['to']==kin) )]['difference hct116'] if (kin in kin_dict[x]) and (len(networkfile[( (networkfile['from']==kin) & (networkfile['to']==x) )|( (networkfile['from']==x) & (networkfile['to']==kin) )]['difference hct116'])==1) else None for kin in kinases] for x in ['TTK'] ]\n",
    "values1 = [ [float(x) if x is not None else None for x in listi ] for listi in values ]\n",
    "values = [ [networkfile[( (networkfile['from']==kin) & (networkfile['to']==x) )|( (networkfile['from']==x) & (networkfile['to']==kin) )]['difference dld1'] if (kin in kin_dict[x]) and (len(networkfile[( (networkfile['from']==kin) & (networkfile['to']==x) )|( (networkfile['from']==x) & (networkfile['to']==kin) )]['difference dld1'])==1) else None for kin in kinases] for x in ['TTK'] ]\n",
    "values2 = [ [float(x) if x is not None else None for x in listi ] for listi in values ]\n",
    "\n",
    "#kin='PIK3CA'\n",
    "#x='AKT1_2'\n",
    "#float(networkfile[( (networkfile['from']==kin) & (networkfile['to']==x) )|( (networkfile['from']==x) & (networkfile['to']==kin) )]['difference hct116'])\n",
    "\n",
    "#pandas.core.series.Series\n",
    "#plt.savefig('output_visualizations/hdct116_heatmap.pdf')\n",
    "\n",
    "values3 = values1 + values2\n",
    "\n",
    "values3\n"
   ]
  },
  {
   "cell_type": "code",
   "execution_count": 73,
   "id": "8b9f0042",
   "metadata": {},
   "outputs": [
    {
     "data": {
      "application/vnd.plotly.v1+json": {
       "config": {
        "plotlyServerURL": "https://plot.ly"
       },
       "data": [
        {
         "hoverongaps": false,
         "type": "heatmap",
         "x": [
          "KIT",
          "SRPK1",
          "TNK2",
          "CIT",
          "CSNK1E",
          "PDGFRB",
          "PIK3CA",
          "PRKACA",
          "MINK1",
          "MAP3K1",
          "ARAF",
          "PRKCI",
          "ERN1",
          "SRPK3",
          "MTOR",
          "PLK1",
          "CAMKK2",
          "AKT1_2",
          "MAP4K5",
          "TAOK3",
          "IRAK1",
          "MAPK14",
          "PAK3"
         ],
         "y": [
          "TTK <br>HCT116 cell line",
          "TTK <br>DLD1 cell line"
         ],
         "yaxis": "y2",
         "z": [
          [
           -1.33949014140857,
           1.0627302325143,
           0.145420942103213,
           1.06503345887664,
           -1.21817531197099,
           0.0689856384395412,
           -1.25112184739382,
           -0.259739755872758,
           0.296651223632221,
           -0.0388716000656698,
           0.610244163761365,
           0.359143751453239,
           0.650271081689848,
           0.256376193913559,
           1.09575247048525,
           0.0354081078125058,
           -0.0314786687852968,
           4.38018528810574,
           0.43931716084128,
           -0.356451220598054,
           0.104567298408597,
           0.253769806156354,
           0.741505549958582
          ],
          [
           2.17368208760592,
           2.90950989167394,
           0.077737356847299,
           -0.16432283379337,
           0.332030302426428,
           -0.290080850870891,
           -0.186408372291546,
           -0.357731247020865,
           0.0157408652333942,
           -0.190628586554712,
           -0.328487471569951,
           -0.0330412385735842,
           -1.3546379918778,
           -0.0957217815078503,
           -1.33625742694637,
           -0.317302460456917,
           0.122059003911933,
           -2.80883215641853,
           -0.277648344388799,
           0.135848722248673,
           -0.0096394433019252,
           -0.207646442777277,
           -0.883843585745308
          ]
         ]
        }
       ],
       "layout": {
        "font": {
         "size": 13
        },
        "template": {
         "data": {
          "bar": [
           {
            "error_x": {
             "color": "#2a3f5f"
            },
            "error_y": {
             "color": "#2a3f5f"
            },
            "marker": {
             "line": {
              "color": "#E5ECF6",
              "width": 0.5
             },
             "pattern": {
              "fillmode": "overlay",
              "size": 10,
              "solidity": 0.2
             }
            },
            "type": "bar"
           }
          ],
          "barpolar": [
           {
            "marker": {
             "line": {
              "color": "#E5ECF6",
              "width": 0.5
             },
             "pattern": {
              "fillmode": "overlay",
              "size": 10,
              "solidity": 0.2
             }
            },
            "type": "barpolar"
           }
          ],
          "carpet": [
           {
            "aaxis": {
             "endlinecolor": "#2a3f5f",
             "gridcolor": "white",
             "linecolor": "white",
             "minorgridcolor": "white",
             "startlinecolor": "#2a3f5f"
            },
            "baxis": {
             "endlinecolor": "#2a3f5f",
             "gridcolor": "white",
             "linecolor": "white",
             "minorgridcolor": "white",
             "startlinecolor": "#2a3f5f"
            },
            "type": "carpet"
           }
          ],
          "choropleth": [
           {
            "colorbar": {
             "outlinewidth": 0,
             "ticks": ""
            },
            "type": "choropleth"
           }
          ],
          "contour": [
           {
            "colorbar": {
             "outlinewidth": 0,
             "ticks": ""
            },
            "colorscale": [
             [
              0,
              "#0d0887"
             ],
             [
              0.1111111111111111,
              "#46039f"
             ],
             [
              0.2222222222222222,
              "#7201a8"
             ],
             [
              0.3333333333333333,
              "#9c179e"
             ],
             [
              0.4444444444444444,
              "#bd3786"
             ],
             [
              0.5555555555555556,
              "#d8576b"
             ],
             [
              0.6666666666666666,
              "#ed7953"
             ],
             [
              0.7777777777777778,
              "#fb9f3a"
             ],
             [
              0.8888888888888888,
              "#fdca26"
             ],
             [
              1,
              "#f0f921"
             ]
            ],
            "type": "contour"
           }
          ],
          "contourcarpet": [
           {
            "colorbar": {
             "outlinewidth": 0,
             "ticks": ""
            },
            "type": "contourcarpet"
           }
          ],
          "heatmap": [
           {
            "colorbar": {
             "outlinewidth": 0,
             "ticks": ""
            },
            "colorscale": [
             [
              0,
              "#0d0887"
             ],
             [
              0.1111111111111111,
              "#46039f"
             ],
             [
              0.2222222222222222,
              "#7201a8"
             ],
             [
              0.3333333333333333,
              "#9c179e"
             ],
             [
              0.4444444444444444,
              "#bd3786"
             ],
             [
              0.5555555555555556,
              "#d8576b"
             ],
             [
              0.6666666666666666,
              "#ed7953"
             ],
             [
              0.7777777777777778,
              "#fb9f3a"
             ],
             [
              0.8888888888888888,
              "#fdca26"
             ],
             [
              1,
              "#f0f921"
             ]
            ],
            "type": "heatmap"
           }
          ],
          "heatmapgl": [
           {
            "colorbar": {
             "outlinewidth": 0,
             "ticks": ""
            },
            "colorscale": [
             [
              0,
              "#0d0887"
             ],
             [
              0.1111111111111111,
              "#46039f"
             ],
             [
              0.2222222222222222,
              "#7201a8"
             ],
             [
              0.3333333333333333,
              "#9c179e"
             ],
             [
              0.4444444444444444,
              "#bd3786"
             ],
             [
              0.5555555555555556,
              "#d8576b"
             ],
             [
              0.6666666666666666,
              "#ed7953"
             ],
             [
              0.7777777777777778,
              "#fb9f3a"
             ],
             [
              0.8888888888888888,
              "#fdca26"
             ],
             [
              1,
              "#f0f921"
             ]
            ],
            "type": "heatmapgl"
           }
          ],
          "histogram": [
           {
            "marker": {
             "pattern": {
              "fillmode": "overlay",
              "size": 10,
              "solidity": 0.2
             }
            },
            "type": "histogram"
           }
          ],
          "histogram2d": [
           {
            "colorbar": {
             "outlinewidth": 0,
             "ticks": ""
            },
            "colorscale": [
             [
              0,
              "#0d0887"
             ],
             [
              0.1111111111111111,
              "#46039f"
             ],
             [
              0.2222222222222222,
              "#7201a8"
             ],
             [
              0.3333333333333333,
              "#9c179e"
             ],
             [
              0.4444444444444444,
              "#bd3786"
             ],
             [
              0.5555555555555556,
              "#d8576b"
             ],
             [
              0.6666666666666666,
              "#ed7953"
             ],
             [
              0.7777777777777778,
              "#fb9f3a"
             ],
             [
              0.8888888888888888,
              "#fdca26"
             ],
             [
              1,
              "#f0f921"
             ]
            ],
            "type": "histogram2d"
           }
          ],
          "histogram2dcontour": [
           {
            "colorbar": {
             "outlinewidth": 0,
             "ticks": ""
            },
            "colorscale": [
             [
              0,
              "#0d0887"
             ],
             [
              0.1111111111111111,
              "#46039f"
             ],
             [
              0.2222222222222222,
              "#7201a8"
             ],
             [
              0.3333333333333333,
              "#9c179e"
             ],
             [
              0.4444444444444444,
              "#bd3786"
             ],
             [
              0.5555555555555556,
              "#d8576b"
             ],
             [
              0.6666666666666666,
              "#ed7953"
             ],
             [
              0.7777777777777778,
              "#fb9f3a"
             ],
             [
              0.8888888888888888,
              "#fdca26"
             ],
             [
              1,
              "#f0f921"
             ]
            ],
            "type": "histogram2dcontour"
           }
          ],
          "mesh3d": [
           {
            "colorbar": {
             "outlinewidth": 0,
             "ticks": ""
            },
            "type": "mesh3d"
           }
          ],
          "parcoords": [
           {
            "line": {
             "colorbar": {
              "outlinewidth": 0,
              "ticks": ""
             }
            },
            "type": "parcoords"
           }
          ],
          "pie": [
           {
            "automargin": true,
            "type": "pie"
           }
          ],
          "scatter": [
           {
            "fillpattern": {
             "fillmode": "overlay",
             "size": 10,
             "solidity": 0.2
            },
            "type": "scatter"
           }
          ],
          "scatter3d": [
           {
            "line": {
             "colorbar": {
              "outlinewidth": 0,
              "ticks": ""
             }
            },
            "marker": {
             "colorbar": {
              "outlinewidth": 0,
              "ticks": ""
             }
            },
            "type": "scatter3d"
           }
          ],
          "scattercarpet": [
           {
            "marker": {
             "colorbar": {
              "outlinewidth": 0,
              "ticks": ""
             }
            },
            "type": "scattercarpet"
           }
          ],
          "scattergeo": [
           {
            "marker": {
             "colorbar": {
              "outlinewidth": 0,
              "ticks": ""
             }
            },
            "type": "scattergeo"
           }
          ],
          "scattergl": [
           {
            "marker": {
             "colorbar": {
              "outlinewidth": 0,
              "ticks": ""
             }
            },
            "type": "scattergl"
           }
          ],
          "scattermapbox": [
           {
            "marker": {
             "colorbar": {
              "outlinewidth": 0,
              "ticks": ""
             }
            },
            "type": "scattermapbox"
           }
          ],
          "scatterpolar": [
           {
            "marker": {
             "colorbar": {
              "outlinewidth": 0,
              "ticks": ""
             }
            },
            "type": "scatterpolar"
           }
          ],
          "scatterpolargl": [
           {
            "marker": {
             "colorbar": {
              "outlinewidth": 0,
              "ticks": ""
             }
            },
            "type": "scatterpolargl"
           }
          ],
          "scatterternary": [
           {
            "marker": {
             "colorbar": {
              "outlinewidth": 0,
              "ticks": ""
             }
            },
            "type": "scatterternary"
           }
          ],
          "surface": [
           {
            "colorbar": {
             "outlinewidth": 0,
             "ticks": ""
            },
            "colorscale": [
             [
              0,
              "#0d0887"
             ],
             [
              0.1111111111111111,
              "#46039f"
             ],
             [
              0.2222222222222222,
              "#7201a8"
             ],
             [
              0.3333333333333333,
              "#9c179e"
             ],
             [
              0.4444444444444444,
              "#bd3786"
             ],
             [
              0.5555555555555556,
              "#d8576b"
             ],
             [
              0.6666666666666666,
              "#ed7953"
             ],
             [
              0.7777777777777778,
              "#fb9f3a"
             ],
             [
              0.8888888888888888,
              "#fdca26"
             ],
             [
              1,
              "#f0f921"
             ]
            ],
            "type": "surface"
           }
          ],
          "table": [
           {
            "cells": {
             "fill": {
              "color": "#EBF0F8"
             },
             "line": {
              "color": "white"
             }
            },
            "header": {
             "fill": {
              "color": "#C8D4E3"
             },
             "line": {
              "color": "white"
             }
            },
            "type": "table"
           }
          ]
         },
         "layout": {
          "annotationdefaults": {
           "arrowcolor": "#2a3f5f",
           "arrowhead": 0,
           "arrowwidth": 1
          },
          "autotypenumbers": "strict",
          "coloraxis": {
           "colorbar": {
            "outlinewidth": 0,
            "ticks": ""
           }
          },
          "colorscale": {
           "diverging": [
            [
             0,
             "#8e0152"
            ],
            [
             0.1,
             "#c51b7d"
            ],
            [
             0.2,
             "#de77ae"
            ],
            [
             0.3,
             "#f1b6da"
            ],
            [
             0.4,
             "#fde0ef"
            ],
            [
             0.5,
             "#f7f7f7"
            ],
            [
             0.6,
             "#e6f5d0"
            ],
            [
             0.7,
             "#b8e186"
            ],
            [
             0.8,
             "#7fbc41"
            ],
            [
             0.9,
             "#4d9221"
            ],
            [
             1,
             "#276419"
            ]
           ],
           "sequential": [
            [
             0,
             "#0d0887"
            ],
            [
             0.1111111111111111,
             "#46039f"
            ],
            [
             0.2222222222222222,
             "#7201a8"
            ],
            [
             0.3333333333333333,
             "#9c179e"
            ],
            [
             0.4444444444444444,
             "#bd3786"
            ],
            [
             0.5555555555555556,
             "#d8576b"
            ],
            [
             0.6666666666666666,
             "#ed7953"
            ],
            [
             0.7777777777777778,
             "#fb9f3a"
            ],
            [
             0.8888888888888888,
             "#fdca26"
            ],
            [
             1,
             "#f0f921"
            ]
           ],
           "sequentialminus": [
            [
             0,
             "#0d0887"
            ],
            [
             0.1111111111111111,
             "#46039f"
            ],
            [
             0.2222222222222222,
             "#7201a8"
            ],
            [
             0.3333333333333333,
             "#9c179e"
            ],
            [
             0.4444444444444444,
             "#bd3786"
            ],
            [
             0.5555555555555556,
             "#d8576b"
            ],
            [
             0.6666666666666666,
             "#ed7953"
            ],
            [
             0.7777777777777778,
             "#fb9f3a"
            ],
            [
             0.8888888888888888,
             "#fdca26"
            ],
            [
             1,
             "#f0f921"
            ]
           ]
          },
          "colorway": [
           "#636efa",
           "#EF553B",
           "#00cc96",
           "#ab63fa",
           "#FFA15A",
           "#19d3f3",
           "#FF6692",
           "#B6E880",
           "#FF97FF",
           "#FECB52"
          ],
          "font": {
           "color": "#2a3f5f"
          },
          "geo": {
           "bgcolor": "white",
           "lakecolor": "white",
           "landcolor": "#E5ECF6",
           "showlakes": true,
           "showland": true,
           "subunitcolor": "white"
          },
          "hoverlabel": {
           "align": "left"
          },
          "hovermode": "closest",
          "mapbox": {
           "style": "light"
          },
          "paper_bgcolor": "white",
          "plot_bgcolor": "#E5ECF6",
          "polar": {
           "angularaxis": {
            "gridcolor": "white",
            "linecolor": "white",
            "ticks": ""
           },
           "bgcolor": "#E5ECF6",
           "radialaxis": {
            "gridcolor": "white",
            "linecolor": "white",
            "ticks": ""
           }
          },
          "scene": {
           "xaxis": {
            "backgroundcolor": "#E5ECF6",
            "gridcolor": "white",
            "gridwidth": 2,
            "linecolor": "white",
            "showbackground": true,
            "ticks": "",
            "zerolinecolor": "white"
           },
           "yaxis": {
            "backgroundcolor": "#E5ECF6",
            "gridcolor": "white",
            "gridwidth": 2,
            "linecolor": "white",
            "showbackground": true,
            "ticks": "",
            "zerolinecolor": "white"
           },
           "zaxis": {
            "backgroundcolor": "#E5ECF6",
            "gridcolor": "white",
            "gridwidth": 2,
            "linecolor": "white",
            "showbackground": true,
            "ticks": "",
            "zerolinecolor": "white"
           }
          },
          "shapedefaults": {
           "line": {
            "color": "#2a3f5f"
           }
          },
          "ternary": {
           "aaxis": {
            "gridcolor": "white",
            "linecolor": "white",
            "ticks": ""
           },
           "baxis": {
            "gridcolor": "white",
            "linecolor": "white",
            "ticks": ""
           },
           "bgcolor": "#E5ECF6",
           "caxis": {
            "gridcolor": "white",
            "linecolor": "white",
            "ticks": ""
           }
          },
          "title": {
           "x": 0.05
          },
          "xaxis": {
           "automargin": true,
           "gridcolor": "white",
           "linecolor": "white",
           "ticks": "",
           "title": {
            "standoff": 15
           },
           "zerolinecolor": "white",
           "zerolinewidth": 2
          },
          "yaxis": {
           "automargin": true,
           "gridcolor": "white",
           "linecolor": "white",
           "ticks": "",
           "title": {
            "standoff": 15
           },
           "zerolinecolor": "white",
           "zerolinewidth": 2
          }
         }
        },
        "title": {
         "text": "z-score difference of TTK edges in cells with PIK3CA mutations vs wild-type",
         "x": 0.55,
         "xanchor": "center",
         "y": 0.86
        },
        "xaxis": {
         "domain": [
          0.15,
          1
         ],
         "tickfont": {
          "size": 14
         }
        },
        "yaxis": {
         "tickfont": {
          "size": 14
         }
        },
        "yaxis2": {
         "anchor": "free",
         "position": 0,
         "side": "right",
         "tickfont": {
          "size": 14
         }
        }
       }
      },
      "text/html": [
       "<div>                            <div id=\"ff828203-5c8f-4310-aee4-ca44f35c4314\" class=\"plotly-graph-div\" style=\"height:525px; width:100%;\"></div>            <script type=\"text/javascript\">                require([\"plotly\"], function(Plotly) {                    window.PLOTLYENV=window.PLOTLYENV || {};                                    if (document.getElementById(\"ff828203-5c8f-4310-aee4-ca44f35c4314\")) {                    Plotly.newPlot(                        \"ff828203-5c8f-4310-aee4-ca44f35c4314\",                        [{\"hoverongaps\":false,\"x\":[\"KIT\",\"SRPK1\",\"TNK2\",\"CIT\",\"CSNK1E\",\"PDGFRB\",\"PIK3CA\",\"PRKACA\",\"MINK1\",\"MAP3K1\",\"ARAF\",\"PRKCI\",\"ERN1\",\"SRPK3\",\"MTOR\",\"PLK1\",\"CAMKK2\",\"AKT1_2\",\"MAP4K5\",\"TAOK3\",\"IRAK1\",\"MAPK14\",\"PAK3\"],\"y\":[\"TTK <br>HCT116 cell line\",\"TTK <br>DLD1 cell line\"],\"yaxis\":\"y2\",\"z\":[[-1.33949014140857,1.0627302325143,0.145420942103213,1.06503345887664,-1.21817531197099,0.0689856384395412,-1.25112184739382,-0.259739755872758,0.296651223632221,-0.0388716000656698,0.610244163761365,0.359143751453239,0.650271081689848,0.256376193913559,1.09575247048525,0.0354081078125058,-0.0314786687852968,4.38018528810574,0.43931716084128,-0.356451220598054,0.104567298408597,0.253769806156354,0.741505549958582],[2.17368208760592,2.90950989167394,0.077737356847299,-0.16432283379337,0.332030302426428,-0.290080850870891,-0.186408372291546,-0.357731247020865,0.0157408652333942,-0.190628586554712,-0.328487471569951,-0.0330412385735842,-1.3546379918778,-0.0957217815078503,-1.33625742694637,-0.317302460456917,0.122059003911933,-2.80883215641853,-0.277648344388799,0.135848722248673,-0.0096394433019252,-0.207646442777277,-0.883843585745308]],\"type\":\"heatmap\"}],                        {\"template\":{\"data\":{\"histogram2dcontour\":[{\"type\":\"histogram2dcontour\",\"colorbar\":{\"outlinewidth\":0,\"ticks\":\"\"},\"colorscale\":[[0.0,\"#0d0887\"],[0.1111111111111111,\"#46039f\"],[0.2222222222222222,\"#7201a8\"],[0.3333333333333333,\"#9c179e\"],[0.4444444444444444,\"#bd3786\"],[0.5555555555555556,\"#d8576b\"],[0.6666666666666666,\"#ed7953\"],[0.7777777777777778,\"#fb9f3a\"],[0.8888888888888888,\"#fdca26\"],[1.0,\"#f0f921\"]]}],\"choropleth\":[{\"type\":\"choropleth\",\"colorbar\":{\"outlinewidth\":0,\"ticks\":\"\"}}],\"histogram2d\":[{\"type\":\"histogram2d\",\"colorbar\":{\"outlinewidth\":0,\"ticks\":\"\"},\"colorscale\":[[0.0,\"#0d0887\"],[0.1111111111111111,\"#46039f\"],[0.2222222222222222,\"#7201a8\"],[0.3333333333333333,\"#9c179e\"],[0.4444444444444444,\"#bd3786\"],[0.5555555555555556,\"#d8576b\"],[0.6666666666666666,\"#ed7953\"],[0.7777777777777778,\"#fb9f3a\"],[0.8888888888888888,\"#fdca26\"],[1.0,\"#f0f921\"]]}],\"heatmap\":[{\"type\":\"heatmap\",\"colorbar\":{\"outlinewidth\":0,\"ticks\":\"\"},\"colorscale\":[[0.0,\"#0d0887\"],[0.1111111111111111,\"#46039f\"],[0.2222222222222222,\"#7201a8\"],[0.3333333333333333,\"#9c179e\"],[0.4444444444444444,\"#bd3786\"],[0.5555555555555556,\"#d8576b\"],[0.6666666666666666,\"#ed7953\"],[0.7777777777777778,\"#fb9f3a\"],[0.8888888888888888,\"#fdca26\"],[1.0,\"#f0f921\"]]}],\"heatmapgl\":[{\"type\":\"heatmapgl\",\"colorbar\":{\"outlinewidth\":0,\"ticks\":\"\"},\"colorscale\":[[0.0,\"#0d0887\"],[0.1111111111111111,\"#46039f\"],[0.2222222222222222,\"#7201a8\"],[0.3333333333333333,\"#9c179e\"],[0.4444444444444444,\"#bd3786\"],[0.5555555555555556,\"#d8576b\"],[0.6666666666666666,\"#ed7953\"],[0.7777777777777778,\"#fb9f3a\"],[0.8888888888888888,\"#fdca26\"],[1.0,\"#f0f921\"]]}],\"contourcarpet\":[{\"type\":\"contourcarpet\",\"colorbar\":{\"outlinewidth\":0,\"ticks\":\"\"}}],\"contour\":[{\"type\":\"contour\",\"colorbar\":{\"outlinewidth\":0,\"ticks\":\"\"},\"colorscale\":[[0.0,\"#0d0887\"],[0.1111111111111111,\"#46039f\"],[0.2222222222222222,\"#7201a8\"],[0.3333333333333333,\"#9c179e\"],[0.4444444444444444,\"#bd3786\"],[0.5555555555555556,\"#d8576b\"],[0.6666666666666666,\"#ed7953\"],[0.7777777777777778,\"#fb9f3a\"],[0.8888888888888888,\"#fdca26\"],[1.0,\"#f0f921\"]]}],\"surface\":[{\"type\":\"surface\",\"colorbar\":{\"outlinewidth\":0,\"ticks\":\"\"},\"colorscale\":[[0.0,\"#0d0887\"],[0.1111111111111111,\"#46039f\"],[0.2222222222222222,\"#7201a8\"],[0.3333333333333333,\"#9c179e\"],[0.4444444444444444,\"#bd3786\"],[0.5555555555555556,\"#d8576b\"],[0.6666666666666666,\"#ed7953\"],[0.7777777777777778,\"#fb9f3a\"],[0.8888888888888888,\"#fdca26\"],[1.0,\"#f0f921\"]]}],\"mesh3d\":[{\"type\":\"mesh3d\",\"colorbar\":{\"outlinewidth\":0,\"ticks\":\"\"}}],\"scatter\":[{\"fillpattern\":{\"fillmode\":\"overlay\",\"size\":10,\"solidity\":0.2},\"type\":\"scatter\"}],\"parcoords\":[{\"type\":\"parcoords\",\"line\":{\"colorbar\":{\"outlinewidth\":0,\"ticks\":\"\"}}}],\"scatterpolargl\":[{\"type\":\"scatterpolargl\",\"marker\":{\"colorbar\":{\"outlinewidth\":0,\"ticks\":\"\"}}}],\"bar\":[{\"error_x\":{\"color\":\"#2a3f5f\"},\"error_y\":{\"color\":\"#2a3f5f\"},\"marker\":{\"line\":{\"color\":\"#E5ECF6\",\"width\":0.5},\"pattern\":{\"fillmode\":\"overlay\",\"size\":10,\"solidity\":0.2}},\"type\":\"bar\"}],\"scattergeo\":[{\"type\":\"scattergeo\",\"marker\":{\"colorbar\":{\"outlinewidth\":0,\"ticks\":\"\"}}}],\"scatterpolar\":[{\"type\":\"scatterpolar\",\"marker\":{\"colorbar\":{\"outlinewidth\":0,\"ticks\":\"\"}}}],\"histogram\":[{\"marker\":{\"pattern\":{\"fillmode\":\"overlay\",\"size\":10,\"solidity\":0.2}},\"type\":\"histogram\"}],\"scattergl\":[{\"type\":\"scattergl\",\"marker\":{\"colorbar\":{\"outlinewidth\":0,\"ticks\":\"\"}}}],\"scatter3d\":[{\"type\":\"scatter3d\",\"line\":{\"colorbar\":{\"outlinewidth\":0,\"ticks\":\"\"}},\"marker\":{\"colorbar\":{\"outlinewidth\":0,\"ticks\":\"\"}}}],\"scattermapbox\":[{\"type\":\"scattermapbox\",\"marker\":{\"colorbar\":{\"outlinewidth\":0,\"ticks\":\"\"}}}],\"scatterternary\":[{\"type\":\"scatterternary\",\"marker\":{\"colorbar\":{\"outlinewidth\":0,\"ticks\":\"\"}}}],\"scattercarpet\":[{\"type\":\"scattercarpet\",\"marker\":{\"colorbar\":{\"outlinewidth\":0,\"ticks\":\"\"}}}],\"carpet\":[{\"aaxis\":{\"endlinecolor\":\"#2a3f5f\",\"gridcolor\":\"white\",\"linecolor\":\"white\",\"minorgridcolor\":\"white\",\"startlinecolor\":\"#2a3f5f\"},\"baxis\":{\"endlinecolor\":\"#2a3f5f\",\"gridcolor\":\"white\",\"linecolor\":\"white\",\"minorgridcolor\":\"white\",\"startlinecolor\":\"#2a3f5f\"},\"type\":\"carpet\"}],\"table\":[{\"cells\":{\"fill\":{\"color\":\"#EBF0F8\"},\"line\":{\"color\":\"white\"}},\"header\":{\"fill\":{\"color\":\"#C8D4E3\"},\"line\":{\"color\":\"white\"}},\"type\":\"table\"}],\"barpolar\":[{\"marker\":{\"line\":{\"color\":\"#E5ECF6\",\"width\":0.5},\"pattern\":{\"fillmode\":\"overlay\",\"size\":10,\"solidity\":0.2}},\"type\":\"barpolar\"}],\"pie\":[{\"automargin\":true,\"type\":\"pie\"}]},\"layout\":{\"autotypenumbers\":\"strict\",\"colorway\":[\"#636efa\",\"#EF553B\",\"#00cc96\",\"#ab63fa\",\"#FFA15A\",\"#19d3f3\",\"#FF6692\",\"#B6E880\",\"#FF97FF\",\"#FECB52\"],\"font\":{\"color\":\"#2a3f5f\"},\"hovermode\":\"closest\",\"hoverlabel\":{\"align\":\"left\"},\"paper_bgcolor\":\"white\",\"plot_bgcolor\":\"#E5ECF6\",\"polar\":{\"bgcolor\":\"#E5ECF6\",\"angularaxis\":{\"gridcolor\":\"white\",\"linecolor\":\"white\",\"ticks\":\"\"},\"radialaxis\":{\"gridcolor\":\"white\",\"linecolor\":\"white\",\"ticks\":\"\"}},\"ternary\":{\"bgcolor\":\"#E5ECF6\",\"aaxis\":{\"gridcolor\":\"white\",\"linecolor\":\"white\",\"ticks\":\"\"},\"baxis\":{\"gridcolor\":\"white\",\"linecolor\":\"white\",\"ticks\":\"\"},\"caxis\":{\"gridcolor\":\"white\",\"linecolor\":\"white\",\"ticks\":\"\"}},\"coloraxis\":{\"colorbar\":{\"outlinewidth\":0,\"ticks\":\"\"}},\"colorscale\":{\"sequential\":[[0.0,\"#0d0887\"],[0.1111111111111111,\"#46039f\"],[0.2222222222222222,\"#7201a8\"],[0.3333333333333333,\"#9c179e\"],[0.4444444444444444,\"#bd3786\"],[0.5555555555555556,\"#d8576b\"],[0.6666666666666666,\"#ed7953\"],[0.7777777777777778,\"#fb9f3a\"],[0.8888888888888888,\"#fdca26\"],[1.0,\"#f0f921\"]],\"sequentialminus\":[[0.0,\"#0d0887\"],[0.1111111111111111,\"#46039f\"],[0.2222222222222222,\"#7201a8\"],[0.3333333333333333,\"#9c179e\"],[0.4444444444444444,\"#bd3786\"],[0.5555555555555556,\"#d8576b\"],[0.6666666666666666,\"#ed7953\"],[0.7777777777777778,\"#fb9f3a\"],[0.8888888888888888,\"#fdca26\"],[1.0,\"#f0f921\"]],\"diverging\":[[0,\"#8e0152\"],[0.1,\"#c51b7d\"],[0.2,\"#de77ae\"],[0.3,\"#f1b6da\"],[0.4,\"#fde0ef\"],[0.5,\"#f7f7f7\"],[0.6,\"#e6f5d0\"],[0.7,\"#b8e186\"],[0.8,\"#7fbc41\"],[0.9,\"#4d9221\"],[1,\"#276419\"]]},\"xaxis\":{\"gridcolor\":\"white\",\"linecolor\":\"white\",\"ticks\":\"\",\"title\":{\"standoff\":15},\"zerolinecolor\":\"white\",\"automargin\":true,\"zerolinewidth\":2},\"yaxis\":{\"gridcolor\":\"white\",\"linecolor\":\"white\",\"ticks\":\"\",\"title\":{\"standoff\":15},\"zerolinecolor\":\"white\",\"automargin\":true,\"zerolinewidth\":2},\"scene\":{\"xaxis\":{\"backgroundcolor\":\"#E5ECF6\",\"gridcolor\":\"white\",\"linecolor\":\"white\",\"showbackground\":true,\"ticks\":\"\",\"zerolinecolor\":\"white\",\"gridwidth\":2},\"yaxis\":{\"backgroundcolor\":\"#E5ECF6\",\"gridcolor\":\"white\",\"linecolor\":\"white\",\"showbackground\":true,\"ticks\":\"\",\"zerolinecolor\":\"white\",\"gridwidth\":2},\"zaxis\":{\"backgroundcolor\":\"#E5ECF6\",\"gridcolor\":\"white\",\"linecolor\":\"white\",\"showbackground\":true,\"ticks\":\"\",\"zerolinecolor\":\"white\",\"gridwidth\":2}},\"shapedefaults\":{\"line\":{\"color\":\"#2a3f5f\"}},\"annotationdefaults\":{\"arrowcolor\":\"#2a3f5f\",\"arrowhead\":0,\"arrowwidth\":1},\"geo\":{\"bgcolor\":\"white\",\"landcolor\":\"#E5ECF6\",\"subunitcolor\":\"white\",\"showland\":true,\"showlakes\":true,\"lakecolor\":\"white\"},\"title\":{\"x\":0.05},\"mapbox\":{\"style\":\"light\"}}},\"xaxis\":{\"domain\":[0.15,1],\"tickfont\":{\"size\":14}},\"yaxis2\":{\"anchor\":\"free\",\"position\":0,\"side\":\"right\",\"tickfont\":{\"size\":14}},\"title\":{\"text\":\"z-score difference of TTK edges in cells with PIK3CA mutations vs wild-type\",\"y\":0.86,\"x\":0.55,\"xanchor\":\"center\"},\"font\":{\"size\":13},\"yaxis\":{\"tickfont\":{\"size\":14}}},                        {\"responsive\": true}                    ).then(function(){\n",
       "                            \n",
       "var gd = document.getElementById('ff828203-5c8f-4310-aee4-ca44f35c4314');\n",
       "var x = new MutationObserver(function (mutations, observer) {{\n",
       "        var display = window.getComputedStyle(gd).display;\n",
       "        if (!display || display === 'none') {{\n",
       "            console.log([gd, 'removed!']);\n",
       "            Plotly.purge(gd);\n",
       "            observer.disconnect();\n",
       "        }}\n",
       "}});\n",
       "\n",
       "// Listen for the removal of the full notebook cells\n",
       "var notebookContainer = gd.closest('#notebook-container');\n",
       "if (notebookContainer) {{\n",
       "    x.observe(notebookContainer, {childList: true});\n",
       "}}\n",
       "\n",
       "// Listen for the clearing of the current output cell\n",
       "var outputEl = gd.closest('.output');\n",
       "if (outputEl) {{\n",
       "    x.observe(outputEl, {childList: true});\n",
       "}}\n",
       "\n",
       "                        })                };                });            </script>        </div>"
      ]
     },
     "metadata": {},
     "output_type": "display_data"
    }
   ],
   "source": [
    "# HEATMAP\n",
    "fig = go.Figure(data=go.Heatmap(\n",
    "                z=values3,\n",
    "                x=kinases,\n",
    "                y= ['TTK <br>HCT116 cell line', 'TTK <br>DLD1 cell line'],\n",
    "                yaxis='y2',\n",
    "                #title= 'edges z-scores in HCT116 cells \\n with PIK3CA mutations vs wild-type',\n",
    "                hoverongaps = False))\n",
    "\n",
    "fig.update_layout(xaxis=dict(domain=[0.15,1]),\n",
    "                    yaxis2=dict(anchor='free', position=0, side='right'),\n",
    "                     title= 'z-score difference of TTK edges in cells with PIK3CA mutations vs wild-type'\n",
    "                 )\n",
    "\n",
    "fig.update_layout(\n",
    "    title={\n",
    "        'y':0.86,\n",
    "        'x':0.55,\n",
    "        'xanchor': 'center'},\n",
    "    font={\n",
    "        'size':13\n",
    "    }\n",
    ")\n",
    "\n",
    "fig.update_yaxes(tickfont_size=14)\n",
    "fig.update_xaxes(tickfont_size=14)\n",
    "\n"
   ]
  },
  {
   "cell_type": "markdown",
   "id": "216c3833",
   "metadata": {},
   "source": [
    "# Interactive network visualization"
   ]
  },
  {
   "cell_type": "code",
   "execution_count": null,
   "id": "f1a5ca94",
   "metadata": {},
   "outputs": [],
   "source": [
    "# input: edges_list is a list corresponding to a treatment in the dataset, it's contents being the kinase interactions\n",
    "# in said treatment with a z_score <0 and their z_scores,in the shape of tuples, i.e. a network\n",
    "# kinase_groups is a list of the groups in which we want to classify the kinases in the network\n",
    "# kg_colors is a list of the colors in which each kinase groups should appear in the visualization\n",
    "# treatment is the header of the column from which the z-scores for edges_list was extracted (i.e. name of the treatment)\n",
    "# output: A visualization of the network constructed from the edges list, in HTML format\n",
    "def network_visualization(edges_list, kinases, kg_colors, treatment):    \n",
    "    #Initialize a pyvis.network instance\n",
    "    networkgraph = Network(height='1000px',width='1000px', heading='')\n",
    "    \n",
    "    #Add each community of nodes with their assigned color\n",
    "    for n in range(len(kinases)):\n",
    "        for x in kinases[n]:\n",
    "            networkgraph.add_node(x, value=15000000000, title=x, label=x, color=kg_colors[n], mass=23)\n",
    "    \n",
    "    #Add the edges\n",
    "    networkgraph.add_edges(edges_list)\n",
    "    \n",
    "    #Make empty dictionary in which to store the degree of each kinase\n",
    "    degree_graphs = {}\n",
    "    #Save list of nodes to extract information such as kinases degree centrality\n",
    "    kinases_map = networkgraph.get_adj_list()\n",
    "\n",
    "    for node in networkgraph.nodes:\n",
    "        #Add degree to each kinase in the empty dictionary\n",
    "        degree_graphs[node[\"title\"]] = len(kinases_map[node[\"id\"]]) \n",
    "        #Add box showing degree + to which nodes each node is connected, which appears when the user hovers over a node on the network graph\n",
    "        node[\"title\"] += \" connected to \"+ str(len(kinases_map[node[\"id\"]])) +\" kinases:<br>\" + \"<br>\".join(kinases_map[node[\"id\"]]) \n",
    "        kinase = len(kinases_map[node[\"id\"]])\n",
    "        #Change the nodes to be bigger the higher their degree is\n",
    "        if  0 <=  kinase <= 19 :\n",
    "            node[\"value\"] = 100000\n",
    "\n",
    "        if  20 <=  kinase <= 29 :\n",
    "            node[\"value\"] = 1000000000\n",
    "\n",
    "        if  30 <=  kinase <= 39 :\n",
    "            node[\"value\"] = 2000000000\n",
    "\n",
    "        if  40 <=  kinase <= 49:\n",
    "            node[\"value\"] = 10000000000\n",
    "    \n",
    "        if  50 <=  kinase <= 59:\n",
    "            node[\"value\"] = 20000000000\n",
    "\n",
    "        if 60 <=  kinase <= 69:\n",
    "            node[\"value\"] = 30000000000\n",
    "        \n",
    "        if  70 <=  kinase:\n",
    "            node[\"value\"] = 40000000000\n",
    "    \n",
    "    #Settings regarding the appearance of the network\n",
    "    networkgraph.set_options(\"\"\"\n",
    "    var options = {\n",
    "    \"nodes\": {\n",
    "    \"borderWidth\": 1.5,\n",
    "        \"font\": {\n",
    "        \"size\": 80,\n",
    "        \"face\": \"verdana\"\n",
    "        }\n",
    "      },\n",
    "      \"edges\": {\n",
    "        \"color\": {\n",
    "          \"color\": \"rgba(192,187,223,1)\",\n",
    "          \"inherit\": true\n",
    "        },\n",
    "        \"font\": {\n",
    "          \"strokeWidth\": 6\n",
    "        },\n",
    "        \"hoverWidth\": 3.2,\n",
    "        \"smooth\": false\n",
    "      },\n",
    "      \"physics\": {\n",
    "        \"barnesHut\": {\n",
    "          \"springLength\": 1040\n",
    "        },\n",
    "        \"minVelocity\": 0.75\n",
    "      }\n",
    "    }\n",
    "    \"\"\")\n",
    "    \n",
    "    #Return visualization as HTML file\n",
    "    final_network = treatment + '[-]'\n",
    "    networkgraph.show('output_visualizations/network_visualization{}.html'.format(final_network))\n"
   ]
  },
  {
   "cell_type": "markdown",
   "id": "db998f1d",
   "metadata": {},
   "source": [
    "## 2.2 - Network visualizations of networks trametinib(MAP2K1)[-], GDC0994(MAPK1_3), GDC0941(PI3K)[-], and AZD5363(AKT)[-]"
   ]
  },
  {
   "cell_type": "code",
   "execution_count": null,
   "id": "678d8608",
   "metadata": {},
   "outputs": [],
   "source": [
    "for n in range(len(target_communities)):\n",
    "    networkgraph = network_visualization(edges_list=negative_edges[n],kinases=kinase_groups[n],kg_colors=[\"#fcbb8b\", \"#857be3\", \"#baeeff\"], treatment=treatments[n])"
   ]
  },
  {
   "cell_type": "markdown",
   "id": "5857183d",
   "metadata": {},
   "source": [
    "## 2.3 - Network visualization of intersection between the selected communities of  trametinib(MAP2K1)[-], GDC0941(PI3K)[-] and AZD5363(AKT)[-]"
   ]
  },
  {
   "cell_type": "code",
   "execution_count": null,
   "id": "c53c1028",
   "metadata": {},
   "outputs": [],
   "source": [
    "#Kinases present in the selected community of network trametinib(MAP2K1)[-], but not in the selected communities of \n",
    "#networks GDC0941(PIK3CA)[-] and AZD5363(AKT1_2)[-]\n",
    "#MAP2K1only = [x for x in communities[0] if x not in communities[1] and x not in communities[2]]\n",
    "#Kinases present accross the selected communities of networks trametinib(MAP2K1)[-], GDC0941(PIK3CA)[-] and AZD5363(AKT1_2)[-]\n",
    "intersection = [x for x in target_communities[0] if x in target_communities[1] and x in target_communities[2]]\n",
    "#Kinases present accross the selected communities of networks trametinib(MAP2K1)[-] and GDC0941(PIK3CA)[-], but not in the\n",
    "#selected community of network AZD5363(AKT)[-]\n",
    "MAP2K1_PIK3CA = [x for x in target_communities[0] if x in target_communities[1] and x not in target_communities[2]]\n",
    "#Kinases present accross the selected communities of networks AZD5363(AKT)[-] and GDC0941(PIK3CA)[-] but not trametinib(MAP2K1)[-]\n",
    "#and kinases present only in the selected communities of GDC0941(PIK3CA)[-] and AZD5363(AKT1_2)[-] networks\n",
    "#therest = [[x for x in communities[3] if x in communities[2] and x not in communities[0]],[x for x in communities[3] if x not in communities[2] and x not in communities[0]], [x for x in communities[2] if x not in communities[3] and x not in communities[0]]]\n",
    "\n",
    "kinase_groups = MAP2K1_PIK3CA, intersection\n",
    "kinases = list(itertools.chain(*kinase_groups))\n",
    "#Store kinase interactions across the three networks in which the two kinases are in any of the selected communities\n",
    "#edges = negative_edges[0] + negative_edges[1] + negative_edges[2]\n",
    "#edges = [(a,b,0) for a,b,c in edges if a in kinases and b in kinases]\n",
    "edges = [ [(a,b) for a,b,c in negative_edges[n]] for n in [0,1,2] ]\n",
    "edges = set(edges[0]).intersection(edges[1], edges[2])\n",
    "edges = [(a,b) for a,b in edges if a in kinases and b in kinases]\n",
    "\n",
    "#Intersection of communities visualized as a network\n",
    "networkgraph= network_visualization(edges_list=edges,kinases=kinase_groups,kg_colors=[\"#fcbb8b\", \"#857be3\", \"#baeeff\",\"green\"], treatment='intersection_MAP2K1_PIK3CA_AKT')\n"
   ]
  },
  {
   "cell_type": "markdown",
   "id": "07d605f8",
   "metadata": {},
   "source": [
    "# Return target names from column headers"
   ]
  },
  {
   "cell_type": "code",
   "execution_count": null,
   "id": "865d1647",
   "metadata": {},
   "outputs": [],
   "source": [
    "## Return targets (if they are present in the treatment name)\n",
    "targets = []\n",
    "#csv with KSEA kinase names and all uniprot aliases\n",
    "kinase_gene_ids = pd.read_csv('input/kinase_gene_names.csv')\n",
    "#Return targets for each treatment\n",
    "for treatment in headers:\n",
    "    ## Return targets (if they are present in the treatment name)\n",
    "    #Separate targets from treatment\n",
    "    sep_target_treat = treatment.split('.')[0:-1]\n",
    "    #Separate kinase name from isoform numbers\n",
    "    target = [re.findall('\\d+|\\D+', x) if x[-1].isdigit() else x for x in sep_target_treat  ]\n",
    "    if len(target) > 1:\n",
    "        target = [item for sublist in target for item in sublist]\n",
    "        #Add kinase name with each of the isoform numbers\n",
    "        name_range = list(range(0,len(target)))\n",
    "        name_ids = [n for n in name_range if target[n].isnumeric()==False]    \n",
    "        name_ids.append(len(target)-1)\n",
    "        name_range_split = [ name_range[name_ids[n-1]:(name_ids[n]+1)] for n in list(range(1,len(name_ids)))]\n",
    "        #Paste each kinase with its isoforms numbers\n",
    "        target = [ [target[x[0]]+target[y] for y in x[1:len(x)]] for x in name_range_split]\n",
    "        target = [item for sublist in target for item in sublist]\n",
    "    #Replace with KSEA kinase names\n",
    "    for n in list(range(0,len(target))):\n",
    "        kin = target[n].upper()\n",
    "        df1 = kinase_gene_ids[kinase_gene_ids.apply(lambda row: row.astype(str).str.contains( kin+'_', case=False).any(), axis=1)]\n",
    "        if len(df1) == 0:\n",
    "            df1 = kinase_gene_ids[kinase_gene_ids.apply(lambda row: row.astype(str).str.contains(kin, case=False).any(), axis=1)]\n",
    "        target[n] = list(dict.fromkeys(df1[\"node\"]))\n",
    "        \n",
    "    #Add to list of all treatments targets\n",
    "    target = [item for sublist in target for item in sublist]\n",
    "    targets.append(target)"
   ]
  }
 ],
 "metadata": {
  "kernelspec": {
   "display_name": "Python 3 (ipykernel)",
   "language": "python",
   "name": "python3"
  },
  "language_info": {
   "codemirror_mode": {
    "name": "ipython",
    "version": 3
   },
   "file_extension": ".py",
   "mimetype": "text/x-python",
   "name": "python",
   "nbconvert_exporter": "python",
   "pygments_lexer": "ipython3",
   "version": "3.9.12"
  }
 },
 "nbformat": 4,
 "nbformat_minor": 5
}
