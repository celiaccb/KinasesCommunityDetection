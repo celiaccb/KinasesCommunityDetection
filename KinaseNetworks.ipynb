{
 "cells": [
  {
   "cell_type": "markdown",
   "metadata": {},
   "source": [
    "# 0 - Package Initialization"
   ]
  },
  {
   "cell_type": "code",
   "execution_count": null,
   "metadata": {},
   "outputs": [],
   "source": [
    "##Python version used: 3.9.12\n",
    "#Packages necessary to construct a kinase network from the user uploaded file\n",
    "import pandas as pd\n",
    "import networkx as nx\n",
    "from networkx import *\n",
    "import csv\n",
    "import itertools\n",
    "from itertools import chain\n",
    "import numpy as np\n",
    "from scipy.stats import norm\n",
    "import statistics\n",
    "from statistics import *\n",
    "import operator\n",
    "import functools\n",
    "#Visualizations\n",
    "import plotly.express as px\n",
    "import plotly.graph_objects as go \n",
    "#from pyvis.network import Network\n",
    "import matplotlib as mpl\n",
    "import matplotlib.colors as mcolors\n",
    "#Community detection\n",
    "import community as community_louvain\n",
    "import matplotlib.cm as cm\n",
    "import matplotlib.pyplot as plt\n",
    "from sknetwork.clustering import Louvain\n",
    "#Data manipulation\n",
    "import collections\n",
    "from collections import ChainMap\n",
    "from collections import OrderedDict\n",
    "import BioVenn\n",
    "from BioVenn import draw_venn\n",
    "import re\n",
    "from itertools import chain,combinations\n",
    "from funcy import join_with"
   ]
  },
  {
   "cell_type": "markdown",
   "metadata": {},
   "source": [
    "# 1 - Functions"
   ]
  },
  {
   "cell_type": "markdown",
   "metadata": {},
   "source": [
    "## 1.1 - Extracting information from a z-scores dataset"
   ]
  },
  {
   "cell_type": "code",
   "execution_count": null,
   "metadata": {},
   "outputs": [],
   "source": [
    "# input: dataset must be a csv files in which the first column is the kinase interactions (pairs), and each following \n",
    "# column the z-scores of each of the kinase interactions in one of the treatments\n",
    "# output: treatments are the headers of each of the z-scores columns, used to name visulizations returned from the analysis\n",
    "# negative_edges is a list of lists, each list corresponding to a treatment in the dataset, it's contents being the \n",
    "# kinase interactions in said treatment with a z_score <0 and their z_scores,in the shape of tuples, i.e. a network\n",
    "# negative_nodes is a list of lists, each list corresponding to the kinases of one network\n",
    "def dataset_info(dataset, rem_vs_control='no', sign = 'neg'):\n",
    "    # Read dataset and drop rows with no z-score information\n",
    "    networkfile = pd.read_csv(dataset)\n",
    "    networkfile = networkfile.dropna()\n",
    "    \n",
    "    # Return the headers of the z_scores columns, i.e. the treatments names\n",
    "    headers = list(networkfile.columns.values)[1:]\n",
    "    treatments = [x.split(\".\")[-1] for x in headers]\n",
    "    if rem_vs_control == 'yes':\n",
    "        treatments = [x.split(\"_\")[0] for x in treatments]\n",
    "    \n",
    "    # Convert first column (kinase interactions/pairs) of the document to a list\n",
    "    edges_list= networkfile[networkfile.columns[0]].to_list()\n",
    "    # Convert the list into a list of tuples, each tuple being one kinase pair/edge (since this is the format needed to \n",
    "    # add edges onto pyvis.network (network visualization package))\n",
    "    edges_list2 = [tuple(x.split('.',1)) for x in edges_list]\n",
    "    \n",
    "    #For each treatment(column) on the file, store kinase interactions/pairs with a z-score <0 or >0, and their z-scores\n",
    "    headers_in = range(1,len(headers))\n",
    "    if not headers_in:\n",
    "        headers_in = [1]\n",
    "    if sign == 'neg':\n",
    "        #Note that z-scores are converted to positive values for community detection\n",
    "        edges = [[(*edges_list2[n],+ abs(networkfile[networkfile.columns[na]].to_list()[n])) for n in range(len(edges_list2)) if networkfile[networkfile.columns[na]].to_list()[n] < 0 ] for na in headers_in]\n",
    "    elif sign == 'pos' :\n",
    "        edges = [[(*edges_list2[n],+ networkfile[networkfile.columns[na]].to_list()[n]) for n in range(len(edges_list2)) if networkfile[networkfile.columns[na]].to_list()[n] > 0 ] for na in headers_in]\n",
    "    \n",
    "    #negativenetwork.add_weighted_edges_from(edges_list)\n",
    "    \n",
    "    #Kinases in each of the negative_edges lists\n",
    "    nodes = []\n",
    "    for selected_treatment in edges:\n",
    "        #Keep only the kinases names (i.e. remove the z-scores) from the list of edges\n",
    "        nodes_bf = [ (a,b) for a,b,c in selected_treatment]\n",
    "        #Flatten list of edges tuples to list of nodes\n",
    "        nodes = list(itertools.chain(*nodes_bf))\n",
    "        #Remove duplicates from the list\n",
    "        nodes_list = list(dict.fromkeys(nodes))\n",
    "        nodes.append(nodes_list)\n",
    "    \n",
    "    #Convert edges and nodes list of lists into dictionary\n",
    "    edges = dict(zip(treatments,edges))\n",
    "    nodes = dict(zip(treatments,nodes))\n",
    "    \n",
    "    return treatments,edges,nodes\n"
   ]
  },
  {
   "cell_type": "markdown",
   "metadata": {},
   "source": [
    "## 1.2 - Community detection"
   ]
  },
  {
   "cell_type": "code",
   "execution_count": null,
   "metadata": {},
   "outputs": [],
   "source": [
    "# 1. Are all the final runs the same?"
   ]
  },
  {
   "cell_type": "code",
   "execution_count": null,
   "metadata": {},
   "outputs": [],
   "source": [
    "# input: edges_list is a list corresponding to a treatment in the dataset, it's contents being the kinase interactions\n",
    "# in said treatment with a z_score <0 and their z_scores,in the shape of tuples, i.e. a network \n",
    "# output: A_asso is the converged association matrix, n_iter the number of iterations required for convergence and \n",
    "# labels are the converged community labels \n",
    "def converge_asso(edges_dict, sel_treatments='all'):\n",
    "    \n",
    "    #If no selected treatments are specified, the keys of the edges dictionary are taken as treatments\n",
    "    if sel_treatments=='all':\n",
    "        sel_treatments = edges_dict.keys()\n",
    "    #Dictionaries with selected treatments as keys\n",
    "    communities_list = dict.fromkeys(sel_treatments)\n",
    "    communities_nx = dict.fromkeys(sel_treatments)\n",
    "    communities_cs = dict.fromkeys(sel_treatments)\n",
    "\n",
    "    for treatment in sel_treatments:\n",
    "        #Initialize a Networkx instance\n",
    "        negativenetwork = nx.Graph()\n",
    "        #Add the kinase interactions & z-scores of treatment w to the network\n",
    "        edges_list = edges_dict[treatment]\n",
    "        negativenetwork.add_weighted_edges_from(edges_list)\n",
    "        #Store the individual kinases in the network as a numpy array - to return kinases in each community at the end\n",
    "        node_0 = list(negativenetwork.nodes())\n",
    "        node_0_arr = np.asarray(node_0)\n",
    "        #A_0 is the adjacency matrix of the matrix (network instance) stored as a numpy array\n",
    "        A_0 = to_numpy_array(negativenetwork)\n",
    "    \n",
    "        n_runs = 100\n",
    "        A_runs = np.zeros((n_runs, len(A_0)))\n",
    "        #Run the community detection algorithm on the network A_0 an n_runs amount of times\n",
    "        for i in range(n_runs):\n",
    "            #Louvain algorithm with Potts null network\n",
    "            louvain = Louvain(1, 'potts', shuffle_nodes = 1)\n",
    "            #Communities identified by number (Community 1, Community 2...)\n",
    "            #Array is the length of the number of kinases in the network\n",
    "            #For each kinase, it's community assignement is indicated by number\n",
    "            labels = louvain.fit_transform(A_0)\n",
    "            #Store the community partitions of each run\n",
    "            A_runs[i,:] = labels\n",
    "\n",
    "        #X = Number of kinases in the network\n",
    "        #Create & store 'X' arrays of 'X' zeros each\n",
    "        A_asso = np.zeros((len(A_0), len(A_0)))\n",
    "        #After loop, each array corresponds to one kinase, and each position within an array indicates in how many runs that kinase is\n",
    "        #assigned to the same community as each of the kinases in the network \n",
    "        #Loop over each run\n",
    "        for i in range(n_runs):\n",
    "            #Loop over each kinase/node in network (identified by number)\n",
    "            for j in range(len(A_0)):\n",
    "                #Loop over each kinase/node in network (identified by number)\n",
    "                for l in range(len(A_0)):\n",
    "                #If j and l are assigned to the same community in run i, add '1' to position l of array j   \n",
    "                    A_asso[j,l] = A_asso[j,l] + (A_runs[i,j] == A_runs[i,l])\n",
    "    \n",
    "        #Divide each element in each of the arrays in the converged association matrix(A_asso) by n_runs to get\n",
    "        #the percentage (in 0.1(=10%) format) of runs in which each kinase-kinase/node-node combination is assigned to the same community\n",
    "        A_asso = np.true_divide(A_asso, n_runs)\n",
    "    \n",
    "        n_iter = 0\n",
    "        #until all the entries in A_asso are 0(not grouped together) or 1(grouped together) (all runs are the same)\n",
    "        while(len(np.unique(A_asso)) != 2):\n",
    "            n_runs = 100\n",
    "            #Create an array for each run, the length of each array being the number of kinases in the network\n",
    "            A_runs = np.zeros((n_runs, len(A_0)))\n",
    "            #Repeat community detection on co-classification matrix (the weight of the edges is the percentage of runs in which two kinases are grouped together)\n",
    "            for i in range(n_runs):\n",
    "                louvain = Louvain(1, 'potts', shuffle_nodes = 1)\n",
    "                labels = louvain.fit_transform(A_asso)\n",
    "                A_runs[i,:] = labels\n",
    "            A_asso = np.zeros((len(A_0), len(A_0)))\n",
    "            for i in range(n_runs):\n",
    "                for j in range(len(A_0)):\n",
    "                    for l in range(len(A_0)):\n",
    "                        A_asso[j,l] = A_asso[j,l] + (A_runs[i,j] == A_runs[i,l])\n",
    "            #Return percentage of runs in which each kinase-kinase combination is a ssigned to the same community\n",
    "            A_asso = np.true_divide(A_asso, n_runs)\n",
    "            n_iter = n_iter + 1 \n",
    "    \n",
    "        #Final community partitions (all runs are the same)\n",
    "        labels = A_runs[0,:]\n",
    "    \n",
    "        #find how many communities are identified\n",
    "        n_of_com = list(set(labels.flatten()))\n",
    "\n",
    "        #List of communities of kinases as lists\n",
    "        communities_list[treatment] = [list(itertools.chain(*node_0_arr[np.argwhere(labels == int(n))])) for n in n_of_com]\n",
    "        #Dictionaries of communities as networkx instances\n",
    "        communities = [dict.fromkeys(com,negativenetwork.subgraph(com)) for com in communities_list[treatment]]\n",
    "        communities_nx[treatment] = dict(ChainMap(*communities))\n",
    "        #Dictionaries of each kinase community strength\n",
    "        communities_cs[treatment] = {k:v.degree([k],weight='weight')[k] for k,v in communities_nx[treatment].items()}\n",
    "        \n",
    "        #Add kinase community strength as attribute to nodes in the networkx dictionnaries\n",
    "        for com in communities_list[treatment]:\n",
    "            #Select the community strength of kinases in this community\n",
    "            com_cs_dict = {kin:communities_cs[treatment][kin] for kin in com}\n",
    "            #Set as node attributes in community nx instance of these kinases\n",
    "            for kin in com:\n",
    "                nx.set_node_attributes(communities_nx[treatment][kin], com_cs_dict, \"community_strength_centrality\")\n",
    "    \n",
    "    #Return dictionaries\n",
    "    return communities_list, communities_nx, communities_cs\n"
   ]
  },
  {
   "cell_type": "markdown",
   "metadata": {},
   "source": [
    "## 1.3 - Reproducibility check"
   ]
  },
  {
   "cell_type": "code",
   "execution_count": null,
   "metadata": {},
   "outputs": [],
   "source": [
    "#Run converge_asso an n_checks number of times and check if the contents of the community of interest differ\n",
    "def rep_check(n_checks, edges_dict, treatment, target):\n",
    "    \n",
    "    ##Run converge_asso n_checks times and store the contents of the identified communities each time\n",
    "    all_runs_list = ['a'] * n_checks\n",
    "    all_runs_nx = ['a'] * n_checks\n",
    "    for n in range(n_checks):\n",
    "        [all_runs_list[n],all_runs_nx[n],cs] = converge_asso(edges_dict, sel_treatments=[treatment])\n",
    "  \n",
    "    ##Check if there are any kinases that are not present in all the community versions\n",
    "    all_runs_target_community = [ [com for com in all_runs_list[n][treatment] if target in com] for n in range(n_checks)]\n",
    "    all_com = list(itertools.chain(*itertools.chain(*all_runs_target_community)))\n",
    "    target_community_rem = [x for x in list(set(all_com)) if all_com.count(x)==n_checks]\n",
    "    \n",
    "    ##Change list of communities and dictionary on networkx instances accordingly\n",
    "    \n",
    "    #List\n",
    "    communities_list_rem= [target_community_rem if target in com else com for com in all_runs_list[0][treatment]]\n",
    "    \n",
    "    #NX instances dictionary\n",
    "    all_runs_nx_sel = all_runs_nx[0][treatment]\n",
    "    #\n",
    "    #Update remaining kinases\n",
    "    community_as_nx = all_runs_nx_sel[target].subgraph(target_community_rem)\n",
    "    communities_nx_rem = dict(all_runs_nx_sel, **dict.fromkeys(target_community_rem, community_as_nx))\n",
    "    #\n",
    "    #Assign kinases not present from all runs to X_removed\n",
    "    kin_del= [kin for kin in all_runs_nx_sel[target] if kin not in target_community_rem]\n",
    "    communities_nx_rem_del = dict(communities_nx_rem, **dict.fromkeys(kin_del, f\"{target}<{n_checks}\"))\n",
    "    communities_nx_rem_del[f\"{target}<{n_checks}\"] = kin_del\n",
    "    \n",
    "    #CS dictionary\n",
    "    communities_cs = {k:v.degree([k],weight='weight')[k] for k,v in communities_nx_rem.items()}\n",
    "    \n",
    "    #Add CS to nx instances\n",
    "    for k in communities_nx_rem.keys():\n",
    "        if type(communities_nx_rem_del[k]) != str:\n",
    "            nx.set_node_attributes(communities_nx_rem_del[k], communities_cs, \"community_strength_centrality\")\n",
    "        \n",
    "    \n",
    "    return communities_list_rem, communities_nx_rem_del, communities_cs\n"
   ]
  },
  {
   "cell_type": "markdown",
   "metadata": {},
   "source": [
    "## 1.4 - Comparisson of CS across communities visualized in heatmap"
   ]
  },
  {
   "cell_type": "code",
   "execution_count": null,
   "metadata": {},
   "outputs": [],
   "source": [
    "# input: edges_list is a list corresponding to a treatment in the dataset, it's contents being the kinase interactions\n",
    "# in said treatment with a z_score <0 and their z_scores,in the shape of tuples, i.e. a network\n",
    "# community is a list of the kinases in the community of interest\n",
    "# output: dictionary of kinases and their community strength\n",
    "def cs_comparisson(communities_nx, communities_cs, treatment_targets_sign, kin_int=None, position=0):\n",
    "    #Calculate the community strength of each of the kinases in the two selected communities you are comparing\n",
    "    #kin_cs = ['a'] * len(treat_int)\n",
    "    #for n in range(len(treat_int)):\n",
    "        #na = treat_int[n]\n",
    "        # Store kinase pairs in which both kinases are in the community of interest\n",
    "        #community_edges = [x for x in edges[na] if x[0] in communities[na] and x[1] in communities[na]]\n",
    "        # Calculate the community strength of each of the kinases in the community and store as dictionary\n",
    "        #kin_cs[n] = {kin:abs(round(sum([community_edges[n][2] for n in range(len(community_edges)) if community_edges[n][1]==kin or community_edges[n][0]==kin]), 2)) for kin in communities[na]}    \n",
    "\n",
    "    #Specify which kinases you want to get the values of\n",
    "    if kin_int == None:\n",
    "        #Combine two communities lists\n",
    "        kinases = set(itertools.chain(*[list(communities_nx[x[0]][x[1]] ) for x in treatment_targets_sign]))\n",
    "    else:\n",
    "        kinases = kin_int\n",
    "    \n",
    "    #Get values for each of the kinases in the combined list in each of the communities\n",
    "    values = [ [communities_cs[x[0]][kin] if kin in list(communities_nx[x[0]][x[1]]) else None for kin in kinases] for x in treatment_targets_sign ]\n",
    "    \n",
    "    #Define heatmap axis and text\n",
    "    x = list(kinases)\n",
    "    #<sub></sub> for subscript, <sup></sup>\n",
    "    y = [ f\"{x[0]}<sup>{x[2]}</sup><sub>({x[1]})</sub><br>absolute CSC</br>\" for x in treatment_targets_sign]\n",
    "    z = values#[values[0],values[1]]\n",
    "    \n",
    "    # HEATMAP\n",
    "    fig = go.Figure(data=go.Heatmap(\n",
    "                    z=z,\n",
    "                    x=x,\n",
    "                    y=y,\n",
    "                    yaxis='y2',\n",
    "                    hoverongaps = False))\n",
    "\n",
    "    fig.update_layout(xaxis=dict(domain=[0.21,1]),\n",
    "                      yaxis2=dict(anchor='free', position=position, side='right'))\n",
    "    \n",
    "    return fig\n"
   ]
  },
  {
   "cell_type": "markdown",
   "metadata": {},
   "source": [
    "## Intersections and differences between specified communities"
   ]
  },
  {
   "cell_type": "code",
   "execution_count": null,
   "metadata": {},
   "outputs": [],
   "source": [
    "#def multiple_rep(dict_name, text):\n",
    "  # Create a regular expression  from the dictionary keys\n",
    "  #regex = re.compile(\"(%s)\" % \"|\".join(map(re.escape, dict_name.keys())))\n",
    "\n",
    "  # For each match, look-up corresponding value in dictionary\n",
    "  #return regex.sub(lambda mo: dict_name[mo.string[mo.start():mo.end()]], text) \n",
    "\n",
    "#def int_and_diff():"
   ]
  },
  {
   "cell_type": "markdown",
   "metadata": {},
   "source": [
    "# 2 - Example 1 - Analysis and Results"
   ]
  },
  {
   "cell_type": "markdown",
   "metadata": {},
   "source": [
    "# Negative edges"
   ]
  },
  {
   "cell_type": "markdown",
   "metadata": {},
   "source": [
    "## Extracting networks trametinib(-), GDC0994(-), GDC0941(-), and AZD5363(-) from edges z-score dataset"
   ]
  },
  {
   "cell_type": "code",
   "execution_count": null,
   "metadata": {},
   "outputs": [],
   "source": [
    "#Store dataset treatments names, kinase interactions (network edges) with a z-score < 0, and their z-scores (edges weight) \n",
    "[treatments, negative_edges, negative_nodes] = dataset_info('input/PROJECT_DATASET_2.csv', rem_vs_control='yes')\n",
    "#Main kinase targets of each of the treatments/inhibitors in the dataset\n",
    "targets = ['MAP2K1','PIK3CA','AKT1_2','MAPK1_3']\n",
    "\n",
    "treatments"
   ]
  },
  {
   "cell_type": "markdown",
   "metadata": {},
   "source": [
    "## Networks trametinib(-) and GDC0994(-) (MEK/ERK pathway targets)"
   ]
  },
  {
   "cell_type": "markdown",
   "metadata": {},
   "source": [
    "### Community detection"
   ]
  },
  {
   "cell_type": "code",
   "execution_count": null,
   "metadata": {},
   "outputs": [],
   "source": [
    "#Please note that the following block of code takes a few minutes to run"
   ]
  },
  {
   "cell_type": "code",
   "execution_count": null,
   "metadata": {},
   "outputs": [],
   "source": [
    "#Treatments in which the main target is a MEK/ERK kinase\n",
    "MEK_ERK_treatments = ['Trametinib','GDC0994']\n",
    "#Run community detection on these treatments negative networks\n",
    "[MEK_ERK_communities, MEK_ERK_communities_nx, MEK_ERK_cs] = converge_asso(edges_dict=negative_edges, sel_treatments=MEK_ERK_treatments)\n",
    "\n",
    "#Because we noticed that when extracting the community of interest from the trametinib(MEK)[-] network with the converge_asso\n",
    "#function the contents of said community differ from run from run, for this network we run the community detection function (converge_asso)\n",
    "#50 times, and keep only the nodes that are present in the community in all 50 runs of the converge_asso function\n",
    "treatment = 'Trametinib'\n",
    "target = 'MAP2K1'\n",
    "\n",
    "[MEK_ERK_communities[treatment], MEK_ERK_communities_nx[treatment], MEK_ERK_cs[treatment]] = rep_check(n_checks=50,edges_dict=negative_edges,treatment=treatment,target=target)\n"
   ]
  },
  {
   "cell_type": "code",
   "execution_count": null,
   "metadata": {},
   "outputs": [],
   "source": [
    "nx.get_node_attributes(MEK_ERK_communities_nx['GDC0994']['PIK3CA'], \"community_strength_centrality\")['PIK3CA']\n"
   ]
  },
  {
   "cell_type": "markdown",
   "metadata": {},
   "source": [
    "### Comparisson of community strength of communities trametinib(-)(MAP2K1) & GDC0994(-)(MAPK1_3) and visualization in heatmap"
   ]
  },
  {
   "cell_type": "code",
   "execution_count": null,
   "metadata": {},
   "outputs": [],
   "source": [
    "MEK_ERK_int = [('Trametinib','MAP2K1','-'),('GDC0994','MAPK1_3','-')]\n",
    "\n",
    "fig = cs_comparisson(communities_nx=MEK_ERK_communities_nx, communities_cs=MEK_ERK_cs, treatment_targets_sign=MEK_ERK_int)\n",
    "\n",
    "fig.show()\n"
   ]
  },
  {
   "cell_type": "markdown",
   "metadata": {},
   "source": [
    "## Networks GDC0941(-) and AZD5363(-) (PI3K/AKT targets)"
   ]
  },
  {
   "cell_type": "markdown",
   "metadata": {},
   "source": [
    "### Community detection"
   ]
  },
  {
   "cell_type": "code",
   "execution_count": null,
   "metadata": {},
   "outputs": [],
   "source": [
    "#Treatments in which the main target is a PIK3CA/AKT/mTOR kinase\n",
    "PI3K_AKT_treatments = treatments[1:3]\n",
    "#Run community detection on these treatments negative networks\n",
    "[PI3K_AKT_communities, PI3K_AKT_communities_nx, PI3K_AKT_cs] = converge_asso(edges_dict=negative_edges, sel_treatments=PI3K_AKT_treatments)\n"
   ]
  },
  {
   "cell_type": "markdown",
   "metadata": {},
   "source": [
    "### Comparisson of community strength of communities GDC0941(-)(PIK3CA) & AZD5363(-)(AKT1_2) and visualization in heatmap"
   ]
  },
  {
   "cell_type": "code",
   "execution_count": null,
   "metadata": {},
   "outputs": [],
   "source": [
    "PI3K_AKT_int = [('GDC0941','PIK3CA','-'),('AZD5363','AKT1_2','-')]\n",
    "\n",
    "fig = cs_comparisson(communities_nx=PI3K_AKT_communities_nx, communities_cs=PI3K_AKT_cs, treatment_targets_sign=PI3K_AKT_int)\n",
    "\n",
    "fig.show()\n"
   ]
  },
  {
   "cell_type": "markdown",
   "metadata": {},
   "source": [
    "## Intersection and differences between communities trametinib(-)(MAP2K1), GDC0994(-)(MAPK1_3), GDC0941(-)(PIK3CA) and AZD5363(-)(AKT1_2)"
   ]
  },
  {
   "cell_type": "code",
   "execution_count": null,
   "metadata": {},
   "outputs": [],
   "source": [
    "group = com_groups_to_compare[0]\n",
    "\n",
    "###Create communities names\n",
    "com_names = [f\"({x[1]}({x[0]}){x[2]})\" for x in group]\n",
    "    \n",
    "###If comparing two communities\n",
    "g = group\n",
    "com1 = allcom_nx[g[0][1]][g[0][2]]\n",
    "com2 = allcom_nx[g[1][1]][g[1][2]]\n",
    "    \n",
    "#All nodes in each community and intersection\n",
    "    \n",
    "com_int_and_diff = {f\"{com_names[0]}_only\":com1,f\"{com_names[1]}_only\":com2,f\"{com_names[0]}{com_names[1]}\":intersection(com1,com2)}\n",
    "    \n",
    "#Differences between communities\n",
    "inter = com_int_and_diff[f\"{com_names[0]}{com_names[1]}\"]\n",
    "com = [com1,com2]\n",
    "com_int_and_diff.update({f\"{com_names[n]}_only\":com[n].subgraph(set(com[n].nodes()).difference(set(inter.nodes()))) for n in [0,1]})\n",
    "\n",
    "com_int_and_diff\n"
   ]
  },
  {
   "cell_type": "code",
   "execution_count": null,
   "metadata": {},
   "outputs": [],
   "source": [
    "G = nx.path_graph(3)# or DiGraph, MultiGraph, MultiDiGraph, etc\n",
    "R = nx.Graph(G)\n",
    "e = nx.path_graph(2)\n",
    "T = R.remove_nodes_from(e)\n",
    "\n",
    "list(T)"
   ]
  },
  {
   "cell_type": "code",
   "execution_count": null,
   "metadata": {},
   "outputs": [],
   "source": [
    "def powerset(iterable):\n",
    "    \"powerset([1,2,3]) --> () (1,) (2,) (3,) (1,2) (1,3) (2,3) (1,2,3)\"\n",
    "    s = list(iterable)\n",
    "    s1 = list(chain.from_iterable(combinations(s, r) for r in range(1,len(s))))\n",
    "    #s2 = [\"\".join(x) for x in s1]\n",
    "    #s2_only = [f\"{x}_only\" for x in s2]\n",
    "    \n",
    "    #s3 = list(itertools.chain(*zip(s2,s2_only)))\n",
    "    return s1\n",
    "\n",
    "#\n",
    "int_and_diff = list(itertools.chain(*[ [com_names, \"\".join(com_names)], [f\"{com}_only\" for com in com_names] ]))\n",
    "\n",
    "int_and_diff\n",
    "\n",
    "com_groups_to_compare = [[('Trametinib','MAP2K1'),('GDC0994','MAPK1_3')],[('GDC0941','PIK3CA'),('AZD5363','AKT1_2')],[('Trametinib','MAP2K1'),('GDC0941','PIK3CA'),('AZD5363','AKT1_2')]]\n",
    "group = com_groups_to_compare[2]\n",
    "\n",
    "#All combinations\n",
    "all_int = powerset(group)\n",
    "#Key\n",
    "#f\"({x[1]}({x[0]}){x[2]})\"\n",
    "#Treatment\n",
    "all_int[0][0][0]\n",
    "#Target\n",
    "all_int[0][0][1]\n",
    "\n",
    "#int_names = [ f\"({all_int[n][0][1]}({all_int[n][0][0]}){all_int[n][0][2]})\" for n in range(len(all_int))]\n",
    "#all_int = {}\n",
    "\n",
    "print(int_names)\n",
    "re.sub('(', '', str(all_int[3]) )\n"
   ]
  },
  {
   "cell_type": "code",
   "execution_count": null,
   "metadata": {},
   "outputs": [],
   "source": [
    "nx.intersection_all"
   ]
  },
  {
   "cell_type": "code",
   "execution_count": null,
   "metadata": {},
   "outputs": [],
   "source": [
    "#Could networkx difference be useful here\n",
    "#Nope, two graphs must have the same nodes\n",
    "#Use intersection instead\n",
    "#Unrelated, but common_neighbours could be useful for different analyses\n",
    "#Finally found correct function, compose and compose_all\n",
    "#Also difference and symmetric difference (nope, must have same nodes!)\n",
    "\n",
    "#allc = [MEK_ERKallc[0],PI3K_AKTallc[0],PI3K_AKTallc[1],MEK_ERKallc[1]]\n",
    "#inc = [MEK_ERKinc[0],PI3K_AKTinc[0],PI3K_AKTinc[1],MEK_ERKinc[1]]\n",
    "\n",
    "#kinase_int = list(zip(allc,inc))\n",
    "\n",
    "allcom_nx = dict(ChainMap(*[MEK_ERK_communities_nx, PI3K_AKT_communities_nx]))\n",
    "allcom_cs = dict(ChainMap(*[MEK_ERK_cs, PI3K_AKT_cs]))\n",
    "\n",
    "com_groups_to_compare = [[('Trametinib','MAP2K1'),('GDC0994','MAPK1_3')],[('GDC0941','PIK3CA'),('AZD5363','AKT1_2')],[('Trametinib','MAP2K1'),('GDC0941','PIK3CA'),('AZD5363','AKT1_2')]]\n",
    "\n",
    "#R.remove_nodes_from(n for n in G if n in H)\n",
    "\n",
    "all_int = {}\n",
    "all_diff = {}\n",
    "for group in com_groups_to_compare:\n",
    "    \n",
    "    ###Create communities names\n",
    "    com_names = [f\"({x[1]}({x[0]}){x[2]})\" for x in group]\n",
    "    \n",
    "    ###Make dictionnary with all intersection and differences names\n",
    "    \n",
    "    \n",
    "    ###If comparing two communities\n",
    "    if len(group) == 2:\n",
    "        g = group\n",
    "        com1 = allcom_nx[g[0][1]][g[0][2]]\n",
    "        com2 = allcom_nx[g[1][1]][g[1][2]]\n",
    "    \n",
    "        #All nodes in each community and intersection\n",
    "    \n",
    "        com_int_and_diff = {f\"{com_names[0]}_only\":com1,f\"{com_names[1]}_only\":com2,f\"{com_names[0]}{com_names[1]}\":intersection(com1,com2)}\n",
    "    \n",
    "        #Differences between communities\n",
    "        inter = com_int_and_diff[f\"{com_names[0]}{com_names[1]}\"]\n",
    "        com = [com1,com2]\n",
    "        com_int_and_diff.update({f\"{com_names[n]}_only\":com[n].subgraph(set(com[n].nodes()).difference(set(inter.nodes()))) for n in [0,1]})\n",
    "    \n",
    "    #Intersection between all communities of interest\n",
    "    #com_int = set(communities_nodes[0]).intersection(*communities_nodes)\n",
    "    #Difference between each community and the intersection of all communities\n",
    "    #com_diff = [set(x).difference(com_int) for x in communities_nodes]\n",
    "    \n",
    "    ###If comparing three communities\n",
    "    #biovenn = draw_venn(list_A, list_B, list_C, subtitle=\"Example diagram\", nrtype=\"abs\")\n",
    "\n",
    "    #replace = dict(zip(['x','y','z'],com_names))\n",
    "\n",
    "    #com_int_and_diff = {multiple_rep(replace,k):v for k,v in biovenn.items()}\n",
    "    \n",
    "    \n",
    "com_diff"
   ]
  },
  {
   "cell_type": "markdown",
   "metadata": {},
   "source": [
    "## Saving the edges and nodes of each community as dataframes"
   ]
  },
  {
   "cell_type": "markdown",
   "metadata": {},
   "source": [
    "### Individual communities"
   ]
  },
  {
   "cell_type": "code",
   "execution_count": null,
   "metadata": {},
   "outputs": [],
   "source": [
    "#Save nodes and edges as dataframe to make nice visualizations in R\n",
    "\n",
    "#nodes community strength\n",
    "nodes_cs = list(zip([x1]+[x1],z1)) + list(zip([x2]+[x2],z2)) \n",
    "nodes_cs = [nodes_cs[0]] + [nodes_cs[2]] + [nodes_cs[3]] + [nodes_cs[1]]\n",
    "\n",
    "#Filter to keep edges of interest only\n",
    "negative_edges_com = [ [x for x in negative_edges[n] if (x[0] in list(itertools.chain(*kinase_int[n])) and x[1] in list(itertools.chain(*kinase_int[n])) ) ] for n in range(4)]\n",
    "#Add weight to draw edges\n",
    "negative_edges_pos = [ [ (*x , abs(x[2])*10 ) for x in network] for network in negative_edges_com ]\n",
    "\n",
    "#Add community + color to nodes\n",
    "nodes_inf = []\n",
    "for n in range(len(kinase_int)):\n",
    "    nodes_inf0 = list(zip( kinase_int[n][0], ['kinases present exclusively in this SC']*len(kinase_int[n][0]) ,  ['#96efff']* len(kinase_int[n][0]) )) \n",
    "    nodes_inf1 = list(zip(kinase_int[n][1], ['kinases present in both SCs']*len(kinase_int[n][1]) ,  ['#FFDB33']* len(kinase_int[n][1]) )) \n",
    "    nodes_inf_sum = nodes_inf0 + nodes_inf1\n",
    "    nodes_df = pd.DataFrame( nodes_inf_sum, columns=['id', 'group', 'color'])\n",
    "    #add community strength\n",
    "    nodes_cs_df = pd.DataFrame( list(zip(nodes_cs[n][0], nodes_cs[n][1])) , columns = ['id','community_strength'] )\n",
    "    nodes_df_add = pd.merge(nodes_df, nodes_cs_df, on='id')\n",
    "    #save nodes as csv file\n",
    "    nodes_df_add.to_csv('output_dataframes/{}_nodes.csv'.format(treatments[n]))\n",
    "    #save edges as csv file\n",
    "    edges_df = pd.DataFrame(negative_edges_pos[n], columns=['from','to','z-score','weight'])\n",
    "    edges_df.to_csv('output_dataframes/{}_edges.csv'.format(treatments[n]))\n",
    "\n"
   ]
  },
  {
   "cell_type": "markdown",
   "metadata": {},
   "source": [
    "### Intersection of trametinib, GDC0941 and AZD5363"
   ]
  },
  {
   "cell_type": "code",
   "execution_count": null,
   "metadata": {},
   "outputs": [],
   "source": [
    "#Calculate average edge weights across the three networks\n",
    "edges_MAP2K1_PIK3CA_AKT = [ { (edge[0],edge[1]):abs(edge[2]) for edge in negative_edges[n]} for n in [0,1,2]  ]   \n",
    "edges_MAP2K1_PIK3CA_AKT_sum = dict( functools.reduce(operator.add, map(collections.Counter, xx))  )\n",
    "edges_MAP2K1_PIK3CA_AKT_ave = [ (*key, (result[key]/3)) for key in edges ]\n",
    "\n",
    "#Save nodes and edges as dataframe to make nice network visualizations in R\n",
    "edges_df = pd.DataFrame(edges_MAP2K1_PIK3CA_AKT_ave, columns=['from','to','weight'])\n",
    "edges_df.to_csv('output_dataframes/MAP2K1_PIK3CA_AKT_edges.csv')\n",
    "\n",
    "intersection_x = list(zip(intersection, ['MAP2K1_PIK3CA_AKT'] * len(intersection), ['#96efff']* len(intersection) ) )\n",
    "MAP2K1_PIK3CA_x = list(zip(MAP2K1_PIK3CA, ['MAP2K1_PIK3CA_notAKT']*len(MAP2K1_PIK3CA), ['#FFDB33']* len(MAP2K1_PIK3CA) ) )\n",
    "nodes = intersection_x + MAP2K1_PIK3CA_x\n",
    "nodes_df = pd.DataFrame( nodes, columns=['id', 'group', 'color'])\n",
    "\n",
    "nodes_df.to_csv('output_dataframes/MAP2K1_PIK3CA_AKT_nodes.csv')"
   ]
  },
  {
   "cell_type": "markdown",
   "metadata": {},
   "source": [
    "# Positive edges"
   ]
  },
  {
   "cell_type": "markdown",
   "metadata": {},
   "source": [
    "## Extracting networks trametinib(+), GDC0994(+), GDC0941(+), and AZD5363(+) from edges z-score dataset"
   ]
  },
  {
   "cell_type": "code",
   "execution_count": null,
   "metadata": {},
   "outputs": [],
   "source": [
    "#Store dataset treatments names, kinase interactions (network edges) with a z-score > 0, and their z-scores (edges weight) \n",
    "[treatments,positive_edges, positive_nodes] = dataset_info('input/PROJECT_DATASET_2.csv', sign = 'pos', rem_vs_control='yes')\n",
    "\n",
    "treatments"
   ]
  },
  {
   "cell_type": "markdown",
   "metadata": {},
   "source": [
    "## Community detection across all extracted positive edges networks"
   ]
  },
  {
   "cell_type": "code",
   "execution_count": null,
   "metadata": {},
   "outputs": [],
   "source": [
    "#Separate by MEK/ERK and PI3K/AKT to compare similarities in upregulated kinases"
   ]
  },
  {
   "cell_type": "code",
   "execution_count": null,
   "metadata": {},
   "outputs": [],
   "source": [
    "#Treatments in which the main target is a MEK/ERK kinase\n",
    "MEK_ERK_treatments = ['Trametinib','GDC0994']\n",
    "#Run community detection on these treatments positive networks\n",
    "[MEK_ERK_pos_communities, MEK_ERK_pos_communities_nx, MEK_ERK_pos_cs] = converge_asso(edges_dict=positive_edges, sel_treatments=MEK_ERK_treatments)\n",
    "\n",
    "MEK_ERK_pos_communities"
   ]
  },
  {
   "cell_type": "code",
   "execution_count": null,
   "metadata": {},
   "outputs": [],
   "source": [
    "#Treatments in which the main target is a PIK3CA/AKT/mTOR kinase\n",
    "PI3K_AKT_treatments = treatments[1:3]\n",
    "#Run community detection on these treatments positive networks\n",
    "[PI3K_AKT_pos_communities, PI3K_AKT_pos_communities_nx, PI3K_AKT_pos_cs] = converge_asso(edges_dict=positive_edges, sel_treatments=PI3K_AKT_treatments)\n",
    "\n",
    "PI3K_AKT_pos_communities_nx.keys()"
   ]
  },
  {
   "cell_type": "markdown",
   "metadata": {},
   "source": [
    "## Comparisson of communities across network pairs"
   ]
  },
  {
   "cell_type": "code",
   "execution_count": null,
   "metadata": {},
   "outputs": [],
   "source": [
    "#MEK_ERK\n",
    "treatments = ['Trametinib', 'GDC0994']\n",
    "shared_kin_nx = nx.intersection(MEK_ERK_pos_communities_nx['Trametinib']['MAPK14'],MEK_ERK_pos_communities_nx['GDC0994']['MAPK14'] )\n",
    "nodes_inf = []\n",
    "for n in range(len(treatments)):\n",
    "    #Kinases present in both\n",
    "    shared_kin = list(shared_kin_nx)\n",
    "    nodes_inf0 = list(zip(shared_kin, ['kinases present in both SCs']*len(shared_kin) ,  ['#FFDB33']* len(shared_kin) )) \n",
    "    \n",
    "    #Kinases present in that network only\n",
    "    not_shared_kin = [x for x in list(MEK_ERK_pos_communities_nx[treatments[n]]['MAPK14']) if x not in shared_kin]\n",
    "    nodes_inf1 = list(zip( not_shared_kin, ['kinases present exclusively in this SC']*len(not_shared_kin) ,  ['#96efff']* len(not_shared_kin) )) \n",
    "    \n",
    "    #Put together\n",
    "    nodes_inf_sum = nodes_inf0 + nodes_inf1\n",
    "    nodes_df = pd.DataFrame( nodes_inf_sum, columns=['id', 'group', 'color'])\n",
    "    #add community strength\n",
    "    kin_dict = {key:value for key,value in MEK_ERK_pos_cs[treatments[n]].items() if key in list(MEK_ERK_pos_communities_nx[treatments[n]]['MAPK14'])}\n",
    "    kin_cs = list(zip(kin_dict.keys(), kin_dict.values() ))\n",
    "    nodes_cs_df = pd.DataFrame (kin_cs, columns = ['id','community_strength'])\n",
    "    nodes_df_add = pd.merge(nodes_df, nodes_cs_df, on='id')\n",
    "    #save nodes as csv file\n",
    "    nodes_df_add.to_csv('output_dataframes/MAPK14.{}_pos_nodes.csv'.format(treatments[n]))\n",
    "    #save edges as csv file\n",
    "    edges = nx.get_edge_attributes(MEK_ERK_pos_communities_nx[treatments[n]]['MAPK14'], 'weight')\n",
    "    from_ed = [x[0] for x in edges.keys() ]\n",
    "    to_ed = [x[1] for x in edges.keys() ]\n",
    "    edges_list = list(zip(from_ed,to_ed, edges.values(),edges.values() ))\n",
    "    edges_df = pd.DataFrame(edges_list, columns=['from','to','z-score','weight'])\n",
    "    edges_df.to_csv('output_dataframes/MAPK14.{}_pos_edges.csv'.format(treatments[n]))\n"
   ]
  },
  {
   "cell_type": "code",
   "execution_count": null,
   "metadata": {},
   "outputs": [],
   "source": [
    "  \n",
    "#PI3K_AKT\n",
    "treatments = ['GDC0941', 'AZD5363']\n",
    "shared_kin_nx = nx.intersection(PI3K_AKT_pos_communities_nx[treatments[0]]['MAPK14'],PI3K_AKT_pos_communities_nx[treatments[1]]['MAPK14'] )\n",
    "nodes_inf = []\n",
    "for n in range(len(treatments)):\n",
    "    #Kinases present in both\n",
    "    shared_kin = list(shared_kin_nx)\n",
    "    nodes_inf0 = list(zip(shared_kin, ['kinases present in both SCs']*len(shared_kin) ,  ['#FFDB33']* len(shared_kin) )) \n",
    "    \n",
    "    #Kinases present in that network only\n",
    "    not_shared_kin = [x for x in list(PI3K_AKT_pos_communities_nx[treatments[n]]['MAPK14']) if x not in shared_kin]\n",
    "    nodes_inf1 = list(zip( not_shared_kin, ['kinases present exclusively in this SC']*len(not_shared_kin) ,  ['#96efff']* len(not_shared_kin) )) \n",
    "    \n",
    "    #Put together\n",
    "    nodes_inf_sum = nodes_inf0 + nodes_inf1\n",
    "    nodes_df = pd.DataFrame( nodes_inf_sum, columns=['id', 'group', 'color'])\n",
    "    #add community strength\n",
    "    kin_dict = {key:value for key,value in PI3K_AKT_pos_cs[treatments[n]].items() if key in list(PI3K_AKT_pos_communities_nx[treatments[n]]['MAPK14'])}\n",
    "    kin_cs = list(zip(kin_dict.keys(), kin_dict.values() ))\n",
    "    nodes_cs_df = pd.DataFrame (kin_cs, columns = ['id','community_strength'])\n",
    "    nodes_df_add = pd.merge(nodes_df, nodes_cs_df, on='id')\n",
    "    #save nodes as csv file\n",
    "    nodes_df_add.to_csv('output_dataframes/MAPK14.{}_pos_nodes.csv'.format(treatments[n]))\n",
    "    #save edges as csv file\n",
    "    edges = nx.get_edge_attributes(PI3K_AKT_pos_communities_nx[treatments[n]]['MAPK14'], 'weight')\n",
    "    from_ed = [x[0] for x in edges.keys() ]\n",
    "    to_ed = [x[1] for x in edges.keys() ]\n",
    "    edges_list = list(zip(from_ed,to_ed, edges.values(),edges.values() ))\n",
    "    edges_df = pd.DataFrame(edges_list, columns=['from','to','z-score','weight'])\n",
    "    edges_df.to_csv('output_dataframes/MAPK14.{}_pos_edges.csv'.format(treatments[n]))\n"
   ]
  },
  {
   "cell_type": "markdown",
   "metadata": {},
   "source": [
    "# 3 - Example 2 - Analysis and Results"
   ]
  },
  {
   "cell_type": "markdown",
   "metadata": {},
   "source": [
    "# Negative edges"
   ]
  },
  {
   "cell_type": "code",
   "execution_count": null,
   "metadata": {},
   "outputs": [],
   "source": [
    "#Store dataset treatments names, kinase interactions (network edges) with a z-score < 0, and their z-scores (edges weight) \n",
    "[treatments2,negative_edges2,negative_nodes2] = dataset_info('input/example2_edges_zscores.csv')\n",
    "#Main kinase targets of each of the treatments/inhibitors in the dataset\n",
    "targets2 = ['MTOR']\n"
   ]
  },
  {
   "cell_type": "code",
   "execution_count": null,
   "metadata": {},
   "outputs": [],
   "source": [
    "treatment = ['Rapamycin_vs_Control']\n",
    "#Store contents of communities identified in each network\n",
    "[rap_ER_communities, rap_ER_communities_nx, rap_ER_cs] = converge_asso(edges_dict=negative_edges2, sel_treatments=treatment)\n",
    "#Reproducibiliyyt check\n",
    "treatment = 'Rapamycin_vs_Control'\n",
    "target = 'MTOR'\n",
    "#[rap_ER_communities[treatment], rap_ER_communities_nx[treatment], rap_ER_cs[treatment]] = rep_check(n_checks=50,edges_dict=negative_edges2,treatment=treatment,target=target)\n"
   ]
  },
  {
   "cell_type": "code",
   "execution_count": null,
   "metadata": {},
   "outputs": [],
   "source": [
    "treatments = list(PI3K_AKT_pos_communities_nx.keys())\n",
    "PI3K_AKT_shared = nx.intersection(PI3K_AKT_communities_nx[treatments[0]]['PIK3CA'],PI3K_AKT_communities_nx[treatments[1]]['AKT1_2'] )\n",
    "shared_kin_nx = nx.intersection(rap_ER_communities_nx['Rapamycin_vs_Control']['MTOR'], PI3K_AKT_shared)\n",
    "#Also shared with either MAP2K1 or MAPK1_3\n",
    "MEK_ERK = nx.intersection(MEK_ERK_communities_nx['Trametinib']['MAP2K1'], MEK_ERK_communities_nx['GDC0994']['MAPK1_3'])\n",
    "MEK_ERK_shared = nx.intersection(rap_ER_communities_nx['Rapamycin_vs_Control']['MTOR'], MEK_ERK)\n"
   ]
  },
  {
   "cell_type": "code",
   "execution_count": null,
   "metadata": {},
   "outputs": [],
   "source": [
    "# Save name of each of the communities of interest to show in the graph visualizations (see below)\n",
    "\n",
    "PI3K_AKT_int = [('Rapamycin_vs_Control','MTOR','-'), ('GDC0941','PIK3CA','-'),('AZD5363','AKT1_2','-')]\n",
    "sup_st = '$^{'\n",
    "sup_end = '}$'\n",
    "sub_st = '$_{'\n",
    "sub_end = '}$'\n",
    "PI3K_AKT_names = [ f\"{x[0]}{sup_st}{x[2]}{sup_end}{sub_st}({x[1]}){sub_end}\" for x in PI3K_AKT_int]\n",
    "\n",
    "MEK_ERK_int = [('Rapamycin_vs_Control','MTOR','-'), ('trametinib','MAP2K1','-'),('GDC0994','MAPK1_3','-')]\n",
    "MEK_ERK_names = [ f\"{x[0]}{sup_st}{x[2]}{sup_end}{sub_st}({x[1]}){sub_end}\" for x in MEK_ERK_int]\n"
   ]
  },
  {
   "cell_type": "code",
   "execution_count": null,
   "metadata": {},
   "outputs": [],
   "source": [
    "##Graph visualizations\n",
    "\n",
    "treatments = ['Rapamycin_vs_Control']\n",
    "com = 'MTOR'\n",
    "treat = 'MCF7_AML_com_comparisson'\n",
    "ext='pdf'\n",
    "for n in range(len(treatments)):\n",
    "    net = rap_ER_communities_nx[treatments[n]][com]\n",
    "    #pigraphviz instance from networkx graph\n",
    "    A = nx.nx_agraph.to_agraph(net)\n",
    "    #Map nodes weights to colors\n",
    "    color_lookup = nx.get_node_attributes(net, 'community_strength_centrality')\n",
    "    min_value, *_, max_value = sorted(color_lookup.values())\n",
    "    norm = mpl.colors.Normalize(vmin=min_value, vmax=max_value, clip=True)\n",
    "    mapper = mpl.cm.ScalarMappable(norm=norm, cmap=mpl.cm.GnBu) #Blues)\n",
    "    other_mapper = mpl.cm.ScalarMappable(norm=norm, cmap=mpl.cm.Oranges)#YlOrBr)\n",
    "    #Map edges weights to darker or lighter grey based on weight\n",
    "    ed_color_lookup = nx.get_edge_attributes(net, 'weight')\n",
    "    min_value, *_, max_value = sorted(ed_color_lookup.values())\n",
    "    norm = mpl.colors.Normalize(vmin=min_value, vmax=max_value, clip=True)\n",
    "    edges_mapper = mpl.cm.ScalarMappable(norm=norm, cmap=mpl.cm.Greys) #Blues)\n",
    "    for edge in ed_color_lookup.keys():\n",
    "        ed = A.get_edge(edge[0],edge[1])\n",
    "        ed.attr['color'] = mcolors.to_hex(edges_mapper.to_rgba(ed_color_lookup[edge]))\n",
    "        ed.attr['penwidth'] = ed_color_lookup[edge]*1\n",
    "    #Draw nodes above edges\n",
    "    A.graph_attr[\"strict\"] = False\n",
    "    A.graph_attr[\"overlap\"] = False\n",
    "    A.graph_attr[\"splines\"] = 'compound'\n",
    "    #Color by group\n",
    "    A.node_attr['style']='filled'\n",
    "    ##Nodes present in this community but not the other(s)\n",
    "    #unique_nodes = [node for node in list(net) if node not in shared_kin_nx]\n",
    "    for node in list(MEK_ERK_shared):\n",
    "        n = A.get_node(node)\n",
    "        n.attr['fontsize'] = 22\n",
    "        n.attr['fontname'] = \"helvetica bold\"\n",
    "        #n.attr['fillcolor']=\"#9bd9f2\"\n",
    "        rgba = other_mapper.to_rgba(color_lookup[node])\n",
    "        n.attr['fillcolor']= mcolors.to_hex(rgba)\n",
    "        #Change font color to white if background is too dark\n",
    "        if (rgba[0]*0.299 + rgba[1]*0.587 + rgba[2]*0.114) < font_threshold:\n",
    "            n.attr['fontcolor']= '#ffffff'\n",
    "    ##Nodes present in both communities being compared\n",
    "    for node in list(shared_kin_nx):\n",
    "        n = A.get_node(node)\n",
    "        n.attr['fontsize'] = 22\n",
    "        n.attr['fontname'] = \"helvetica bold\"\n",
    "        #n.attr['fillcolor']=\"#9bd9f2\"\n",
    "        rgba = mapper.to_rgba(color_lookup[node])\n",
    "        n.attr['fillcolor']= mcolors.to_hex(rgba)\n",
    "        #Change font color to white if background is too dark\n",
    "        if (rgba[0]*0.299 + rgba[1]*0.587 + rgba[2]*0.114) < font_threshold:\n",
    "            n.attr['fontcolor']= '#ffffff'\n",
    "    for node in list(net):\n",
    "        if node not in list(MEK_ERK_shared) and node not in list(shared_kin_nx):\n",
    "            n = A.get_node(node)\n",
    "            n.attr['fontsize'] = 22\n",
    "            n.attr['fontname'] = \"helvetica bold\"\n",
    "            \n",
    "    #Highlight MEK/ERK\n",
    "    for node in ['ARAF','MAP2K1','MAPK1_3']:\n",
    "        if node in list(net):\n",
    "            n = A.get_node(node)\n",
    "            n.attr['shape']='square'\n",
    "            n.attr['width']=1.5\n",
    "            n.attr['fixedsize']='true' \n",
    "            #n.attr['penwidth']= 3\n",
    "            #n.attr['color']=\"#FFF300\"\n",
    "            #n.attr['color']=\"#4AF1F2\"\n",
    "            #n.attr['fillcolor']=\"#9bd9f2\"\n",
    "            #n.attr['fillcolor']= mcolors.to_hex(mapper.to_rgba(color_lookup[node]))\n",
    "    #Highlight PIK3CA/AKT\n",
    "    for node in ['PIK3CA','AKT1_2','MTOR']:\n",
    "        if node in list(net):\n",
    "            n = A.get_node(node)\n",
    "            n.attr['shape']='diamond'\n",
    "            n.attr['width']=1.5\n",
    "            n.attr['height']=2\n",
    "            n.attr['fixedsize']='true'\n",
    "            #n.attr['penwidth']= 3\n",
    "            #n.attr['color']=\"#FF6EFF\"\n",
    "            #n.attr['fillcolor']=\"#9bd9f2\"\n",
    "            #n.attr['fillcolor']= mcolors.to_hex(mapper.to_rgba(color_lookup[node]))\n",
    "    \n",
    "    \n",
    "    ##Multi-panel colorbar\n",
    "        \n",
    "    #Add colorbar legend for unique nodes \n",
    "    fig, ax = plt.subplots(1, 1)\n",
    "    fraction = 1\n",
    "    plt.colorbar(other_mapper, ax=ax, pad=.05, extend='both', fraction=fraction)\n",
    "    ax.axis('off')\n",
    "    ax.set_title(f\"absolute CSC of kinases \\n present across \\n {MEK_ERK_names[0]} \\n {MEK_ERK_names[1]} and {MEK_ERK_names[2]}\", x=-0.3)\n",
    "    name = f\"output_visualizations/{treat}_pos_networkviz_static_unique_nodes_colorbar.{ext}\"\n",
    "    plt.savefig(name, bbox_inches=\"tight\",format=f\"{ext}\")\n",
    "    plt.show()\n",
    "    \n",
    "    #Add colorbar legend for shared nodes\n",
    "    fig, ax = plt.subplots(1, 1)\n",
    "    fraction = 1\n",
    "    plt.colorbar(mapper, ax=ax, pad=.05, extend='both', fraction=fraction)\n",
    "    ax.axis('off')\n",
    "    ax.set_title(f\"absolute CSC of kinases \\n present across \\n {PI3K_AKT_names[0]} \\n {PI3K_AKT_names[1]} and  {PI3K_AKT_names[2]}\", x=-0.3)\n",
    "    name = f\"output_visualizations/{treat}_pos_networkviz_static_shared_nodes_colorbar.{ext}\"\n",
    "    plt.savefig(name, bbox_inches=\"tight\",format=f\"{ext}\")\n",
    "    plt.show()\n",
    "    \n",
    "    #Add shapes legend\n",
    "    fig, ax = plt.subplots(1, 1)\n",
    "    name = f\"output_visualizations/MAPK14.{treat}_pos_networkviz_static_shared_nodes_colorbar.{ext}\"\n",
    "    a = ax.scatter([0], [0], marker='D', facecolors='none', edgecolors='black', label= 'PI3K/AKT/mTOR')\n",
    "    b = ax.scatter([0], [0], marker='s', facecolors='none', edgecolors='black', label= 'ARAF/MAP2K1/MAPK1_3' )\n",
    "    # adjust the figure size as necessary\n",
    "    fig_leg = plt.figure(figsize=(1,1))\n",
    "    ax_leg = fig_leg.add_subplot(111)\n",
    "    # add the legend from the previous axes\n",
    "    ax_leg.legend(*ax.get_legend_handles_labels(), loc='center', title='canonical pathways')\n",
    "    # hide the axes frame and the x/y labels\n",
    "    ax_leg.axis('off')\n",
    "    ax.set_title(title_shapes, x=-0.3)\n",
    "    name = f\"output_visualizations/{treat}_pos_networkviz_static_pathways_legend.{ext}\"\n",
    "    fig_leg.savefig(name, bbox_inches=\"tight\",format=f\"{ext}\")\n",
    "    fig_leg.show()\n",
    "\n",
    "    #Add colorbar legend for edges\n",
    "    fig, ax = plt.subplots(1, 1)\n",
    "    fraction = 1\n",
    "    plt.colorbar(edges_mapper, ax=ax, pad=.05, extend='both', fraction=fraction)\n",
    "    ax.axis('off')\n",
    "    ax.set_title('absolute edges z-score \\n (KSEA)', x=-0.3)\n",
    "    name = f\"output_visualizations/{treat}_pos_networkviz_static_edges_colorbar.{ext}\"\n",
    "    plt.savefig(name, bbox_inches=\"tight\",format=f\"{ext}\")\n",
    "    plt.show()\n",
    "    \n",
    "    \n",
    "    #Draw graph\n",
    "    A.layout()\n",
    "    title = f\"output_visualizations/{treat}_pos_networkviz_static\"\n",
    "    A.draw(f\"{title}.{ext}\", prog='sfdp',format=f\"{ext}\")\n",
    "    #os.system(f\"pdftoppm -png -r 300  {title}.{ext} {title}\")\n"
   ]
  },
  {
   "cell_type": "code",
   "execution_count": null,
   "metadata": {},
   "outputs": [],
   "source": [
    "## Heatmap of kinases CS across communities:\n",
    "# rapamycin(-)(mTOR)\n",
    "# AZD5363(-)(AKT)\n",
    "# GDC0941(-)(PI3K)\n",
    "\n",
    "import plotly.io as pio\n",
    "import kaleido\n",
    "## Comparative heatmap\n",
    "\n",
    "#Combine dictionnaries\n",
    "all_com = dict(ChainMap(*[rap_ER_communities_nx, PI3K_AKT_communities_nx]))\n",
    "all_com_cs = dict(ChainMap(*[rap_ER_cs, PI3K_AKT_cs]))\n",
    "for net in all_com.keys():\n",
    "    all_com[net] = {kin:all_com[net][kin] for kin in all_com[net].keys() if kin in shared_kin_nx}\n",
    "    all_com_cs[net] = {kin:all_com_cs[net][kin] for kin in all_com_cs[net].keys() if kin in shared_kin_nx}\n",
    "\n",
    "#Figure\n",
    "all_com['Rapamycin'] = all_com.pop('Rapamycin_vs_Control')\n",
    "all_com_cs['Rapamycin'] = all_com_cs.pop('Rapamycin_vs_Control')\n",
    "com_int = [('Rapamycin','MTOR','-'), ('GDC0941','PIK3CA','-'),('AZD5363','AKT1_2','-')]\n",
    "\n",
    "fig = cs_comparisson(communities_nx=all_com, communities_cs=all_com_cs, treatment_targets_sign=com_int, kin_int=shared_kin_nx, position=0)\n",
    "#fig1 = fig.gcf()\n",
    "#fig.write_image(file='output_visualizations/MCF7_AML_com_comparisson.pdf', format='pdf', engine='kaleido')\n",
    "fig.update_layout(\n",
    "    font=dict(\n",
    "        size=16,\n",
    "    )\n",
    ")\n",
    "fig.show()\n"
   ]
  },
  {
   "cell_type": "markdown",
   "metadata": {},
   "source": [
    "# Positive edges"
   ]
  },
  {
   "cell_type": "code",
   "execution_count": null,
   "metadata": {},
   "outputs": [],
   "source": [
    "#Store dataset treatments names, kinase interactions (network edges) with a z-score < 0, and their z-scores (edges weight) \n",
    "[treatments2,positive_edges2, positive_nodes2] = dataset_info('input/example2_edges_zscores.csv', sign='pos')\n"
   ]
  },
  {
   "cell_type": "code",
   "execution_count": null,
   "metadata": {},
   "outputs": [],
   "source": [
    "treatment = ['Rapamycin_vs_Control']\n",
    "#Store contents of communities identified in each network\n",
    "[rap_ER_pos_communities, rap_ER_pos_communities_nx, rap_ER_pos_cs] = converge_asso(edges_dict=positive_edges2, sel_treatments=treatment)\n",
    "#Reproducibiliyyt check\n",
    "treatment = 'Rapamycin_vs_Control'\n",
    "\n",
    "rap_ER_pos_communities['Rapamycin_vs_Control']"
   ]
  }
 ],
 "metadata": {
  "kernelspec": {
   "display_name": "Python 3 (ipykernel)",
   "language": "python",
   "name": "python3"
  },
  "language_info": {
   "codemirror_mode": {
    "name": "ipython",
    "version": 3
   },
   "file_extension": ".py",
   "mimetype": "text/x-python",
   "name": "python",
   "nbconvert_exporter": "python",
   "pygments_lexer": "ipython3",
   "version": "3.9.12"
  }
 },
 "nbformat": 4,
 "nbformat_minor": 4
}
