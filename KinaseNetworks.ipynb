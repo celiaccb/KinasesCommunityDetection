{
 "cells": [
  {
   "cell_type": "markdown",
   "metadata": {},
   "source": [
    "# 0 - Package Initialization"
   ]
  },
  {
   "cell_type": "code",
   "execution_count": 44,
   "metadata": {},
   "outputs": [],
   "source": [
    "#Python version used: 3.9.12\n",
    "#Packages necessary to construct a kinase network from the user uploaded file\n",
    "import pandas as pd\n",
    "import networkx as nx\n",
    "from networkx import *\n",
    "import csv\n",
    "import itertools\n",
    "from itertools import chain\n",
    "import numpy as np\n",
    "from scipy.stats import norm\n",
    "import statistics\n",
    "from statistics import *\n",
    "import operator\n",
    "import functools\n",
    "#Visualizations\n",
    "import plotly.express as px\n",
    "import plotly.graph_objects as go \n",
    "from pyvis.network import Network\n",
    "#Community detection\n",
    "import community as community_louvain\n",
    "import matplotlib.cm as cm\n",
    "import matplotlib.pyplot as plt\n",
    "from sknetwork.clustering import Louvain\n",
    "import collections\n",
    "from collections import ChainMap"
   ]
  },
  {
   "cell_type": "markdown",
   "metadata": {},
   "source": [
    "# 1 - Functions"
   ]
  },
  {
   "cell_type": "markdown",
   "metadata": {},
   "source": [
    "## 1.1 - Extracting information from a z-scores dataset"
   ]
  },
  {
   "cell_type": "code",
   "execution_count": 2,
   "metadata": {},
   "outputs": [],
   "source": [
    "# input: dataset must be a csv files in which the first column is the kinase interactions (pairs), and each following \n",
    "# column the z-scores of each of the kinase interactions in one of the treatments\n",
    "# output: treatments are the headers of each of the z-scores columns, used to name visulizations returned from the analysis\n",
    "# negative_edges is a list of lists, each list corresponding to a treatment in the dataset, it's contents being the \n",
    "# kinase interactions in said treatment with a z_score <0 and their z_scores,in the shape of tuples, i.e. a network\n",
    "# negative_nodes is a list of lists, each list corresponding to the kinases of one network\n",
    "def dataset_info(dataset, rem_vs_control='no', sign = 'neg'):\n",
    "    # Read dataset and drop rows with no z-score information\n",
    "    networkfile = pd.read_csv(dataset)\n",
    "    networkfile = networkfile.dropna()\n",
    "    \n",
    "    # Return the headers of the z_scores columns, i.e. the treatments names\n",
    "    headers = list(networkfile.columns.values)[1:]\n",
    "    treatments = [x.split(\".\")[-1] for x in headers]\n",
    "    if rem_vs_control == 'yes':\n",
    "        treatments = [x.split(\"_\")[0] for x in treatments]\n",
    "    \n",
    "    # Convert first column (kinase interactions/pairs) of the document to a list\n",
    "    edges_list= networkfile[networkfile.columns[0]].to_list()\n",
    "    # Convert the list into a list of tuples, each tuple being one kinase pair/edge (since this is the format needed to \n",
    "    # add edges onto pyvis.network (network visualization package))\n",
    "    edges_list2 = [tuple(x.split('.',1)) for x in edges_list]\n",
    "    \n",
    "    #For each treatment(column) on the file, store kinase interactions/pairs with a z-score <0, and their z-scores\n",
    "    if sign == 'neg':\n",
    "        edges = [[(*edges_list2[n],+ networkfile[networkfile.columns[na]].to_list()[n]) for n in range(len(edges_list2)) if networkfile[networkfile.columns[na]].to_list()[n] < 0 ] for na in range(1,len(headers))]\n",
    "    elif sign == 'pos' :\n",
    "        edges = [[(*edges_list2[n],+ networkfile[networkfile.columns[na]].to_list()[n]) for n in range(len(edges_list2)) if networkfile[networkfile.columns[na]].to_list()[n] > 0 ] for na in range(1,len(headers))]\n",
    "    \n",
    "    #Kinases in each of the negative_edges lists\n",
    "    nodes = []\n",
    "    for selected_treatment in edges:\n",
    "        #Keep only the kinases names (i.e. remove the z-scores) from the list of edges\n",
    "        nodes_bf = [ (a,b) for a,b,c in selected_treatment]\n",
    "        #Flatten list of edges tuples to list of nodes\n",
    "        nodes = list(itertools.chain(*nodes_bf))\n",
    "        #Remove duplicates from the list\n",
    "        nodes_list = list(dict.fromkeys(nodes))\n",
    "        nodes.append(nodes_list)\n",
    "        \n",
    "    return treatments,edges,nodes\n",
    " "
   ]
  },
  {
   "cell_type": "markdown",
   "metadata": {},
   "source": [
    "## 1.2 - Community detection"
   ]
  },
  {
   "cell_type": "code",
   "execution_count": null,
   "metadata": {},
   "outputs": [],
   "source": [
    "# 1. Are all the final runs the same?"
   ]
  },
  {
   "cell_type": "code",
   "execution_count": 60,
   "metadata": {},
   "outputs": [],
   "source": [
    "# input: edges_list is a list corresponding to a treatment in the dataset, it's contents being the kinase interactions\n",
    "# in said treatment with a z_score <0 and their z_scores,in the shape of tuples, i.e. a network \n",
    "# output: A_asso is the converged association matrix, n_iter the number of iterations required for convergence and \n",
    "# labels are the converged community labels \n",
    "def converge_asso(edges_list):\n",
    "    \n",
    "    #Initialize a Networkx instance\n",
    "    negativenetwork = nx.Graph()\n",
    "    #Add the kinase interactions & z-scores of treatment w to the network\n",
    "    negativenetwork.add_weighted_edges_from(edges_list)\n",
    "    #Store the individual kinases in the network as a numpy array - to return kinases in each community at the end\n",
    "    node_0 = list(negativenetwork.nodes())\n",
    "    node_0_arr = np.asarray(node_0)\n",
    "    #A_0 is the adjacency matrix of the matrix (network instance) stored as a numpy array\n",
    "    A_0 = to_numpy_array(negativenetwork)\n",
    "    \n",
    "    n_runs = 100\n",
    "    A_runs = np.zeros((n_runs, len(A_0)))\n",
    "    #Run the community detection algorithm on the network A_0 an n_runs amount of times\n",
    "    for i in range(n_runs):\n",
    "        #Louvain algorithm with Potts null network\n",
    "        louvain = Louvain(1, 'potts', shuffle_nodes = 1)\n",
    "        #Communities identified by number (Community 1, Community 2...)\n",
    "        #Array is the length of the number of kinases in the network\n",
    "        #For each kinase, it's community assignement is indicated by number\n",
    "        labels = louvain.fit_transform(A_0)\n",
    "        #Store the community partitions of each run\n",
    "        A_runs[i,:] = labels\n",
    "\n",
    "    #X = Number of kinases in the network\n",
    "    #Create & store 'X' arrays of 'X' zeros each\n",
    "    A_asso = np.zeros((len(A_0), len(A_0)))\n",
    "    #After loop, each array corresponds to one kinase, and each position within an array indicates in how many runs that kinase is\n",
    "    #assigned to the same community as each of the kinases in the network \n",
    "    #Loop over each run\n",
    "    for i in range(n_runs):\n",
    "        #Loop over each kinase/node in network (identified by number)\n",
    "        for j in range(len(A_0)):\n",
    "            #Loop over each kinase/node in network (identified by number)\n",
    "            for l in range(len(A_0)):\n",
    "            #If j and l are assigned to the same community in run i, add '1' to position l of array j   \n",
    "                A_asso[j,l] = A_asso[j,l] + (A_runs[i,j] == A_runs[i,l])\n",
    "    \n",
    "    #Divide each element in each of the arrays in the converged association matrix(A_asso) by n_runs to get\n",
    "    #the percentage (in 0.1(=10%) format) of runs in which each kinase-kinase/node-node combination is assigned to the same community\n",
    "    A_asso = np.true_divide(A_asso, n_runs)\n",
    "    \n",
    "    n_iter = 0\n",
    "    #until all the entries in A_asso are 0(not grouped together) or 1(grouped together) (all runs are the same)\n",
    "    while(len(np.unique(A_asso)) != 2):\n",
    "        n_runs = 100\n",
    "        #Create an array for each run, the length of each array being the number of kinases in the network\n",
    "        A_runs = np.zeros((n_runs, len(A_0)))\n",
    "        #Repeat community detection on co-classification matrix (the weight of the edges is the percentage of runs in which two kinases are grouped together)\n",
    "        for i in range(n_runs):\n",
    "            louvain = Louvain(1, 'potts', shuffle_nodes = 1)\n",
    "            labels = louvain.fit_transform(A_asso)\n",
    "            A_runs[i,:] = labels\n",
    "        A_asso = np.zeros((len(A_0), len(A_0)))\n",
    "        for i in range(n_runs):\n",
    "            for j in range(len(A_0)):\n",
    "                for l in range(len(A_0)):\n",
    "                    A_asso[j,l] = A_asso[j,l] + (A_runs[i,j] == A_runs[i,l])\n",
    "        #Return percentage of runs in which each kinase-kinase combination is a ssigned to the same community\n",
    "        A_asso = np.true_divide(A_asso, n_runs)\n",
    "        n_iter = n_iter + 1 \n",
    "    \n",
    "    #Final community partitions (all runs are the same)\n",
    "    labels = A_runs[0,:]\n",
    "    \n",
    "    #find how many communities are identified\n",
    "    n_of_com = list(set(labels.flatten()))\n",
    "\n",
    "    #List of communities of kinases as lists\n",
    "    communities_list = [list(itertools.chain(*node_0_arr[np.argwhere(labels == int(n))])) for n in n_of_com]\n",
    "    #Dictionaries of communities as networkx instances\n",
    "    communities_nx = [dict.fromkeys(com,negativenetwork.subgraph(com)) for com in communities_list]\n",
    "    communities_nx = dict(ChainMap(*communities_nx))\n",
    "    \n",
    "    return communities_list, communities_nx\n"
   ]
  },
  {
   "cell_type": "markdown",
   "metadata": {},
   "source": [
    "## 1.3 - Reproducibility check"
   ]
  },
  {
   "cell_type": "code",
   "execution_count": 346,
   "metadata": {},
   "outputs": [],
   "source": [
    "#Run converge_asso an n_checks number of times and check if the contents of the community of interest differ\n",
    "def rep_check(n_checks, edges_list, target):\n",
    "    community = ['a'] * n_checks\n",
    "    for n in range(n_checks):\n",
    "        #Store contents of community of interest\n",
    "        community[n] = [com for com in converge_asso(edges_list)[0] if target in com]\n",
    "    #Check if there are any kinases that are not present in all the community versions\n",
    "    all_com = list(itertools.chain(*community))\n",
    "    communities_list_rem = [x for x in set(all_com) if all_com.count(x)==n_checks]\n",
    "    #Dictionary of networkx instances\n",
    "    communities_nx_rem\n",
    "    return communities_list_rem, communities_nx_rem\n"
   ]
  },
  {
   "cell_type": "markdown",
   "metadata": {},
   "source": [
    "## 1.4 - Community strength calculation & display in heatmap"
   ]
  },
  {
   "cell_type": "code",
   "execution_count": 6,
   "metadata": {},
   "outputs": [],
   "source": [
    "# input: edges_list is a list corresponding to a treatment in the dataset, it's contents being the kinase interactions\n",
    "# in said treatment with a z_score <0 and their z_scores,in the shape of tuples, i.e. a network\n",
    "# community is a list of the kinases in the community of interest\n",
    "# output: dictionary of kinases and their community strength\n",
    "def cs_calculation(treat_int, edges, treatments, targets, communities, community_edges, sign='−'):\n",
    "    #Calculate the community strength of each of the kinases in the two selected communities you are comparing\n",
    "    kin_cs = ['a'] * len(treat_int)\n",
    "    for n in range(len(treat_int)):\n",
    "        na = treat_int[n]\n",
    "        # Store kinase pairs in which both kinases are in the community of interest\n",
    "        #community_edges = [x for x in edges[na] if x[0] in communities[na] and x[1] in communities[na]]\n",
    "        # Calculate the community strength of each of the kinases in the community and store as dictionary\n",
    "        kin_cs[n] = {kin:abs(round(sum([community_edges[n][2] for n in range(len(community_edges)) if community_edges[n][1]==kin or community_edges[n][0]==kin]), 2)) for kin in communities[na]}    \n",
    "    \n",
    "    #Combine two communities lists\n",
    "    kinases = list(dict.fromkeys(communities[treat_int[0]]+communities[treat_int[1]]))\n",
    "    #Get values for each of the kinases in the combined list in each of the communities\n",
    "    #If kinase is not in the community then the value is None\n",
    "    values = [[kin_cs[n][kin] if kin in communities[treat_int[n]] else None for kin in kinases]for n in [0,1]]\n",
    "    \n",
    "    #Define heatmap axis and text\n",
    "    x = kinases\n",
    "    #<sub></sub> for subscript, <sup></sup>\n",
    "    y = [ treatments[na]+'<sup>'+sign+'</sup>'+'<sub>('+targets[na]+')</sub>'+'<br>community strength</br>' for na in treat_int]\n",
    "    z = [values[0],values[1]]\n",
    "    \n",
    "    #kinases, treatment,  = list(zip(x, y, z))\n",
    "    \n",
    "    return [x,y,z]\n"
   ]
  },
  {
   "cell_type": "markdown",
   "metadata": {},
   "source": [
    "# 2 - Example 1 - Analysis and Results"
   ]
  },
  {
   "cell_type": "markdown",
   "metadata": {},
   "source": [
    "# Negative edges"
   ]
  },
  {
   "cell_type": "code",
   "execution_count": 4,
   "metadata": {},
   "outputs": [
    {
     "data": {
      "text/plain": [
       "['Trametinib',\n",
       " 'GDC0941',\n",
       " 'AZD5363',\n",
       " 'GDC0994',\n",
       " 'LY2835219',\n",
       " 'AZD5438',\n",
       " 'CFI402257']"
      ]
     },
     "execution_count": 4,
     "metadata": {},
     "output_type": "execute_result"
    }
   ],
   "source": [
    "#Store dataset treatments names, kinase interactions (network edges) with a z-score < 0, and their z-scores (edges weight) \n",
    "[treatments, negative_edges, negative_nodes] = dataset_info('input/PROJECT_DATASET_2.csv', rem_vs_control='yes')\n",
    "#Main kinase targets of each of the treatments/inhibitors in the dataset\n",
    "targets = ['MAP2K1','PIK3CA','AKT1_2','MAPK1_3']\n",
    "\n",
    "treatments"
   ]
  },
  {
   "cell_type": "markdown",
   "metadata": {},
   "source": [
    "## 2.1 - Selected communities contents for networks trametinib(MAP2K1)[-], GDC0994(MAPK1_3), GDC0941(PI3K)[-], and AZD5363(AKT)[-]"
   ]
  },
  {
   "cell_type": "code",
   "execution_count": null,
   "metadata": {},
   "outputs": [],
   "source": [
    "#Please note that the following block of code takes a few minutes to run"
   ]
  },
  {
   "cell_type": "code",
   "execution_count": 351,
   "metadata": {},
   "outputs": [
    {
     "name": "stdout",
     "output_type": "stream",
     "text": [
      "[['CAMKK2', 'CDK9', 'ERN1', 'IRAK1', 'CAMK2D', 'CIT', 'MAST1', 'ABL2', 'TAOK3', 'CDK6', 'CDK1', 'CDK5', 'MAPK14', 'CDK2', 'CAMK2G', 'CAMK2A', 'PAK2', 'DYRK2', 'PHKG2', 'MAP4K4', 'MAP3K15', 'CSNK2A2', 'CDKL5', 'ULK1', 'CDK4', 'RPS6KA4', 'EIF2AK1', 'TAOK1', 'CDK17', 'SIK2'], ['PAK1', 'PAK3', 'PIK3CA', 'TTK', 'PLK1', 'PIK3CB', 'LATS1', 'PRKCI', 'TNK2', 'MAP3K1', 'MTOR', 'YES1', 'AKT1_2', 'PDGFRB', 'CSNK1E', 'MAP2K1', 'MAPK1_3', 'RPS6KA2', 'STK3', 'PRKACA', 'PAK4', 'STK4', 'MINK1', 'PRKACB', 'RPS6KB1'], ['ABL1', 'LIMK1_2', 'SRPK1', 'SRPK3'], ['RPS6KA3', 'MAP3K3'], ['CLK1', 'CLK2']]\n",
      "[[('ARAF', 'IRAK1', -0.014783465), ('ARAF', 'CDK9', -0.128200402), ('ARAF', 'MAP4K4', -0.125064244), ('ABL2', 'ARAF', -0.013631691), ('ARAF', 'CDK4', -0.086056068), ('ARAF', 'PIK3CB', -0.1020479), ('ARAF', 'CDK1', -0.107263093), ('ARAF', 'CDK5', -0.107263093), ('ARAF', 'MAST1', -0.03202431), ('AKT1_2', 'ARAF', -0.130900572), ('ARAF', 'CDK6', -0.227400209), ('ARAF', 'LATS1', -0.158995141), ('ARAF', 'MAP2K1', -0.174227704), ('ARAF', 'PHKG2', -0.06983879), ('ARAF', 'CSNK2A2', -0.088940023), ('ARAF', 'CDKL5', -0.088940023)], [('CIT', 'MAPKAPK2', -0.264799958)], [('CDK7', 'PHKG2', -0.06983879)], [('LATS1', 'MARK3', -0.094859167)], [('MAP4K5', 'PLK1', -0.095552883), ('MAP4K5', 'SRPK1', -0.071278734), ('ERN1', 'MAP4K5', -0.167392717), ('CAMKK2', 'MAP4K5', -0.055467732), ('MAP4K5', 'PIK3CA', -0.009893212), ('CDK2', 'MAP4K5', -0.192438285), ('LATS1', 'MAP4K5', -0.193998252), ('MAP4K5', 'PIK3CB', -0.058458768), ('CDK9', 'MAP4K5', -0.088940023), ('CDKL5', 'MAP4K5', -0.088940023), ('MAP4K5', 'PHKG2', -0.03202431)], [('RPS6KA3', 'RPS6KA6', -0.100973633), ('RPS6KA6', 'ULK1', -0.116745598)]]\n"
     ]
    }
   ],
   "source": [
    "#Store contents of communities identified in each network\n",
    "all_communities = ['a'] * len(targets)\n",
    "all_communities_edges = ['a'] * len(targets)\n",
    "all_kin_no_com = ['a'] * len(targets)\n",
    "all_kin_no_com_edges = ['a'] * len(targets)\n",
    "target_communities = ['a'] * len(targets)\n",
    "target_communities_edges = ['a'] * len(targets)\n",
    "\n",
    "for n in list(range(0,len(targets))):\n",
    "    [kin_communities, kin_communities_edges, kin_no_com, kin_no_com_edges, target_community, target_community_edges] = converge_asso(negative_edges[n], target = targets[n])\n",
    "    #All identified communities\n",
    "    all_communities[n] = kin_communities\n",
    "    all_communities_edges[n] = kin_communities_edges\n",
    "    all_kin_no_com[n] = kin_no_com\n",
    "    all_kin_no_com_edges[n] = kin_no_com_edges\n",
    "    #Community containing the target\n",
    "    target_communities[n] = target_community\n",
    "    target_communities_edges[n] = target_community_edges\n",
    "\n",
    "#Because we noticed that when extracting the community of interest from the trametinib(MEK)[-] network with the converge_asso\n",
    "#function the contents of said community differ from run from run, for this network we run the community detection function (converge_asso)\n",
    "#50 times, and keep only the nodes that are present in the community in all 50 runs of the converge_asso function\n",
    "[target_communities[0],target_communities_edges[0]] = rep_check(50, negative_edges[0], targets[0])\n",
    "\n",
    "print(all_communities[0])\n",
    "print(all_kin_no_com_edges[0])\n",
    "\n"
   ]
  },
  {
   "cell_type": "code",
   "execution_count": 349,
   "metadata": {},
   "outputs": [
    {
     "name": "stdout",
     "output_type": "stream",
     "text": [
      "[['MAPKAPK2'], ['RPS6KA6'], ['MARK3'], ['MAP4K5'], ['CDK7']]\n",
      "[[], [], [], [], []]\n"
     ]
    },
    {
     "data": {
      "text/plain": [
       "[('CAMKK2', 'CDK9', -0.03059148),\n",
       " ('ERN1', 'IRAK1', -0.230053094),\n",
       " ('CAMK2D', 'CAMKK2', -0.056016515),\n",
       " ('ABL1', 'LIMK1_2', -0.022289867),\n",
       " ('PAK1', 'PAK3', -0.145222545),\n",
       " ('CIT', 'MAST1', -0.369626651),\n",
       " ('CAMK2D', 'CIT', -0.080753734),\n",
       " ('ABL1', 'ABL2', -0.021507521),\n",
       " ('ABL2', 'LIMK1_2', -0.031773846),\n",
       " ('CAMKK2', 'MAST1', -0.425601923),\n",
       " ('MAST1', 'TAOK3', -0.479000632),\n",
       " ('CDK6', 'CDK9', -0.37606021),\n",
       " ('CAMK2D', 'TAOK3', -0.052902013),\n",
       " ('CAMK2D', 'CDK9', -0.07834263),\n",
       " ('CAMKK2', 'CDK6', -0.19901646),\n",
       " ('CDK6', 'TAOK3', -0.179054584),\n",
       " ('CDK6', 'CIT', -0.192891404),\n",
       " ('ARAF', 'IRAK1', -0.014783465),\n",
       " ('CDK1', 'CDK5', -0.498872382),\n",
       " ('IRAK1', 'MAST1', -0.41758307),\n",
       " ('CDK6', 'IRAK1', -0.172504063),\n",
       " ('PIK3CA', 'TTK', -0.228672557),\n",
       " ('MAPK14', 'PLK1', -0.219707624),\n",
       " ('CDK1', 'CDK2', -0.290572696),\n",
       " ('CDK2', 'CDK5', -0.290572696),\n",
       " ('PIK3CB', 'PLK1', -0.064507194),\n",
       " ('LATS1', 'PRKCI', -0.156353307),\n",
       " ('ERN1', 'PLK1', -0.376956871),\n",
       " ('CAMKK2', 'TNK2', -0.113410283),\n",
       " ('CIT', 'TNK2', -0.127776223),\n",
       " ('MAP4K5', 'PLK1', -0.095552883),\n",
       " ('TAOK3', 'TNK2', -0.070002623),\n",
       " ('ARAF', 'CDK9', -0.128200402),\n",
       " ('MAP3K1', 'PLK1', -0.195702382),\n",
       " ('IRAK1', 'TNK2', -0.114346589),\n",
       " ('MAP4K5', 'SRPK1', -0.071278734),\n",
       " ('ERN1', 'MAP4K5', -0.167392717),\n",
       " ('MTOR', 'PIK3CA', -0.641793941),\n",
       " ('CAMK2D', 'CDK6', -0.152724357),\n",
       " ('CAMK2G', 'CAMKK2', -0.21019338),\n",
       " ('PAK1', 'YES1', -0.057938278),\n",
       " ('AKT1_2', 'PIK3CA', -0.318882303),\n",
       " ('CAMK2A', 'CAMKK2', -0.299829492),\n",
       " ('PDGFRB', 'PLK1', -0.053529964),\n",
       " ('CAMKK2', 'PAK2', -0.268934787),\n",
       " ('CSNK1E', 'PLK1', -0.051328278),\n",
       " ('PLK1', 'TTK', -0.21673614),\n",
       " ('CIT', 'DYRK2', -0.489548882),\n",
       " ('CIT', 'PAK2', -0.229199776),\n",
       " ('MAP2K1', 'TNK2', -3.732467059),\n",
       " ('MAPK1_3', 'TNK2', -1.173929447),\n",
       " ('PAK2', 'TAOK3', -0.229199776),\n",
       " ('PRKCI', 'RPS6KA2', -0.105050265),\n",
       " ('CDK9', 'MAST1', -0.315320384),\n",
       " ('CAMKK2', 'MAP4K5', -0.055467732),\n",
       " ('PAK3', 'SRPK1', -0.124115606),\n",
       " ('CAMKK2', 'DYRK2', -0.487330448),\n",
       " ('CAMKK2', 'PHKG2', -0.21019338),\n",
       " ('DYRK2', 'TAOK3', -0.487330448),\n",
       " ('PAK3', 'PLK1', -0.149273881),\n",
       " ('PAK3', 'PRKCI', -0.079025117),\n",
       " ('STK3', 'TNK2', -0.054196296),\n",
       " ('AKT1_2', 'LIMK1_2', -0.150661902),\n",
       " ('CAMKK2', 'RPS6KA2', -0.134646183),\n",
       " ('CDK1', 'CDK9', -0.427819124),\n",
       " ('CDK5', 'CDK9', -0.427819124),\n",
       " ('CDK6', 'ERN1', -0.393868716),\n",
       " ('CDK9', 'TNK2', -0.213494179),\n",
       " ('CSNK1E', 'PAK3', -0.238696638),\n",
       " ('MTOR', 'TTK', -0.536312653),\n",
       " ('PIK3CA', 'PLK1', -0.161695916),\n",
       " ('AKT1_2', 'PRKACA', -1.01694198),\n",
       " ('ARAF', 'MAP4K4', -0.125064244),\n",
       " ('PAK1', 'PAK4', -0.047895236),\n",
       " ('CIT', 'RPS6KA2', -0.000607147),\n",
       " ('PAK1', 'PRKCI', -0.099063227),\n",
       " ('PDGFRB', 'TNK2', -0.376400227),\n",
       " ('ERN1', 'MAP4K4', -0.447185958),\n",
       " ('TNK2', 'YES1', -0.052950175),\n",
       " ('IRAK1', 'PAK2', -0.443176944),\n",
       " ('AKT1_2', 'TTK', -1.083930775),\n",
       " ('CAMKK2', 'MAP3K15', -0.471916596),\n",
       " ('CIT', 'CSNK2A2', -0.436751805),\n",
       " ('LATS1', 'PRKACA', -0.269238974),\n",
       " ('MAP4K5', 'PIK3CA', -0.009893212),\n",
       " ('PLK1', 'TNK2', -0.131479093),\n",
       " ('CAMK2D', 'CAMK2G', -0.187778966),\n",
       " ('CAMKK2', 'CSNK2A2', -0.311379175),\n",
       " ('CIT', 'MAP3K15', -0.45430525),\n",
       " ('CIT', 'PHKG2', -0.404488617),\n",
       " ('PAK3', 'TTK', -0.227858397),\n",
       " ('SRPK1', 'TTK', -1.029042246),\n",
       " ('AKT1_2', 'MTOR', -0.358152924),\n",
       " ('AKT1_2', 'TNK2', -0.38980521),\n",
       " ('MAP3K15', 'PHKG2', -0.422095036),\n",
       " ('SRPK1', 'TNK2', -0.057138541),\n",
       " ('CAMKK2', 'CDKL5', -0.123799963),\n",
       " ('CSNK1E', 'PAK1', -0.166596604),\n",
       " ('MAP3K1', 'RPS6KA2', -0.15492653),\n",
       " ('MAP4K4', 'PLK1', -0.340716787),\n",
       " ('PLK1', 'RPS6KA2', -0.193349788),\n",
       " ('RPS6KA2', 'TAOK3', -0.101782947),\n",
       " ('MAP3K15', 'TAOK3', -0.45430525),\n",
       " ('PAK4', 'PRKCI', -0.131698264),\n",
       " ('PHKG2', 'TAOK3', -0.422095036),\n",
       " ('STK3', 'STK4', -0.054265799),\n",
       " ('AKT1_2', 'LATS1', -0.781388575),\n",
       " ('CDK1', 'ERN1', -0.370527349),\n",
       " ('CDK5', 'ERN1', -0.370527349),\n",
       " ('CSNK2A2', 'PHKG2', -0.385178887),\n",
       " ('CSNK2A2', 'TAOK3', -0.422095036),\n",
       " ('DYRK2', 'IRAK1', -0.45430525),\n",
       " ('MAP3K1', 'TNK2', -0.103947772),\n",
       " ('PAK4', 'STK3', -0.092973714),\n",
       " ('RPS6KA2', 'RPS6KA3', -0.153950745),\n",
       " ('ABL2', 'ARAF', -0.013631691),\n",
       " ('CAMK2A', 'CDK9', -0.253272909),\n",
       " ('CAMK2A', 'CIT', -0.143750542),\n",
       " ('CAMK2D', 'MAST1', -0.324268153),\n",
       " ('CDK1', 'ULK1', -0.52905292),\n",
       " ('CDK2', 'CDK6', -0.400585551),\n",
       " ('CDK2', 'MAP4K5', -0.192438285),\n",
       " ('CDK5', 'ULK1', -0.52905292),\n",
       " ('CDK9', 'CSNK2A2', -0.098766965),\n",
       " ('CIT', 'MAP4K4', -0.079724092),\n",
       " ('CIT', 'PIK3CA', -0.30978695),\n",
       " ('CSNK1E', 'MAPK1_3', -0.008386674),\n",
       " ('CSNK1E', 'TNK2', -0.294578779),\n",
       " ('LIMK1_2', 'SRPK1', -0.981818143),\n",
       " ('LIMK1_2', 'TTK', -0.241466652),\n",
       " ('MAP3K1', 'PAK1', -0.064848528),\n",
       " ('MINK1', 'PLK1', -0.1303564),\n",
       " ('RPS6KA2', 'YES1', -0.249473217),\n",
       " ('AKT1_2', 'CIT', -0.943277191),\n",
       " ('ARAF', 'CDK4', -0.086056068),\n",
       " ('CAMK2A', 'CAMK2G', -0.301492711),\n",
       " ('CDK2', 'TNK2', -0.098021881),\n",
       " ('DYRK2', 'MAP3K15', -0.404488617),\n",
       " ('DYRK2', 'MAST1', -0.404488617),\n",
       " ('MAP3K15', 'MAST1', -0.404488617),\n",
       " ('MINK1', 'PIK3CA', -0.071115921),\n",
       " ('PAK1', 'PLK1', -0.054376115),\n",
       " ('PAK1', 'TNK2', -0.047895236),\n",
       " ('PIK3CA', 'TNK2', -0.179936828),\n",
       " ('ABL2', 'YES1', -0.070603512),\n",
       " ('ARAF', 'PIK3CB', -0.1020479),\n",
       " ('CAMK2A', 'CAMK2D', -0.343437537),\n",
       " ('CAMKK2', 'RPS6KA4', -0.127422284),\n",
       " ('CAMKK2', 'YES1', -0.242265135),\n",
       " ('CDK2', 'CSNK2A2', -0.098766965),\n",
       " ('CSNK1E', 'RPS6KA2', -0.059013995),\n",
       " ('CSNK2A2', 'MAST1', -0.365545024),\n",
       " ('EIF2AK1', 'ULK1', -0.455284714),\n",
       " ('IRAK1', 'MAP4K4', -0.459543745),\n",
       " ('MAP3K3', 'RPS6KA3', -0.208135782),\n",
       " ('MAST1', 'PHKG2', -0.365545024),\n",
       " ('MINK1', 'TTK', -0.39974385),\n",
       " ('PRKCI', 'RPS6KA4', -0.220014697),\n",
       " ('STK3', 'YES1', -0.05158432),\n",
       " ('ARAF', 'CDK1', -0.107263093),\n",
       " ('ARAF', 'CDK5', -0.107263093),\n",
       " ('CAMK2G', 'CIT', -0.346217332),\n",
       " ('CAMKK2', 'EIF2AK1', -0.396567509),\n",
       " ('CAMKK2', 'TAOK1', -0.341855275),\n",
       " ('CIT', 'TAOK1', -0.341855275),\n",
       " ('CIT', 'YES1', -0.213657766),\n",
       " ('CSNK2A2', 'DYRK2', -0.341855275),\n",
       " ('CSNK2A2', 'MAP3K15', -0.341855275),\n",
       " ('CSNK2A2', 'TAOK1', -0.341855275),\n",
       " ('DYRK2', 'PHKG2', -0.341855275),\n",
       " ('DYRK2', 'TAOK1', -0.341855275),\n",
       " ('IRAK1', 'RPS6KA2', -0.283591655),\n",
       " ('MAP3K15', 'TAOK1', -0.341855275),\n",
       " ('MAST1', 'TAOK1', -0.341855275),\n",
       " ('PAK1', 'STK3', -0.131698264),\n",
       " ('PHKG2', 'TAOK1', -0.341855275),\n",
       " ('PIK3CA', 'RPS6KA2', -0.217636151),\n",
       " ('PRKACA', 'PRKCI', -0.220014697),\n",
       " ('RPS6KA2', 'TNK2', -0.220014697),\n",
       " ('TAOK1', 'TAOK3', -0.341855275),\n",
       " ('ABL2', 'ULK1', -0.301492711),\n",
       " ('AKT1_2', 'PRKCI', -0.45664712),\n",
       " ('CAMK2G', 'CDK9', -0.041343206),\n",
       " ('CDK1', 'EIF2AK1', -0.447783782),\n",
       " ('CDK2', 'MAPK1_3', -0.191757452),\n",
       " ('CDK5', 'EIF2AK1', -0.447783782),\n",
       " ('CIT', 'PAK3', -0.236892989),\n",
       " ('CIT', 'PIK3CB', -0.285707196),\n",
       " ('CIT', 'RPS6KA4', -0.124491621),\n",
       " ('CSNK2A2', 'IRAK1', -0.404488617),\n",
       " ('EIF2AK1', 'ERN1', -0.44543868),\n",
       " ('EIF2AK1', 'TAOK3', -0.325535575),\n",
       " ('IRAK1', 'MAP3K15', -0.44543868),\n",
       " ('LIMK1_2', 'SRPK3', -0.227845709),\n",
       " ('MINK1', 'PAK3', -0.501989916),\n",
       " ('PAK1', 'SRPK1', -0.493899924),\n",
       " ('PAK3', 'SRPK3', -0.099010002),\n",
       " ('PRKACA', 'PRKACB', -0.698895189),\n",
       " ('ABL2', 'ERN1', -0.152445775),\n",
       " ('ARAF', 'MAST1', -0.03202431),\n",
       " ('CAMKK2', 'MAP4K4', -0.213657766),\n",
       " ('CDK1', 'CIT', -0.394332764),\n",
       " ('CDK1', 'IRAK1', -0.466580819),\n",
       " ('CDK2', 'PAK3', -0.195836626),\n",
       " ('CDK5', 'CIT', -0.394332764),\n",
       " ('CDK5', 'IRAK1', -0.466580819),\n",
       " ('CIT', 'EIF2AK1', -0.384501219),\n",
       " ('CIT', 'PRKACA', -0.323961509),\n",
       " ('ERN1', 'MAPK1_3', -0.018033523),\n",
       " ('IRAK1', 'PHKG2', -0.393439887),\n",
       " ('LATS1', 'MAP4K5', -0.193998252),\n",
       " ('LIMK1_2', 'TNK2', -0.111305349),\n",
       " ('MAP4K4', 'RPS6KA2', -0.278937844),\n",
       " ('PIK3CA', 'PRKACA', -0.621393677),\n",
       " ('PIK3CA', 'PRKCI', -0.062204129),\n",
       " ('RPS6KA2', 'TTK', -0.037042006),\n",
       " ('CAMK2G', 'CDKL5', -0.110350935),\n",
       " ('CAMKK2', 'PRKACA', -0.109305867),\n",
       " ('CIT', 'LIMK1_2', -0.039028214),\n",
       " ('MAP4K5', 'PIK3CB', -0.058458768),\n",
       " ('PRKCI', 'TTK', -0.032791268),\n",
       " ('TAOK3', 'YES1', -0.069043089),\n",
       " ('CAMK2G', 'MINK1', -0.110350935),\n",
       " ('CDK2', 'PAK1', -0.168784011),\n",
       " ('CDK2', 'PLK1', -0.396817619),\n",
       " ('CDK6', 'TNK2', -0.093933638),\n",
       " ('CIT', 'MTOR', -0.30978695),\n",
       " ('EIF2AK1', 'IRAK1', -0.487494928),\n",
       " ('ERN1', 'PAK1', -0.206123666),\n",
       " ('IRAK1', 'YES1', -0.200751341),\n",
       " ('MTOR', 'PRKACA', -1.106332663),\n",
       " ('PAK4', 'YES1', -0.042239627),\n",
       " ('PIK3CB', 'TTK', -0.187039265),\n",
       " ('PRKACA', 'RPS6KA2', -0.170391284),\n",
       " ('ABL1', 'SRPK1', -0.294147545),\n",
       " ('ABL2', 'CSNK1E', -0.14335199),\n",
       " ('AKT1_2', 'ARAF', -0.130900572),\n",
       " ('ARAF', 'CDK6', -0.227400209),\n",
       " ('ARAF', 'LATS1', -0.158995141),\n",
       " ('CAMK2A', 'PRKCI', -0.124491621),\n",
       " ('CAMK2A', 'RPS6KA4', -0.124491621),\n",
       " ('CAMK2D', 'DYRK2', -0.058955637),\n",
       " ('CAMKK2', 'CDK1', -0.305448846),\n",
       " ('CAMKK2', 'CDK5', -0.305448846),\n",
       " ('CAMKK2', 'PAK3', -0.182309522),\n",
       " ('CAMKK2', 'PIK3CB', -0.071115921),\n",
       " ('CAMKK2', 'STK3', -0.078807699),\n",
       " ('CDK17', 'ULK1', -0.301492711),\n",
       " ('CDK2', 'LIMK1_2', -0.234489968),\n",
       " ('CDK9', 'PHKG2', -0.114821076),\n",
       " ('CSNK1E', 'PIK3CA', -0.628897431),\n",
       " ('EIF2AK1', 'MAST1', -0.221720161),\n",
       " ('IRAK1', 'PIK3CB', -0.02247403),\n",
       " ('MAPK1_3', 'PRKCI', -0.444833178),\n",
       " ('MINK1', 'PAK1', -0.39974385),\n",
       " ('PAK4', 'TNK2', -0.080517598),\n",
       " ('PHKG2', 'ULK1', -0.12826777),\n",
       " ('PIK3CB', 'TAOK3', -0.127022271),\n",
       " ('AKT1_2', 'PRKACB', -0.863583669),\n",
       " ('AKT1_2', 'RPS6KA2', -0.863583669),\n",
       " ('CAMK2G', 'CDK2', -0.202266691),\n",
       " ('CAMK2G', 'IRAK1', -0.410938865),\n",
       " ('CAMK2G', 'RPS6KA4', -0.090101161),\n",
       " ('CDK2', 'MAPK14', -0.48407819),\n",
       " ('CLK1', 'PHKG2', -0.098758206),\n",
       " ('EIF2AK1', 'MAP3K15', -0.280415575),\n",
       " ('ERN1', 'LIMK1_2', -0.057703323),\n",
       " ('IRAK1', 'MAPK1_3', -0.332390428),\n",
       " ('IRAK1', 'PDGFRB', -0.126367999),\n",
       " ('IRAK1', 'TAOK1', -0.321242323),\n",
       " ('LATS1', 'PRKACB', -0.605260988),\n",
       " ('MAP2K1', 'PIK3CA', -1.107814272),\n",
       " ('MAP3K15', 'MINK1', -0.193128794),\n",
       " ('PAK1', 'PRKACA', -0.612566278),\n",
       " ('PHKG2', 'RPS6KA2', -0.135233108),\n",
       " ('PRKACA', 'TNK2', -0.21322429),\n",
       " ('PRKCI', 'STK3', -0.210165947),\n",
       " ('PRKCI', 'TNK2', -0.233995638),\n",
       " ('RPS6KA2', 'ULK1', -0.12826777),\n",
       " ('ABL2', 'MAP3K1', -0.070603512),\n",
       " ('ABL2', 'MINK1', -0.203223561),\n",
       " ('AKT1_2', 'CDK9', -0.083615491),\n",
       " ('AKT1_2', 'CSNK1E', -0.731253535),\n",
       " ('CAMK2A', 'ERN1', -0.067723559),\n",
       " ('CAMK2A', 'TAOK3', -0.325535575),\n",
       " ('CAMK2D', 'CDKL5', -0.218377914),\n",
       " ('CAMK2D', 'PHKG2', -0.280415575),\n",
       " ('CAMK2D', 'PRKCI', -0.041343206),\n",
       " ('CAMK2G', 'TAOK3', -0.346217332),\n",
       " ('CDK1', 'CSNK1E', -0.12994806),\n",
       " ('CDK1', 'LIMK1_2', -0.408182423),\n",
       " ('CDK17', 'CDK2', -0.410938865),\n",
       " ('CDK17', 'ERN1', -0.318609087),\n",
       " ('CDK5', 'CSNK1E', -0.12994806),\n",
       " ('CDK5', 'LIMK1_2', -0.408182423),\n",
       " ('CDKL5', 'PHKG2', -0.098758206),\n",
       " ('DYRK2', 'EIF2AK1', -0.252158772),\n",
       " ('EIF2AK1', 'PHKG2', -0.252158772),\n",
       " ('PAK3', 'PIK3CA', -0.278226734),\n",
       " ('PAK3', 'RPS6KA2', -0.150717919),\n",
       " ('PRKACA', 'RPS6KA4', -0.220014697),\n",
       " ('PRKACA', 'STK3', -0.068889899),\n",
       " ('PRKACA', 'TAOK3', -0.170391284),\n",
       " ('PRKACA', 'TTK', -0.1837737),\n",
       " ('RPS6KA2', 'STK3', -0.157115128),\n",
       " ('ABL1', 'CIT', -0.305448846),\n",
       " ('AKT1_2', 'MAPK14', -0.342494595),\n",
       " ('AKT1_2', 'PAK3', -1.294830706),\n",
       " ('ARAF', 'MAP2K1', -0.174227704),\n",
       " ('ARAF', 'PHKG2', -0.06983879),\n",
       " ('CAMK2A', 'IRAK1', -0.217989379),\n",
       " ('CAMK2A', 'PHKG2', -0.301492711),\n",
       " ('CAMK2D', 'TNK2', -0.206425647),\n",
       " ('CAMK2G', 'ERN1', -0.318609087),\n",
       " ('CAMKK2', 'CDK17', -0.318609087),\n",
       " ('CAMKK2', 'CLK1', -0.083465918),\n",
       " ('CDK9', 'MAPK14', -0.136041673),\n",
       " ('CDK9', 'TTK', -0.187039265),\n",
       " ('CDKL5', 'CIT', -0.346217332),\n",
       " ('CIT', 'MAP2K1', -0.195112124),\n",
       " ('CSNK1E', 'LATS1', -0.016679729),\n",
       " ('LATS1', 'MAP3K1', -0.174811909),\n",
       " ('LATS1', 'PDGFRB', -0.164815778),\n",
       " ('LATS1', 'YES1', -0.174811909),\n",
       " ('MAP2K1', 'MAPK1_3', -1.077354868),\n",
       " ('MAP2K1', 'PDGFRB', -0.728040137),\n",
       " ('PAK3', 'PIK3CB', -0.206123666),\n",
       " ('PRKACA', 'YES1', -1.121089793),\n",
       " ('RPS6KA3', 'RPS6KA4', -0.110350935),\n",
       " ('AKT1_2', 'PIK3CB', -1.041128773),\n",
       " ('AKT1_2', 'PLK1', -0.623901139),\n",
       " ('AKT1_2', 'STK4', -0.542705784),\n",
       " ('CAMK2D', 'RPS6KA4', -0.252158772),\n",
       " ('CAMK2G', 'CDK17', -0.318609087),\n",
       " ('CAMK2G', 'CDK6', -0.383666117),\n",
       " ('CAMK2G', 'PHKG2', -0.193128794),\n",
       " ('CAMKK2', 'RPS6KA3', -0.1303564),\n",
       " ('CDK17', 'IRAK1', -0.318609087),\n",
       " ('CDK4', 'CDK6', -0.232926458),\n",
       " ('CDK9', 'EIF2AK1', -0.252158772),\n",
       " ('CDK9', 'MAP3K15', -0.252158772),\n",
       " ('CDK9', 'MAP4K5', -0.088940023),\n",
       " ('CDKL5', 'MINK1', -0.090101161),\n",
       " ('CDKL5', 'RPS6KA4', -0.090101161),\n",
       " ('CLK1', 'RPS6KA2', -0.117115307),\n",
       " ('IRAK1', 'PAK1', -0.182309522),\n",
       " ('LATS1', 'PAK3', -0.828446897),\n",
       " ('LATS1', 'RPS6KA2', -0.079025117),\n",
       " ('MINK1', 'MTOR', -0.309640254),\n",
       " ('MINK1', 'PHKG2', -0.23353525),\n",
       " ('PAK1', 'RPS6KA2', -0.367246166),\n",
       " ('PAK4', 'STK4', -0.472694347),\n",
       " ('PDGFRB', 'PIK3CA', -0.628897431),\n",
       " ('PHKG2', 'PRKACA', -0.094428681),\n",
       " ('PHKG2', 'RPS6KA3', -0.125700257),\n",
       " ('RPS6KA2', 'STK4', -0.032481365),\n",
       " ('ABL1', 'PLK1', -0.188902273),\n",
       " ('ABL2', 'PLK1', -0.280372387),\n",
       " ('ABL2', 'RPS6KA2', -0.23353525),\n",
       " ('AKT1_2', 'CDK2', -0.408182423),\n",
       " ('AKT1_2', 'ERN1', -0.674307538),\n",
       " ('AKT1_2', 'MAP3K1', -0.661890506),\n",
       " ('AKT1_2', 'MINK1', -0.621393677),\n",
       " ('AKT1_2', 'RPS6KB1', -0.91162925),\n",
       " ('CAMK2D', 'MAP3K15', -0.252158772),\n",
       " ('CAMK2D', 'MINK1', -0.23353525),\n",
       " ('CDK1', 'CDK4', -0.389957615),\n",
       " ('CDK1', 'CDK6', -0.484889573),\n",
       " ('CDK4', 'CDK5', -0.389957615),\n",
       " ('CDK5', 'CDK6', -0.484889573),\n",
       " ('CDK6', 'PLK1', -0.18599633),\n",
       " ('CDK9', 'CDKL5', -0.152338646),\n",
       " ('CDK9', 'DYRK2', -0.235171676),\n",
       " ('CDK9', 'MAPK1_3', -0.761428584),\n",
       " ('CDK9', 'SRPK3', -0.185394156),\n",
       " ('CDKL5', 'PRKACA', -0.083465918),\n",
       " ('CDKL5', 'RPS6KA2', -0.071115921),\n",
       " ('CDKL5', 'TAOK3', -0.237215763),\n",
       " ('ERN1', 'ULK1', -0.324094593),\n",
       " ('LATS1', 'MAP4K4', -0.016679729),\n",
       " ('LIMK1_2', 'MAP3K1', -0.086216752),\n",
       " ('LIMK1_2', 'PLK1', -0.269860243),\n",
       " ('MAP2K1', 'MAP3K1', -0.199962845),\n",
       " ('MAP3K3', 'YES1', -0.022523693),\n",
       " ('MAST1', 'PLK1', -0.111433109),\n",
       " ('MAST1', 'TNK2', -0.206425647),\n",
       " ('MINK1', 'PRKACA', -0.346217332),\n",
       " ('PAK1', 'PIK3CA', -0.261817759),\n",
       " ('PAK1', 'STK4', -0.336736913),\n",
       " ('PAK3', 'PRKACA', -1.294830706),\n",
       " ('PHKG2', 'PRKCI', -0.06817078),\n",
       " ('PHKG2', 'RPS6KA4', -0.136499114),\n",
       " ('PHKG2', 'YES1', -0.027652327),\n",
       " ('PIK3CA', 'STK3', -0.2055305),\n",
       " ('RPS6KA2', 'RPS6KA4', -0.174864896),\n",
       " ('ABL2', 'IRAK1', -0.301492711),\n",
       " ('ABL2', 'SIK2', -0.070603512),\n",
       " ('ARAF', 'CSNK2A2', -0.088940023),\n",
       " ('CAMK2A', 'MAP3K15', -0.280415575),\n",
       " ('CAMK2G', 'RPS6KA2', -0.1303564),\n",
       " ('CIT', 'STK3', -0.144033429),\n",
       " ('ERN1', 'MAP2K1', -0.18695915),\n",
       " ('IRAK1', 'MAP2K1', -0.360102834),\n",
       " ('IRAK1', 'PRKACA', -0.092542673),\n",
       " ('LATS1', 'MTOR', -1.597842218),\n",
       " ('LATS1', 'PAK1', -0.777439543),\n",
       " ('LATS1', 'PLK1', -0.187039265),\n",
       " ('LATS1', 'TTK', -0.187039265),\n",
       " ('MTOR', 'PIK3CB', -0.731253535),\n",
       " ('PAK1', 'PHKG2', -0.086050944),\n",
       " ('PHKG2', 'PLK1', -0.08654014),\n",
       " ('RPS6KA3', 'RPS6KA6', -0.100973633),\n",
       " ('STK4', 'YES1', -0.035525305),\n",
       " ('AKT1_2', 'TAOK3', -0.425141454),\n",
       " ('CAMK2A', 'CSNK2A2', -0.03202431),\n",
       " ('CAMK2A', 'PRKACA', -0.325535575),\n",
       " ('CAMK2G', 'MAP3K1', -0.23353525),\n",
       " ('CAMK2G', 'MAP3K15', -0.23353525),\n",
       " ('CAMK2G', 'MAP4K4', -0.23353525),\n",
       " ('CAMK2G', 'YES1', -0.155342184),\n",
       " ('CAMKK2', 'CLK2', -0.064652422),\n",
       " ('CAMKK2', 'ULK1', -0.343437537),\n",
       " ('CDK6', 'EIF2AK1', -0.327813052),\n",
       " ('CDK6', 'MAPK14', -0.162726031),\n",
       " ('CDK7', 'PHKG2', -0.06983879),\n",
       " ('CDK9', 'PIK3CB', -0.187039265),\n",
       " ('CDK9', 'RPS6KA2', -0.06000572),\n",
       " ('CDKL5', 'CLK2', -0.064652422),\n",
       " ('CDKL5', 'RPS6KA3', -0.055086156),\n",
       " ('CIT', 'MAPKAPK2', -0.264799958),\n",
       " ('CLK1', 'CLK2', -0.064652422),\n",
       " ('CLK1', 'RPS6KA3', -0.100973633),\n",
       " ('CLK2', 'PHKG2', -0.064652422),\n",
       " ('CLK2', 'RPS6KA2', -0.064652422),\n",
       " ('CSNK1E', 'CSNK2A2', -0.1422893),\n",
       " ('MAP3K1', 'SIK2', -0.111305349),\n",
       " ('MAP3K1', 'STK3', -0.065742344),\n",
       " ('MAPK1_3', 'MINK1', -0.04530061),\n",
       " ('MTOR', 'PAK3', -0.731253535),\n",
       " ('PAK4', 'PIK3CA', -0.202803164),\n",
       " ('PRKCI', 'STK4', -0.472694347),\n",
       " ('SIK2', 'YES1', -0.111305349),\n",
       " ('ABL2', 'MAP4K4', -0.23353525),\n",
       " ('AKT1_2', 'CAMKK2', -0.243756151),\n",
       " ('CAMK2A', 'CDKL5', -0.346217332),\n",
       " ('CAMK2D', 'MAPK1_3', -0.492610447),\n",
       " ('CAMK2G', 'PRKACA', -0.346217332),\n",
       " ('CDK17', 'YES1', -0.23353525),\n",
       " ('DYRK2', 'PAK2', -0.199345011),\n",
       " ('IRAK1', 'ULK1', -0.394332764),\n",
       " ('LATS1', 'LIMK1_2', -0.187039265),\n",
       " ('LATS1', 'MARK3', -0.094859167),\n",
       " ('LIMK1_2', 'TAOK3', -0.100230207),\n",
       " ('MAP3K15', 'PAK2', -0.23353525),\n",
       " ('MTOR', 'TNK2', -0.202803164),\n",
       " ('PLK1', 'RPS6KA3', -0.100973633),\n",
       " ('RPS6KA4', 'TAOK3', -0.228741674),\n",
       " ('ABL2', 'CAMK2G', -0.23353525),\n",
       " ('ABL2', 'CDK1', -0.305448846),\n",
       " ('ABL2', 'CDK5', -0.305448846),\n",
       " ('ARAF', 'CDKL5', -0.088940023),\n",
       " ('CAMK2A', 'MAST1', -0.03202431),\n",
       " ('CAMK2D', 'PRKACA', -0.346217332),\n",
       " ('CAMK2D', 'RPS6KA2', -0.06000572),\n",
       " ('CDK17', 'CSNK1E', -0.318311876),\n",
       " ('CDK17', 'MAP4K4', -0.23353525),\n",
       " ('CDK17', 'RPS6KA2', -0.23353525),\n",
       " ('CDK2', 'CDKL5', -0.088940023),\n",
       " ('CDK6', 'PRKACA', -0.252158772),\n",
       " ('CDK6', 'RPS6KA2', -0.318311876),\n",
       " ('CDK6', 'ULK1', -0.334846889),\n",
       " ('CDK9', 'PRKACA', -0.253571105),\n",
       " ('CDKL5', 'MAP4K5', -0.088940023),\n",
       " ('CIT', 'ULK1', -0.321934908),\n",
       " ('CLK1', 'ULK1', -0.104730196),\n",
       " ('LIMK1_2', 'PRKACB', -0.187039265),\n",
       " ('MAP3K1', 'PAK4', -0.027652327),\n",
       " ('MAP3K1', 'PRKACA', -0.187039265),\n",
       " ('MAP4K4', 'SIK2', -0.23353525),\n",
       " ('MTOR', 'PAK1', -0.309640254),\n",
       " ('MTOR', 'PRKACB', -1.294830706),\n",
       " ('PAK1', 'PIK3CB', -0.159662705),\n",
       " ('PHKG2', 'STK3', -0.068889899),\n",
       " ('PIK3CB', 'PRKACA', -0.187039265),\n",
       " ('RPS6KA3', 'TAOK3', -0.144033429),\n",
       " ('RPS6KA4', 'STK3', -0.100973633),\n",
       " ('RPS6KB1', 'STK4', -0.786807887),\n",
       " ('RPS6KB1', 'TNK2', -0.786807887),\n",
       " ('TAOK3', 'ULK1', -0.182911029),\n",
       " ('ABL1', 'TAOK3', -0.305448846),\n",
       " ('CAMK2A', 'EIF2AK1', -0.23353525),\n",
       " ('CAMK2G', 'PLK1', -0.100973633),\n",
       " ('CAMK2G', 'SIK2', -0.23353525),\n",
       " ('CAMKK2', 'SIK2', -0.23353525),\n",
       " ('CDK1', 'CDK17', -0.328016489),\n",
       " ('CDK17', 'CDK5', -0.328016489),\n",
       " ('CIT', 'RPS6KB1', -0.621393677),\n",
       " ('CLK1', 'PLK1', -0.100973633),\n",
       " ('ERN1', 'SIK2', -0.23353525),\n",
       " ('IRAK1', 'SIK2', -0.23353525),\n",
       " ('MAP4K5', 'PHKG2', -0.03202431),\n",
       " ('RPS6KA6', 'ULK1', -0.116745598)]"
      ]
     },
     "execution_count": 349,
     "metadata": {},
     "output_type": "execute_result"
    }
   ],
   "source": [
    "print(all_kin_no_com[0])\n",
    "print(all_kin_no_com_edges[0])\n",
    "negative_edges[0]"
   ]
  },
  {
   "cell_type": "markdown",
   "metadata": {},
   "source": [
    "### MEK/ERK communities contents"
   ]
  },
  {
   "cell_type": "code",
   "execution_count": 181,
   "metadata": {},
   "outputs": [],
   "source": [
    "#Community containing MAP2K1 in the trametinib(MEK)[-] network (column 1 , negative z-scores)\n",
    "#Community containing MAPK1_3 in the GDC0994(ERK)[-] network (column 4, negative z-scores)\n",
    "MEK_ERKcom = [target_communities[0],target_communities[3]]\n",
    "#Separate kinases in networks trametinib(MEK)[-] and GDC0994(ERK)[-] into:\n",
    "#Kinases not present in the community of interest of that network\n",
    "MEK_ERKnonc = [[x for x in negative_nodes[0] if x not in target_communities[0]],[x for x in negative_nodes[3] if x not in target_communities[3]]]\n",
    "#Kinases present in both communities\n",
    "MEK_ERKallc = [x for x in target_communities[0] if x in target_communities[3]]\n",
    "MEK_ERKallc = [MEK_ERKallc,MEK_ERKallc]\n",
    "#Kinases present in one of the communities, but not the other\n",
    "MEK_ERKinc = [[x for x in target_communities[0] if x not in target_communities[3]],[x for x in target_communities[3] if x not in target_communities[0]]]\n"
   ]
  },
  {
   "cell_type": "markdown",
   "metadata": {},
   "source": [
    "### PIK3CA/AKT communities contents"
   ]
  },
  {
   "cell_type": "code",
   "execution_count": 182,
   "metadata": {},
   "outputs": [],
   "source": [
    "#Community containing PIK3CA in the GDC0941(PI3K)[-] network (column 2, negative z-scores)\n",
    "#Community containing AKT1_2 in the AZD5363(AKT)[-] network (column 3, negative z-scores)\n",
    "PI3K_AKTcom = [target_communities[1], target_communities[2]]\n",
    "#Separate kinases in networks GDC0941(PI3K)[-] and AZD5363(AKT)[-] into:\n",
    "#Kinases not present in the community of interest of that network\n",
    "PI3K_AKTnonc = [[x for x in negative_nodes[1] if x not in target_communities[1]],[x for x in negative_nodes[2] if x not in target_communities[2]]]\n",
    "#Kinases present in both communities\n",
    "PI3K_AKTallc = [x for x in target_communities[1] if x in target_communities[2]]\n",
    "PI3K_AKTallc = [PI3K_AKTallc, PI3K_AKTallc]\n",
    "#Kinases present in one of the communities, but not the other\n",
    "PI3K_AKTinc = [[x for x in target_communities[1] if x not in target_communities[2]],[x for x in target_communities[2] if x not in target_communities[1]]]"
   ]
  },
  {
   "cell_type": "markdown",
   "metadata": {},
   "source": [
    "### Intersection and differences between communities"
   ]
  },
  {
   "cell_type": "code",
   "execution_count": 183,
   "metadata": {},
   "outputs": [],
   "source": [
    "nonc = [MEK_ERKnonc[0],PI3K_AKTnonc[0],PI3K_AKTnonc[1],MEK_ERKnonc[1]]\n",
    "allc = [MEK_ERKallc[0],PI3K_AKTallc[0],PI3K_AKTallc[1],MEK_ERKallc[1]]\n",
    "inc = [MEK_ERKinc[0],PI3K_AKTinc[0],PI3K_AKTinc[1],MEK_ERKinc[1]]\n",
    "        \n",
    "kinase_groups = list(zip(nonc,allc,inc))\n",
    "kinase_int = list(zip(allc,inc))"
   ]
  },
  {
   "cell_type": "markdown",
   "metadata": {},
   "source": [
    "### Target of each treatment and the community identified containing that target "
   ]
  },
  {
   "cell_type": "code",
   "execution_count": 184,
   "metadata": {},
   "outputs": [
    {
     "name": "stdout",
     "output_type": "stream",
     "text": [
      "MEK.Trametinib_vs_Control\n",
      "['PIK3CA', 'MAP2K1', 'PRKACB', 'RPS6KA2', 'MAP3K1', 'MAPK1_3', 'MINK1', 'PIK3CB', 'AKT1_2', 'PDGFRB', 'PRKACA', 'PRKCI', 'YES1', 'CSNK1E', 'TTK', 'PLK1', 'TNK2', 'RPS6KB1', 'PAK3', 'PAK1', 'MTOR', 'LATS1', 'STK4']\n",
      "PI3K.GDC0941_vs_Control\n",
      "[['CIT', 'CSNK1E', 'PRKCI', 'ABL1', 'LIMK1_2', 'PAK1', 'PAK3', 'PLK1', 'PIK3CA', 'TTK', 'MAP3K1', 'MAPK14', 'LATS1', 'TNK2', 'MAP4K5', 'MINK1', 'RPS6KA2', 'SRPK1', 'MTOR', 'YES1', 'PDGFRB', 'MAP2K1', 'STK3', 'AKT1_2', 'PRKACA', 'PAK4', 'PIK3CB', 'PRKACB', 'MAPKAPK2', 'RPS6KB1']]\n",
      "AKT.AZD5363_vs_Control\n",
      "[['CIT', 'MAP4K5', 'CDK2', 'CSNK1E', 'MINK1', 'SRPK1', 'PRKCI', 'ABL1', 'LIMK1_2', 'PAK1', 'PAK3', 'PLK1', 'TTK', 'PIK3CA', 'MAPK14', 'PIK3CB', 'LATS1', 'TNK2', 'MAP3K1', 'MTOR', 'AKT1_2', 'PRKACA', 'PRKACB', 'MAPKAPK2', 'RPS6KB1']]\n",
      "ERK.GDC0994_vs_Control\n",
      "[['MAPK1_3', 'PDGFRB', 'SRPK3', 'CDK9', 'TNK2', 'ARAF', 'MAP2K1', 'PRKCI', 'ROCK1_2']]\n"
     ]
    }
   ],
   "source": [
    "#Show the community contents of the selected communities in networks trametinib(MAP2K1)[-], GDC0941(PI3K)[-],\n",
    "#AZD5363(AKT)[-] and GDC0994(MAPK1_3), in that particular order\n",
    "for n in range(len(target_communities)):\n",
    "    print(treatments[n])\n",
    "    print(target_communities[n])"
   ]
  },
  {
   "cell_type": "markdown",
   "metadata": {},
   "source": [
    "## 2.2 - Network visualizations of networks trametinib(MAP2K1)[-], GDC0994(MAPK1_3), GDC0941(PI3K)[-], and AZD5363(AKT)[-]"
   ]
  },
  {
   "cell_type": "code",
   "execution_count": 23,
   "metadata": {},
   "outputs": [],
   "source": [
    "for n in range(len(target_communities)):\n",
    "    networkgraph = network_visualization(edges_list=negative_edges[n],kinases=kinase_groups[n],kg_colors=[\"#fcbb8b\", \"#857be3\", \"#baeeff\"], treatment=treatments[n])\n",
    "    "
   ]
  },
  {
   "cell_type": "markdown",
   "metadata": {},
   "source": [
    "## 2.3 - Network visualization of intersection between the selected communities of  trametinib(MAP2K1)[-], GDC0941(PI3K)[-] and AZD5363(AKT)[-]"
   ]
  },
  {
   "cell_type": "code",
   "execution_count": 185,
   "metadata": {},
   "outputs": [],
   "source": [
    "#Kinases present in the selected community of network trametinib(MAP2K1)[-], but not in the selected communities of \n",
    "#networks GDC0941(PIK3CA)[-] and AZD5363(AKT1_2)[-]\n",
    "#MAP2K1only = [x for x in communities[0] if x not in communities[1] and x not in communities[2]]\n",
    "#Kinases present accross the selected communities of networks trametinib(MAP2K1)[-], GDC0941(PIK3CA)[-] and AZD5363(AKT1_2)[-]\n",
    "intersection = [x for x in target_communities[0] if x in target_communities[1] and x in target_communities[2]]\n",
    "#Kinases present accross the selected communities of networks trametinib(MAP2K1)[-] and GDC0941(PIK3CA)[-], but not in the\n",
    "#selected community of network AZD5363(AKT)[-]\n",
    "MAP2K1_PIK3CA = [x for x in target_communities[0] if x in target_communities[1] and x not in target_communities[2]]\n",
    "#Kinases present accross the selected communities of networks AZD5363(AKT)[-] and GDC0941(PIK3CA)[-] but not trametinib(MAP2K1)[-]\n",
    "#and kinases present only in the selected communities of GDC0941(PIK3CA)[-] and AZD5363(AKT1_2)[-] networks\n",
    "#therest = [[x for x in communities[3] if x in communities[2] and x not in communities[0]],[x for x in communities[3] if x not in communities[2] and x not in communities[0]], [x for x in communities[2] if x not in communities[3] and x not in communities[0]]]\n",
    "\n",
    "kinase_groups = MAP2K1_PIK3CA, intersection\n",
    "kinases = list(itertools.chain(*kinase_groups))\n",
    "#Store kinase interactions across the three networks in which the two kinases are in any of the selected communities\n",
    "#edges = negative_edges[0] + negative_edges[1] + negative_edges[2]\n",
    "#edges = [(a,b,0) for a,b,c in edges if a in kinases and b in kinases]\n",
    "edges = [ [(a,b) for a,b,c in negative_edges[n]] for n in [0,1,2] ]\n",
    "edges = set(edges[0]).intersection(edges[1], edges[2])\n",
    "edges = [(a,b) for a,b in edges if a in kinases and b in kinases]\n",
    "\n",
    "#Intersection of communities visualized as a network\n",
    "networkgraph= network_visualization(edges_list=edges,kinases=kinase_groups,kg_colors=[\"#fcbb8b\", \"#857be3\", \"#baeeff\",\"green\"], treatment='intersection_MAP2K1_PIK3CA_AKT')\n"
   ]
  },
  {
   "cell_type": "markdown",
   "metadata": {},
   "source": [
    "## 2.4 - Community strength of the kinases in each of the selected communities of networks trametinib(MAP2K1)[-], GDC0941(PI3K)[-],AZD5363(AKT)[-] and GDC0994(MAPK1_3), visualized in heatmaps"
   ]
  },
  {
   "cell_type": "code",
   "execution_count": 200,
   "metadata": {},
   "outputs": [
    {
     "name": "stdout",
     "output_type": "stream",
     "text": [
      "1\n"
     ]
    },
    {
     "ename": "TypeError",
     "evalue": "unhashable type: 'list'",
     "output_type": "error",
     "traceback": [
      "\u001b[0;31m---------------------------------------------------------------------------\u001b[0m",
      "\u001b[0;31mTypeError\u001b[0m                                 Traceback (most recent call last)",
      "Cell \u001b[0;32mIn [200], line 17\u001b[0m\n\u001b[1;32m     15\u001b[0m \u001b[38;5;28mprint\u001b[39m(n)\n\u001b[1;32m     16\u001b[0m \u001b[38;5;66;03m#kin_cs[n] = {kin:abs(round(sum([community_edges[n][2] for n in range(len(community_edges)) if community_edges[n][1]==kin or community_edges[n][0]==kin]), 2)) for kin in communities[na]}  \u001b[39;00m\n\u001b[0;32m---> 17\u001b[0m kin_cs[n] \u001b[38;5;241m=\u001b[39m {kin:\u001b[38;5;124m'\u001b[39m\u001b[38;5;124mx\u001b[39m\u001b[38;5;124m'\u001b[39m \u001b[38;5;28;01mfor\u001b[39;00m kin \u001b[38;5;129;01min\u001b[39;00m communities[na]}\n\u001b[1;32m     19\u001b[0m kin_cs\n",
      "Cell \u001b[0;32mIn [200], line 17\u001b[0m, in \u001b[0;36m<dictcomp>\u001b[0;34m(.0)\u001b[0m\n\u001b[1;32m     15\u001b[0m \u001b[38;5;28mprint\u001b[39m(n)\n\u001b[1;32m     16\u001b[0m \u001b[38;5;66;03m#kin_cs[n] = {kin:abs(round(sum([community_edges[n][2] for n in range(len(community_edges)) if community_edges[n][1]==kin or community_edges[n][0]==kin]), 2)) for kin in communities[na]}  \u001b[39;00m\n\u001b[0;32m---> 17\u001b[0m kin_cs[n] \u001b[38;5;241m=\u001b[39m {kin:\u001b[38;5;124m'\u001b[39m\u001b[38;5;124mx\u001b[39m\u001b[38;5;124m'\u001b[39m \u001b[38;5;28;01mfor\u001b[39;00m kin \u001b[38;5;129;01min\u001b[39;00m communities[na]}\n\u001b[1;32m     19\u001b[0m kin_cs\n",
      "\u001b[0;31mTypeError\u001b[0m: unhashable type: 'list'"
     ]
    }
   ],
   "source": [
    "treat_int=[0,3]\n",
    "edges=negative_edges\n",
    "communities=target_communities\n",
    "treatments=treatments\n",
    "\n",
    "#Calculate the community strength of each of the kinases in the two selected communities you are comparing\n",
    "kin_cs = ['a'] * len(treat_int)\n",
    "\n",
    "n=1\n",
    "#for n in range(len(treat_int)):\n",
    "na = treat_int[n]\n",
    "# Store kinase pairs in which both kinases are in the community of interest\n",
    "community_edges = [x for x in edges[na] if x[0] in communities[na] and x[1] in communities[na]]\n",
    "# Calculate the community strength of each of the kinases in the community and store as dictionary\n",
    "print(n)\n",
    "#kin_cs[n] = {kin:abs(round(sum([community_edges[n][2] for n in range(len(community_edges)) if community_edges[n][1]==kin or community_edges[n][0]==kin]), 2)) for kin in communities[na]}  \n",
    "kin_cs[n] = {kin:'x' for kin in communities[na]}\n",
    "\n",
    "kin_cs\n"
   ]
  },
  {
   "cell_type": "code",
   "execution_count": null,
   "metadata": {},
   "outputs": [],
   "source": [
    "treat_int=[0,3]\n",
    "edges=negative_edges\n",
    "communities=target_communities\n",
    "treatments=treatments\n",
    "\n",
    "#Calculate the community strength of each of the kinases in the two selected communities you are comparing\n",
    "kin_cs = ['a'] * len(treat_int)\n",
    "for n in range(len(treat_int)):\n",
    "    na = treat_int[n]\n",
    "    # Store kinase pairs in which both kinases are in the community of interest\n",
    "    community_edges = [x for x in edges[na] if x[0] in communities[na] and x[1] in communities[na]]\n",
    "    # Calculate the community strength of each of the kinases in the community and store as dictionary\n",
    "    kin_cs[n] = {kin:abs(round(sum([community_edges[n][2] for n in range(len(community_edges)) if community_edges[n][1]==kin or community_edges[n][0]==kin]), 2)) for kin in communities[na]}    \n",
    "    \n",
    "#Combine two communities lists\n",
    "kinases = list(dict.fromkeys(communities[treat_int[0]]+communities[treat_int[1]]))\n",
    "#Get values for each of the kinases in the combined list in each of the communities\n",
    "#If kinase is not in the community then the value is None\n",
    "values = [[kin_cs[n][kin] if kin in communities[treat_int[n]] else None for kin in kinases]for n in [0,1]]\n",
    "    \n",
    "#Define heatmap axis and text\n",
    "x = kinases\n",
    "y = [ treatments[na]+'<br>community CS</br>' for na in treat_int]\n",
    "z = [values[0],values[1]]\n",
    "\n"
   ]
  },
  {
   "cell_type": "code",
   "execution_count": 240,
   "metadata": {},
   "outputs": [
    {
     "data": {
      "application/vnd.plotly.v1+json": {
       "config": {
        "plotlyServerURL": "https://plot.ly"
       },
       "data": [
        {
         "hoverongaps": false,
         "type": "heatmap",
         "x": [
          "PIK3CA",
          "MAP2K1",
          "PRKACB",
          "RPS6KA2",
          "MAP3K1",
          "MAPK1_3",
          "MINK1",
          "PIK3CB",
          "AKT1_2",
          "PDGFRB",
          "PRKACA",
          "PRKCI",
          "YES1",
          "CSNK1E",
          "TTK",
          "PLK1",
          "TNK2",
          "RPS6KB1",
          "PAK3",
          "PAK1",
          "MTOR",
          "LATS1",
          "STK4",
          "SRPK3",
          "CDK9",
          "ARAF",
          "ROCK1_2"
         ],
         "y": [
          "MEK.Trametinib_vs_Control<br>community CS</br>",
          "ERK.GDC0994_vs_Control<br>community CS</br>"
         ],
         "yaxis": "y2",
         "z": [
          [
           5.41,
           6.85,
           3.46,
           2.9,
           1.74,
           2.75,
           2.83,
           2.58,
           12.56,
           1.95,
           8.25,
           2.36,
           1.69,
           2.2,
           3.32,
           2.21,
           8.14,
           2.49,
           6.13,
           3.86,
           7.82,
           6,
           2.21,
           null,
           null,
           null,
           null
          ],
          [
           null,
           2.05,
           null,
           null,
           null,
           4.24,
           null,
           null,
           null,
           1.66,
           null,
           1.05,
           null,
           null,
           null,
           null,
           3.28,
           null,
           null,
           null,
           null,
           null,
           null,
           0.33,
           1.03,
           0.73,
           0.37
          ]
         ]
        }
       ],
       "layout": {
        "template": {
         "data": {
          "bar": [
           {
            "error_x": {
             "color": "#2a3f5f"
            },
            "error_y": {
             "color": "#2a3f5f"
            },
            "marker": {
             "line": {
              "color": "#E5ECF6",
              "width": 0.5
             },
             "pattern": {
              "fillmode": "overlay",
              "size": 10,
              "solidity": 0.2
             }
            },
            "type": "bar"
           }
          ],
          "barpolar": [
           {
            "marker": {
             "line": {
              "color": "#E5ECF6",
              "width": 0.5
             },
             "pattern": {
              "fillmode": "overlay",
              "size": 10,
              "solidity": 0.2
             }
            },
            "type": "barpolar"
           }
          ],
          "carpet": [
           {
            "aaxis": {
             "endlinecolor": "#2a3f5f",
             "gridcolor": "white",
             "linecolor": "white",
             "minorgridcolor": "white",
             "startlinecolor": "#2a3f5f"
            },
            "baxis": {
             "endlinecolor": "#2a3f5f",
             "gridcolor": "white",
             "linecolor": "white",
             "minorgridcolor": "white",
             "startlinecolor": "#2a3f5f"
            },
            "type": "carpet"
           }
          ],
          "choropleth": [
           {
            "colorbar": {
             "outlinewidth": 0,
             "ticks": ""
            },
            "type": "choropleth"
           }
          ],
          "contour": [
           {
            "colorbar": {
             "outlinewidth": 0,
             "ticks": ""
            },
            "colorscale": [
             [
              0,
              "#0d0887"
             ],
             [
              0.1111111111111111,
              "#46039f"
             ],
             [
              0.2222222222222222,
              "#7201a8"
             ],
             [
              0.3333333333333333,
              "#9c179e"
             ],
             [
              0.4444444444444444,
              "#bd3786"
             ],
             [
              0.5555555555555556,
              "#d8576b"
             ],
             [
              0.6666666666666666,
              "#ed7953"
             ],
             [
              0.7777777777777778,
              "#fb9f3a"
             ],
             [
              0.8888888888888888,
              "#fdca26"
             ],
             [
              1,
              "#f0f921"
             ]
            ],
            "type": "contour"
           }
          ],
          "contourcarpet": [
           {
            "colorbar": {
             "outlinewidth": 0,
             "ticks": ""
            },
            "type": "contourcarpet"
           }
          ],
          "heatmap": [
           {
            "colorbar": {
             "outlinewidth": 0,
             "ticks": ""
            },
            "colorscale": [
             [
              0,
              "#0d0887"
             ],
             [
              0.1111111111111111,
              "#46039f"
             ],
             [
              0.2222222222222222,
              "#7201a8"
             ],
             [
              0.3333333333333333,
              "#9c179e"
             ],
             [
              0.4444444444444444,
              "#bd3786"
             ],
             [
              0.5555555555555556,
              "#d8576b"
             ],
             [
              0.6666666666666666,
              "#ed7953"
             ],
             [
              0.7777777777777778,
              "#fb9f3a"
             ],
             [
              0.8888888888888888,
              "#fdca26"
             ],
             [
              1,
              "#f0f921"
             ]
            ],
            "type": "heatmap"
           }
          ],
          "heatmapgl": [
           {
            "colorbar": {
             "outlinewidth": 0,
             "ticks": ""
            },
            "colorscale": [
             [
              0,
              "#0d0887"
             ],
             [
              0.1111111111111111,
              "#46039f"
             ],
             [
              0.2222222222222222,
              "#7201a8"
             ],
             [
              0.3333333333333333,
              "#9c179e"
             ],
             [
              0.4444444444444444,
              "#bd3786"
             ],
             [
              0.5555555555555556,
              "#d8576b"
             ],
             [
              0.6666666666666666,
              "#ed7953"
             ],
             [
              0.7777777777777778,
              "#fb9f3a"
             ],
             [
              0.8888888888888888,
              "#fdca26"
             ],
             [
              1,
              "#f0f921"
             ]
            ],
            "type": "heatmapgl"
           }
          ],
          "histogram": [
           {
            "marker": {
             "pattern": {
              "fillmode": "overlay",
              "size": 10,
              "solidity": 0.2
             }
            },
            "type": "histogram"
           }
          ],
          "histogram2d": [
           {
            "colorbar": {
             "outlinewidth": 0,
             "ticks": ""
            },
            "colorscale": [
             [
              0,
              "#0d0887"
             ],
             [
              0.1111111111111111,
              "#46039f"
             ],
             [
              0.2222222222222222,
              "#7201a8"
             ],
             [
              0.3333333333333333,
              "#9c179e"
             ],
             [
              0.4444444444444444,
              "#bd3786"
             ],
             [
              0.5555555555555556,
              "#d8576b"
             ],
             [
              0.6666666666666666,
              "#ed7953"
             ],
             [
              0.7777777777777778,
              "#fb9f3a"
             ],
             [
              0.8888888888888888,
              "#fdca26"
             ],
             [
              1,
              "#f0f921"
             ]
            ],
            "type": "histogram2d"
           }
          ],
          "histogram2dcontour": [
           {
            "colorbar": {
             "outlinewidth": 0,
             "ticks": ""
            },
            "colorscale": [
             [
              0,
              "#0d0887"
             ],
             [
              0.1111111111111111,
              "#46039f"
             ],
             [
              0.2222222222222222,
              "#7201a8"
             ],
             [
              0.3333333333333333,
              "#9c179e"
             ],
             [
              0.4444444444444444,
              "#bd3786"
             ],
             [
              0.5555555555555556,
              "#d8576b"
             ],
             [
              0.6666666666666666,
              "#ed7953"
             ],
             [
              0.7777777777777778,
              "#fb9f3a"
             ],
             [
              0.8888888888888888,
              "#fdca26"
             ],
             [
              1,
              "#f0f921"
             ]
            ],
            "type": "histogram2dcontour"
           }
          ],
          "mesh3d": [
           {
            "colorbar": {
             "outlinewidth": 0,
             "ticks": ""
            },
            "type": "mesh3d"
           }
          ],
          "parcoords": [
           {
            "line": {
             "colorbar": {
              "outlinewidth": 0,
              "ticks": ""
             }
            },
            "type": "parcoords"
           }
          ],
          "pie": [
           {
            "automargin": true,
            "type": "pie"
           }
          ],
          "scatter": [
           {
            "fillpattern": {
             "fillmode": "overlay",
             "size": 10,
             "solidity": 0.2
            },
            "type": "scatter"
           }
          ],
          "scatter3d": [
           {
            "line": {
             "colorbar": {
              "outlinewidth": 0,
              "ticks": ""
             }
            },
            "marker": {
             "colorbar": {
              "outlinewidth": 0,
              "ticks": ""
             }
            },
            "type": "scatter3d"
           }
          ],
          "scattercarpet": [
           {
            "marker": {
             "colorbar": {
              "outlinewidth": 0,
              "ticks": ""
             }
            },
            "type": "scattercarpet"
           }
          ],
          "scattergeo": [
           {
            "marker": {
             "colorbar": {
              "outlinewidth": 0,
              "ticks": ""
             }
            },
            "type": "scattergeo"
           }
          ],
          "scattergl": [
           {
            "marker": {
             "colorbar": {
              "outlinewidth": 0,
              "ticks": ""
             }
            },
            "type": "scattergl"
           }
          ],
          "scattermapbox": [
           {
            "marker": {
             "colorbar": {
              "outlinewidth": 0,
              "ticks": ""
             }
            },
            "type": "scattermapbox"
           }
          ],
          "scatterpolar": [
           {
            "marker": {
             "colorbar": {
              "outlinewidth": 0,
              "ticks": ""
             }
            },
            "type": "scatterpolar"
           }
          ],
          "scatterpolargl": [
           {
            "marker": {
             "colorbar": {
              "outlinewidth": 0,
              "ticks": ""
             }
            },
            "type": "scatterpolargl"
           }
          ],
          "scatterternary": [
           {
            "marker": {
             "colorbar": {
              "outlinewidth": 0,
              "ticks": ""
             }
            },
            "type": "scatterternary"
           }
          ],
          "surface": [
           {
            "colorbar": {
             "outlinewidth": 0,
             "ticks": ""
            },
            "colorscale": [
             [
              0,
              "#0d0887"
             ],
             [
              0.1111111111111111,
              "#46039f"
             ],
             [
              0.2222222222222222,
              "#7201a8"
             ],
             [
              0.3333333333333333,
              "#9c179e"
             ],
             [
              0.4444444444444444,
              "#bd3786"
             ],
             [
              0.5555555555555556,
              "#d8576b"
             ],
             [
              0.6666666666666666,
              "#ed7953"
             ],
             [
              0.7777777777777778,
              "#fb9f3a"
             ],
             [
              0.8888888888888888,
              "#fdca26"
             ],
             [
              1,
              "#f0f921"
             ]
            ],
            "type": "surface"
           }
          ],
          "table": [
           {
            "cells": {
             "fill": {
              "color": "#EBF0F8"
             },
             "line": {
              "color": "white"
             }
            },
            "header": {
             "fill": {
              "color": "#C8D4E3"
             },
             "line": {
              "color": "white"
             }
            },
            "type": "table"
           }
          ]
         },
         "layout": {
          "annotationdefaults": {
           "arrowcolor": "#2a3f5f",
           "arrowhead": 0,
           "arrowwidth": 1
          },
          "autotypenumbers": "strict",
          "coloraxis": {
           "colorbar": {
            "outlinewidth": 0,
            "ticks": ""
           }
          },
          "colorscale": {
           "diverging": [
            [
             0,
             "#8e0152"
            ],
            [
             0.1,
             "#c51b7d"
            ],
            [
             0.2,
             "#de77ae"
            ],
            [
             0.3,
             "#f1b6da"
            ],
            [
             0.4,
             "#fde0ef"
            ],
            [
             0.5,
             "#f7f7f7"
            ],
            [
             0.6,
             "#e6f5d0"
            ],
            [
             0.7,
             "#b8e186"
            ],
            [
             0.8,
             "#7fbc41"
            ],
            [
             0.9,
             "#4d9221"
            ],
            [
             1,
             "#276419"
            ]
           ],
           "sequential": [
            [
             0,
             "#0d0887"
            ],
            [
             0.1111111111111111,
             "#46039f"
            ],
            [
             0.2222222222222222,
             "#7201a8"
            ],
            [
             0.3333333333333333,
             "#9c179e"
            ],
            [
             0.4444444444444444,
             "#bd3786"
            ],
            [
             0.5555555555555556,
             "#d8576b"
            ],
            [
             0.6666666666666666,
             "#ed7953"
            ],
            [
             0.7777777777777778,
             "#fb9f3a"
            ],
            [
             0.8888888888888888,
             "#fdca26"
            ],
            [
             1,
             "#f0f921"
            ]
           ],
           "sequentialminus": [
            [
             0,
             "#0d0887"
            ],
            [
             0.1111111111111111,
             "#46039f"
            ],
            [
             0.2222222222222222,
             "#7201a8"
            ],
            [
             0.3333333333333333,
             "#9c179e"
            ],
            [
             0.4444444444444444,
             "#bd3786"
            ],
            [
             0.5555555555555556,
             "#d8576b"
            ],
            [
             0.6666666666666666,
             "#ed7953"
            ],
            [
             0.7777777777777778,
             "#fb9f3a"
            ],
            [
             0.8888888888888888,
             "#fdca26"
            ],
            [
             1,
             "#f0f921"
            ]
           ]
          },
          "colorway": [
           "#636efa",
           "#EF553B",
           "#00cc96",
           "#ab63fa",
           "#FFA15A",
           "#19d3f3",
           "#FF6692",
           "#B6E880",
           "#FF97FF",
           "#FECB52"
          ],
          "font": {
           "color": "#2a3f5f"
          },
          "geo": {
           "bgcolor": "white",
           "lakecolor": "white",
           "landcolor": "#E5ECF6",
           "showlakes": true,
           "showland": true,
           "subunitcolor": "white"
          },
          "hoverlabel": {
           "align": "left"
          },
          "hovermode": "closest",
          "mapbox": {
           "style": "light"
          },
          "paper_bgcolor": "white",
          "plot_bgcolor": "#E5ECF6",
          "polar": {
           "angularaxis": {
            "gridcolor": "white",
            "linecolor": "white",
            "ticks": ""
           },
           "bgcolor": "#E5ECF6",
           "radialaxis": {
            "gridcolor": "white",
            "linecolor": "white",
            "ticks": ""
           }
          },
          "scene": {
           "xaxis": {
            "backgroundcolor": "#E5ECF6",
            "gridcolor": "white",
            "gridwidth": 2,
            "linecolor": "white",
            "showbackground": true,
            "ticks": "",
            "zerolinecolor": "white"
           },
           "yaxis": {
            "backgroundcolor": "#E5ECF6",
            "gridcolor": "white",
            "gridwidth": 2,
            "linecolor": "white",
            "showbackground": true,
            "ticks": "",
            "zerolinecolor": "white"
           },
           "zaxis": {
            "backgroundcolor": "#E5ECF6",
            "gridcolor": "white",
            "gridwidth": 2,
            "linecolor": "white",
            "showbackground": true,
            "ticks": "",
            "zerolinecolor": "white"
           }
          },
          "shapedefaults": {
           "line": {
            "color": "#2a3f5f"
           }
          },
          "ternary": {
           "aaxis": {
            "gridcolor": "white",
            "linecolor": "white",
            "ticks": ""
           },
           "baxis": {
            "gridcolor": "white",
            "linecolor": "white",
            "ticks": ""
           },
           "bgcolor": "#E5ECF6",
           "caxis": {
            "gridcolor": "white",
            "linecolor": "white",
            "ticks": ""
           }
          },
          "title": {
           "x": 0.05
          },
          "xaxis": {
           "automargin": true,
           "gridcolor": "white",
           "linecolor": "white",
           "ticks": "",
           "title": {
            "standoff": 15
           },
           "zerolinecolor": "white",
           "zerolinewidth": 2
          },
          "yaxis": {
           "automargin": true,
           "gridcolor": "white",
           "linecolor": "white",
           "ticks": "",
           "title": {
            "standoff": 15
           },
           "zerolinecolor": "white",
           "zerolinewidth": 2
          }
         }
        },
        "xaxis": {
         "domain": [
          0.21,
          1
         ]
        },
        "yaxis2": {
         "anchor": "free",
         "position": 0,
         "side": "right"
        }
       }
      },
      "text/html": [
       "<div>                            <div id=\"09130907-7786-46ea-8005-e17517b62d3f\" class=\"plotly-graph-div\" style=\"height:525px; width:100%;\"></div>            <script type=\"text/javascript\">                require([\"plotly\"], function(Plotly) {                    window.PLOTLYENV=window.PLOTLYENV || {};                                    if (document.getElementById(\"09130907-7786-46ea-8005-e17517b62d3f\")) {                    Plotly.newPlot(                        \"09130907-7786-46ea-8005-e17517b62d3f\",                        [{\"hoverongaps\":false,\"x\":[\"PIK3CA\",\"MAP2K1\",\"PRKACB\",\"RPS6KA2\",\"MAP3K1\",\"MAPK1_3\",\"MINK1\",\"PIK3CB\",\"AKT1_2\",\"PDGFRB\",\"PRKACA\",\"PRKCI\",\"YES1\",\"CSNK1E\",\"TTK\",\"PLK1\",\"TNK2\",\"RPS6KB1\",\"PAK3\",\"PAK1\",\"MTOR\",\"LATS1\",\"STK4\",\"SRPK3\",\"CDK9\",\"ARAF\",\"ROCK1_2\"],\"y\":[\"MEK.Trametinib_vs_Control<br>community CS</br>\",\"ERK.GDC0994_vs_Control<br>community CS</br>\"],\"yaxis\":\"y2\",\"z\":[[5.41,6.85,3.46,2.9,1.74,2.75,2.83,2.58,12.56,1.95,8.25,2.36,1.69,2.2,3.32,2.21,8.14,2.49,6.13,3.86,7.82,6.0,2.21,null,null,null,null],[null,2.05,null,null,null,4.24,null,null,null,1.66,null,1.05,null,null,null,null,3.28,null,null,null,null,null,null,0.33,1.03,0.73,0.37]],\"type\":\"heatmap\"}],                        {\"template\":{\"data\":{\"histogram2dcontour\":[{\"type\":\"histogram2dcontour\",\"colorbar\":{\"outlinewidth\":0,\"ticks\":\"\"},\"colorscale\":[[0.0,\"#0d0887\"],[0.1111111111111111,\"#46039f\"],[0.2222222222222222,\"#7201a8\"],[0.3333333333333333,\"#9c179e\"],[0.4444444444444444,\"#bd3786\"],[0.5555555555555556,\"#d8576b\"],[0.6666666666666666,\"#ed7953\"],[0.7777777777777778,\"#fb9f3a\"],[0.8888888888888888,\"#fdca26\"],[1.0,\"#f0f921\"]]}],\"choropleth\":[{\"type\":\"choropleth\",\"colorbar\":{\"outlinewidth\":0,\"ticks\":\"\"}}],\"histogram2d\":[{\"type\":\"histogram2d\",\"colorbar\":{\"outlinewidth\":0,\"ticks\":\"\"},\"colorscale\":[[0.0,\"#0d0887\"],[0.1111111111111111,\"#46039f\"],[0.2222222222222222,\"#7201a8\"],[0.3333333333333333,\"#9c179e\"],[0.4444444444444444,\"#bd3786\"],[0.5555555555555556,\"#d8576b\"],[0.6666666666666666,\"#ed7953\"],[0.7777777777777778,\"#fb9f3a\"],[0.8888888888888888,\"#fdca26\"],[1.0,\"#f0f921\"]]}],\"heatmap\":[{\"type\":\"heatmap\",\"colorbar\":{\"outlinewidth\":0,\"ticks\":\"\"},\"colorscale\":[[0.0,\"#0d0887\"],[0.1111111111111111,\"#46039f\"],[0.2222222222222222,\"#7201a8\"],[0.3333333333333333,\"#9c179e\"],[0.4444444444444444,\"#bd3786\"],[0.5555555555555556,\"#d8576b\"],[0.6666666666666666,\"#ed7953\"],[0.7777777777777778,\"#fb9f3a\"],[0.8888888888888888,\"#fdca26\"],[1.0,\"#f0f921\"]]}],\"heatmapgl\":[{\"type\":\"heatmapgl\",\"colorbar\":{\"outlinewidth\":0,\"ticks\":\"\"},\"colorscale\":[[0.0,\"#0d0887\"],[0.1111111111111111,\"#46039f\"],[0.2222222222222222,\"#7201a8\"],[0.3333333333333333,\"#9c179e\"],[0.4444444444444444,\"#bd3786\"],[0.5555555555555556,\"#d8576b\"],[0.6666666666666666,\"#ed7953\"],[0.7777777777777778,\"#fb9f3a\"],[0.8888888888888888,\"#fdca26\"],[1.0,\"#f0f921\"]]}],\"contourcarpet\":[{\"type\":\"contourcarpet\",\"colorbar\":{\"outlinewidth\":0,\"ticks\":\"\"}}],\"contour\":[{\"type\":\"contour\",\"colorbar\":{\"outlinewidth\":0,\"ticks\":\"\"},\"colorscale\":[[0.0,\"#0d0887\"],[0.1111111111111111,\"#46039f\"],[0.2222222222222222,\"#7201a8\"],[0.3333333333333333,\"#9c179e\"],[0.4444444444444444,\"#bd3786\"],[0.5555555555555556,\"#d8576b\"],[0.6666666666666666,\"#ed7953\"],[0.7777777777777778,\"#fb9f3a\"],[0.8888888888888888,\"#fdca26\"],[1.0,\"#f0f921\"]]}],\"surface\":[{\"type\":\"surface\",\"colorbar\":{\"outlinewidth\":0,\"ticks\":\"\"},\"colorscale\":[[0.0,\"#0d0887\"],[0.1111111111111111,\"#46039f\"],[0.2222222222222222,\"#7201a8\"],[0.3333333333333333,\"#9c179e\"],[0.4444444444444444,\"#bd3786\"],[0.5555555555555556,\"#d8576b\"],[0.6666666666666666,\"#ed7953\"],[0.7777777777777778,\"#fb9f3a\"],[0.8888888888888888,\"#fdca26\"],[1.0,\"#f0f921\"]]}],\"mesh3d\":[{\"type\":\"mesh3d\",\"colorbar\":{\"outlinewidth\":0,\"ticks\":\"\"}}],\"scatter\":[{\"fillpattern\":{\"fillmode\":\"overlay\",\"size\":10,\"solidity\":0.2},\"type\":\"scatter\"}],\"parcoords\":[{\"type\":\"parcoords\",\"line\":{\"colorbar\":{\"outlinewidth\":0,\"ticks\":\"\"}}}],\"scatterpolargl\":[{\"type\":\"scatterpolargl\",\"marker\":{\"colorbar\":{\"outlinewidth\":0,\"ticks\":\"\"}}}],\"bar\":[{\"error_x\":{\"color\":\"#2a3f5f\"},\"error_y\":{\"color\":\"#2a3f5f\"},\"marker\":{\"line\":{\"color\":\"#E5ECF6\",\"width\":0.5},\"pattern\":{\"fillmode\":\"overlay\",\"size\":10,\"solidity\":0.2}},\"type\":\"bar\"}],\"scattergeo\":[{\"type\":\"scattergeo\",\"marker\":{\"colorbar\":{\"outlinewidth\":0,\"ticks\":\"\"}}}],\"scatterpolar\":[{\"type\":\"scatterpolar\",\"marker\":{\"colorbar\":{\"outlinewidth\":0,\"ticks\":\"\"}}}],\"histogram\":[{\"marker\":{\"pattern\":{\"fillmode\":\"overlay\",\"size\":10,\"solidity\":0.2}},\"type\":\"histogram\"}],\"scattergl\":[{\"type\":\"scattergl\",\"marker\":{\"colorbar\":{\"outlinewidth\":0,\"ticks\":\"\"}}}],\"scatter3d\":[{\"type\":\"scatter3d\",\"line\":{\"colorbar\":{\"outlinewidth\":0,\"ticks\":\"\"}},\"marker\":{\"colorbar\":{\"outlinewidth\":0,\"ticks\":\"\"}}}],\"scattermapbox\":[{\"type\":\"scattermapbox\",\"marker\":{\"colorbar\":{\"outlinewidth\":0,\"ticks\":\"\"}}}],\"scatterternary\":[{\"type\":\"scatterternary\",\"marker\":{\"colorbar\":{\"outlinewidth\":0,\"ticks\":\"\"}}}],\"scattercarpet\":[{\"type\":\"scattercarpet\",\"marker\":{\"colorbar\":{\"outlinewidth\":0,\"ticks\":\"\"}}}],\"carpet\":[{\"aaxis\":{\"endlinecolor\":\"#2a3f5f\",\"gridcolor\":\"white\",\"linecolor\":\"white\",\"minorgridcolor\":\"white\",\"startlinecolor\":\"#2a3f5f\"},\"baxis\":{\"endlinecolor\":\"#2a3f5f\",\"gridcolor\":\"white\",\"linecolor\":\"white\",\"minorgridcolor\":\"white\",\"startlinecolor\":\"#2a3f5f\"},\"type\":\"carpet\"}],\"table\":[{\"cells\":{\"fill\":{\"color\":\"#EBF0F8\"},\"line\":{\"color\":\"white\"}},\"header\":{\"fill\":{\"color\":\"#C8D4E3\"},\"line\":{\"color\":\"white\"}},\"type\":\"table\"}],\"barpolar\":[{\"marker\":{\"line\":{\"color\":\"#E5ECF6\",\"width\":0.5},\"pattern\":{\"fillmode\":\"overlay\",\"size\":10,\"solidity\":0.2}},\"type\":\"barpolar\"}],\"pie\":[{\"automargin\":true,\"type\":\"pie\"}]},\"layout\":{\"autotypenumbers\":\"strict\",\"colorway\":[\"#636efa\",\"#EF553B\",\"#00cc96\",\"#ab63fa\",\"#FFA15A\",\"#19d3f3\",\"#FF6692\",\"#B6E880\",\"#FF97FF\",\"#FECB52\"],\"font\":{\"color\":\"#2a3f5f\"},\"hovermode\":\"closest\",\"hoverlabel\":{\"align\":\"left\"},\"paper_bgcolor\":\"white\",\"plot_bgcolor\":\"#E5ECF6\",\"polar\":{\"bgcolor\":\"#E5ECF6\",\"angularaxis\":{\"gridcolor\":\"white\",\"linecolor\":\"white\",\"ticks\":\"\"},\"radialaxis\":{\"gridcolor\":\"white\",\"linecolor\":\"white\",\"ticks\":\"\"}},\"ternary\":{\"bgcolor\":\"#E5ECF6\",\"aaxis\":{\"gridcolor\":\"white\",\"linecolor\":\"white\",\"ticks\":\"\"},\"baxis\":{\"gridcolor\":\"white\",\"linecolor\":\"white\",\"ticks\":\"\"},\"caxis\":{\"gridcolor\":\"white\",\"linecolor\":\"white\",\"ticks\":\"\"}},\"coloraxis\":{\"colorbar\":{\"outlinewidth\":0,\"ticks\":\"\"}},\"colorscale\":{\"sequential\":[[0.0,\"#0d0887\"],[0.1111111111111111,\"#46039f\"],[0.2222222222222222,\"#7201a8\"],[0.3333333333333333,\"#9c179e\"],[0.4444444444444444,\"#bd3786\"],[0.5555555555555556,\"#d8576b\"],[0.6666666666666666,\"#ed7953\"],[0.7777777777777778,\"#fb9f3a\"],[0.8888888888888888,\"#fdca26\"],[1.0,\"#f0f921\"]],\"sequentialminus\":[[0.0,\"#0d0887\"],[0.1111111111111111,\"#46039f\"],[0.2222222222222222,\"#7201a8\"],[0.3333333333333333,\"#9c179e\"],[0.4444444444444444,\"#bd3786\"],[0.5555555555555556,\"#d8576b\"],[0.6666666666666666,\"#ed7953\"],[0.7777777777777778,\"#fb9f3a\"],[0.8888888888888888,\"#fdca26\"],[1.0,\"#f0f921\"]],\"diverging\":[[0,\"#8e0152\"],[0.1,\"#c51b7d\"],[0.2,\"#de77ae\"],[0.3,\"#f1b6da\"],[0.4,\"#fde0ef\"],[0.5,\"#f7f7f7\"],[0.6,\"#e6f5d0\"],[0.7,\"#b8e186\"],[0.8,\"#7fbc41\"],[0.9,\"#4d9221\"],[1,\"#276419\"]]},\"xaxis\":{\"gridcolor\":\"white\",\"linecolor\":\"white\",\"ticks\":\"\",\"title\":{\"standoff\":15},\"zerolinecolor\":\"white\",\"automargin\":true,\"zerolinewidth\":2},\"yaxis\":{\"gridcolor\":\"white\",\"linecolor\":\"white\",\"ticks\":\"\",\"title\":{\"standoff\":15},\"zerolinecolor\":\"white\",\"automargin\":true,\"zerolinewidth\":2},\"scene\":{\"xaxis\":{\"backgroundcolor\":\"#E5ECF6\",\"gridcolor\":\"white\",\"linecolor\":\"white\",\"showbackground\":true,\"ticks\":\"\",\"zerolinecolor\":\"white\",\"gridwidth\":2},\"yaxis\":{\"backgroundcolor\":\"#E5ECF6\",\"gridcolor\":\"white\",\"linecolor\":\"white\",\"showbackground\":true,\"ticks\":\"\",\"zerolinecolor\":\"white\",\"gridwidth\":2},\"zaxis\":{\"backgroundcolor\":\"#E5ECF6\",\"gridcolor\":\"white\",\"linecolor\":\"white\",\"showbackground\":true,\"ticks\":\"\",\"zerolinecolor\":\"white\",\"gridwidth\":2}},\"shapedefaults\":{\"line\":{\"color\":\"#2a3f5f\"}},\"annotationdefaults\":{\"arrowcolor\":\"#2a3f5f\",\"arrowhead\":0,\"arrowwidth\":1},\"geo\":{\"bgcolor\":\"white\",\"landcolor\":\"#E5ECF6\",\"subunitcolor\":\"white\",\"showland\":true,\"showlakes\":true,\"lakecolor\":\"white\"},\"title\":{\"x\":0.05},\"mapbox\":{\"style\":\"light\"}}},\"xaxis\":{\"domain\":[0.21,1]},\"yaxis2\":{\"anchor\":\"free\",\"position\":0,\"side\":\"right\"}},                        {\"responsive\": true}                    ).then(function(){\n",
       "                            \n",
       "var gd = document.getElementById('09130907-7786-46ea-8005-e17517b62d3f');\n",
       "var x = new MutationObserver(function (mutations, observer) {{\n",
       "        var display = window.getComputedStyle(gd).display;\n",
       "        if (!display || display === 'none') {{\n",
       "            console.log([gd, 'removed!']);\n",
       "            Plotly.purge(gd);\n",
       "            observer.disconnect();\n",
       "        }}\n",
       "}});\n",
       "\n",
       "// Listen for the removal of the full notebook cells\n",
       "var notebookContainer = gd.closest('#notebook-container');\n",
       "if (notebookContainer) {{\n",
       "    x.observe(notebookContainer, {childList: true});\n",
       "}}\n",
       "\n",
       "// Listen for the clearing of the current output cell\n",
       "var outputEl = gd.closest('.output');\n",
       "if (outputEl) {{\n",
       "    x.observe(outputEl, {childList: true});\n",
       "}}\n",
       "\n",
       "                        })                };                });            </script>        </div>"
      ]
     },
     "metadata": {},
     "output_type": "display_data"
    }
   ],
   "source": [
    "#trametinib(MAP2K1)[-] and GDC0994(MAPK1_3)\n",
    "[x1,y1,z1] = cs_calculation(treat_int=[0,3], edges=negative_edges, communities=target_communities, treatments=treatments)\n",
    "\n",
    "# HEATMAP\n",
    "fig = go.Figure(data=go.Heatmap(\n",
    "                z=z1,\n",
    "                x=x1,\n",
    "                y=y1,\n",
    "                yaxis='y2',\n",
    "                hoverongaps = False))\n",
    "\n",
    "fig.update_layout(xaxis=dict(domain=[0.21,1]),\n",
    "                  yaxis2=dict(anchor='free', position= 0, side='right'))\n",
    "\n",
    "\n",
    "fig.show()\n"
   ]
  },
  {
   "cell_type": "code",
   "execution_count": 211,
   "metadata": {},
   "outputs": [
    {
     "data": {
      "application/vnd.plotly.v1+json": {
       "config": {
        "plotlyServerURL": "https://plot.ly"
       },
       "data": [
        {
         "hoverongaps": false,
         "type": "heatmap",
         "x": [
          "CIT",
          "CSNK1E",
          "PRKCI",
          "ABL1",
          "LIMK1_2",
          "PAK1",
          "PAK3",
          "PLK1",
          "PIK3CA",
          "TTK",
          "MAP3K1",
          "MAPK14",
          "LATS1",
          "TNK2",
          "MAP4K5",
          "MINK1",
          "RPS6KA2",
          "SRPK1",
          "MTOR",
          "YES1",
          "PDGFRB",
          "MAP2K1",
          "STK3",
          "AKT1_2",
          "PRKACA",
          "PAK4",
          "PIK3CB",
          "PRKACB",
          "MAPKAPK2",
          "RPS6KB1",
          "CDK2"
         ],
         "y": [
          "PI3K.GDC0941_vs_Control<sub>community CS</sub>",
          "AKT.AZD5363_vs_Control<sub>community CS</sub>"
         ],
         "z": [
          [
           15.15,
           5,
           6.03,
           12.39,
           18.09,
           18.56,
           15.25,
           9.75,
           38.57,
           30.59,
           7,
           3.12,
           15.38,
           14.14,
           6.08,
           13.05,
           4.09,
           11.12,
           29.05,
           12.92,
           3.47,
           4.69,
           6.33,
           35.89,
           15.71,
           7.37,
           6.56,
           8.5,
           7.82,
           4.22,
           null
          ],
          [
           18.75,
           6.22,
           5.01,
           8.86,
           30.72,
           4.87,
           11.87,
           7.48,
           45.47,
           28.07,
           4.22,
           2.28,
           14,
           4.92,
           4.47,
           10.76,
           null,
           7.54,
           27.88,
           null,
           null,
           null,
           null,
           43.31,
           14.64,
           null,
           8.56,
           7.08,
           6.81,
           3.34,
           5.15
          ]
         ]
        }
       ],
       "layout": {
        "template": {
         "data": {
          "bar": [
           {
            "error_x": {
             "color": "#2a3f5f"
            },
            "error_y": {
             "color": "#2a3f5f"
            },
            "marker": {
             "line": {
              "color": "#E5ECF6",
              "width": 0.5
             },
             "pattern": {
              "fillmode": "overlay",
              "size": 10,
              "solidity": 0.2
             }
            },
            "type": "bar"
           }
          ],
          "barpolar": [
           {
            "marker": {
             "line": {
              "color": "#E5ECF6",
              "width": 0.5
             },
             "pattern": {
              "fillmode": "overlay",
              "size": 10,
              "solidity": 0.2
             }
            },
            "type": "barpolar"
           }
          ],
          "carpet": [
           {
            "aaxis": {
             "endlinecolor": "#2a3f5f",
             "gridcolor": "white",
             "linecolor": "white",
             "minorgridcolor": "white",
             "startlinecolor": "#2a3f5f"
            },
            "baxis": {
             "endlinecolor": "#2a3f5f",
             "gridcolor": "white",
             "linecolor": "white",
             "minorgridcolor": "white",
             "startlinecolor": "#2a3f5f"
            },
            "type": "carpet"
           }
          ],
          "choropleth": [
           {
            "colorbar": {
             "outlinewidth": 0,
             "ticks": ""
            },
            "type": "choropleth"
           }
          ],
          "contour": [
           {
            "colorbar": {
             "outlinewidth": 0,
             "ticks": ""
            },
            "colorscale": [
             [
              0,
              "#0d0887"
             ],
             [
              0.1111111111111111,
              "#46039f"
             ],
             [
              0.2222222222222222,
              "#7201a8"
             ],
             [
              0.3333333333333333,
              "#9c179e"
             ],
             [
              0.4444444444444444,
              "#bd3786"
             ],
             [
              0.5555555555555556,
              "#d8576b"
             ],
             [
              0.6666666666666666,
              "#ed7953"
             ],
             [
              0.7777777777777778,
              "#fb9f3a"
             ],
             [
              0.8888888888888888,
              "#fdca26"
             ],
             [
              1,
              "#f0f921"
             ]
            ],
            "type": "contour"
           }
          ],
          "contourcarpet": [
           {
            "colorbar": {
             "outlinewidth": 0,
             "ticks": ""
            },
            "type": "contourcarpet"
           }
          ],
          "heatmap": [
           {
            "colorbar": {
             "outlinewidth": 0,
             "ticks": ""
            },
            "colorscale": [
             [
              0,
              "#0d0887"
             ],
             [
              0.1111111111111111,
              "#46039f"
             ],
             [
              0.2222222222222222,
              "#7201a8"
             ],
             [
              0.3333333333333333,
              "#9c179e"
             ],
             [
              0.4444444444444444,
              "#bd3786"
             ],
             [
              0.5555555555555556,
              "#d8576b"
             ],
             [
              0.6666666666666666,
              "#ed7953"
             ],
             [
              0.7777777777777778,
              "#fb9f3a"
             ],
             [
              0.8888888888888888,
              "#fdca26"
             ],
             [
              1,
              "#f0f921"
             ]
            ],
            "type": "heatmap"
           }
          ],
          "heatmapgl": [
           {
            "colorbar": {
             "outlinewidth": 0,
             "ticks": ""
            },
            "colorscale": [
             [
              0,
              "#0d0887"
             ],
             [
              0.1111111111111111,
              "#46039f"
             ],
             [
              0.2222222222222222,
              "#7201a8"
             ],
             [
              0.3333333333333333,
              "#9c179e"
             ],
             [
              0.4444444444444444,
              "#bd3786"
             ],
             [
              0.5555555555555556,
              "#d8576b"
             ],
             [
              0.6666666666666666,
              "#ed7953"
             ],
             [
              0.7777777777777778,
              "#fb9f3a"
             ],
             [
              0.8888888888888888,
              "#fdca26"
             ],
             [
              1,
              "#f0f921"
             ]
            ],
            "type": "heatmapgl"
           }
          ],
          "histogram": [
           {
            "marker": {
             "pattern": {
              "fillmode": "overlay",
              "size": 10,
              "solidity": 0.2
             }
            },
            "type": "histogram"
           }
          ],
          "histogram2d": [
           {
            "colorbar": {
             "outlinewidth": 0,
             "ticks": ""
            },
            "colorscale": [
             [
              0,
              "#0d0887"
             ],
             [
              0.1111111111111111,
              "#46039f"
             ],
             [
              0.2222222222222222,
              "#7201a8"
             ],
             [
              0.3333333333333333,
              "#9c179e"
             ],
             [
              0.4444444444444444,
              "#bd3786"
             ],
             [
              0.5555555555555556,
              "#d8576b"
             ],
             [
              0.6666666666666666,
              "#ed7953"
             ],
             [
              0.7777777777777778,
              "#fb9f3a"
             ],
             [
              0.8888888888888888,
              "#fdca26"
             ],
             [
              1,
              "#f0f921"
             ]
            ],
            "type": "histogram2d"
           }
          ],
          "histogram2dcontour": [
           {
            "colorbar": {
             "outlinewidth": 0,
             "ticks": ""
            },
            "colorscale": [
             [
              0,
              "#0d0887"
             ],
             [
              0.1111111111111111,
              "#46039f"
             ],
             [
              0.2222222222222222,
              "#7201a8"
             ],
             [
              0.3333333333333333,
              "#9c179e"
             ],
             [
              0.4444444444444444,
              "#bd3786"
             ],
             [
              0.5555555555555556,
              "#d8576b"
             ],
             [
              0.6666666666666666,
              "#ed7953"
             ],
             [
              0.7777777777777778,
              "#fb9f3a"
             ],
             [
              0.8888888888888888,
              "#fdca26"
             ],
             [
              1,
              "#f0f921"
             ]
            ],
            "type": "histogram2dcontour"
           }
          ],
          "mesh3d": [
           {
            "colorbar": {
             "outlinewidth": 0,
             "ticks": ""
            },
            "type": "mesh3d"
           }
          ],
          "parcoords": [
           {
            "line": {
             "colorbar": {
              "outlinewidth": 0,
              "ticks": ""
             }
            },
            "type": "parcoords"
           }
          ],
          "pie": [
           {
            "automargin": true,
            "type": "pie"
           }
          ],
          "scatter": [
           {
            "fillpattern": {
             "fillmode": "overlay",
             "size": 10,
             "solidity": 0.2
            },
            "type": "scatter"
           }
          ],
          "scatter3d": [
           {
            "line": {
             "colorbar": {
              "outlinewidth": 0,
              "ticks": ""
             }
            },
            "marker": {
             "colorbar": {
              "outlinewidth": 0,
              "ticks": ""
             }
            },
            "type": "scatter3d"
           }
          ],
          "scattercarpet": [
           {
            "marker": {
             "colorbar": {
              "outlinewidth": 0,
              "ticks": ""
             }
            },
            "type": "scattercarpet"
           }
          ],
          "scattergeo": [
           {
            "marker": {
             "colorbar": {
              "outlinewidth": 0,
              "ticks": ""
             }
            },
            "type": "scattergeo"
           }
          ],
          "scattergl": [
           {
            "marker": {
             "colorbar": {
              "outlinewidth": 0,
              "ticks": ""
             }
            },
            "type": "scattergl"
           }
          ],
          "scattermapbox": [
           {
            "marker": {
             "colorbar": {
              "outlinewidth": 0,
              "ticks": ""
             }
            },
            "type": "scattermapbox"
           }
          ],
          "scatterpolar": [
           {
            "marker": {
             "colorbar": {
              "outlinewidth": 0,
              "ticks": ""
             }
            },
            "type": "scatterpolar"
           }
          ],
          "scatterpolargl": [
           {
            "marker": {
             "colorbar": {
              "outlinewidth": 0,
              "ticks": ""
             }
            },
            "type": "scatterpolargl"
           }
          ],
          "scatterternary": [
           {
            "marker": {
             "colorbar": {
              "outlinewidth": 0,
              "ticks": ""
             }
            },
            "type": "scatterternary"
           }
          ],
          "surface": [
           {
            "colorbar": {
             "outlinewidth": 0,
             "ticks": ""
            },
            "colorscale": [
             [
              0,
              "#0d0887"
             ],
             [
              0.1111111111111111,
              "#46039f"
             ],
             [
              0.2222222222222222,
              "#7201a8"
             ],
             [
              0.3333333333333333,
              "#9c179e"
             ],
             [
              0.4444444444444444,
              "#bd3786"
             ],
             [
              0.5555555555555556,
              "#d8576b"
             ],
             [
              0.6666666666666666,
              "#ed7953"
             ],
             [
              0.7777777777777778,
              "#fb9f3a"
             ],
             [
              0.8888888888888888,
              "#fdca26"
             ],
             [
              1,
              "#f0f921"
             ]
            ],
            "type": "surface"
           }
          ],
          "table": [
           {
            "cells": {
             "fill": {
              "color": "#EBF0F8"
             },
             "line": {
              "color": "white"
             }
            },
            "header": {
             "fill": {
              "color": "#C8D4E3"
             },
             "line": {
              "color": "white"
             }
            },
            "type": "table"
           }
          ]
         },
         "layout": {
          "annotationdefaults": {
           "arrowcolor": "#2a3f5f",
           "arrowhead": 0,
           "arrowwidth": 1
          },
          "autotypenumbers": "strict",
          "coloraxis": {
           "colorbar": {
            "outlinewidth": 0,
            "ticks": ""
           }
          },
          "colorscale": {
           "diverging": [
            [
             0,
             "#8e0152"
            ],
            [
             0.1,
             "#c51b7d"
            ],
            [
             0.2,
             "#de77ae"
            ],
            [
             0.3,
             "#f1b6da"
            ],
            [
             0.4,
             "#fde0ef"
            ],
            [
             0.5,
             "#f7f7f7"
            ],
            [
             0.6,
             "#e6f5d0"
            ],
            [
             0.7,
             "#b8e186"
            ],
            [
             0.8,
             "#7fbc41"
            ],
            [
             0.9,
             "#4d9221"
            ],
            [
             1,
             "#276419"
            ]
           ],
           "sequential": [
            [
             0,
             "#0d0887"
            ],
            [
             0.1111111111111111,
             "#46039f"
            ],
            [
             0.2222222222222222,
             "#7201a8"
            ],
            [
             0.3333333333333333,
             "#9c179e"
            ],
            [
             0.4444444444444444,
             "#bd3786"
            ],
            [
             0.5555555555555556,
             "#d8576b"
            ],
            [
             0.6666666666666666,
             "#ed7953"
            ],
            [
             0.7777777777777778,
             "#fb9f3a"
            ],
            [
             0.8888888888888888,
             "#fdca26"
            ],
            [
             1,
             "#f0f921"
            ]
           ],
           "sequentialminus": [
            [
             0,
             "#0d0887"
            ],
            [
             0.1111111111111111,
             "#46039f"
            ],
            [
             0.2222222222222222,
             "#7201a8"
            ],
            [
             0.3333333333333333,
             "#9c179e"
            ],
            [
             0.4444444444444444,
             "#bd3786"
            ],
            [
             0.5555555555555556,
             "#d8576b"
            ],
            [
             0.6666666666666666,
             "#ed7953"
            ],
            [
             0.7777777777777778,
             "#fb9f3a"
            ],
            [
             0.8888888888888888,
             "#fdca26"
            ],
            [
             1,
             "#f0f921"
            ]
           ]
          },
          "colorway": [
           "#636efa",
           "#EF553B",
           "#00cc96",
           "#ab63fa",
           "#FFA15A",
           "#19d3f3",
           "#FF6692",
           "#B6E880",
           "#FF97FF",
           "#FECB52"
          ],
          "font": {
           "color": "#2a3f5f"
          },
          "geo": {
           "bgcolor": "white",
           "lakecolor": "white",
           "landcolor": "#E5ECF6",
           "showlakes": true,
           "showland": true,
           "subunitcolor": "white"
          },
          "hoverlabel": {
           "align": "left"
          },
          "hovermode": "closest",
          "mapbox": {
           "style": "light"
          },
          "paper_bgcolor": "white",
          "plot_bgcolor": "#E5ECF6",
          "polar": {
           "angularaxis": {
            "gridcolor": "white",
            "linecolor": "white",
            "ticks": ""
           },
           "bgcolor": "#E5ECF6",
           "radialaxis": {
            "gridcolor": "white",
            "linecolor": "white",
            "ticks": ""
           }
          },
          "scene": {
           "xaxis": {
            "backgroundcolor": "#E5ECF6",
            "gridcolor": "white",
            "gridwidth": 2,
            "linecolor": "white",
            "showbackground": true,
            "ticks": "",
            "zerolinecolor": "white"
           },
           "yaxis": {
            "backgroundcolor": "#E5ECF6",
            "gridcolor": "white",
            "gridwidth": 2,
            "linecolor": "white",
            "showbackground": true,
            "ticks": "",
            "zerolinecolor": "white"
           },
           "zaxis": {
            "backgroundcolor": "#E5ECF6",
            "gridcolor": "white",
            "gridwidth": 2,
            "linecolor": "white",
            "showbackground": true,
            "ticks": "",
            "zerolinecolor": "white"
           }
          },
          "shapedefaults": {
           "line": {
            "color": "#2a3f5f"
           }
          },
          "ternary": {
           "aaxis": {
            "gridcolor": "white",
            "linecolor": "white",
            "ticks": ""
           },
           "baxis": {
            "gridcolor": "white",
            "linecolor": "white",
            "ticks": ""
           },
           "bgcolor": "#E5ECF6",
           "caxis": {
            "gridcolor": "white",
            "linecolor": "white",
            "ticks": ""
           }
          },
          "title": {
           "x": 0.05
          },
          "xaxis": {
           "automargin": true,
           "gridcolor": "white",
           "linecolor": "white",
           "ticks": "",
           "title": {
            "standoff": 15
           },
           "zerolinecolor": "white",
           "zerolinewidth": 2
          },
          "yaxis": {
           "automargin": true,
           "gridcolor": "white",
           "linecolor": "white",
           "ticks": "",
           "title": {
            "standoff": 15
           },
           "zerolinecolor": "white",
           "zerolinewidth": 2
          }
         }
        }
       }
      },
      "text/html": [
       "<div>                            <div id=\"5e12cf16-0082-49c5-8c80-53cd7bd0c635\" class=\"plotly-graph-div\" style=\"height:525px; width:100%;\"></div>            <script type=\"text/javascript\">                require([\"plotly\"], function(Plotly) {                    window.PLOTLYENV=window.PLOTLYENV || {};                                    if (document.getElementById(\"5e12cf16-0082-49c5-8c80-53cd7bd0c635\")) {                    Plotly.newPlot(                        \"5e12cf16-0082-49c5-8c80-53cd7bd0c635\",                        [{\"hoverongaps\":false,\"x\":[\"CIT\",\"CSNK1E\",\"PRKCI\",\"ABL1\",\"LIMK1_2\",\"PAK1\",\"PAK3\",\"PLK1\",\"PIK3CA\",\"TTK\",\"MAP3K1\",\"MAPK14\",\"LATS1\",\"TNK2\",\"MAP4K5\",\"MINK1\",\"RPS6KA2\",\"SRPK1\",\"MTOR\",\"YES1\",\"PDGFRB\",\"MAP2K1\",\"STK3\",\"AKT1_2\",\"PRKACA\",\"PAK4\",\"PIK3CB\",\"PRKACB\",\"MAPKAPK2\",\"RPS6KB1\",\"CDK2\"],\"y\":[\"PI3K.GDC0941_vs_Control<sub>community CS</sub>\",\"AKT.AZD5363_vs_Control<sub>community CS</sub>\"],\"z\":[[15.15,5.0,6.03,12.39,18.09,18.56,15.25,9.75,38.57,30.59,7.0,3.12,15.38,14.14,6.08,13.05,4.09,11.12,29.05,12.92,3.47,4.69,6.33,35.89,15.71,7.37,6.56,8.5,7.82,4.22,null],[18.75,6.22,5.01,8.86,30.72,4.87,11.87,7.48,45.47,28.07,4.22,2.28,14.0,4.92,4.47,10.76,null,7.54,27.88,null,null,null,null,43.31,14.64,null,8.56,7.08,6.81,3.34,5.15]],\"type\":\"heatmap\"}],                        {\"template\":{\"data\":{\"histogram2dcontour\":[{\"type\":\"histogram2dcontour\",\"colorbar\":{\"outlinewidth\":0,\"ticks\":\"\"},\"colorscale\":[[0.0,\"#0d0887\"],[0.1111111111111111,\"#46039f\"],[0.2222222222222222,\"#7201a8\"],[0.3333333333333333,\"#9c179e\"],[0.4444444444444444,\"#bd3786\"],[0.5555555555555556,\"#d8576b\"],[0.6666666666666666,\"#ed7953\"],[0.7777777777777778,\"#fb9f3a\"],[0.8888888888888888,\"#fdca26\"],[1.0,\"#f0f921\"]]}],\"choropleth\":[{\"type\":\"choropleth\",\"colorbar\":{\"outlinewidth\":0,\"ticks\":\"\"}}],\"histogram2d\":[{\"type\":\"histogram2d\",\"colorbar\":{\"outlinewidth\":0,\"ticks\":\"\"},\"colorscale\":[[0.0,\"#0d0887\"],[0.1111111111111111,\"#46039f\"],[0.2222222222222222,\"#7201a8\"],[0.3333333333333333,\"#9c179e\"],[0.4444444444444444,\"#bd3786\"],[0.5555555555555556,\"#d8576b\"],[0.6666666666666666,\"#ed7953\"],[0.7777777777777778,\"#fb9f3a\"],[0.8888888888888888,\"#fdca26\"],[1.0,\"#f0f921\"]]}],\"heatmap\":[{\"type\":\"heatmap\",\"colorbar\":{\"outlinewidth\":0,\"ticks\":\"\"},\"colorscale\":[[0.0,\"#0d0887\"],[0.1111111111111111,\"#46039f\"],[0.2222222222222222,\"#7201a8\"],[0.3333333333333333,\"#9c179e\"],[0.4444444444444444,\"#bd3786\"],[0.5555555555555556,\"#d8576b\"],[0.6666666666666666,\"#ed7953\"],[0.7777777777777778,\"#fb9f3a\"],[0.8888888888888888,\"#fdca26\"],[1.0,\"#f0f921\"]]}],\"heatmapgl\":[{\"type\":\"heatmapgl\",\"colorbar\":{\"outlinewidth\":0,\"ticks\":\"\"},\"colorscale\":[[0.0,\"#0d0887\"],[0.1111111111111111,\"#46039f\"],[0.2222222222222222,\"#7201a8\"],[0.3333333333333333,\"#9c179e\"],[0.4444444444444444,\"#bd3786\"],[0.5555555555555556,\"#d8576b\"],[0.6666666666666666,\"#ed7953\"],[0.7777777777777778,\"#fb9f3a\"],[0.8888888888888888,\"#fdca26\"],[1.0,\"#f0f921\"]]}],\"contourcarpet\":[{\"type\":\"contourcarpet\",\"colorbar\":{\"outlinewidth\":0,\"ticks\":\"\"}}],\"contour\":[{\"type\":\"contour\",\"colorbar\":{\"outlinewidth\":0,\"ticks\":\"\"},\"colorscale\":[[0.0,\"#0d0887\"],[0.1111111111111111,\"#46039f\"],[0.2222222222222222,\"#7201a8\"],[0.3333333333333333,\"#9c179e\"],[0.4444444444444444,\"#bd3786\"],[0.5555555555555556,\"#d8576b\"],[0.6666666666666666,\"#ed7953\"],[0.7777777777777778,\"#fb9f3a\"],[0.8888888888888888,\"#fdca26\"],[1.0,\"#f0f921\"]]}],\"surface\":[{\"type\":\"surface\",\"colorbar\":{\"outlinewidth\":0,\"ticks\":\"\"},\"colorscale\":[[0.0,\"#0d0887\"],[0.1111111111111111,\"#46039f\"],[0.2222222222222222,\"#7201a8\"],[0.3333333333333333,\"#9c179e\"],[0.4444444444444444,\"#bd3786\"],[0.5555555555555556,\"#d8576b\"],[0.6666666666666666,\"#ed7953\"],[0.7777777777777778,\"#fb9f3a\"],[0.8888888888888888,\"#fdca26\"],[1.0,\"#f0f921\"]]}],\"mesh3d\":[{\"type\":\"mesh3d\",\"colorbar\":{\"outlinewidth\":0,\"ticks\":\"\"}}],\"scatter\":[{\"fillpattern\":{\"fillmode\":\"overlay\",\"size\":10,\"solidity\":0.2},\"type\":\"scatter\"}],\"parcoords\":[{\"type\":\"parcoords\",\"line\":{\"colorbar\":{\"outlinewidth\":0,\"ticks\":\"\"}}}],\"scatterpolargl\":[{\"type\":\"scatterpolargl\",\"marker\":{\"colorbar\":{\"outlinewidth\":0,\"ticks\":\"\"}}}],\"bar\":[{\"error_x\":{\"color\":\"#2a3f5f\"},\"error_y\":{\"color\":\"#2a3f5f\"},\"marker\":{\"line\":{\"color\":\"#E5ECF6\",\"width\":0.5},\"pattern\":{\"fillmode\":\"overlay\",\"size\":10,\"solidity\":0.2}},\"type\":\"bar\"}],\"scattergeo\":[{\"type\":\"scattergeo\",\"marker\":{\"colorbar\":{\"outlinewidth\":0,\"ticks\":\"\"}}}],\"scatterpolar\":[{\"type\":\"scatterpolar\",\"marker\":{\"colorbar\":{\"outlinewidth\":0,\"ticks\":\"\"}}}],\"histogram\":[{\"marker\":{\"pattern\":{\"fillmode\":\"overlay\",\"size\":10,\"solidity\":0.2}},\"type\":\"histogram\"}],\"scattergl\":[{\"type\":\"scattergl\",\"marker\":{\"colorbar\":{\"outlinewidth\":0,\"ticks\":\"\"}}}],\"scatter3d\":[{\"type\":\"scatter3d\",\"line\":{\"colorbar\":{\"outlinewidth\":0,\"ticks\":\"\"}},\"marker\":{\"colorbar\":{\"outlinewidth\":0,\"ticks\":\"\"}}}],\"scattermapbox\":[{\"type\":\"scattermapbox\",\"marker\":{\"colorbar\":{\"outlinewidth\":0,\"ticks\":\"\"}}}],\"scatterternary\":[{\"type\":\"scatterternary\",\"marker\":{\"colorbar\":{\"outlinewidth\":0,\"ticks\":\"\"}}}],\"scattercarpet\":[{\"type\":\"scattercarpet\",\"marker\":{\"colorbar\":{\"outlinewidth\":0,\"ticks\":\"\"}}}],\"carpet\":[{\"aaxis\":{\"endlinecolor\":\"#2a3f5f\",\"gridcolor\":\"white\",\"linecolor\":\"white\",\"minorgridcolor\":\"white\",\"startlinecolor\":\"#2a3f5f\"},\"baxis\":{\"endlinecolor\":\"#2a3f5f\",\"gridcolor\":\"white\",\"linecolor\":\"white\",\"minorgridcolor\":\"white\",\"startlinecolor\":\"#2a3f5f\"},\"type\":\"carpet\"}],\"table\":[{\"cells\":{\"fill\":{\"color\":\"#EBF0F8\"},\"line\":{\"color\":\"white\"}},\"header\":{\"fill\":{\"color\":\"#C8D4E3\"},\"line\":{\"color\":\"white\"}},\"type\":\"table\"}],\"barpolar\":[{\"marker\":{\"line\":{\"color\":\"#E5ECF6\",\"width\":0.5},\"pattern\":{\"fillmode\":\"overlay\",\"size\":10,\"solidity\":0.2}},\"type\":\"barpolar\"}],\"pie\":[{\"automargin\":true,\"type\":\"pie\"}]},\"layout\":{\"autotypenumbers\":\"strict\",\"colorway\":[\"#636efa\",\"#EF553B\",\"#00cc96\",\"#ab63fa\",\"#FFA15A\",\"#19d3f3\",\"#FF6692\",\"#B6E880\",\"#FF97FF\",\"#FECB52\"],\"font\":{\"color\":\"#2a3f5f\"},\"hovermode\":\"closest\",\"hoverlabel\":{\"align\":\"left\"},\"paper_bgcolor\":\"white\",\"plot_bgcolor\":\"#E5ECF6\",\"polar\":{\"bgcolor\":\"#E5ECF6\",\"angularaxis\":{\"gridcolor\":\"white\",\"linecolor\":\"white\",\"ticks\":\"\"},\"radialaxis\":{\"gridcolor\":\"white\",\"linecolor\":\"white\",\"ticks\":\"\"}},\"ternary\":{\"bgcolor\":\"#E5ECF6\",\"aaxis\":{\"gridcolor\":\"white\",\"linecolor\":\"white\",\"ticks\":\"\"},\"baxis\":{\"gridcolor\":\"white\",\"linecolor\":\"white\",\"ticks\":\"\"},\"caxis\":{\"gridcolor\":\"white\",\"linecolor\":\"white\",\"ticks\":\"\"}},\"coloraxis\":{\"colorbar\":{\"outlinewidth\":0,\"ticks\":\"\"}},\"colorscale\":{\"sequential\":[[0.0,\"#0d0887\"],[0.1111111111111111,\"#46039f\"],[0.2222222222222222,\"#7201a8\"],[0.3333333333333333,\"#9c179e\"],[0.4444444444444444,\"#bd3786\"],[0.5555555555555556,\"#d8576b\"],[0.6666666666666666,\"#ed7953\"],[0.7777777777777778,\"#fb9f3a\"],[0.8888888888888888,\"#fdca26\"],[1.0,\"#f0f921\"]],\"sequentialminus\":[[0.0,\"#0d0887\"],[0.1111111111111111,\"#46039f\"],[0.2222222222222222,\"#7201a8\"],[0.3333333333333333,\"#9c179e\"],[0.4444444444444444,\"#bd3786\"],[0.5555555555555556,\"#d8576b\"],[0.6666666666666666,\"#ed7953\"],[0.7777777777777778,\"#fb9f3a\"],[0.8888888888888888,\"#fdca26\"],[1.0,\"#f0f921\"]],\"diverging\":[[0,\"#8e0152\"],[0.1,\"#c51b7d\"],[0.2,\"#de77ae\"],[0.3,\"#f1b6da\"],[0.4,\"#fde0ef\"],[0.5,\"#f7f7f7\"],[0.6,\"#e6f5d0\"],[0.7,\"#b8e186\"],[0.8,\"#7fbc41\"],[0.9,\"#4d9221\"],[1,\"#276419\"]]},\"xaxis\":{\"gridcolor\":\"white\",\"linecolor\":\"white\",\"ticks\":\"\",\"title\":{\"standoff\":15},\"zerolinecolor\":\"white\",\"automargin\":true,\"zerolinewidth\":2},\"yaxis\":{\"gridcolor\":\"white\",\"linecolor\":\"white\",\"ticks\":\"\",\"title\":{\"standoff\":15},\"zerolinecolor\":\"white\",\"automargin\":true,\"zerolinewidth\":2},\"scene\":{\"xaxis\":{\"backgroundcolor\":\"#E5ECF6\",\"gridcolor\":\"white\",\"linecolor\":\"white\",\"showbackground\":true,\"ticks\":\"\",\"zerolinecolor\":\"white\",\"gridwidth\":2},\"yaxis\":{\"backgroundcolor\":\"#E5ECF6\",\"gridcolor\":\"white\",\"linecolor\":\"white\",\"showbackground\":true,\"ticks\":\"\",\"zerolinecolor\":\"white\",\"gridwidth\":2},\"zaxis\":{\"backgroundcolor\":\"#E5ECF6\",\"gridcolor\":\"white\",\"linecolor\":\"white\",\"showbackground\":true,\"ticks\":\"\",\"zerolinecolor\":\"white\",\"gridwidth\":2}},\"shapedefaults\":{\"line\":{\"color\":\"#2a3f5f\"}},\"annotationdefaults\":{\"arrowcolor\":\"#2a3f5f\",\"arrowhead\":0,\"arrowwidth\":1},\"geo\":{\"bgcolor\":\"white\",\"landcolor\":\"#E5ECF6\",\"subunitcolor\":\"white\",\"showland\":true,\"showlakes\":true,\"lakecolor\":\"white\"},\"title\":{\"x\":0.05},\"mapbox\":{\"style\":\"light\"}}}},                        {\"responsive\": true}                    ).then(function(){\n",
       "                            \n",
       "var gd = document.getElementById('5e12cf16-0082-49c5-8c80-53cd7bd0c635');\n",
       "var x = new MutationObserver(function (mutations, observer) {{\n",
       "        var display = window.getComputedStyle(gd).display;\n",
       "        if (!display || display === 'none') {{\n",
       "            console.log([gd, 'removed!']);\n",
       "            Plotly.purge(gd);\n",
       "            observer.disconnect();\n",
       "        }}\n",
       "}});\n",
       "\n",
       "// Listen for the removal of the full notebook cells\n",
       "var notebookContainer = gd.closest('#notebook-container');\n",
       "if (notebookContainer) {{\n",
       "    x.observe(notebookContainer, {childList: true});\n",
       "}}\n",
       "\n",
       "// Listen for the clearing of the current output cell\n",
       "var outputEl = gd.closest('.output');\n",
       "if (outputEl) {{\n",
       "    x.observe(outputEl, {childList: true});\n",
       "}}\n",
       "\n",
       "                        })                };                });            </script>        </div>"
      ]
     },
     "metadata": {},
     "output_type": "display_data"
    }
   ],
   "source": [
    "#GDC0941(PI3K)[-] and AZD5363(AKT)[-]\n",
    "[x2,y2,z2] = cs_calculation(treat_int=[1,2], edges=negative_edges, communities=target_communities, treatments=treatments)\n",
    "\n",
    "# HEATMAP\n",
    "fig = go.Figure(data=go.Heatmap(\n",
    "                z=z2,\n",
    "                x=x2,\n",
    "                y=y2,\n",
    "                hoverongaps = False))\n",
    "fig.show()"
   ]
  },
  {
   "cell_type": "markdown",
   "metadata": {},
   "source": [
    "## 2.5 - Saving the edges and nodes of each community as dataframes"
   ]
  },
  {
   "cell_type": "markdown",
   "metadata": {},
   "source": [
    "## Individual communities"
   ]
  },
  {
   "cell_type": "code",
   "execution_count": 170,
   "metadata": {},
   "outputs": [],
   "source": [
    "#Save nodes and edges as dataframe to make nice visualizations in R\n",
    "\n",
    "#nodes community strength\n",
    "nodes_cs = list(zip([x1]+[x1],z1)) + list(zip([x2]+[x2],z2)) \n",
    "nodes_cs = [nodes_cs[0]] + [nodes_cs[2]] + [nodes_cs[3]] + [nodes_cs[1]]\n",
    "\n",
    "#Filter to keep edges of interest only\n",
    "negative_edges_com = [ [x for x in negative_edges[n] if (x[0] in list(itertools.chain(*kinase_int[n])) and x[1] in list(itertools.chain(*kinase_int[n])) ) ] for n in range(4)]\n",
    "#Add weight to draw edges\n",
    "negative_edges_pos = [ [ (*x , abs(x[2])*10 ) for x in network] for network in negative_edges_com ]\n",
    "\n",
    "#Add community + color to nodes\n",
    "nodes_inf = []\n",
    "for n in range(len(kinase_int)):\n",
    "    nodes_inf0 = list(zip( kinase_int[n][0], ['kinases present exclusively in this SC']*len(kinase_int[n][0]) ,  ['#96efff']* len(kinase_int[n][0]) )) \n",
    "    nodes_inf1 = list(zip(kinase_int[n][1], ['kinases present in both SCs']*len(kinase_int[n][1]) ,  ['#FFDB33']* len(kinase_int[n][1]) )) \n",
    "    nodes_inf_sum = nodes_inf0 + nodes_inf1\n",
    "    nodes_df = pd.DataFrame( nodes_inf_sum, columns=['id', 'group', 'color'])\n",
    "    #add community strength\n",
    "    nodes_cs_df = pd.DataFrame( list(zip(nodes_cs[n][0], nodes_cs[n][1])) , columns = ['id','community_strength'] )\n",
    "    nodes_df_add = pd.merge(nodes_df, nodes_cs_df, on='id')\n",
    "    #save nodes as csv file\n",
    "    nodes_df_add.to_csv('output_dataframes/{}_nodes.csv'.format(treatments[n]))\n",
    "    #save edges as csv file\n",
    "    edges_df = pd.DataFrame(negative_edges_pos[n], columns=['from','to','z-score','weight'])\n",
    "    edges_df.to_csv('output_dataframes/{}_edges.csv'.format(treatments[n]))\n",
    "\n"
   ]
  },
  {
   "cell_type": "code",
   "execution_count": null,
   "metadata": {},
   "outputs": [],
   "source": [
    "## Intersection of trametinib, GDC0941 and AZD5363"
   ]
  },
  {
   "cell_type": "code",
   "execution_count": 171,
   "metadata": {},
   "outputs": [],
   "source": [
    "#Calculate average edge weights across the three networks\n",
    "edges_MAP2K1_PIK3CA_AKT = [ { (edge[0],edge[1]):abs(edge[2]) for edge in negative_edges[n]} for n in [0,1,2]  ]   \n",
    "edges_MAP2K1_PIK3CA_AKT_sum = dict( functools.reduce(operator.add, map(collections.Counter, xx))  )\n",
    "edges_MAP2K1_PIK3CA_AKT_ave = [ (*key, (result[key]/3)) for key in edges ]\n",
    "\n",
    "#Save nodes and edges as dataframe to make nice network visualizations in R\n",
    "edges_df = pd.DataFrame(edges_MAP2K1_PIK3CA_AKT_ave, columns=['from','to','weight'])\n",
    "edges_df.to_csv('output_dataframes/MAP2K1_PIK3CA_AKT_edges.csv')\n",
    "\n",
    "intersection_x = list(zip(intersection, ['MAP2K1_PIK3CA_AKT'] * len(intersection), ['#96efff']* len(intersection) ) )\n",
    "MAP2K1_PIK3CA_x = list(zip(MAP2K1_PIK3CA, ['MAP2K1_PIK3CA_notAKT']*len(MAP2K1_PIK3CA), ['#FFDB33']* len(MAP2K1_PIK3CA) ) )\n",
    "nodes = intersection_x + MAP2K1_PIK3CA_x\n",
    "nodes_df = pd.DataFrame( nodes, columns=['id', 'group', 'color'])\n",
    "\n",
    "nodes_df.to_csv('output_dataframes/MAP2K1_PIK3CA_AKT_nodes.csv')"
   ]
  },
  {
   "cell_type": "markdown",
   "metadata": {},
   "source": [
    "# Positive edges"
   ]
  },
  {
   "cell_type": "code",
   "execution_count": 70,
   "metadata": {},
   "outputs": [],
   "source": [
    "#Store dataset treatments names, kinase interactions (network edges) with a z-score < 0, and their z-scores (edges weight) \n",
    "[treatments,positive_edges, positive_nodes] = dataset_info('input/PROJECT_DATASET_2.csv', sign = 'pos')"
   ]
  },
  {
   "cell_type": "code",
   "execution_count": null,
   "metadata": {},
   "outputs": [],
   "source": [
    "#Store contents of communities identified in each network\n",
    "all_pos_communities = ['a'] * 4\n",
    "for n in list(range(0,4)):\n",
    "    [A_asso,n_iter,labels, kin_communities, target_community] = converge_asso(positive_edges[n])\n",
    "    #All identified communities\n",
    "    all_pos_communities[n] = kin_communities"
   ]
  },
  {
   "cell_type": "code",
   "execution_count": 79,
   "metadata": {},
   "outputs": [
    {
     "name": "stdout",
     "output_type": "stream",
     "text": [
      "MAP2K1\n"
     ]
    },
    {
     "data": {
      "text/plain": [
       "[['ARAF',\n",
       "  'ERN1',\n",
       "  'CAMKK2',\n",
       "  'CIT',\n",
       "  'TAOK3',\n",
       "  'IRAK1',\n",
       "  'MAP4K5',\n",
       "  'MAPK14',\n",
       "  'PDGFRB',\n",
       "  'CDK2',\n",
       "  'CSNK1E',\n",
       "  'MAP3K1',\n",
       "  'MAP4K4',\n",
       "  'YES1',\n",
       "  'MAPK1_3',\n",
       "  'MINK1',\n",
       "  'SRPK1',\n",
       "  'PRKCI',\n",
       "  'SRPK3',\n",
       "  'KIT',\n",
       "  'MAPK9',\n",
       "  'PLK1',\n",
       "  'RPS6KA2',\n",
       "  'CDK4',\n",
       "  'TTK',\n",
       "  'PAK3',\n",
       "  'ROCK1_2'],\n",
       " ['CDK9', 'ABL2', 'FYN', 'MELK', 'CDK17', 'ULK1', 'CDK6', 'SIK2'],\n",
       " ['PIK3CA', 'ABL1', 'AKT1_2', 'MAPKAPK2'],\n",
       " ['TNK2', 'MAP3K3', 'CSNK2A2'],\n",
       " ['PRKACA', 'LATS1', 'LIMK1_2'],\n",
       " ['PAK1', 'PAK4', 'RPS6KA4'],\n",
       " ['STK4', 'PIK3CB'],\n",
       " ['CDKL5'],\n",
       " ['CAMK2D'],\n",
       " ['PKN2'],\n",
       " ['CLK1'],\n",
       " ['MAP2K1'],\n",
       " ['CDK1'],\n",
       " ['CAMK2A'],\n",
       " ['RPS6KA6'],\n",
       " ['MAST1'],\n",
       " ['STK3'],\n",
       " ['PHKG2'],\n",
       " ['MARK3'],\n",
       " ['RPS6KA3'],\n",
       " ['CDK5']]"
      ]
     },
     "execution_count": 79,
     "metadata": {},
     "output_type": "execute_result"
    }
   ],
   "source": [
    "n=0\n",
    "print(targets[n])\n",
    "all_pos_communities[n]"
   ]
  },
  {
   "cell_type": "markdown",
   "metadata": {},
   "source": [
    "# 3 - Example 2 - Analysis and Results"
   ]
  },
  {
   "cell_type": "markdown",
   "metadata": {},
   "source": [
    "# Negative edges"
   ]
  },
  {
   "cell_type": "code",
   "execution_count": 118,
   "metadata": {},
   "outputs": [],
   "source": [
    "#Store dataset treatments names, kinase interactions (network edges) with a z-score < 0, and their z-scores (edges weight) \n",
    "[treatments2,negative_edges2,negative_nodes2] = dataset_info('input/example2_edges_zscores.csv')\n",
    "#Main kinase targets of each of the treatments/inhibitors in the dataset\n",
    "targets2 = ['MTOR']"
   ]
  },
  {
   "cell_type": "code",
   "execution_count": 148,
   "metadata": {},
   "outputs": [
    {
     "data": {
      "text/plain": [
       "['MAPK1_3',\n",
       " 'SRPK3',\n",
       " 'PDGFRB',\n",
       " 'LIMK1_2',\n",
       " 'TTK',\n",
       " 'MTOR',\n",
       " 'ROCK1_2',\n",
       " 'TNK2',\n",
       " 'PAK3',\n",
       " 'SRPK1',\n",
       " 'AKT1_2',\n",
       " 'ABL1']"
      ]
     },
     "execution_count": 148,
     "metadata": {},
     "output_type": "execute_result"
    }
   ],
   "source": [
    "#Store contents of communities identified in each network\n",
    "[A_asso,n_iter,labels, kin_communities, target_community] = converge_asso(edges_list=negative_edges2[0], target=targets2[0])\n",
    "#All identified communities\n",
    "all_communities2 = kin_communities\n",
    "#Because we noticed that when extracting the community of interest with the converge_asso\n",
    "#function the contents of said community differ from run from run, for this network we run the community detection function (converge_asso)\n",
    "#50 times, and keep only the nodes that are present in the community in all 50 runs of the converge_asso function\n",
    "target_communities2 = rep_check(50, negative_edges2[0], targets2[0])\n",
    "\n",
    "target_communities2"
   ]
  },
  {
   "cell_type": "markdown",
   "metadata": {},
   "source": [
    "# Positive edges"
   ]
  },
  {
   "cell_type": "code",
   "execution_count": 149,
   "metadata": {},
   "outputs": [],
   "source": [
    "#Store dataset treatments names, kinase interactions (network edges) with a z-score < 0, and their z-scores (edges weight) \n",
    "[treatments2,positive_edges2, positive_nodes2] = dataset_info('input/example2_edges_zscores.csv', sign='pos')\n"
   ]
  },
  {
   "cell_type": "code",
   "execution_count": 150,
   "metadata": {},
   "outputs": [
    {
     "data": {
      "text/plain": [
       "[['ERN1',\n",
       "  'PDGFRB',\n",
       "  'MAPK1_3',\n",
       "  'PRKCI',\n",
       "  'PLK1',\n",
       "  'TNK2',\n",
       "  'AKT1_2',\n",
       "  'PIK3CA',\n",
       "  'MAP2K1',\n",
       "  'STK3',\n",
       "  'SRPK3',\n",
       "  'MTOR',\n",
       "  'STK4',\n",
       "  'HIPK3',\n",
       "  'MAP3K2',\n",
       "  'CDK4',\n",
       "  'MAPKAPK2',\n",
       "  'RPS6KB1']]"
      ]
     },
     "execution_count": 150,
     "metadata": {},
     "output_type": "execute_result"
    }
   ],
   "source": [
    "#Store contents of communities identified in each network\n",
    "[A_asso,n_iter,labels, kin_communities, target_community] = converge_asso(positive_edges2[0], target=targets2[0])\n",
    "#All identified communities\n",
    "pos_all_communities2 = kin_communities\n",
    "#Community containing the target\n",
    "pos_target_communities2 = target_community\n",
    "\n",
    "pos_target_communities2"
   ]
  },
  {
   "cell_type": "markdown",
   "metadata": {},
   "source": [
    "# Comparisson of MTOR community in negative and positive edges"
   ]
  },
  {
   "cell_type": "code",
   "execution_count": 154,
   "metadata": {},
   "outputs": [],
   "source": [
    "neg_pos_target_communities = [target_communities2, pos_target_communities2[0]]\n",
    "\n",
    "neg_pos_target_communities "
   ]
  },
  {
   "cell_type": "code",
   "execution_count": null,
   "metadata": {},
   "outputs": [],
   "source": [
    "[x1,y1,z1] = cs_calculation(treat_int=[0,1], communities=neg_pos_target_communities, treatments=community_names)\n",
    "\n",
    "# HEATMAP\n",
    "fig = go.Figure(data=go.Heatmap(\n",
    "                z=z1,\n",
    "                x=x1,\n",
    "                y=y1,\n",
    "                hoverongaps = False))\n",
    "fig.show()"
   ]
  }
 ],
 "metadata": {
  "kernelspec": {
   "display_name": "Python 3 (ipykernel)",
   "language": "python",
   "name": "python3"
  },
  "language_info": {
   "codemirror_mode": {
    "name": "ipython",
    "version": 3
   },
   "file_extension": ".py",
   "mimetype": "text/x-python",
   "name": "python",
   "nbconvert_exporter": "python",
   "pygments_lexer": "ipython3",
   "version": "3.9.12"
  }
 },
 "nbformat": 4,
 "nbformat_minor": 4
}
