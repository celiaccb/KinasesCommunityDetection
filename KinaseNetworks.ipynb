{
 "cells": [
  {
   "cell_type": "markdown",
   "metadata": {},
   "source": [
    "# 0 - Package Initialization"
   ]
  },
  {
   "cell_type": "code",
   "execution_count": 22,
   "metadata": {},
   "outputs": [],
   "source": [
    "#Python version used: 3.9.12\n",
    "#Packages necessary to construct a kinase network from the user uploaded file\n",
    "import pandas as pd\n",
    "import networkx as nx\n",
    "from networkx import *\n",
    "import csv\n",
    "import itertools\n",
    "from itertools import chain\n",
    "import numpy as np\n",
    "from scipy.stats import norm\n",
    "import statistics\n",
    "from statistics import *\n",
    "import operator\n",
    "import functools\n",
    "#Visualizations\n",
    "import plotly.express as px\n",
    "import plotly.graph_objects as go \n",
    "from pyvis.network import Network\n",
    "#Community detection\n",
    "import community as community_louvain\n",
    "import matplotlib.cm as cm\n",
    "import matplotlib.pyplot as plt\n",
    "from sknetwork.clustering import Louvain\n",
    "import collections"
   ]
  },
  {
   "cell_type": "markdown",
   "metadata": {},
   "source": [
    "# 1 - Functions"
   ]
  },
  {
   "cell_type": "markdown",
   "metadata": {},
   "source": [
    "## 1.1 - Extracting information from a z-scores dataset"
   ]
  },
  {
   "cell_type": "code",
   "execution_count": 23,
   "metadata": {},
   "outputs": [],
   "source": [
    "# input: dataset must be a csv files in which the first column is the kinase interactions (pairs), and each following \n",
    "# column the z-scores of each of the kinase interactions in one of the treatments\n",
    "# output: treatments are the headers of each of the z-scores columns, used to name visulizations returned from the analysis\n",
    "# negative_edges is a list of lists, each list corresponding to a treatment in the dataset, it's contents being the \n",
    "# kinase interactions in said treatment with a z_score <0 and their z_scores,in the shape of tuples, i.e. a network\n",
    "# negative_nodes is a list of lists, each list corresponding to the kinases of one network\n",
    "def dataset_info(dataset, sign = 'neg'):\n",
    "    # Read dataset and drop rows with no z-score information\n",
    "    networkfile = pd.read_csv(dataset)\n",
    "    networkfile = networkfile.dropna()\n",
    "    \n",
    "    # Return the headers of the z_scores columns, i.e. the treatments names\n",
    "    headers = list(networkfile.columns.values)\n",
    "    treatments = headers[1:]\n",
    "    \n",
    "    # Convert first column (kinase interactions/pairs) of the document to a list\n",
    "    edges_list= networkfile[networkfile.columns[0]].to_list()\n",
    "    # Convert the list into a list of tuples, each tuple being one kinase pair/edge (since this is the format needed to \n",
    "    # add edges onto pyvis.network (network visualization package))\n",
    "    edges_list2 = [tuple(x.split('.',1)) for x in edges_list]\n",
    "    \n",
    "    #For each treatment(column) on the file, store kinase interactions/pairs with a z-score <0, and their z-scores\n",
    "    if sign == 'neg':\n",
    "        edges = [[(*edges_list2[n],+ networkfile[networkfile.columns[na]].to_list()[n]) for n in range(len(edges_list2)) if networkfile[networkfile.columns[na]].to_list()[n] < 0 ] for na in range(1,len(headers))]\n",
    "    elif sign == 'pos' :\n",
    "        edges = [[(*edges_list2[n],+ networkfile[networkfile.columns[na]].to_list()[n]) for n in range(len(edges_list2)) if networkfile[networkfile.columns[na]].to_list()[n] > 0 ] for na in range(1,len(headers))]\n",
    "    \n",
    "    #Kinases in each of the negative_edges lists\n",
    "    nodes = []\n",
    "    for selected_treatment in edges:\n",
    "        #Keep only the kinases names (i.e. remove the z-scores) from the list of edges\n",
    "        nodes_bf = [ (a,b) for a,b,c in selected_treatment]\n",
    "        #Flatten list of edges tuples to list of nodes\n",
    "        nodes = list(itertools.chain(*nodes_bf))\n",
    "        #Remove duplicates from the list\n",
    "        nodes_list = list(dict.fromkeys(nodes))\n",
    "        nodes.append(nodes_list)\n",
    "        \n",
    "    return treatments,edges,nodes\n",
    "    "
   ]
  },
  {
   "cell_type": "markdown",
   "metadata": {},
   "source": [
    "## 1.2 - Community detection"
   ]
  },
  {
   "cell_type": "code",
   "execution_count": null,
   "metadata": {},
   "outputs": [],
   "source": [
    "# 1. Are all the final runs the same?"
   ]
  },
  {
   "cell_type": "code",
   "execution_count": 67,
   "metadata": {},
   "outputs": [],
   "source": [
    "# input: edges_list is a list corresponding to a treatment in the dataset, it's contents being the kinase interactions\n",
    "# in said treatment with a z_score <0 and their z_scores,in the shape of tuples, i.e. a network \n",
    "# output: A_asso is the converged association matrix, n_iter the number of iterations required for convergence and \n",
    "# labels are the converged community labels \n",
    "def converge_asso(edges_list, target='NULL'):\n",
    "    \n",
    "    #Initialize a Networkx instance\n",
    "    negativenetwork = nx.Graph()\n",
    "    #Add the kinase interactions & z-scores of treatment w to the network\n",
    "    negativenetwork.add_weighted_edges_from(edges_list)\n",
    "    #Store the individual kinases in the network as a numpy array - to return kinases in each community at the end\n",
    "    node_0 = list(negativenetwork.nodes())\n",
    "    node_0_arr = np.asarray(node_0)\n",
    "    #A_0 is the adjacency matrix of the matrix (network instance) stored as a numpy array\n",
    "    A_0 = to_numpy_array(negativenetwork)\n",
    "    \n",
    "    n_runs = 100\n",
    "    A_runs = np.zeros((n_runs, len(A_0)))\n",
    "    #Run the community detection algorithm on the network A_0 an n_runs amount of times\n",
    "    for i in range(n_runs):\n",
    "        #Louvain algorithm with Potts null network\n",
    "        louvain = Louvain(1, 'potts', shuffle_nodes = 1)\n",
    "        #Communities identified by number (Community 1, Community 2...)\n",
    "        #Array is the length of the number of kinases in the network\n",
    "        #For each kinase, it's community assignement is indicated by number\n",
    "        labels = louvain.fit_transform(A_0)\n",
    "        #Store the community partitions of each run\n",
    "        A_runs[i,:] = labels\n",
    "\n",
    "    #X = Number of kinases in the network\n",
    "    #Create & store 'X' arrays of 'X' zeros each\n",
    "    A_asso = np.zeros((len(A_0), len(A_0)))\n",
    "    #After loop, each array corresponds to one kinase, and each position within an array indicates in how many runs that kinase is\n",
    "    #assigned to the same community as each of the kinases in the network \n",
    "    #Loop over each run\n",
    "    for i in range(n_runs):\n",
    "        #Loop over each kinase/node in network (identified by number)\n",
    "        for j in range(len(A_0)):\n",
    "            #Loop over each kinase/node in network (identified by number)\n",
    "            for l in range(len(A_0)):\n",
    "            #If j and l are assigned to the same community in run i, add '1' to position l of array j   \n",
    "                A_asso[j,l] = A_asso[j,l] + (A_runs[i,j] == A_runs[i,l])\n",
    "    \n",
    "    #Divide each element in each of the arrays in the converged association matrix(A_asso) by n_runs to get\n",
    "    #the percentage (in 0.1(=10%) format) of runs in which each kinase-kinase/node-node combination is assigned to the same community\n",
    "    A_asso = np.true_divide(A_asso, n_runs)\n",
    "    \n",
    "    n_iter = 0\n",
    "    #until all the entries in A_asso are 0(not grouped together) or 1(grouped together) (all runs are the same)\n",
    "    while(len(np.unique(A_asso)) != 2):\n",
    "        n_runs = 100\n",
    "        #Create an array for each run, the length of each array being the number of kinases in the network\n",
    "        A_runs = np.zeros((n_runs, len(A_0)))\n",
    "        #Repeat community detection on co-classification matrix (the weight of the edges is the percentage of runs in which two kinases are grouped together)\n",
    "        for i in range(n_runs):\n",
    "            louvain = Louvain(1, 'potts', shuffle_nodes = 1)\n",
    "            labels = louvain.fit_transform(A_asso)\n",
    "            A_runs[i,:] = labels\n",
    "        A_asso = np.zeros((len(A_0), len(A_0)))\n",
    "        for i in range(n_runs):\n",
    "            for j in range(len(A_0)):\n",
    "                for l in range(len(A_0)):\n",
    "                    A_asso[j,l] = A_asso[j,l] + (A_runs[i,j] == A_runs[i,l])\n",
    "        #Return percentage of runs in which each kinase-kinase combination is a ssigned to the same community\n",
    "        A_asso = np.true_divide(A_asso, n_runs)\n",
    "        n_iter = n_iter + 1 \n",
    "    \n",
    "    #Final community partitions (all runs are the same)\n",
    "    labels = A_runs[0,:]\n",
    "    \n",
    "    #find how many communities are identified\n",
    "    n_of_com = list(set(labels.flatten()))\n",
    "\n",
    "    #For each community, store the kinases that belong to it\n",
    "    kin_communities = ['a'] * len(n_of_com)\n",
    "    target_community = ['a'] * len(n_of_com)\n",
    "\n",
    "    for n in list(range(0,len(n_of_com))):\n",
    "        #Find which kinases in the array are assigned to this community\n",
    "        com_cont_labels = np.argwhere(labels == int(n_of_com[n]))\n",
    "        #Find name of said kinases\n",
    "        community = node_0_arr[com_cont_labels]\n",
    "        #Flatten to list of kinase names in this community\n",
    "        community = list(itertools.chain(*community))\n",
    "        #Add to list of all communities\n",
    "        kin_communities[n] = community\n",
    "        #If a target was specified, save community containing target\n",
    "    \n",
    "    #Store community containing target if a target has been specified\n",
    "    if target != 'NULL' :\n",
    "        target_community = 'NULL'\n",
    "    else:\n",
    "        target_community = [com for com in kin_communities if target in com]\n",
    "    \n",
    "    return A_asso,n_iter,labels,kin_communities, target_community\n"
   ]
  },
  {
   "cell_type": "markdown",
   "metadata": {},
   "source": [
    "## 1.3 - Reproducibility check"
   ]
  },
  {
   "cell_type": "code",
   "execution_count": 68,
   "metadata": {},
   "outputs": [],
   "source": [
    "#Run converge_asso an n_checks number of times and check if the contents of the community of interest differ\n",
    "def rep_check(n_checks, edges_list, target):\n",
    "    community = ['a'] * n_checks\n",
    "    for n in range(n_checks):\n",
    "        #Store contents of community of interest\n",
    "        community[n] = converge_asso(edges_list, target=target)[4]\n",
    "    #Check if there are any kinases that are not present in all the community versions\n",
    "    all_com = list(itertools.chain(*community))\n",
    "    kin_rem = [x for x in set(all_com) if all_com.count(x)==n_checks]\n",
    "    return kin_rem\n"
   ]
  },
  {
   "cell_type": "markdown",
   "metadata": {},
   "source": [
    "## 1.4 - Network visualization"
   ]
  },
  {
   "cell_type": "code",
   "execution_count": 27,
   "metadata": {},
   "outputs": [],
   "source": [
    "# input: edges_list is a list corresponding to a treatment in the dataset, it's contents being the kinase interactions\n",
    "# in said treatment with a z_score <0 and their z_scores,in the shape of tuples, i.e. a network\n",
    "# kinase_groups is a list of the groups in which we want to classify the kinases in the network\n",
    "# kg_colors is a list of the colors in which each kinase groups should appear in the visualization\n",
    "# treatment is the header of the column from which the z-scores for edges_list was extracted (i.e. name of the treatment)\n",
    "# output: A visualization of the network constructed from the edges list, in HTML format\n",
    "def network_visualization(edges_list, kinases, kg_colors, treatment):    \n",
    "    #Initialize a pyvis.network instance\n",
    "    networkgraph = Network(height='1000px',width='1000px', heading='')\n",
    "    \n",
    "    #Add each community of nodes with their assigned color\n",
    "    for n in range(len(kinases)):\n",
    "        for x in kinases[n]:\n",
    "            networkgraph.add_node(x, value=15000000000, title=x, label=x, color=kg_colors[n], mass=23)\n",
    "    \n",
    "    #Add the edges\n",
    "    networkgraph.add_edges(edges_list)\n",
    "    \n",
    "    #Make empty dictionary in which to store the degree of each kinase\n",
    "    degree_graphs = {}\n",
    "    #Save list of nodes to extract information such as kinases degree centrality\n",
    "    kinases_map = networkgraph.get_adj_list()\n",
    "\n",
    "    for node in networkgraph.nodes:\n",
    "        #Add degree to each kinase in the empty dictionary\n",
    "        degree_graphs[node[\"title\"]] = len(kinases_map[node[\"id\"]]) \n",
    "        #Add box showing degree + to which nodes each node is connected, which appears when the user hovers over a node on the network graph\n",
    "        node[\"title\"] += \" connected to \"+ str(len(kinases_map[node[\"id\"]])) +\" kinases:<br>\" + \"<br>\".join(kinases_map[node[\"id\"]]) \n",
    "        kinase = len(kinases_map[node[\"id\"]])\n",
    "        #Change the nodes to be bigger the higher their degree is\n",
    "        if  0 <=  kinase <= 19 :\n",
    "            node[\"value\"] = 100000\n",
    "\n",
    "        if  20 <=  kinase <= 29 :\n",
    "            node[\"value\"] = 1000000000\n",
    "\n",
    "        if  30 <=  kinase <= 39 :\n",
    "            node[\"value\"] = 2000000000\n",
    "\n",
    "        if  40 <=  kinase <= 49:\n",
    "            node[\"value\"] = 10000000000\n",
    "    \n",
    "        if  50 <=  kinase <= 59:\n",
    "            node[\"value\"] = 20000000000\n",
    "\n",
    "        if 60 <=  kinase <= 69:\n",
    "            node[\"value\"] = 30000000000\n",
    "        \n",
    "        if  70 <=  kinase:\n",
    "            node[\"value\"] = 40000000000\n",
    "    \n",
    "    #Settings regarding the appearance of the network\n",
    "    networkgraph.set_options(\"\"\"\n",
    "    var options = {\n",
    "    \"nodes\": {\n",
    "    \"borderWidth\": 1.5,\n",
    "        \"font\": {\n",
    "        \"size\": 80,\n",
    "        \"face\": \"verdana\"\n",
    "        }\n",
    "      },\n",
    "      \"edges\": {\n",
    "        \"color\": {\n",
    "          \"color\": \"rgba(192,187,223,1)\",\n",
    "          \"inherit\": true\n",
    "        },\n",
    "        \"font\": {\n",
    "          \"strokeWidth\": 6\n",
    "        },\n",
    "        \"hoverWidth\": 3.2,\n",
    "        \"smooth\": false\n",
    "      },\n",
    "      \"physics\": {\n",
    "        \"barnesHut\": {\n",
    "          \"springLength\": 1040\n",
    "        },\n",
    "        \"minVelocity\": 0.75\n",
    "      }\n",
    "    }\n",
    "    \"\"\")\n",
    "    \n",
    "    #Return visualization as HTML file\n",
    "    final_network = treatment + '[-]'\n",
    "    networkgraph.show('output_visualizations/network_visualization{}.html'.format(final_network))\n"
   ]
  },
  {
   "cell_type": "markdown",
   "metadata": {},
   "source": [
    "## 1.5 - Community strength calculation & display in heatmap"
   ]
  },
  {
   "cell_type": "code",
   "execution_count": 28,
   "metadata": {},
   "outputs": [],
   "source": [
    "# input: edges_list is a list corresponding to a treatment in the dataset, it's contents being the kinase interactions\n",
    "# in said treatment with a z_score <0 and their z_scores,in the shape of tuples, i.e. a network\n",
    "# community is a list of the kinases in the community of interest\n",
    "# output: dictionary of kinases and their community strength\n",
    "def cs_calculation(treat_int):\n",
    "    #Calculate the community strength of each of the kinases in the two selected communities you are comparing\n",
    "    kin_cs = ['a'] * len(treat_int)\n",
    "    for n in range(len(treat_int)):\n",
    "        na = treat_int[n]\n",
    "        # Store kinase pairs in which both kinases are in the community of interest\n",
    "        community_edges = [x for x in negative_edges[na] if x[0] in communities[na] and x[1] in communities[na]]\n",
    "        # Calculate the community strength of each of the kinases in the community and store as dictionary\n",
    "        kin_cs[n] = {kin:abs(round(sum([community_edges[n][2] for n in range(len(community_edges)) if community_edges[n][1]==kin or community_edges[n][0]==kin]), 2)) for kin in communities[na]}    \n",
    "    \n",
    "    #Combine two communities lists\n",
    "    kinases = list(dict.fromkeys(communities[treat_int[0]]+communities[treat_int[1]]))\n",
    "    #Get values for each of the kinases in the combined list in each of the communities\n",
    "    #If kinase is not in the community then the value is None\n",
    "    values = [[kin_cs[n][kin] if kin in communities[treat_int[n]] else None for kin in kinases]for n in [0,1]]\n",
    "    \n",
    "    #Define heatmap axis and text\n",
    "    x = kinases\n",
    "    y = [ treatments[na]+' community CS' for na in treat_int]\n",
    "    z = [values[0],values[1]]\n",
    "    \n",
    "    #kinases, treatment,  = list(zip(x, y, z))\n",
    "    \n",
    "    return [x,y,z]\n",
    "    "
   ]
  },
  {
   "cell_type": "markdown",
   "metadata": {},
   "source": [
    "# 2 - Example 1 - Analysis and Results"
   ]
  },
  {
   "cell_type": "markdown",
   "metadata": {},
   "source": [
    "# Negative edges"
   ]
  },
  {
   "cell_type": "code",
   "execution_count": 57,
   "metadata": {},
   "outputs": [
    {
     "data": {
      "text/plain": [
       "['MEK.Trametinib_vs_Control',\n",
       " 'PI3K.GDC0941_vs_Control',\n",
       " 'AKT.AZD5363_vs_Control',\n",
       " 'ERK.GDC0994_vs_Control',\n",
       " 'CDK4.6.LY2835219_vs_Control',\n",
       " 'CDK2.1.9.AZD5438_vs_Control',\n",
       " 'TTK.CFI402257_vs_Control']"
      ]
     },
     "execution_count": 57,
     "metadata": {},
     "output_type": "execute_result"
    }
   ],
   "source": [
    "#Store dataset treatments names, kinase interactions (network edges) with a z-score < 0, and their z-scores (edges weight) \n",
    "[treatments,negative_edges, negative_nodes] = dataset_info('input/PROJECT_DATASET_2.csv')\n",
    "#Main kinase targets of each of the treatments/inhibitors in the dataset\n",
    "targets = ['MAP2K1','PIK3CA','AKT1_2','MAPK1_3']\n",
    "\n",
    "treatments"
   ]
  },
  {
   "cell_type": "markdown",
   "metadata": {},
   "source": [
    "## 2.1 - Selected communities contents for networks trametinib(MAP2K1)[-], GDC0994(MAPK1_3), GDC0941(PI3K)[-], and AZD5363(AKT)[-]"
   ]
  },
  {
   "cell_type": "code",
   "execution_count": null,
   "metadata": {},
   "outputs": [],
   "source": [
    "#Please note that the following block of code takes a few minutes to run"
   ]
  },
  {
   "cell_type": "code",
   "execution_count": 12,
   "metadata": {},
   "outputs": [
    {
     "name": "stdout",
     "output_type": "stream",
     "text": [
      "MEK.Trametinib_vs_Control\n",
      "['AKT1_2', 'PAK3', 'PIK3CA', 'PAK1', 'PRKACA', 'TNK2', 'STK4', 'MINK1', 'PLK1', 'PIK3CB', 'MTOR', 'PRKCI', 'YES1', 'PRKACB', 'TTK', 'RPS6KB1', 'MAP2K1', 'PDGFRB', 'LATS1', 'RPS6KA2', 'MAP3K1', 'CSNK1E', 'MAPK1_3']\n",
      "PI3K.GDC0941_vs_Control\n",
      "['CIT', 'CSNK1E', 'PRKCI', 'ABL1', 'LIMK1_2', 'PAK1', 'PAK3', 'PLK1', 'PIK3CA', 'TTK', 'MAP3K1', 'MAPK14', 'LATS1', 'TNK2', 'MAP4K5', 'MINK1', 'RPS6KA2', 'SRPK1', 'MTOR', 'YES1', 'PDGFRB', 'MAP2K1', 'STK3', 'AKT1_2', 'PRKACA', 'PAK4', 'PIK3CB', 'PRKACB', 'MAPKAPK2', 'RPS6KB1']\n",
      "AKT.AZD5363_vs_Control\n",
      "['CIT', 'MAP4K5', 'CDK2', 'CSNK1E', 'MINK1', 'SRPK1', 'PRKCI', 'ABL1', 'LIMK1_2', 'PAK1', 'PAK3', 'PLK1', 'TTK', 'PIK3CA', 'MAPK14', 'PIK3CB', 'LATS1', 'TNK2', 'MAP3K1', 'MTOR', 'AKT1_2', 'PRKACA', 'PRKACB', 'MAPKAPK2', 'RPS6KB1']\n",
      "ERK.GDC0994_vs_Control\n",
      "['MAPK1_3', 'PDGFRB', 'CDK9', 'TNK2', 'ARAF', 'MAP2K1', 'PRKCI', 'ROCK1_2']\n"
     ]
    }
   ],
   "source": [
    "#Store contents of communities identified in each network\n",
    "all_communities = ['a'] * len(targets)\n",
    "target_communities = ['a'] * len(targets)\n",
    "for n in [1,2,3]:\n",
    "    [A_asso,n_iter,labels, kin_communities, target_community] = converge_asso(negative_edges[n])\n",
    "    #All identified communities\n",
    "    all_communities[n] = kin_communities\n",
    "    #Community containing the target\n",
    "    target_communities[n] = target_community\n",
    "\n",
    "#Because we noticed that when extracting the community of interest from the trametinib(MEK)[-] network with the converge_asso\n",
    "#function the contents of said community differ from run from run, for this network we run the community detection function (converge_asso)\n",
    "#50 times, and keep only the nodes that are present in the community in all 50 runs of the converge_asso function\n",
    "target_communities[0] = rep_check(50, negative_edges[0], targets[0])"
   ]
  },
  {
   "cell_type": "markdown",
   "metadata": {},
   "source": [
    "### MEK/ERK communities contents"
   ]
  },
  {
   "cell_type": "code",
   "execution_count": null,
   "metadata": {},
   "outputs": [],
   "source": [
    "#Community containing MAP2K1 in the trametinib(MEK)[-] network (column 1 , negative z-scores)\n",
    "#Community containing MAPK1_3 in the GDC0994(ERK)[-] network (column 4, negative z-scores)\n",
    "MEK_ERKcom = [target_communities[0],target_communities[3]]\n",
    "#Separate kinases in networks trametinib(MEK)[-] and GDC0994(ERK)[-] into:\n",
    "#Kinases not present in the community of interest of that network\n",
    "MEK_ERKnonc = [[x for x in negative_nodes[0] if x not in target_communities[0]],[x for x in negative_nodes[3] if x not in target_communities[3]]]\n",
    "#Kinases present in both communities\n",
    "MEK_ERKallc = [x for x in target_communities[0] if x in target_communities[3]]\n",
    "MEK_ERKallc = [MEK_ERKallc,MEK_ERKallc]\n",
    "#Kinases present in one of the communities, but not the other\n",
    "MEK_ERKinc = [[x for x in target_communities[0] if x not in target_communities[3]],[x for x in target_communities[3] if x not in target_communities[0]]]\n"
   ]
  },
  {
   "cell_type": "markdown",
   "metadata": {},
   "source": [
    "### PIK3CA/AKT communities contents"
   ]
  },
  {
   "cell_type": "code",
   "execution_count": null,
   "metadata": {},
   "outputs": [],
   "source": [
    "#Community containing PIK3CA in the GDC0941(PI3K)[-] network (column 2, negative z-scores)\n",
    "#Community containing AKT1_2 in the AZD5363(AKT)[-] network (column 3, negative z-scores)\n",
    "PI3K_AKTcom = [target_communities[1], target_communities[2]]\n",
    "#Separate kinases in networks GDC0941(PI3K)[-] and AZD5363(AKT)[-] into:\n",
    "#Kinases not present in the community of interest of that network\n",
    "PI3K_AKTnonc = [[x for x in negative_nodes[1] if x not in target_communities[1]],[x for x in negative_nodes[2] if x not in target_communities[2]]]\n",
    "#Kinases present in both communities\n",
    "PI3K_AKTallc = [x for x in target_communities[1] if x in target_communities[2]]\n",
    "PI3K_AKTallc = [PI3K_AKTallc, PI3K_AKTallc]\n",
    "#Kinases present in one of the communities, but not the other\n",
    "PI3K_AKTinc = [[x for x in target_communities[1] if x not in target_communities[2]],[x for x in target_communities[2] if x not in target_communities[1]]]"
   ]
  },
  {
   "cell_type": "markdown",
   "metadata": {},
   "source": [
    "### Intersection and differences between communities"
   ]
  },
  {
   "cell_type": "code",
   "execution_count": null,
   "metadata": {},
   "outputs": [],
   "source": [
    "nonc = [MEK_ERKnonc[0],PI3K_AKTnonc[0],PI3K_AKTnonc[1],MEK_ERKnonc[1]]\n",
    "allc = [MEK_ERKallc[0],PI3K_AKTallc[0],PI3K_AKTallc[1],MEK_ERKallc[1]]\n",
    "inc = [MEK_ERKinc[0],PI3K_AKTinc[0],PI3K_AKTinc[1],MEK_ERKinc[1]]\n",
    "        \n",
    "kinase_groups = list(zip(nonc,allc,inc))\n",
    "kinase_int = list(zip(allc,inc))"
   ]
  },
  {
   "cell_type": "markdown",
   "metadata": {},
   "source": [
    "### Target of each treatment and the community identified containing that target "
   ]
  },
  {
   "cell_type": "code",
   "execution_count": null,
   "metadata": {},
   "outputs": [],
   "source": [
    "#Show the community contents of the selected communities in networks trametinib(MAP2K1)[-], GDC0941(PI3K)[-],\n",
    "#AZD5363(AKT)[-] and GDC0994(MAPK1_3), in that particular order\n",
    "for n in range(len(target_communities)):\n",
    "    print(treatments[n])\n",
    "    print(target_communities[n])"
   ]
  },
  {
   "cell_type": "markdown",
   "metadata": {},
   "source": [
    "## 2.2 - Network visualizations of networks trametinib(MAP2K1)[-], GDC0994(MAPK1_3), GDC0941(PI3K)[-], and AZD5363(AKT)[-]"
   ]
  },
  {
   "cell_type": "code",
   "execution_count": 23,
   "metadata": {},
   "outputs": [],
   "source": [
    "for n in range(len(target_communities)):\n",
    "    networkgraph = network_visualization(edges_list=negative_edges[n],kinases=kinase_groups[n],kg_colors=[\"#fcbb8b\", \"#857be3\", \"#baeeff\"], treatment=treatments[n])\n",
    "    "
   ]
  },
  {
   "cell_type": "markdown",
   "metadata": {},
   "source": [
    "## 2.3 - Network visualization of intersection between the selected communities of  trametinib(MAP2K1)[-], GDC0941(PI3K)[-] and AZD5363(AKT)[-]"
   ]
  },
  {
   "cell_type": "code",
   "execution_count": 138,
   "metadata": {},
   "outputs": [],
   "source": [
    "#Kinases present in the selected community of network trametinib(MAP2K1)[-], but not in the selected communities of \n",
    "#networks GDC0941(PIK3CA)[-] and AZD5363(AKT1_2)[-]\n",
    "#MAP2K1only = [x for x in communities[0] if x not in communities[1] and x not in communities[2]]\n",
    "#Kinases present accross the selected communities of networks trametinib(MAP2K1)[-], GDC0941(PIK3CA)[-] and AZD5363(AKT1_2)[-]\n",
    "intersection = [x for x in target_communities[0] if x in target_communities[1] and x in target_communities[2]]\n",
    "#Kinases present accross the selected communities of networks trametinib(MAP2K1)[-] and GDC0941(PIK3CA)[-], but not in the\n",
    "#selected community of network AZD5363(AKT)[-]\n",
    "MAP2K1_PIK3CA = [x for x in target_communities[0] if x in target_communities[1] and x not in target_communities[2]]\n",
    "#Kinases present accross the selected communities of networks AZD5363(AKT)[-] and GDC0941(PIK3CA)[-] but not trametinib(MAP2K1)[-]\n",
    "#and kinases present only in the selected communities of GDC0941(PIK3CA)[-] and AZD5363(AKT1_2)[-] networks\n",
    "#therest = [[x for x in communities[3] if x in communities[2] and x not in communities[0]],[x for x in communities[3] if x not in communities[2] and x not in communities[0]], [x for x in communities[2] if x not in communities[3] and x not in communities[0]]]\n",
    "\n",
    "kinase_groups = MAP2K1_PIK3CA, intersection\n",
    "kinases = list(itertools.chain(*kinase_groups))\n",
    "#Store kinase interactions across the three networks in which the two kinases are in any of the selected communities\n",
    "#edges = negative_edges[0] + negative_edges[1] + negative_edges[2]\n",
    "#edges = [(a,b,0) for a,b,c in edges if a in kinases and b in kinases]\n",
    "edges = [ [(a,b) for a,b,c in negative_edges[n]] for n in [0,1,2] ]\n",
    "edges = set(edges[0]).intersection(edges[1], edges[2])\n",
    "edges = [(a,b) for a,b in edges if a in kinases and b in kinases]\n",
    "\n",
    "#Intersection of communities visualized as a network\n",
    "networkgraph= network_visualization(edges_list=edges,kinases=kinase_groups,kg_colors=[\"#fcbb8b\", \"#857be3\", \"#baeeff\",\"green\"], treatment='intersection_MAP2K1_PIK3CA_AKT')\n"
   ]
  },
  {
   "cell_type": "markdown",
   "metadata": {},
   "source": [
    "## 2.4 - Community strength of the kinases in each of the selected communities of networks trametinib(MAP2K1)[-], GDC0941(PI3K)[-],AZD5363(AKT)[-] and GDC0994(MAPK1_3), visualized in heatmaps"
   ]
  },
  {
   "cell_type": "code",
   "execution_count": null,
   "metadata": {},
   "outputs": [],
   "source": [
    "#trametinib(MAP2K1)[-] and GDC0994(MAPK1_3)\n",
    "[x1,y1,z1] = cs_calculation(treat_int=[0,3])\n",
    "\n",
    "# HEATMAP\n",
    "fig = go.Figure(data=go.Heatmap(\n",
    "                z=z1,\n",
    "                x=x1,\n",
    "                y=y1,\n",
    "                hoverongaps = False))\n",
    "fig.show()\n"
   ]
  },
  {
   "cell_type": "code",
   "execution_count": null,
   "metadata": {},
   "outputs": [],
   "source": [
    "#GDC0941(PI3K)[-] and AZD5363(AKT)[-]\n",
    "[x2,y2,z2] = cs_calculation(treat_int=[1,2])\n",
    "\n",
    "# HEATMAP\n",
    "fig = go.Figure(data=go.Heatmap(\n",
    "                z=z2,\n",
    "                x=x2,\n",
    "                y=y2,\n",
    "                hoverongaps = False))\n",
    "fig.show()"
   ]
  },
  {
   "cell_type": "markdown",
   "metadata": {},
   "source": [
    "## 2.5 - Saving the edges and nodes of each community as dataframes"
   ]
  },
  {
   "cell_type": "markdown",
   "metadata": {},
   "source": [
    "## Individual communities"
   ]
  },
  {
   "cell_type": "code",
   "execution_count": 170,
   "metadata": {},
   "outputs": [],
   "source": [
    "#Save nodes and edges as dataframe to make nice visualizations in R\n",
    "\n",
    "#nodes community strength\n",
    "nodes_cs = list(zip([x1]+[x1],z1)) + list(zip([x2]+[x2],z2)) \n",
    "nodes_cs = [nodes_cs[0]] + [nodes_cs[2]] + [nodes_cs[3]] + [nodes_cs[1]]\n",
    "\n",
    "#Filter to keep edges of interest only\n",
    "negative_edges_com = [ [x for x in negative_edges[n] if (x[0] in list(itertools.chain(*kinase_int[n])) and x[1] in list(itertools.chain(*kinase_int[n])) ) ] for n in range(4)]\n",
    "#Add weight to draw edges\n",
    "negative_edges_pos = [ [ (*x , abs(x[2])*10 ) for x in network] for network in negative_edges_com ]\n",
    "\n",
    "#Add community + color to nodes\n",
    "nodes_inf = []\n",
    "for n in range(len(kinase_int)):\n",
    "    nodes_inf0 = list(zip( kinase_int[n][0], ['kinases present exclusively in this SC']*len(kinase_int[n][0]) ,  ['#96efff']* len(kinase_int[n][0]) )) \n",
    "    nodes_inf1 = list(zip(kinase_int[n][1], ['kinases present in both SCs']*len(kinase_int[n][1]) ,  ['#FFDB33']* len(kinase_int[n][1]) )) \n",
    "    nodes_inf_sum = nodes_inf0 + nodes_inf1\n",
    "    nodes_df = pd.DataFrame( nodes_inf_sum, columns=['id', 'group', 'color'])\n",
    "    #add community strength\n",
    "    nodes_cs_df = pd.DataFrame( list(zip(nodes_cs[n][0], nodes_cs[n][1])) , columns = ['id','community_strength'] )\n",
    "    nodes_df_add = pd.merge(nodes_df, nodes_cs_df, on='id')\n",
    "    #save nodes as csv file\n",
    "    nodes_df_add.to_csv('output_dataframes/{}_nodes.csv'.format(treatments[n]))\n",
    "    #save edges as csv file\n",
    "    edges_df = pd.DataFrame(negative_edges_pos[n], columns=['from','to','z-score','weight'])\n",
    "    edges_df.to_csv('output_dataframes/{}_edges.csv'.format(treatments[n]))\n",
    "\n"
   ]
  },
  {
   "cell_type": "code",
   "execution_count": null,
   "metadata": {},
   "outputs": [],
   "source": [
    "## Intersection of trametinib, GDC0941 and AZD5363"
   ]
  },
  {
   "cell_type": "code",
   "execution_count": 171,
   "metadata": {},
   "outputs": [],
   "source": [
    "#Calculate average edge weights across the three networks\n",
    "edges_MAP2K1_PIK3CA_AKT = [ { (edge[0],edge[1]):abs(edge[2]) for edge in negative_edges[n]} for n in [0,1,2]  ]   \n",
    "edges_MAP2K1_PIK3CA_AKT_sum = dict( functools.reduce(operator.add, map(collections.Counter, xx))  )\n",
    "edges_MAP2K1_PIK3CA_AKT_ave = [ (*key, (result[key]/3)) for key in edges ]\n",
    "\n",
    "#Save nodes and edges as dataframe to make nice network visualizations in R\n",
    "edges_df = pd.DataFrame(edges_MAP2K1_PIK3CA_AKT_ave, columns=['from','to','weight'])\n",
    "edges_df.to_csv('output_dataframes/MAP2K1_PIK3CA_AKT_edges.csv')\n",
    "\n",
    "intersection_x = list(zip(intersection, ['MAP2K1_PIK3CA_AKT'] * len(intersection), ['#96efff']* len(intersection) ) )\n",
    "MAP2K1_PIK3CA_x = list(zip(MAP2K1_PIK3CA, ['MAP2K1_PIK3CA_notAKT']*len(MAP2K1_PIK3CA), ['#FFDB33']* len(MAP2K1_PIK3CA) ) )\n",
    "nodes = intersection_x + MAP2K1_PIK3CA_x\n",
    "nodes_df = pd.DataFrame( nodes, columns=['id', 'group', 'color'])\n",
    "\n",
    "nodes_df.to_csv('output_dataframes/MAP2K1_PIK3CA_AKT_nodes.csv')"
   ]
  },
  {
   "cell_type": "markdown",
   "metadata": {},
   "source": [
    "# Positive edges"
   ]
  },
  {
   "cell_type": "code",
   "execution_count": 70,
   "metadata": {},
   "outputs": [],
   "source": [
    "#Store dataset treatments names, kinase interactions (network edges) with a z-score < 0, and their z-scores (edges weight) \n",
    "[treatments,positive_edges, positive_nodes] = dataset_info('input/PROJECT_DATASET_2.csv', sign = 'pos')"
   ]
  },
  {
   "cell_type": "code",
   "execution_count": null,
   "metadata": {},
   "outputs": [],
   "source": [
    "#Store contents of communities identified in each network\n",
    "all_pos_communities = ['a'] * 4\n",
    "for n in list(range(0,4)):\n",
    "    [A_asso,n_iter,labels, kin_communities, target_community] = converge_asso(positive_edges[n])\n",
    "    #All identified communities\n",
    "    all_pos_communities[n] = kin_communities"
   ]
  },
  {
   "cell_type": "code",
   "execution_count": 79,
   "metadata": {},
   "outputs": [
    {
     "name": "stdout",
     "output_type": "stream",
     "text": [
      "MAP2K1\n"
     ]
    },
    {
     "data": {
      "text/plain": [
       "[['ARAF',\n",
       "  'ERN1',\n",
       "  'CAMKK2',\n",
       "  'CIT',\n",
       "  'TAOK3',\n",
       "  'IRAK1',\n",
       "  'MAP4K5',\n",
       "  'MAPK14',\n",
       "  'PDGFRB',\n",
       "  'CDK2',\n",
       "  'CSNK1E',\n",
       "  'MAP3K1',\n",
       "  'MAP4K4',\n",
       "  'YES1',\n",
       "  'MAPK1_3',\n",
       "  'MINK1',\n",
       "  'SRPK1',\n",
       "  'PRKCI',\n",
       "  'SRPK3',\n",
       "  'KIT',\n",
       "  'MAPK9',\n",
       "  'PLK1',\n",
       "  'RPS6KA2',\n",
       "  'CDK4',\n",
       "  'TTK',\n",
       "  'PAK3',\n",
       "  'ROCK1_2'],\n",
       " ['CDK9', 'ABL2', 'FYN', 'MELK', 'CDK17', 'ULK1', 'CDK6', 'SIK2'],\n",
       " ['PIK3CA', 'ABL1', 'AKT1_2', 'MAPKAPK2'],\n",
       " ['TNK2', 'MAP3K3', 'CSNK2A2'],\n",
       " ['PRKACA', 'LATS1', 'LIMK1_2'],\n",
       " ['PAK1', 'PAK4', 'RPS6KA4'],\n",
       " ['STK4', 'PIK3CB'],\n",
       " ['CDKL5'],\n",
       " ['CAMK2D'],\n",
       " ['PKN2'],\n",
       " ['CLK1'],\n",
       " ['MAP2K1'],\n",
       " ['CDK1'],\n",
       " ['CAMK2A'],\n",
       " ['RPS6KA6'],\n",
       " ['MAST1'],\n",
       " ['STK3'],\n",
       " ['PHKG2'],\n",
       " ['MARK3'],\n",
       " ['RPS6KA3'],\n",
       " ['CDK5']]"
      ]
     },
     "execution_count": 79,
     "metadata": {},
     "output_type": "execute_result"
    }
   ],
   "source": [
    "n=0\n",
    "print(targets[n])\n",
    "all_pos_communities[n]"
   ]
  },
  {
   "cell_type": "markdown",
   "metadata": {},
   "source": [
    "# 3 - Example 2 - Analysis and Results"
   ]
  },
  {
   "cell_type": "code",
   "execution_count": 83,
   "metadata": {},
   "outputs": [
    {
     "ename": "FileNotFoundError",
     "evalue": "[Errno 2] No such file or directory: 'input/example2_edges_zscores.csv'",
     "output_type": "error",
     "traceback": [
      "\u001b[0;31m---------------------------------------------------------------------------\u001b[0m",
      "\u001b[0;31mFileNotFoundError\u001b[0m                         Traceback (most recent call last)",
      "Cell \u001b[0;32mIn [83], line 2\u001b[0m\n\u001b[1;32m      1\u001b[0m \u001b[38;5;66;03m#Store dataset treatments names, kinase interactions (network edges) with a z-score < 0, and their z-scores (edges weight) \u001b[39;00m\n\u001b[0;32m----> 2\u001b[0m [treatments,negative_edges, negative_nodes] \u001b[38;5;241m=\u001b[39m dataset_info(\u001b[38;5;124m'\u001b[39m\u001b[38;5;124minput/example2_edges_zscores.csv\u001b[39m\u001b[38;5;124m'\u001b[39m)\n\u001b[1;32m      3\u001b[0m \u001b[38;5;66;03m#Main kinase targets of each of the treatments/inhibitors in the dataset\u001b[39;00m\n\u001b[1;32m      4\u001b[0m targets \u001b[38;5;241m=\u001b[39m [\u001b[38;5;124m'\u001b[39m\u001b[38;5;124mMTOR\u001b[39m\u001b[38;5;124m'\u001b[39m]\n",
      "Cell \u001b[0;32mIn [23], line 9\u001b[0m, in \u001b[0;36mdataset_info\u001b[0;34m(dataset, sign)\u001b[0m\n\u001b[1;32m      7\u001b[0m \u001b[38;5;28;01mdef\u001b[39;00m \u001b[38;5;21mdataset_info\u001b[39m(dataset, sign \u001b[38;5;241m=\u001b[39m \u001b[38;5;124m'\u001b[39m\u001b[38;5;124mneg\u001b[39m\u001b[38;5;124m'\u001b[39m):\n\u001b[1;32m      8\u001b[0m     \u001b[38;5;66;03m# Read dataset and drop rows with no z-score information\u001b[39;00m\n\u001b[0;32m----> 9\u001b[0m     networkfile \u001b[38;5;241m=\u001b[39m \u001b[43mpd\u001b[49m\u001b[38;5;241;43m.\u001b[39;49m\u001b[43mread_csv\u001b[49m\u001b[43m(\u001b[49m\u001b[43mdataset\u001b[49m\u001b[43m)\u001b[49m\n\u001b[1;32m     10\u001b[0m     networkfile \u001b[38;5;241m=\u001b[39m networkfile\u001b[38;5;241m.\u001b[39mdropna()\n\u001b[1;32m     12\u001b[0m     \u001b[38;5;66;03m# Return the headers of the z_scores columns, i.e. the treatments names\u001b[39;00m\n",
      "File \u001b[0;32m/usr/local/lib/python3.9/site-packages/pandas/util/_decorators.py:211\u001b[0m, in \u001b[0;36mdeprecate_kwarg.<locals>._deprecate_kwarg.<locals>.wrapper\u001b[0;34m(*args, **kwargs)\u001b[0m\n\u001b[1;32m    209\u001b[0m     \u001b[38;5;28;01melse\u001b[39;00m:\n\u001b[1;32m    210\u001b[0m         kwargs[new_arg_name] \u001b[38;5;241m=\u001b[39m new_arg_value\n\u001b[0;32m--> 211\u001b[0m \u001b[38;5;28;01mreturn\u001b[39;00m \u001b[43mfunc\u001b[49m\u001b[43m(\u001b[49m\u001b[38;5;241;43m*\u001b[39;49m\u001b[43margs\u001b[49m\u001b[43m,\u001b[49m\u001b[43m \u001b[49m\u001b[38;5;241;43m*\u001b[39;49m\u001b[38;5;241;43m*\u001b[39;49m\u001b[43mkwargs\u001b[49m\u001b[43m)\u001b[49m\n",
      "File \u001b[0;32m/usr/local/lib/python3.9/site-packages/pandas/util/_decorators.py:317\u001b[0m, in \u001b[0;36mdeprecate_nonkeyword_arguments.<locals>.decorate.<locals>.wrapper\u001b[0;34m(*args, **kwargs)\u001b[0m\n\u001b[1;32m    311\u001b[0m \u001b[38;5;28;01mif\u001b[39;00m \u001b[38;5;28mlen\u001b[39m(args) \u001b[38;5;241m>\u001b[39m num_allow_args:\n\u001b[1;32m    312\u001b[0m     warnings\u001b[38;5;241m.\u001b[39mwarn(\n\u001b[1;32m    313\u001b[0m         msg\u001b[38;5;241m.\u001b[39mformat(arguments\u001b[38;5;241m=\u001b[39marguments),\n\u001b[1;32m    314\u001b[0m         \u001b[38;5;167;01mFutureWarning\u001b[39;00m,\n\u001b[1;32m    315\u001b[0m         stacklevel\u001b[38;5;241m=\u001b[39mfind_stack_level(inspect\u001b[38;5;241m.\u001b[39mcurrentframe()),\n\u001b[1;32m    316\u001b[0m     )\n\u001b[0;32m--> 317\u001b[0m \u001b[38;5;28;01mreturn\u001b[39;00m \u001b[43mfunc\u001b[49m\u001b[43m(\u001b[49m\u001b[38;5;241;43m*\u001b[39;49m\u001b[43margs\u001b[49m\u001b[43m,\u001b[49m\u001b[43m \u001b[49m\u001b[38;5;241;43m*\u001b[39;49m\u001b[38;5;241;43m*\u001b[39;49m\u001b[43mkwargs\u001b[49m\u001b[43m)\u001b[49m\n",
      "File \u001b[0;32m/usr/local/lib/python3.9/site-packages/pandas/io/parsers/readers.py:950\u001b[0m, in \u001b[0;36mread_csv\u001b[0;34m(filepath_or_buffer, sep, delimiter, header, names, index_col, usecols, squeeze, prefix, mangle_dupe_cols, dtype, engine, converters, true_values, false_values, skipinitialspace, skiprows, skipfooter, nrows, na_values, keep_default_na, na_filter, verbose, skip_blank_lines, parse_dates, infer_datetime_format, keep_date_col, date_parser, dayfirst, cache_dates, iterator, chunksize, compression, thousands, decimal, lineterminator, quotechar, quoting, doublequote, escapechar, comment, encoding, encoding_errors, dialect, error_bad_lines, warn_bad_lines, on_bad_lines, delim_whitespace, low_memory, memory_map, float_precision, storage_options)\u001b[0m\n\u001b[1;32m    935\u001b[0m kwds_defaults \u001b[38;5;241m=\u001b[39m _refine_defaults_read(\n\u001b[1;32m    936\u001b[0m     dialect,\n\u001b[1;32m    937\u001b[0m     delimiter,\n\u001b[0;32m   (...)\u001b[0m\n\u001b[1;32m    946\u001b[0m     defaults\u001b[38;5;241m=\u001b[39m{\u001b[38;5;124m\"\u001b[39m\u001b[38;5;124mdelimiter\u001b[39m\u001b[38;5;124m\"\u001b[39m: \u001b[38;5;124m\"\u001b[39m\u001b[38;5;124m,\u001b[39m\u001b[38;5;124m\"\u001b[39m},\n\u001b[1;32m    947\u001b[0m )\n\u001b[1;32m    948\u001b[0m kwds\u001b[38;5;241m.\u001b[39mupdate(kwds_defaults)\n\u001b[0;32m--> 950\u001b[0m \u001b[38;5;28;01mreturn\u001b[39;00m \u001b[43m_read\u001b[49m\u001b[43m(\u001b[49m\u001b[43mfilepath_or_buffer\u001b[49m\u001b[43m,\u001b[49m\u001b[43m \u001b[49m\u001b[43mkwds\u001b[49m\u001b[43m)\u001b[49m\n",
      "File \u001b[0;32m/usr/local/lib/python3.9/site-packages/pandas/io/parsers/readers.py:605\u001b[0m, in \u001b[0;36m_read\u001b[0;34m(filepath_or_buffer, kwds)\u001b[0m\n\u001b[1;32m    602\u001b[0m _validate_names(kwds\u001b[38;5;241m.\u001b[39mget(\u001b[38;5;124m\"\u001b[39m\u001b[38;5;124mnames\u001b[39m\u001b[38;5;124m\"\u001b[39m, \u001b[38;5;28;01mNone\u001b[39;00m))\n\u001b[1;32m    604\u001b[0m \u001b[38;5;66;03m# Create the parser.\u001b[39;00m\n\u001b[0;32m--> 605\u001b[0m parser \u001b[38;5;241m=\u001b[39m \u001b[43mTextFileReader\u001b[49m\u001b[43m(\u001b[49m\u001b[43mfilepath_or_buffer\u001b[49m\u001b[43m,\u001b[49m\u001b[43m \u001b[49m\u001b[38;5;241;43m*\u001b[39;49m\u001b[38;5;241;43m*\u001b[39;49m\u001b[43mkwds\u001b[49m\u001b[43m)\u001b[49m\n\u001b[1;32m    607\u001b[0m \u001b[38;5;28;01mif\u001b[39;00m chunksize \u001b[38;5;129;01mor\u001b[39;00m iterator:\n\u001b[1;32m    608\u001b[0m     \u001b[38;5;28;01mreturn\u001b[39;00m parser\n",
      "File \u001b[0;32m/usr/local/lib/python3.9/site-packages/pandas/io/parsers/readers.py:1442\u001b[0m, in \u001b[0;36mTextFileReader.__init__\u001b[0;34m(self, f, engine, **kwds)\u001b[0m\n\u001b[1;32m   1439\u001b[0m     \u001b[38;5;28mself\u001b[39m\u001b[38;5;241m.\u001b[39moptions[\u001b[38;5;124m\"\u001b[39m\u001b[38;5;124mhas_index_names\u001b[39m\u001b[38;5;124m\"\u001b[39m] \u001b[38;5;241m=\u001b[39m kwds[\u001b[38;5;124m\"\u001b[39m\u001b[38;5;124mhas_index_names\u001b[39m\u001b[38;5;124m\"\u001b[39m]\n\u001b[1;32m   1441\u001b[0m \u001b[38;5;28mself\u001b[39m\u001b[38;5;241m.\u001b[39mhandles: IOHandles \u001b[38;5;241m|\u001b[39m \u001b[38;5;28;01mNone\u001b[39;00m \u001b[38;5;241m=\u001b[39m \u001b[38;5;28;01mNone\u001b[39;00m\n\u001b[0;32m-> 1442\u001b[0m \u001b[38;5;28mself\u001b[39m\u001b[38;5;241m.\u001b[39m_engine \u001b[38;5;241m=\u001b[39m \u001b[38;5;28;43mself\u001b[39;49m\u001b[38;5;241;43m.\u001b[39;49m\u001b[43m_make_engine\u001b[49m\u001b[43m(\u001b[49m\u001b[43mf\u001b[49m\u001b[43m,\u001b[49m\u001b[43m \u001b[49m\u001b[38;5;28;43mself\u001b[39;49m\u001b[38;5;241;43m.\u001b[39;49m\u001b[43mengine\u001b[49m\u001b[43m)\u001b[49m\n",
      "File \u001b[0;32m/usr/local/lib/python3.9/site-packages/pandas/io/parsers/readers.py:1729\u001b[0m, in \u001b[0;36mTextFileReader._make_engine\u001b[0;34m(self, f, engine)\u001b[0m\n\u001b[1;32m   1727\u001b[0m     is_text \u001b[38;5;241m=\u001b[39m \u001b[38;5;28;01mFalse\u001b[39;00m\n\u001b[1;32m   1728\u001b[0m     mode \u001b[38;5;241m=\u001b[39m \u001b[38;5;124m\"\u001b[39m\u001b[38;5;124mrb\u001b[39m\u001b[38;5;124m\"\u001b[39m\n\u001b[0;32m-> 1729\u001b[0m \u001b[38;5;28mself\u001b[39m\u001b[38;5;241m.\u001b[39mhandles \u001b[38;5;241m=\u001b[39m \u001b[43mget_handle\u001b[49m\u001b[43m(\u001b[49m\n\u001b[1;32m   1730\u001b[0m \u001b[43m    \u001b[49m\u001b[43mf\u001b[49m\u001b[43m,\u001b[49m\n\u001b[1;32m   1731\u001b[0m \u001b[43m    \u001b[49m\u001b[43mmode\u001b[49m\u001b[43m,\u001b[49m\n\u001b[1;32m   1732\u001b[0m \u001b[43m    \u001b[49m\u001b[43mencoding\u001b[49m\u001b[38;5;241;43m=\u001b[39;49m\u001b[38;5;28;43mself\u001b[39;49m\u001b[38;5;241;43m.\u001b[39;49m\u001b[43moptions\u001b[49m\u001b[38;5;241;43m.\u001b[39;49m\u001b[43mget\u001b[49m\u001b[43m(\u001b[49m\u001b[38;5;124;43m\"\u001b[39;49m\u001b[38;5;124;43mencoding\u001b[39;49m\u001b[38;5;124;43m\"\u001b[39;49m\u001b[43m,\u001b[49m\u001b[43m \u001b[49m\u001b[38;5;28;43;01mNone\u001b[39;49;00m\u001b[43m)\u001b[49m\u001b[43m,\u001b[49m\n\u001b[1;32m   1733\u001b[0m \u001b[43m    \u001b[49m\u001b[43mcompression\u001b[49m\u001b[38;5;241;43m=\u001b[39;49m\u001b[38;5;28;43mself\u001b[39;49m\u001b[38;5;241;43m.\u001b[39;49m\u001b[43moptions\u001b[49m\u001b[38;5;241;43m.\u001b[39;49m\u001b[43mget\u001b[49m\u001b[43m(\u001b[49m\u001b[38;5;124;43m\"\u001b[39;49m\u001b[38;5;124;43mcompression\u001b[39;49m\u001b[38;5;124;43m\"\u001b[39;49m\u001b[43m,\u001b[49m\u001b[43m \u001b[49m\u001b[38;5;28;43;01mNone\u001b[39;49;00m\u001b[43m)\u001b[49m\u001b[43m,\u001b[49m\n\u001b[1;32m   1734\u001b[0m \u001b[43m    \u001b[49m\u001b[43mmemory_map\u001b[49m\u001b[38;5;241;43m=\u001b[39;49m\u001b[38;5;28;43mself\u001b[39;49m\u001b[38;5;241;43m.\u001b[39;49m\u001b[43moptions\u001b[49m\u001b[38;5;241;43m.\u001b[39;49m\u001b[43mget\u001b[49m\u001b[43m(\u001b[49m\u001b[38;5;124;43m\"\u001b[39;49m\u001b[38;5;124;43mmemory_map\u001b[39;49m\u001b[38;5;124;43m\"\u001b[39;49m\u001b[43m,\u001b[49m\u001b[43m \u001b[49m\u001b[38;5;28;43;01mFalse\u001b[39;49;00m\u001b[43m)\u001b[49m\u001b[43m,\u001b[49m\n\u001b[1;32m   1735\u001b[0m \u001b[43m    \u001b[49m\u001b[43mis_text\u001b[49m\u001b[38;5;241;43m=\u001b[39;49m\u001b[43mis_text\u001b[49m\u001b[43m,\u001b[49m\n\u001b[1;32m   1736\u001b[0m \u001b[43m    \u001b[49m\u001b[43merrors\u001b[49m\u001b[38;5;241;43m=\u001b[39;49m\u001b[38;5;28;43mself\u001b[39;49m\u001b[38;5;241;43m.\u001b[39;49m\u001b[43moptions\u001b[49m\u001b[38;5;241;43m.\u001b[39;49m\u001b[43mget\u001b[49m\u001b[43m(\u001b[49m\u001b[38;5;124;43m\"\u001b[39;49m\u001b[38;5;124;43mencoding_errors\u001b[39;49m\u001b[38;5;124;43m\"\u001b[39;49m\u001b[43m,\u001b[49m\u001b[43m \u001b[49m\u001b[38;5;124;43m\"\u001b[39;49m\u001b[38;5;124;43mstrict\u001b[39;49m\u001b[38;5;124;43m\"\u001b[39;49m\u001b[43m)\u001b[49m\u001b[43m,\u001b[49m\n\u001b[1;32m   1737\u001b[0m \u001b[43m    \u001b[49m\u001b[43mstorage_options\u001b[49m\u001b[38;5;241;43m=\u001b[39;49m\u001b[38;5;28;43mself\u001b[39;49m\u001b[38;5;241;43m.\u001b[39;49m\u001b[43moptions\u001b[49m\u001b[38;5;241;43m.\u001b[39;49m\u001b[43mget\u001b[49m\u001b[43m(\u001b[49m\u001b[38;5;124;43m\"\u001b[39;49m\u001b[38;5;124;43mstorage_options\u001b[39;49m\u001b[38;5;124;43m\"\u001b[39;49m\u001b[43m,\u001b[49m\u001b[43m \u001b[49m\u001b[38;5;28;43;01mNone\u001b[39;49;00m\u001b[43m)\u001b[49m\u001b[43m,\u001b[49m\n\u001b[1;32m   1738\u001b[0m \u001b[43m\u001b[49m\u001b[43m)\u001b[49m\n\u001b[1;32m   1739\u001b[0m \u001b[38;5;28;01massert\u001b[39;00m \u001b[38;5;28mself\u001b[39m\u001b[38;5;241m.\u001b[39mhandles \u001b[38;5;129;01mis\u001b[39;00m \u001b[38;5;129;01mnot\u001b[39;00m \u001b[38;5;28;01mNone\u001b[39;00m\n\u001b[1;32m   1740\u001b[0m f \u001b[38;5;241m=\u001b[39m \u001b[38;5;28mself\u001b[39m\u001b[38;5;241m.\u001b[39mhandles\u001b[38;5;241m.\u001b[39mhandle\n",
      "File \u001b[0;32m/usr/local/lib/python3.9/site-packages/pandas/io/common.py:857\u001b[0m, in \u001b[0;36mget_handle\u001b[0;34m(path_or_buf, mode, encoding, compression, memory_map, is_text, errors, storage_options)\u001b[0m\n\u001b[1;32m    852\u001b[0m \u001b[38;5;28;01melif\u001b[39;00m \u001b[38;5;28misinstance\u001b[39m(handle, \u001b[38;5;28mstr\u001b[39m):\n\u001b[1;32m    853\u001b[0m     \u001b[38;5;66;03m# Check whether the filename is to be opened in binary mode.\u001b[39;00m\n\u001b[1;32m    854\u001b[0m     \u001b[38;5;66;03m# Binary mode does not support 'encoding' and 'newline'.\u001b[39;00m\n\u001b[1;32m    855\u001b[0m     \u001b[38;5;28;01mif\u001b[39;00m ioargs\u001b[38;5;241m.\u001b[39mencoding \u001b[38;5;129;01mand\u001b[39;00m \u001b[38;5;124m\"\u001b[39m\u001b[38;5;124mb\u001b[39m\u001b[38;5;124m\"\u001b[39m \u001b[38;5;129;01mnot\u001b[39;00m \u001b[38;5;129;01min\u001b[39;00m ioargs\u001b[38;5;241m.\u001b[39mmode:\n\u001b[1;32m    856\u001b[0m         \u001b[38;5;66;03m# Encoding\u001b[39;00m\n\u001b[0;32m--> 857\u001b[0m         handle \u001b[38;5;241m=\u001b[39m \u001b[38;5;28;43mopen\u001b[39;49m\u001b[43m(\u001b[49m\n\u001b[1;32m    858\u001b[0m \u001b[43m            \u001b[49m\u001b[43mhandle\u001b[49m\u001b[43m,\u001b[49m\n\u001b[1;32m    859\u001b[0m \u001b[43m            \u001b[49m\u001b[43mioargs\u001b[49m\u001b[38;5;241;43m.\u001b[39;49m\u001b[43mmode\u001b[49m\u001b[43m,\u001b[49m\n\u001b[1;32m    860\u001b[0m \u001b[43m            \u001b[49m\u001b[43mencoding\u001b[49m\u001b[38;5;241;43m=\u001b[39;49m\u001b[43mioargs\u001b[49m\u001b[38;5;241;43m.\u001b[39;49m\u001b[43mencoding\u001b[49m\u001b[43m,\u001b[49m\n\u001b[1;32m    861\u001b[0m \u001b[43m            \u001b[49m\u001b[43merrors\u001b[49m\u001b[38;5;241;43m=\u001b[39;49m\u001b[43merrors\u001b[49m\u001b[43m,\u001b[49m\n\u001b[1;32m    862\u001b[0m \u001b[43m            \u001b[49m\u001b[43mnewline\u001b[49m\u001b[38;5;241;43m=\u001b[39;49m\u001b[38;5;124;43m\"\u001b[39;49m\u001b[38;5;124;43m\"\u001b[39;49m\u001b[43m,\u001b[49m\n\u001b[1;32m    863\u001b[0m \u001b[43m        \u001b[49m\u001b[43m)\u001b[49m\n\u001b[1;32m    864\u001b[0m     \u001b[38;5;28;01melse\u001b[39;00m:\n\u001b[1;32m    865\u001b[0m         \u001b[38;5;66;03m# Binary mode\u001b[39;00m\n\u001b[1;32m    866\u001b[0m         handle \u001b[38;5;241m=\u001b[39m \u001b[38;5;28mopen\u001b[39m(handle, ioargs\u001b[38;5;241m.\u001b[39mmode)\n",
      "\u001b[0;31mFileNotFoundError\u001b[0m: [Errno 2] No such file or directory: 'input/example2_edges_zscores.csv'"
     ]
    }
   ],
   "source": [
    "#Store dataset treatments names, kinase interactions (network edges) with a z-score < 0, and their z-scores (edges weight) \n",
    "[treatments,negative_edges, negative_nodes] = dataset_info('input/example2_edges_zscores.csv')\n",
    "#Main kinase targets of each of the treatments/inhibitors in the dataset\n",
    "targets = ['MTOR']"
   ]
  },
  {
   "cell_type": "markdown",
   "metadata": {},
   "source": [
    "# Negative edges"
   ]
  },
  {
   "cell_type": "code",
   "execution_count": 81,
   "metadata": {},
   "outputs": [
    {
     "data": {
      "text/plain": [
       "[[], [], [], []]"
      ]
     },
     "execution_count": 81,
     "metadata": {},
     "output_type": "execute_result"
    }
   ],
   "source": [
    "#Store contents of communities identified in each network\n",
    "all_communities2 = ['a'] * len(targets)\n",
    "target_communities2 = ['a'] * len(targets)\n",
    "for n in list(range(0,len(targets))):\n",
    "    [A_asso,n_iter,labels, kin_communities, target_community] = converge_asso(negative_edges[n])\n",
    "    #All identified communities\n",
    "    all_communities2[n] = kin_communities\n",
    "    #Community containing the target\n",
    "    target_communities2[n] = target_community\n",
    "    \n",
    "target_communities2"
   ]
  },
  {
   "cell_type": "markdown",
   "metadata": {},
   "source": [
    "# Positive edges"
   ]
  },
  {
   "cell_type": "code",
   "execution_count": null,
   "metadata": {},
   "outputs": [],
   "source": []
  }
 ],
 "metadata": {
  "kernelspec": {
   "display_name": "Python 3 (ipykernel)",
   "language": "python",
   "name": "python3"
  },
  "language_info": {
   "codemirror_mode": {
    "name": "ipython",
    "version": 3
   },
   "file_extension": ".py",
   "mimetype": "text/x-python",
   "name": "python",
   "nbconvert_exporter": "python",
   "pygments_lexer": "ipython3",
   "version": "3.9.12"
  }
 },
 "nbformat": 4,
 "nbformat_minor": 4
}
