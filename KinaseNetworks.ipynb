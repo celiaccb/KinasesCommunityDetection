{
 "cells": [
  {
   "cell_type": "markdown",
   "metadata": {},
   "source": [
    "# 0 - Package Initialization"
   ]
  },
  {
   "cell_type": "code",
   "execution_count": 1,
   "metadata": {},
   "outputs": [],
   "source": [
    "#Python version used: 3.9.12\n",
    "#Packages necessary to construct a kinase network from the user uploaded file\n",
    "import pandas as pd\n",
    "import networkx as nx\n",
    "from networkx import *\n",
    "import csv\n",
    "import itertools\n",
    "from itertools import chain\n",
    "import numpy as np\n",
    "from scipy.stats import norm\n",
    "import statistics\n",
    "from statistics import *\n",
    "import operator\n",
    "import functools\n",
    "#Visualizations\n",
    "import plotly.express as px\n",
    "import plotly.graph_objects as go \n",
    "from pyvis.network import Network\n",
    "#Community detection\n",
    "import community as community_louvain\n",
    "import matplotlib.cm as cm\n",
    "import matplotlib.pyplot as plt\n",
    "from sknetwork.clustering import Louvain\n",
    "import collections"
   ]
  },
  {
   "cell_type": "markdown",
   "metadata": {},
   "source": [
    "# 1 - Functions"
   ]
  },
  {
   "cell_type": "markdown",
   "metadata": {},
   "source": [
    "## 1.1 - Extracting information from a z-scores dataset"
   ]
  },
  {
   "cell_type": "code",
   "execution_count": 284,
   "metadata": {},
   "outputs": [
    {
     "data": {
      "text/plain": [
       "'CDK2.1.9.AZD5438_vs_Control'"
      ]
     },
     "execution_count": 284,
     "metadata": {},
     "output_type": "execute_result"
    }
   ],
   "source": [
    "str(treatments[5])"
   ]
  },
  {
   "cell_type": "code",
   "execution_count": 287,
   "metadata": {},
   "outputs": [
    {
     "data": {
      "text/plain": [
       "'CDK21.AZD5438_vs_Control'"
      ]
     },
     "execution_count": 287,
     "metadata": {},
     "output_type": "execute_result"
    }
   ],
   "source": [
    "ch = re.sub( r'(\\d)\\.(\\d)\\.(\\d)',r'\\1', str(treatments[5]) )\n",
    "ch"
   ]
  },
  {
   "cell_type": "code",
   "execution_count": 37,
   "metadata": {},
   "outputs": [
    {
     "name": "stdout",
     "output_type": "stream",
     "text": [
      "['MEK.Trametinib_vs_Control', 'PI3K.GDC0941_vs_Control', 'AKT.AZD5363_vs_Control', 'ERK.GDC0994_vs_Control', 'CDK4.LY2835219_vs_Control', 'CDK2.AZD5438_vs_Control', 'TTK.CFI402257_vs_Control', 'CDK2.PI3K.DRUG', 'PI3K.CDK2.DRUG', 'CDK2.PI3K.DRUG', 'PI3K.CDK2.DRUG', 'CDK2.PI3K.DRUG', 'PI3K.CDK2.DRUG', 'CDK2.PI3K.DRUG', 'PI3K.CDK2.DRUG', 'CDK2.PI3K.DRUG', 'PI3K.CDK2.DRUG', 'CDK2.PI3K.DRUG', 'PI3K.CDK2.DRUG', 'CDK2.PI3K.DRUG', 'PI3K.CDK2.DRUG', 'CDK2.PI3K.DRUG', 'PI3K.CDK2.DRUG', 'CDK2.PI3K.DRUG', 'PI3K.CDK2.DRUG', 'CDK2.PI3K.DRUG', 'PI3K.CDK2.DRUG', 'CDK2.PI3K.DRUG', 'PI3K.CDK2.DRUG', 'CDK2.PI3K.DRUG', 'PI3K.CDK2.DRUG', 'CDK2.PI3K.DRUG', 'PI3K.CDK2.DRUG', 'CDK2.PI3K.DRUG', 'PI3K.CDK2.DRUG', 'CDK2.PI3K.DRUG', 'PI3K.CDK2.DRUG', 'CDK2.PI3K.DRUG', 'PI3K.CDK2.DRUG', 'CDK2.PI3K.DRUG', 'PI3K.CDK2.DRUG']\n",
      "['MEK.Trametinib_vs_Control', 'PI3K.GDC0941_vs_Control', 'AKT.AZD5363_vs_Control', 'ERK.GDC0994_vs_Control', 'CDK4.6.LY2835219_vs_Control', 'CDK2.1.9.AZD5438_vs_Control', 'TTK.CFI402257_vs_Control', 'CDK2.1.PI3K.DRUG', 'PI3K.CDK2.1.DRUG', 'CDK2.1.PI3K.DRUG', 'PI3K.CDK2.1.DRUG', 'CDK2.1.PI3K.DRUG', 'PI3K.CDK2.1.DRUG', 'CDK2.1.PI3K.DRUG', 'PI3K.CDK2.1.DRUG', 'CDK2.1.PI3K.DRUG', 'PI3K.CDK2.1.DRUG', 'CDK2.1.PI3K.DRUG', 'PI3K.CDK2.1.DRUG', 'CDK2.1.PI3K.DRUG', 'PI3K.CDK2.1.DRUG', 'CDK2.1.PI3K.DRUG', 'PI3K.CDK2.1.DRUG', 'CDK2.1.PI3K.DRUG', 'PI3K.CDK2.1.DRUG', 'CDK2.1.PI3K.DRUG', 'PI3K.CDK2.1.DRUG', 'CDK2.1.PI3K.DRUG', 'PI3K.CDK2.1.DRUG', 'CDK2.1.PI3K.DRUG', 'PI3K.CDK2.1.DRUG', 'CDK2.1.PI3K.DRUG', 'PI3K.CDK2.1.DRUG', 'CDK2.1.PI3K.DRUG', 'PI3K.CDK2.1.DRUG', 'CDK2.1.PI3K.DRUG', 'PI3K.CDK2.1.DRUG', 'CDK2.1.PI3K.DRUG', 'PI3K.CDK2.1.DRUG', 'CDK2.1.PI3K.DRUG', 'PI3K.CDK2.1.DRUG']\n"
     ]
    }
   ],
   "source": [
    "import re\n",
    "\n",
    "r\"^[^.]*\"\n",
    "\n",
    "\n",
    "treatments.append('CDK2.1.PI3K.DRUG')\n",
    "treatments.append('PI3K.CDK2.1.DRUG')\n",
    "\n",
    "\n",
    "targets = [re.sub( r'([A-Z]+)(\\d)\\.(\\d)\\.(\\d)', r'\\1\\2.\\1\\3.\\1\\4' , x) for x in treatments]\n",
    "#targets = [re.sub( r'([A-Z]+)(\\d)\\.(\\d)', r'\\1\\2.\\1\\3' , x) for x in targets]\n",
    "#Get all targets names\n",
    "#targets = [re.split(\"[.]\", x)[:-1] for x in targets]\n",
    "\n",
    "#targets = [re.sub( r'(\\d)\\.(\\d)', r'\\1' , x) for x in targets]\n",
    "\n",
    "\n",
    "\n",
    "#If kinase followed by different numbers, add letters before\n",
    "\n",
    "\n",
    "\n",
    "#targets = [re.split(\"[._]\", x) for x in treatments]\n",
    "\n",
    "targets = [re.sub( r'([A-Z]+)(\\d)(\\.\\d)+\\.', r'\\1\\2.' , x) for x in treatments]\n",
    "\n",
    "\n",
    "print(targets)\n",
    "print(treatments)"
   ]
  },
  {
   "cell_type": "code",
   "execution_count": 2,
   "metadata": {},
   "outputs": [],
   "source": [
    "# input: dataset must be a csv files in which the first column is the kinase interactions (pairs), and each following \n",
    "# column the z-scores of each of the kinase interactions in one of the treatments\n",
    "# output: treatments are the headers of each of the z-scores columns, used to name visulizations returned from the analysis\n",
    "# negative_edges is a list of lists, each list corresponding to a treatment in the dataset, it's contents being the \n",
    "# kinase interactions in said treatment with a z_score <0 and their z_scores,in the shape of tuples, i.e. a network\n",
    "# negative_nodes is a list of lists, each list corresponding to the kinases of one network\n",
    "def dataset_info(dataset, target_at_beg='yes', rem_vs_control='no', sign = 'neg'):\n",
    "    # Read dataset and drop rows with no z-score information\n",
    "    networkfile = pd.read_csv(dataset)\n",
    "    networkfile = networkfile.dropna()\n",
    "    \n",
    "    # Return the headers of the z_scores columns, i.e. the treatments names\n",
    "    headers = list(networkfile.columns.values)\n",
    "    treatments = headers[1:]\n",
    "    if rem_vs_control == 'yes':\n",
    "        treatments = [x.split(\".\", 1)[0] for x in treatments]\n",
    "    \n",
    "    # Return targets (if they are present in the treatment name)\n",
    "    targets = [x.split(\".\", 1)[0] for x in treatments]\n",
    "    \n",
    "    # Convert first column (kinase interactions/pairs) of the document to a list\n",
    "    edges_list= networkfile[networkfile.columns[0]].to_list()\n",
    "    # Convert the list into a list of tuples, each tuple being one kinase pair/edge (since this is the format needed to \n",
    "    # add edges onto pyvis.network (network visualization package))\n",
    "    edges_list2 = [tuple(x.split('.',1)) for x in edges_list]\n",
    "    \n",
    "    #For each treatment(column) on the file, store kinase interactions/pairs with a z-score <0, and their z-scores\n",
    "    if sign == 'neg':\n",
    "        edges = [[(*edges_list2[n],+ networkfile[networkfile.columns[na]].to_list()[n]) for n in range(len(edges_list2)) if networkfile[networkfile.columns[na]].to_list()[n] < 0 ] for na in range(1,len(headers))]\n",
    "    elif sign == 'pos' :\n",
    "        edges = [[(*edges_list2[n],+ networkfile[networkfile.columns[na]].to_list()[n]) for n in range(len(edges_list2)) if networkfile[networkfile.columns[na]].to_list()[n] > 0 ] for na in range(1,len(headers))]\n",
    "    \n",
    "    #Kinases in each of the negative_edges lists\n",
    "    nodes = []\n",
    "    for selected_treatment in edges:\n",
    "        #Keep only the kinases names (i.e. remove the z-scores) from the list of edges\n",
    "        nodes_bf = [ (a,b) for a,b,c in selected_treatment]\n",
    "        #Flatten list of edges tuples to list of nodes\n",
    "        nodes = list(itertools.chain(*nodes_bf))\n",
    "        #Remove duplicates from the list\n",
    "        nodes_list = list(dict.fromkeys(nodes))\n",
    "        nodes.append(nodes_list)\n",
    "        \n",
    "    return treatments,targets,edges,nodes\n",
    "    "
   ]
  },
  {
   "cell_type": "markdown",
   "metadata": {},
   "source": [
    "## 1.2 - Community detection"
   ]
  },
  {
   "cell_type": "code",
   "execution_count": null,
   "metadata": {},
   "outputs": [],
   "source": [
    "# 1. Are all the final runs the same?"
   ]
  },
  {
   "cell_type": "code",
   "execution_count": 3,
   "metadata": {},
   "outputs": [],
   "source": [
    "# input: edges_list is a list corresponding to a treatment in the dataset, it's contents being the kinase interactions\n",
    "# in said treatment with a z_score <0 and their z_scores,in the shape of tuples, i.e. a network \n",
    "# output: A_asso is the converged association matrix, n_iter the number of iterations required for convergence and \n",
    "# labels are the converged community labels \n",
    "def converge_asso(edges_list, target='NULL'):\n",
    "    \n",
    "    #Initialize a Networkx instance\n",
    "    negativenetwork = nx.Graph()\n",
    "    #Add the kinase interactions & z-scores of treatment w to the network\n",
    "    negativenetwork.add_weighted_edges_from(edges_list)\n",
    "    #Store the individual kinases in the network as a numpy array - to return kinases in each community at the end\n",
    "    node_0 = list(negativenetwork.nodes())\n",
    "    node_0_arr = np.asarray(node_0)\n",
    "    #A_0 is the adjacency matrix of the matrix (network instance) stored as a numpy array\n",
    "    A_0 = to_numpy_array(negativenetwork)\n",
    "    \n",
    "    n_runs = 100\n",
    "    A_runs = np.zeros((n_runs, len(A_0)))\n",
    "    #Run the community detection algorithm on the network A_0 an n_runs amount of times\n",
    "    for i in range(n_runs):\n",
    "        #Louvain algorithm with Potts null network\n",
    "        louvain = Louvain(1, 'potts', shuffle_nodes = 1)\n",
    "        #Communities identified by number (Community 1, Community 2...)\n",
    "        #Array is the length of the number of kinases in the network\n",
    "        #For each kinase, it's community assignement is indicated by number\n",
    "        labels = louvain.fit_transform(A_0)\n",
    "        #Store the community partitions of each run\n",
    "        A_runs[i,:] = labels\n",
    "\n",
    "    #X = Number of kinases in the network\n",
    "    #Create & store 'X' arrays of 'X' zeros each\n",
    "    A_asso = np.zeros((len(A_0), len(A_0)))\n",
    "    #After loop, each array corresponds to one kinase, and each position within an array indicates in how many runs that kinase is\n",
    "    #assigned to the same community as each of the kinases in the network \n",
    "    #Loop over each run\n",
    "    for i in range(n_runs):\n",
    "        #Loop over each kinase/node in network (identified by number)\n",
    "        for j in range(len(A_0)):\n",
    "            #Loop over each kinase/node in network (identified by number)\n",
    "            for l in range(len(A_0)):\n",
    "            #If j and l are assigned to the same community in run i, add '1' to position l of array j   \n",
    "                A_asso[j,l] = A_asso[j,l] + (A_runs[i,j] == A_runs[i,l])\n",
    "    \n",
    "    #Divide each element in each of the arrays in the converged association matrix(A_asso) by n_runs to get\n",
    "    #the percentage (in 0.1(=10%) format) of runs in which each kinase-kinase/node-node combination is assigned to the same community\n",
    "    A_asso = np.true_divide(A_asso, n_runs)\n",
    "    \n",
    "    n_iter = 0\n",
    "    #until all the entries in A_asso are 0(not grouped together) or 1(grouped together) (all runs are the same)\n",
    "    while(len(np.unique(A_asso)) != 2):\n",
    "        n_runs = 100\n",
    "        #Create an array for each run, the length of each array being the number of kinases in the network\n",
    "        A_runs = np.zeros((n_runs, len(A_0)))\n",
    "        #Repeat community detection on co-classification matrix (the weight of the edges is the percentage of runs in which two kinases are grouped together)\n",
    "        for i in range(n_runs):\n",
    "            louvain = Louvain(1, 'potts', shuffle_nodes = 1)\n",
    "            labels = louvain.fit_transform(A_asso)\n",
    "            A_runs[i,:] = labels\n",
    "        A_asso = np.zeros((len(A_0), len(A_0)))\n",
    "        for i in range(n_runs):\n",
    "            for j in range(len(A_0)):\n",
    "                for l in range(len(A_0)):\n",
    "                    A_asso[j,l] = A_asso[j,l] + (A_runs[i,j] == A_runs[i,l])\n",
    "        #Return percentage of runs in which each kinase-kinase combination is a ssigned to the same community\n",
    "        A_asso = np.true_divide(A_asso, n_runs)\n",
    "        n_iter = n_iter + 1 \n",
    "    \n",
    "    #Final community partitions (all runs are the same)\n",
    "    labels = A_runs[0,:]\n",
    "    \n",
    "    #find how many communities are identified\n",
    "    n_of_com = list(set(labels.flatten()))\n",
    "\n",
    "    #For each community, store the kinases that belong to it\n",
    "    kin_communities = ['a'] * len(n_of_com)\n",
    "    target_community = ['a'] * len(n_of_com)\n",
    "\n",
    "    for n in list(range(0,len(n_of_com))):\n",
    "        #Find which kinases in the array are assigned to this community\n",
    "        com_cont_labels = np.argwhere(labels == int(n_of_com[n]))\n",
    "        #Find name of said kinases\n",
    "        community = node_0_arr[com_cont_labels]\n",
    "        #Flatten to list of kinase names in this community\n",
    "        community = list(itertools.chain(*community))\n",
    "        #Add to list of all communities\n",
    "        kin_communities[n] = community\n",
    "        #If a target was specified, save community containing target\n",
    "    \n",
    "    #Store community containing target if a target has been specified\n",
    "    if target == 'NULL' :\n",
    "        target_community = 'NULL'\n",
    "    else:\n",
    "        target_community = [com for com in kin_communities if target in com]\n",
    "        target_community = list(itertools.chain(*target_community))\n",
    "    \n",
    "    return A_asso,n_iter,labels,kin_communities, target_community\n"
   ]
  },
  {
   "cell_type": "markdown",
   "metadata": {},
   "source": [
    "## 1.3 - Reproducibility check"
   ]
  },
  {
   "cell_type": "code",
   "execution_count": 4,
   "metadata": {},
   "outputs": [],
   "source": [
    "#Run converge_asso an n_checks number of times and check if the contents of the community of interest differ\n",
    "def rep_check(n_checks, edges_list, target):\n",
    "    community = ['a'] * n_checks\n",
    "    for n in range(n_checks):\n",
    "        #Store contents of community of interest\n",
    "        community[n] = converge_asso(edges_list, target=target)[4]\n",
    "    #Check if there are any kinases that are not present in all the community versions\n",
    "    all_com = list(itertools.chain(*community))\n",
    "    #all_com = list(itertools.chain(*all_com))\n",
    "    kin_rem = [x for x in set(all_com) if all_com.count(x)==n_checks]\n",
    "    return kin_rem\n"
   ]
  },
  {
   "cell_type": "markdown",
   "metadata": {},
   "source": [
    "## 1.4 - Network visualization"
   ]
  },
  {
   "cell_type": "code",
   "execution_count": 5,
   "metadata": {},
   "outputs": [],
   "source": [
    "# input: edges_list is a list corresponding to a treatment in the dataset, it's contents being the kinase interactions\n",
    "# in said treatment with a z_score <0 and their z_scores,in the shape of tuples, i.e. a network\n",
    "# kinase_groups is a list of the groups in which we want to classify the kinases in the network\n",
    "# kg_colors is a list of the colors in which each kinase groups should appear in the visualization\n",
    "# treatment is the header of the column from which the z-scores for edges_list was extracted (i.e. name of the treatment)\n",
    "# output: A visualization of the network constructed from the edges list, in HTML format\n",
    "def network_visualization(edges_list, kinases, kg_colors, treatment):    \n",
    "    #Initialize a pyvis.network instance\n",
    "    networkgraph = Network(height='1000px',width='1000px', heading='')\n",
    "    \n",
    "    #Add each community of nodes with their assigned color\n",
    "    for n in range(len(kinases)):\n",
    "        for x in kinases[n]:\n",
    "            networkgraph.add_node(x, value=15000000000, title=x, label=x, color=kg_colors[n], mass=23)\n",
    "    \n",
    "    #Add the edges\n",
    "    networkgraph.add_edges(edges_list)\n",
    "    \n",
    "    #Make empty dictionary in which to store the degree of each kinase\n",
    "    degree_graphs = {}\n",
    "    #Save list of nodes to extract information such as kinases degree centrality\n",
    "    kinases_map = networkgraph.get_adj_list()\n",
    "\n",
    "    for node in networkgraph.nodes:\n",
    "        #Add degree to each kinase in the empty dictionary\n",
    "        degree_graphs[node[\"title\"]] = len(kinases_map[node[\"id\"]]) \n",
    "        #Add box showing degree + to which nodes each node is connected, which appears when the user hovers over a node on the network graph\n",
    "        node[\"title\"] += \" connected to \"+ str(len(kinases_map[node[\"id\"]])) +\" kinases:<br>\" + \"<br>\".join(kinases_map[node[\"id\"]]) \n",
    "        kinase = len(kinases_map[node[\"id\"]])\n",
    "        #Change the nodes to be bigger the higher their degree is\n",
    "        if  0 <=  kinase <= 19 :\n",
    "            node[\"value\"] = 100000\n",
    "\n",
    "        if  20 <=  kinase <= 29 :\n",
    "            node[\"value\"] = 1000000000\n",
    "\n",
    "        if  30 <=  kinase <= 39 :\n",
    "            node[\"value\"] = 2000000000\n",
    "\n",
    "        if  40 <=  kinase <= 49:\n",
    "            node[\"value\"] = 10000000000\n",
    "    \n",
    "        if  50 <=  kinase <= 59:\n",
    "            node[\"value\"] = 20000000000\n",
    "\n",
    "        if 60 <=  kinase <= 69:\n",
    "            node[\"value\"] = 30000000000\n",
    "        \n",
    "        if  70 <=  kinase:\n",
    "            node[\"value\"] = 40000000000\n",
    "    \n",
    "    #Settings regarding the appearance of the network\n",
    "    networkgraph.set_options(\"\"\"\n",
    "    var options = {\n",
    "    \"nodes\": {\n",
    "    \"borderWidth\": 1.5,\n",
    "        \"font\": {\n",
    "        \"size\": 80,\n",
    "        \"face\": \"verdana\"\n",
    "        }\n",
    "      },\n",
    "      \"edges\": {\n",
    "        \"color\": {\n",
    "          \"color\": \"rgba(192,187,223,1)\",\n",
    "          \"inherit\": true\n",
    "        },\n",
    "        \"font\": {\n",
    "          \"strokeWidth\": 6\n",
    "        },\n",
    "        \"hoverWidth\": 3.2,\n",
    "        \"smooth\": false\n",
    "      },\n",
    "      \"physics\": {\n",
    "        \"barnesHut\": {\n",
    "          \"springLength\": 1040\n",
    "        },\n",
    "        \"minVelocity\": 0.75\n",
    "      }\n",
    "    }\n",
    "    \"\"\")\n",
    "    \n",
    "    #Return visualization as HTML file\n",
    "    final_network = treatment + '[-]'\n",
    "    networkgraph.show('output_visualizations/network_visualization{}.html'.format(final_network))\n"
   ]
  },
  {
   "cell_type": "markdown",
   "metadata": {},
   "source": [
    "## 1.5 - Community strength calculation & display in heatmap"
   ]
  },
  {
   "cell_type": "code",
   "execution_count": 6,
   "metadata": {},
   "outputs": [],
   "source": [
    "# input: edges_list is a list corresponding to a treatment in the dataset, it's contents being the kinase interactions\n",
    "# in said treatment with a z_score <0 and their z_scores,in the shape of tuples, i.e. a network\n",
    "# community is a list of the kinases in the community of interest\n",
    "# output: dictionary of kinases and their community strength\n",
    "def cs_calculation(treat_int, edges, treatments, targets, communities, sign='−'):\n",
    "    #Calculate the community strength of each of the kinases in the two selected communities you are comparing\n",
    "    kin_cs = ['a'] * len(treat_int)\n",
    "    for n in range(len(treat_int)):\n",
    "        na = treat_int[n]\n",
    "        # Store kinase pairs in which both kinases are in the community of interest\n",
    "        community_edges = [x for x in edges[na] if x[0] in communities[na] and x[1] in communities[na]]\n",
    "        # Calculate the community strength of each of the kinases in the community and store as dictionary\n",
    "        kin_cs[n] = {kin:abs(round(sum([community_edges[n][2] for n in range(len(community_edges)) if community_edges[n][1]==kin or community_edges[n][0]==kin]), 2)) for kin in communities[na]}    \n",
    "    \n",
    "    #Combine two communities lists\n",
    "    kinases = list(dict.fromkeys(communities[treat_int[0]]+communities[treat_int[1]]))\n",
    "    #Get values for each of the kinases in the combined list in each of the communities\n",
    "    #If kinase is not in the community then the value is None\n",
    "    values = [[kin_cs[n][kin] if kin in communities[treat_int[n]] else None for kin in kinases]for n in [0,1]]\n",
    "    \n",
    "    #Define heatmap axis and text\n",
    "    x = kinases\n",
    "    #<sub></sub> for subscript, <sup></sup>\n",
    "    y = [ treatments[na]+'<sup>'+sign+'</sup>'+'<sub>('+targets[na]+')</sub>'+'<br>community strength</br>' for na in treat_int]\n",
    "    z = [values[0],values[1]]\n",
    "    \n",
    "    #kinases, treatment,  = list(zip(x, y, z))\n",
    "    \n",
    "    return [x,y,z]\n"
   ]
  },
  {
   "cell_type": "markdown",
   "metadata": {},
   "source": [
    "# 2 - Example 1 - Analysis and Results"
   ]
  },
  {
   "cell_type": "markdown",
   "metadata": {},
   "source": [
    "# Negative edges"
   ]
  },
  {
   "cell_type": "code",
   "execution_count": 7,
   "metadata": {},
   "outputs": [
    {
     "data": {
      "text/plain": [
       "['MEK.Trametinib_vs_Control',\n",
       " 'PI3K.GDC0941_vs_Control',\n",
       " 'AKT.AZD5363_vs_Control',\n",
       " 'ERK.GDC0994_vs_Control',\n",
       " 'CDK4.6.LY2835219_vs_Control',\n",
       " 'CDK2.1.9.AZD5438_vs_Control',\n",
       " 'TTK.CFI402257_vs_Control']"
      ]
     },
     "execution_count": 7,
     "metadata": {},
     "output_type": "execute_result"
    }
   ],
   "source": [
    "#Store dataset treatments names, kinase interactions (network edges) with a z-score < 0, and their z-scores (edges weight) \n",
    "[treatments, targets, negative_edges, negative_nodes] = dataset_info('input/PROJECT_DATASET_2.csv')\n",
    "#Main kinase targets of each of the treatments/inhibitors in the dataset\n",
    "targets = ['MAP2K1','PIK3CA','AKT1_2','MAPK1_3']\n",
    "\n",
    "treatments"
   ]
  },
  {
   "cell_type": "markdown",
   "metadata": {},
   "source": [
    "## 2.1 - Selected communities contents for networks trametinib(MAP2K1)[-], GDC0994(MAPK1_3), GDC0941(PI3K)[-], and AZD5363(AKT)[-]"
   ]
  },
  {
   "cell_type": "code",
   "execution_count": null,
   "metadata": {},
   "outputs": [],
   "source": [
    "#Please note that the following block of code takes a few minutes to run"
   ]
  },
  {
   "cell_type": "code",
   "execution_count": 219,
   "metadata": {},
   "outputs": [
    {
     "data": {
      "text/plain": [
       "['PIK3CA',\n",
       " 'MAP2K1',\n",
       " 'PRKACB',\n",
       " 'RPS6KA2',\n",
       " 'MAP3K1',\n",
       " 'MAPK1_3',\n",
       " 'MINK1',\n",
       " 'PIK3CB',\n",
       " 'AKT1_2',\n",
       " 'PDGFRB',\n",
       " 'PRKACA',\n",
       " 'PRKCI',\n",
       " 'YES1',\n",
       " 'CSNK1E',\n",
       " 'TTK',\n",
       " 'PLK1',\n",
       " 'TNK2',\n",
       " 'RPS6KB1',\n",
       " 'PAK3',\n",
       " 'PAK1',\n",
       " 'MTOR',\n",
       " 'LATS1',\n",
       " 'STK4']"
      ]
     },
     "execution_count": 219,
     "metadata": {},
     "output_type": "execute_result"
    }
   ],
   "source": [
    "#Store contents of communities identified in each network\n",
    "all_communities = ['a'] * len(targets)\n",
    "target_communities = ['a'] * len(targets)\n",
    "for n in list(range(0,len(targets))):\n",
    "    [A_asso,n_iter,labels, kin_communities, target_community] = converge_asso(negative_edges[n], target = targets[n])\n",
    "    #All identified communities\n",
    "    all_communities[n] = kin_communities\n",
    "    #Community containing the target\n",
    "    target_communities[n] = target_community\n",
    "\n",
    "#Because we noticed that when extracting the community of interest from the trametinib(MEK)[-] network with the converge_asso\n",
    "#function the contents of said community differ from run from run, for this network we run the community detection function (converge_asso)\n",
    "#50 times, and keep only the nodes that are present in the community in all 50 runs of the converge_asso function\n",
    "target_communities[0] = rep_check(50, negative_edges[0], targets[0])\n",
    "\n",
    "target_communities[0]"
   ]
  },
  {
   "cell_type": "markdown",
   "metadata": {},
   "source": [
    "### MEK/ERK communities contents"
   ]
  },
  {
   "cell_type": "code",
   "execution_count": 181,
   "metadata": {},
   "outputs": [],
   "source": [
    "#Community containing MAP2K1 in the trametinib(MEK)[-] network (column 1 , negative z-scores)\n",
    "#Community containing MAPK1_3 in the GDC0994(ERK)[-] network (column 4, negative z-scores)\n",
    "MEK_ERKcom = [target_communities[0],target_communities[3]]\n",
    "#Separate kinases in networks trametinib(MEK)[-] and GDC0994(ERK)[-] into:\n",
    "#Kinases not present in the community of interest of that network\n",
    "MEK_ERKnonc = [[x for x in negative_nodes[0] if x not in target_communities[0]],[x for x in negative_nodes[3] if x not in target_communities[3]]]\n",
    "#Kinases present in both communities\n",
    "MEK_ERKallc = [x for x in target_communities[0] if x in target_communities[3]]\n",
    "MEK_ERKallc = [MEK_ERKallc,MEK_ERKallc]\n",
    "#Kinases present in one of the communities, but not the other\n",
    "MEK_ERKinc = [[x for x in target_communities[0] if x not in target_communities[3]],[x for x in target_communities[3] if x not in target_communities[0]]]\n"
   ]
  },
  {
   "cell_type": "markdown",
   "metadata": {},
   "source": [
    "### PIK3CA/AKT communities contents"
   ]
  },
  {
   "cell_type": "code",
   "execution_count": 182,
   "metadata": {},
   "outputs": [],
   "source": [
    "#Community containing PIK3CA in the GDC0941(PI3K)[-] network (column 2, negative z-scores)\n",
    "#Community containing AKT1_2 in the AZD5363(AKT)[-] network (column 3, negative z-scores)\n",
    "PI3K_AKTcom = [target_communities[1], target_communities[2]]\n",
    "#Separate kinases in networks GDC0941(PI3K)[-] and AZD5363(AKT)[-] into:\n",
    "#Kinases not present in the community of interest of that network\n",
    "PI3K_AKTnonc = [[x for x in negative_nodes[1] if x not in target_communities[1]],[x for x in negative_nodes[2] if x not in target_communities[2]]]\n",
    "#Kinases present in both communities\n",
    "PI3K_AKTallc = [x for x in target_communities[1] if x in target_communities[2]]\n",
    "PI3K_AKTallc = [PI3K_AKTallc, PI3K_AKTallc]\n",
    "#Kinases present in one of the communities, but not the other\n",
    "PI3K_AKTinc = [[x for x in target_communities[1] if x not in target_communities[2]],[x for x in target_communities[2] if x not in target_communities[1]]]"
   ]
  },
  {
   "cell_type": "markdown",
   "metadata": {},
   "source": [
    "### Intersection and differences between communities"
   ]
  },
  {
   "cell_type": "code",
   "execution_count": 183,
   "metadata": {},
   "outputs": [],
   "source": [
    "nonc = [MEK_ERKnonc[0],PI3K_AKTnonc[0],PI3K_AKTnonc[1],MEK_ERKnonc[1]]\n",
    "allc = [MEK_ERKallc[0],PI3K_AKTallc[0],PI3K_AKTallc[1],MEK_ERKallc[1]]\n",
    "inc = [MEK_ERKinc[0],PI3K_AKTinc[0],PI3K_AKTinc[1],MEK_ERKinc[1]]\n",
    "        \n",
    "kinase_groups = list(zip(nonc,allc,inc))\n",
    "kinase_int = list(zip(allc,inc))"
   ]
  },
  {
   "cell_type": "markdown",
   "metadata": {},
   "source": [
    "### Target of each treatment and the community identified containing that target "
   ]
  },
  {
   "cell_type": "code",
   "execution_count": 184,
   "metadata": {},
   "outputs": [
    {
     "name": "stdout",
     "output_type": "stream",
     "text": [
      "MEK.Trametinib_vs_Control\n",
      "['PIK3CA', 'MAP2K1', 'PRKACB', 'RPS6KA2', 'MAP3K1', 'MAPK1_3', 'MINK1', 'PIK3CB', 'AKT1_2', 'PDGFRB', 'PRKACA', 'PRKCI', 'YES1', 'CSNK1E', 'TTK', 'PLK1', 'TNK2', 'RPS6KB1', 'PAK3', 'PAK1', 'MTOR', 'LATS1', 'STK4']\n",
      "PI3K.GDC0941_vs_Control\n",
      "[['CIT', 'CSNK1E', 'PRKCI', 'ABL1', 'LIMK1_2', 'PAK1', 'PAK3', 'PLK1', 'PIK3CA', 'TTK', 'MAP3K1', 'MAPK14', 'LATS1', 'TNK2', 'MAP4K5', 'MINK1', 'RPS6KA2', 'SRPK1', 'MTOR', 'YES1', 'PDGFRB', 'MAP2K1', 'STK3', 'AKT1_2', 'PRKACA', 'PAK4', 'PIK3CB', 'PRKACB', 'MAPKAPK2', 'RPS6KB1']]\n",
      "AKT.AZD5363_vs_Control\n",
      "[['CIT', 'MAP4K5', 'CDK2', 'CSNK1E', 'MINK1', 'SRPK1', 'PRKCI', 'ABL1', 'LIMK1_2', 'PAK1', 'PAK3', 'PLK1', 'TTK', 'PIK3CA', 'MAPK14', 'PIK3CB', 'LATS1', 'TNK2', 'MAP3K1', 'MTOR', 'AKT1_2', 'PRKACA', 'PRKACB', 'MAPKAPK2', 'RPS6KB1']]\n",
      "ERK.GDC0994_vs_Control\n",
      "[['MAPK1_3', 'PDGFRB', 'SRPK3', 'CDK9', 'TNK2', 'ARAF', 'MAP2K1', 'PRKCI', 'ROCK1_2']]\n"
     ]
    }
   ],
   "source": [
    "#Show the community contents of the selected communities in networks trametinib(MAP2K1)[-], GDC0941(PI3K)[-],\n",
    "#AZD5363(AKT)[-] and GDC0994(MAPK1_3), in that particular order\n",
    "for n in range(len(target_communities)):\n",
    "    print(treatments[n])\n",
    "    print(target_communities[n])"
   ]
  },
  {
   "cell_type": "markdown",
   "metadata": {},
   "source": [
    "## 2.2 - Network visualizations of networks trametinib(MAP2K1)[-], GDC0994(MAPK1_3), GDC0941(PI3K)[-], and AZD5363(AKT)[-]"
   ]
  },
  {
   "cell_type": "code",
   "execution_count": 23,
   "metadata": {},
   "outputs": [],
   "source": [
    "for n in range(len(target_communities)):\n",
    "    networkgraph = network_visualization(edges_list=negative_edges[n],kinases=kinase_groups[n],kg_colors=[\"#fcbb8b\", \"#857be3\", \"#baeeff\"], treatment=treatments[n])\n",
    "    "
   ]
  },
  {
   "cell_type": "markdown",
   "metadata": {},
   "source": [
    "## 2.3 - Network visualization of intersection between the selected communities of  trametinib(MAP2K1)[-], GDC0941(PI3K)[-] and AZD5363(AKT)[-]"
   ]
  },
  {
   "cell_type": "code",
   "execution_count": 185,
   "metadata": {},
   "outputs": [],
   "source": [
    "#Kinases present in the selected community of network trametinib(MAP2K1)[-], but not in the selected communities of \n",
    "#networks GDC0941(PIK3CA)[-] and AZD5363(AKT1_2)[-]\n",
    "#MAP2K1only = [x for x in communities[0] if x not in communities[1] and x not in communities[2]]\n",
    "#Kinases present accross the selected communities of networks trametinib(MAP2K1)[-], GDC0941(PIK3CA)[-] and AZD5363(AKT1_2)[-]\n",
    "intersection = [x for x in target_communities[0] if x in target_communities[1] and x in target_communities[2]]\n",
    "#Kinases present accross the selected communities of networks trametinib(MAP2K1)[-] and GDC0941(PIK3CA)[-], but not in the\n",
    "#selected community of network AZD5363(AKT)[-]\n",
    "MAP2K1_PIK3CA = [x for x in target_communities[0] if x in target_communities[1] and x not in target_communities[2]]\n",
    "#Kinases present accross the selected communities of networks AZD5363(AKT)[-] and GDC0941(PIK3CA)[-] but not trametinib(MAP2K1)[-]\n",
    "#and kinases present only in the selected communities of GDC0941(PIK3CA)[-] and AZD5363(AKT1_2)[-] networks\n",
    "#therest = [[x for x in communities[3] if x in communities[2] and x not in communities[0]],[x for x in communities[3] if x not in communities[2] and x not in communities[0]], [x for x in communities[2] if x not in communities[3] and x not in communities[0]]]\n",
    "\n",
    "kinase_groups = MAP2K1_PIK3CA, intersection\n",
    "kinases = list(itertools.chain(*kinase_groups))\n",
    "#Store kinase interactions across the three networks in which the two kinases are in any of the selected communities\n",
    "#edges = negative_edges[0] + negative_edges[1] + negative_edges[2]\n",
    "#edges = [(a,b,0) for a,b,c in edges if a in kinases and b in kinases]\n",
    "edges = [ [(a,b) for a,b,c in negative_edges[n]] for n in [0,1,2] ]\n",
    "edges = set(edges[0]).intersection(edges[1], edges[2])\n",
    "edges = [(a,b) for a,b in edges if a in kinases and b in kinases]\n",
    "\n",
    "#Intersection of communities visualized as a network\n",
    "networkgraph= network_visualization(edges_list=edges,kinases=kinase_groups,kg_colors=[\"#fcbb8b\", \"#857be3\", \"#baeeff\",\"green\"], treatment='intersection_MAP2K1_PIK3CA_AKT')\n"
   ]
  },
  {
   "cell_type": "markdown",
   "metadata": {},
   "source": [
    "## 2.4 - Community strength of the kinases in each of the selected communities of networks trametinib(MAP2K1)[-], GDC0941(PI3K)[-],AZD5363(AKT)[-] and GDC0994(MAPK1_3), visualized in heatmaps"
   ]
  },
  {
   "cell_type": "code",
   "execution_count": 200,
   "metadata": {},
   "outputs": [
    {
     "name": "stdout",
     "output_type": "stream",
     "text": [
      "1\n"
     ]
    },
    {
     "ename": "TypeError",
     "evalue": "unhashable type: 'list'",
     "output_type": "error",
     "traceback": [
      "\u001b[0;31m---------------------------------------------------------------------------\u001b[0m",
      "\u001b[0;31mTypeError\u001b[0m                                 Traceback (most recent call last)",
      "Cell \u001b[0;32mIn [200], line 17\u001b[0m\n\u001b[1;32m     15\u001b[0m \u001b[38;5;28mprint\u001b[39m(n)\n\u001b[1;32m     16\u001b[0m \u001b[38;5;66;03m#kin_cs[n] = {kin:abs(round(sum([community_edges[n][2] for n in range(len(community_edges)) if community_edges[n][1]==kin or community_edges[n][0]==kin]), 2)) for kin in communities[na]}  \u001b[39;00m\n\u001b[0;32m---> 17\u001b[0m kin_cs[n] \u001b[38;5;241m=\u001b[39m {kin:\u001b[38;5;124m'\u001b[39m\u001b[38;5;124mx\u001b[39m\u001b[38;5;124m'\u001b[39m \u001b[38;5;28;01mfor\u001b[39;00m kin \u001b[38;5;129;01min\u001b[39;00m communities[na]}\n\u001b[1;32m     19\u001b[0m kin_cs\n",
      "Cell \u001b[0;32mIn [200], line 17\u001b[0m, in \u001b[0;36m<dictcomp>\u001b[0;34m(.0)\u001b[0m\n\u001b[1;32m     15\u001b[0m \u001b[38;5;28mprint\u001b[39m(n)\n\u001b[1;32m     16\u001b[0m \u001b[38;5;66;03m#kin_cs[n] = {kin:abs(round(sum([community_edges[n][2] for n in range(len(community_edges)) if community_edges[n][1]==kin or community_edges[n][0]==kin]), 2)) for kin in communities[na]}  \u001b[39;00m\n\u001b[0;32m---> 17\u001b[0m kin_cs[n] \u001b[38;5;241m=\u001b[39m {kin:\u001b[38;5;124m'\u001b[39m\u001b[38;5;124mx\u001b[39m\u001b[38;5;124m'\u001b[39m \u001b[38;5;28;01mfor\u001b[39;00m kin \u001b[38;5;129;01min\u001b[39;00m communities[na]}\n\u001b[1;32m     19\u001b[0m kin_cs\n",
      "\u001b[0;31mTypeError\u001b[0m: unhashable type: 'list'"
     ]
    }
   ],
   "source": [
    "treat_int=[0,3]\n",
    "edges=negative_edges\n",
    "communities=target_communities\n",
    "treatments=treatments\n",
    "\n",
    "#Calculate the community strength of each of the kinases in the two selected communities you are comparing\n",
    "kin_cs = ['a'] * len(treat_int)\n",
    "\n",
    "n=1\n",
    "#for n in range(len(treat_int)):\n",
    "na = treat_int[n]\n",
    "# Store kinase pairs in which both kinases are in the community of interest\n",
    "community_edges = [x for x in edges[na] if x[0] in communities[na] and x[1] in communities[na]]\n",
    "# Calculate the community strength of each of the kinases in the community and store as dictionary\n",
    "print(n)\n",
    "#kin_cs[n] = {kin:abs(round(sum([community_edges[n][2] for n in range(len(community_edges)) if community_edges[n][1]==kin or community_edges[n][0]==kin]), 2)) for kin in communities[na]}  \n",
    "kin_cs[n] = {kin:'x' for kin in communities[na]}\n",
    "\n",
    "kin_cs\n"
   ]
  },
  {
   "cell_type": "code",
   "execution_count": null,
   "metadata": {},
   "outputs": [],
   "source": [
    "treat_int=[0,3]\n",
    "edges=negative_edges\n",
    "communities=target_communities\n",
    "treatments=treatments\n",
    "\n",
    "#Calculate the community strength of each of the kinases in the two selected communities you are comparing\n",
    "kin_cs = ['a'] * len(treat_int)\n",
    "for n in range(len(treat_int)):\n",
    "    na = treat_int[n]\n",
    "    # Store kinase pairs in which both kinases are in the community of interest\n",
    "    community_edges = [x for x in edges[na] if x[0] in communities[na] and x[1] in communities[na]]\n",
    "    # Calculate the community strength of each of the kinases in the community and store as dictionary\n",
    "    kin_cs[n] = {kin:abs(round(sum([community_edges[n][2] for n in range(len(community_edges)) if community_edges[n][1]==kin or community_edges[n][0]==kin]), 2)) for kin in communities[na]}    \n",
    "    \n",
    "#Combine two communities lists\n",
    "kinases = list(dict.fromkeys(communities[treat_int[0]]+communities[treat_int[1]]))\n",
    "#Get values for each of the kinases in the combined list in each of the communities\n",
    "#If kinase is not in the community then the value is None\n",
    "values = [[kin_cs[n][kin] if kin in communities[treat_int[n]] else None for kin in kinases]for n in [0,1]]\n",
    "    \n",
    "#Define heatmap axis and text\n",
    "x = kinases\n",
    "y = [ treatments[na]+'<br>community CS</br>' for na in treat_int]\n",
    "z = [values[0],values[1]]\n",
    "\n"
   ]
  },
  {
   "cell_type": "code",
   "execution_count": 240,
   "metadata": {},
   "outputs": [
    {
     "data": {
      "application/vnd.plotly.v1+json": {
       "config": {
        "plotlyServerURL": "https://plot.ly"
       },
       "data": [
        {
         "hoverongaps": false,
         "type": "heatmap",
         "x": [
          "PIK3CA",
          "MAP2K1",
          "PRKACB",
          "RPS6KA2",
          "MAP3K1",
          "MAPK1_3",
          "MINK1",
          "PIK3CB",
          "AKT1_2",
          "PDGFRB",
          "PRKACA",
          "PRKCI",
          "YES1",
          "CSNK1E",
          "TTK",
          "PLK1",
          "TNK2",
          "RPS6KB1",
          "PAK3",
          "PAK1",
          "MTOR",
          "LATS1",
          "STK4",
          "SRPK3",
          "CDK9",
          "ARAF",
          "ROCK1_2"
         ],
         "y": [
          "MEK.Trametinib_vs_Control<br>community CS</br>",
          "ERK.GDC0994_vs_Control<br>community CS</br>"
         ],
         "yaxis": "y2",
         "z": [
          [
           5.41,
           6.85,
           3.46,
           2.9,
           1.74,
           2.75,
           2.83,
           2.58,
           12.56,
           1.95,
           8.25,
           2.36,
           1.69,
           2.2,
           3.32,
           2.21,
           8.14,
           2.49,
           6.13,
           3.86,
           7.82,
           6,
           2.21,
           null,
           null,
           null,
           null
          ],
          [
           null,
           2.05,
           null,
           null,
           null,
           4.24,
           null,
           null,
           null,
           1.66,
           null,
           1.05,
           null,
           null,
           null,
           null,
           3.28,
           null,
           null,
           null,
           null,
           null,
           null,
           0.33,
           1.03,
           0.73,
           0.37
          ]
         ]
        }
       ],
       "layout": {
        "template": {
         "data": {
          "bar": [
           {
            "error_x": {
             "color": "#2a3f5f"
            },
            "error_y": {
             "color": "#2a3f5f"
            },
            "marker": {
             "line": {
              "color": "#E5ECF6",
              "width": 0.5
             },
             "pattern": {
              "fillmode": "overlay",
              "size": 10,
              "solidity": 0.2
             }
            },
            "type": "bar"
           }
          ],
          "barpolar": [
           {
            "marker": {
             "line": {
              "color": "#E5ECF6",
              "width": 0.5
             },
             "pattern": {
              "fillmode": "overlay",
              "size": 10,
              "solidity": 0.2
             }
            },
            "type": "barpolar"
           }
          ],
          "carpet": [
           {
            "aaxis": {
             "endlinecolor": "#2a3f5f",
             "gridcolor": "white",
             "linecolor": "white",
             "minorgridcolor": "white",
             "startlinecolor": "#2a3f5f"
            },
            "baxis": {
             "endlinecolor": "#2a3f5f",
             "gridcolor": "white",
             "linecolor": "white",
             "minorgridcolor": "white",
             "startlinecolor": "#2a3f5f"
            },
            "type": "carpet"
           }
          ],
          "choropleth": [
           {
            "colorbar": {
             "outlinewidth": 0,
             "ticks": ""
            },
            "type": "choropleth"
           }
          ],
          "contour": [
           {
            "colorbar": {
             "outlinewidth": 0,
             "ticks": ""
            },
            "colorscale": [
             [
              0,
              "#0d0887"
             ],
             [
              0.1111111111111111,
              "#46039f"
             ],
             [
              0.2222222222222222,
              "#7201a8"
             ],
             [
              0.3333333333333333,
              "#9c179e"
             ],
             [
              0.4444444444444444,
              "#bd3786"
             ],
             [
              0.5555555555555556,
              "#d8576b"
             ],
             [
              0.6666666666666666,
              "#ed7953"
             ],
             [
              0.7777777777777778,
              "#fb9f3a"
             ],
             [
              0.8888888888888888,
              "#fdca26"
             ],
             [
              1,
              "#f0f921"
             ]
            ],
            "type": "contour"
           }
          ],
          "contourcarpet": [
           {
            "colorbar": {
             "outlinewidth": 0,
             "ticks": ""
            },
            "type": "contourcarpet"
           }
          ],
          "heatmap": [
           {
            "colorbar": {
             "outlinewidth": 0,
             "ticks": ""
            },
            "colorscale": [
             [
              0,
              "#0d0887"
             ],
             [
              0.1111111111111111,
              "#46039f"
             ],
             [
              0.2222222222222222,
              "#7201a8"
             ],
             [
              0.3333333333333333,
              "#9c179e"
             ],
             [
              0.4444444444444444,
              "#bd3786"
             ],
             [
              0.5555555555555556,
              "#d8576b"
             ],
             [
              0.6666666666666666,
              "#ed7953"
             ],
             [
              0.7777777777777778,
              "#fb9f3a"
             ],
             [
              0.8888888888888888,
              "#fdca26"
             ],
             [
              1,
              "#f0f921"
             ]
            ],
            "type": "heatmap"
           }
          ],
          "heatmapgl": [
           {
            "colorbar": {
             "outlinewidth": 0,
             "ticks": ""
            },
            "colorscale": [
             [
              0,
              "#0d0887"
             ],
             [
              0.1111111111111111,
              "#46039f"
             ],
             [
              0.2222222222222222,
              "#7201a8"
             ],
             [
              0.3333333333333333,
              "#9c179e"
             ],
             [
              0.4444444444444444,
              "#bd3786"
             ],
             [
              0.5555555555555556,
              "#d8576b"
             ],
             [
              0.6666666666666666,
              "#ed7953"
             ],
             [
              0.7777777777777778,
              "#fb9f3a"
             ],
             [
              0.8888888888888888,
              "#fdca26"
             ],
             [
              1,
              "#f0f921"
             ]
            ],
            "type": "heatmapgl"
           }
          ],
          "histogram": [
           {
            "marker": {
             "pattern": {
              "fillmode": "overlay",
              "size": 10,
              "solidity": 0.2
             }
            },
            "type": "histogram"
           }
          ],
          "histogram2d": [
           {
            "colorbar": {
             "outlinewidth": 0,
             "ticks": ""
            },
            "colorscale": [
             [
              0,
              "#0d0887"
             ],
             [
              0.1111111111111111,
              "#46039f"
             ],
             [
              0.2222222222222222,
              "#7201a8"
             ],
             [
              0.3333333333333333,
              "#9c179e"
             ],
             [
              0.4444444444444444,
              "#bd3786"
             ],
             [
              0.5555555555555556,
              "#d8576b"
             ],
             [
              0.6666666666666666,
              "#ed7953"
             ],
             [
              0.7777777777777778,
              "#fb9f3a"
             ],
             [
              0.8888888888888888,
              "#fdca26"
             ],
             [
              1,
              "#f0f921"
             ]
            ],
            "type": "histogram2d"
           }
          ],
          "histogram2dcontour": [
           {
            "colorbar": {
             "outlinewidth": 0,
             "ticks": ""
            },
            "colorscale": [
             [
              0,
              "#0d0887"
             ],
             [
              0.1111111111111111,
              "#46039f"
             ],
             [
              0.2222222222222222,
              "#7201a8"
             ],
             [
              0.3333333333333333,
              "#9c179e"
             ],
             [
              0.4444444444444444,
              "#bd3786"
             ],
             [
              0.5555555555555556,
              "#d8576b"
             ],
             [
              0.6666666666666666,
              "#ed7953"
             ],
             [
              0.7777777777777778,
              "#fb9f3a"
             ],
             [
              0.8888888888888888,
              "#fdca26"
             ],
             [
              1,
              "#f0f921"
             ]
            ],
            "type": "histogram2dcontour"
           }
          ],
          "mesh3d": [
           {
            "colorbar": {
             "outlinewidth": 0,
             "ticks": ""
            },
            "type": "mesh3d"
           }
          ],
          "parcoords": [
           {
            "line": {
             "colorbar": {
              "outlinewidth": 0,
              "ticks": ""
             }
            },
            "type": "parcoords"
           }
          ],
          "pie": [
           {
            "automargin": true,
            "type": "pie"
           }
          ],
          "scatter": [
           {
            "fillpattern": {
             "fillmode": "overlay",
             "size": 10,
             "solidity": 0.2
            },
            "type": "scatter"
           }
          ],
          "scatter3d": [
           {
            "line": {
             "colorbar": {
              "outlinewidth": 0,
              "ticks": ""
             }
            },
            "marker": {
             "colorbar": {
              "outlinewidth": 0,
              "ticks": ""
             }
            },
            "type": "scatter3d"
           }
          ],
          "scattercarpet": [
           {
            "marker": {
             "colorbar": {
              "outlinewidth": 0,
              "ticks": ""
             }
            },
            "type": "scattercarpet"
           }
          ],
          "scattergeo": [
           {
            "marker": {
             "colorbar": {
              "outlinewidth": 0,
              "ticks": ""
             }
            },
            "type": "scattergeo"
           }
          ],
          "scattergl": [
           {
            "marker": {
             "colorbar": {
              "outlinewidth": 0,
              "ticks": ""
             }
            },
            "type": "scattergl"
           }
          ],
          "scattermapbox": [
           {
            "marker": {
             "colorbar": {
              "outlinewidth": 0,
              "ticks": ""
             }
            },
            "type": "scattermapbox"
           }
          ],
          "scatterpolar": [
           {
            "marker": {
             "colorbar": {
              "outlinewidth": 0,
              "ticks": ""
             }
            },
            "type": "scatterpolar"
           }
          ],
          "scatterpolargl": [
           {
            "marker": {
             "colorbar": {
              "outlinewidth": 0,
              "ticks": ""
             }
            },
            "type": "scatterpolargl"
           }
          ],
          "scatterternary": [
           {
            "marker": {
             "colorbar": {
              "outlinewidth": 0,
              "ticks": ""
             }
            },
            "type": "scatterternary"
           }
          ],
          "surface": [
           {
            "colorbar": {
             "outlinewidth": 0,
             "ticks": ""
            },
            "colorscale": [
             [
              0,
              "#0d0887"
             ],
             [
              0.1111111111111111,
              "#46039f"
             ],
             [
              0.2222222222222222,
              "#7201a8"
             ],
             [
              0.3333333333333333,
              "#9c179e"
             ],
             [
              0.4444444444444444,
              "#bd3786"
             ],
             [
              0.5555555555555556,
              "#d8576b"
             ],
             [
              0.6666666666666666,
              "#ed7953"
             ],
             [
              0.7777777777777778,
              "#fb9f3a"
             ],
             [
              0.8888888888888888,
              "#fdca26"
             ],
             [
              1,
              "#f0f921"
             ]
            ],
            "type": "surface"
           }
          ],
          "table": [
           {
            "cells": {
             "fill": {
              "color": "#EBF0F8"
             },
             "line": {
              "color": "white"
             }
            },
            "header": {
             "fill": {
              "color": "#C8D4E3"
             },
             "line": {
              "color": "white"
             }
            },
            "type": "table"
           }
          ]
         },
         "layout": {
          "annotationdefaults": {
           "arrowcolor": "#2a3f5f",
           "arrowhead": 0,
           "arrowwidth": 1
          },
          "autotypenumbers": "strict",
          "coloraxis": {
           "colorbar": {
            "outlinewidth": 0,
            "ticks": ""
           }
          },
          "colorscale": {
           "diverging": [
            [
             0,
             "#8e0152"
            ],
            [
             0.1,
             "#c51b7d"
            ],
            [
             0.2,
             "#de77ae"
            ],
            [
             0.3,
             "#f1b6da"
            ],
            [
             0.4,
             "#fde0ef"
            ],
            [
             0.5,
             "#f7f7f7"
            ],
            [
             0.6,
             "#e6f5d0"
            ],
            [
             0.7,
             "#b8e186"
            ],
            [
             0.8,
             "#7fbc41"
            ],
            [
             0.9,
             "#4d9221"
            ],
            [
             1,
             "#276419"
            ]
           ],
           "sequential": [
            [
             0,
             "#0d0887"
            ],
            [
             0.1111111111111111,
             "#46039f"
            ],
            [
             0.2222222222222222,
             "#7201a8"
            ],
            [
             0.3333333333333333,
             "#9c179e"
            ],
            [
             0.4444444444444444,
             "#bd3786"
            ],
            [
             0.5555555555555556,
             "#d8576b"
            ],
            [
             0.6666666666666666,
             "#ed7953"
            ],
            [
             0.7777777777777778,
             "#fb9f3a"
            ],
            [
             0.8888888888888888,
             "#fdca26"
            ],
            [
             1,
             "#f0f921"
            ]
           ],
           "sequentialminus": [
            [
             0,
             "#0d0887"
            ],
            [
             0.1111111111111111,
             "#46039f"
            ],
            [
             0.2222222222222222,
             "#7201a8"
            ],
            [
             0.3333333333333333,
             "#9c179e"
            ],
            [
             0.4444444444444444,
             "#bd3786"
            ],
            [
             0.5555555555555556,
             "#d8576b"
            ],
            [
             0.6666666666666666,
             "#ed7953"
            ],
            [
             0.7777777777777778,
             "#fb9f3a"
            ],
            [
             0.8888888888888888,
             "#fdca26"
            ],
            [
             1,
             "#f0f921"
            ]
           ]
          },
          "colorway": [
           "#636efa",
           "#EF553B",
           "#00cc96",
           "#ab63fa",
           "#FFA15A",
           "#19d3f3",
           "#FF6692",
           "#B6E880",
           "#FF97FF",
           "#FECB52"
          ],
          "font": {
           "color": "#2a3f5f"
          },
          "geo": {
           "bgcolor": "white",
           "lakecolor": "white",
           "landcolor": "#E5ECF6",
           "showlakes": true,
           "showland": true,
           "subunitcolor": "white"
          },
          "hoverlabel": {
           "align": "left"
          },
          "hovermode": "closest",
          "mapbox": {
           "style": "light"
          },
          "paper_bgcolor": "white",
          "plot_bgcolor": "#E5ECF6",
          "polar": {
           "angularaxis": {
            "gridcolor": "white",
            "linecolor": "white",
            "ticks": ""
           },
           "bgcolor": "#E5ECF6",
           "radialaxis": {
            "gridcolor": "white",
            "linecolor": "white",
            "ticks": ""
           }
          },
          "scene": {
           "xaxis": {
            "backgroundcolor": "#E5ECF6",
            "gridcolor": "white",
            "gridwidth": 2,
            "linecolor": "white",
            "showbackground": true,
            "ticks": "",
            "zerolinecolor": "white"
           },
           "yaxis": {
            "backgroundcolor": "#E5ECF6",
            "gridcolor": "white",
            "gridwidth": 2,
            "linecolor": "white",
            "showbackground": true,
            "ticks": "",
            "zerolinecolor": "white"
           },
           "zaxis": {
            "backgroundcolor": "#E5ECF6",
            "gridcolor": "white",
            "gridwidth": 2,
            "linecolor": "white",
            "showbackground": true,
            "ticks": "",
            "zerolinecolor": "white"
           }
          },
          "shapedefaults": {
           "line": {
            "color": "#2a3f5f"
           }
          },
          "ternary": {
           "aaxis": {
            "gridcolor": "white",
            "linecolor": "white",
            "ticks": ""
           },
           "baxis": {
            "gridcolor": "white",
            "linecolor": "white",
            "ticks": ""
           },
           "bgcolor": "#E5ECF6",
           "caxis": {
            "gridcolor": "white",
            "linecolor": "white",
            "ticks": ""
           }
          },
          "title": {
           "x": 0.05
          },
          "xaxis": {
           "automargin": true,
           "gridcolor": "white",
           "linecolor": "white",
           "ticks": "",
           "title": {
            "standoff": 15
           },
           "zerolinecolor": "white",
           "zerolinewidth": 2
          },
          "yaxis": {
           "automargin": true,
           "gridcolor": "white",
           "linecolor": "white",
           "ticks": "",
           "title": {
            "standoff": 15
           },
           "zerolinecolor": "white",
           "zerolinewidth": 2
          }
         }
        },
        "xaxis": {
         "domain": [
          0.21,
          1
         ]
        },
        "yaxis2": {
         "anchor": "free",
         "position": 0,
         "side": "right"
        }
       }
      },
      "text/html": [
       "<div>                            <div id=\"09130907-7786-46ea-8005-e17517b62d3f\" class=\"plotly-graph-div\" style=\"height:525px; width:100%;\"></div>            <script type=\"text/javascript\">                require([\"plotly\"], function(Plotly) {                    window.PLOTLYENV=window.PLOTLYENV || {};                                    if (document.getElementById(\"09130907-7786-46ea-8005-e17517b62d3f\")) {                    Plotly.newPlot(                        \"09130907-7786-46ea-8005-e17517b62d3f\",                        [{\"hoverongaps\":false,\"x\":[\"PIK3CA\",\"MAP2K1\",\"PRKACB\",\"RPS6KA2\",\"MAP3K1\",\"MAPK1_3\",\"MINK1\",\"PIK3CB\",\"AKT1_2\",\"PDGFRB\",\"PRKACA\",\"PRKCI\",\"YES1\",\"CSNK1E\",\"TTK\",\"PLK1\",\"TNK2\",\"RPS6KB1\",\"PAK3\",\"PAK1\",\"MTOR\",\"LATS1\",\"STK4\",\"SRPK3\",\"CDK9\",\"ARAF\",\"ROCK1_2\"],\"y\":[\"MEK.Trametinib_vs_Control<br>community CS</br>\",\"ERK.GDC0994_vs_Control<br>community CS</br>\"],\"yaxis\":\"y2\",\"z\":[[5.41,6.85,3.46,2.9,1.74,2.75,2.83,2.58,12.56,1.95,8.25,2.36,1.69,2.2,3.32,2.21,8.14,2.49,6.13,3.86,7.82,6.0,2.21,null,null,null,null],[null,2.05,null,null,null,4.24,null,null,null,1.66,null,1.05,null,null,null,null,3.28,null,null,null,null,null,null,0.33,1.03,0.73,0.37]],\"type\":\"heatmap\"}],                        {\"template\":{\"data\":{\"histogram2dcontour\":[{\"type\":\"histogram2dcontour\",\"colorbar\":{\"outlinewidth\":0,\"ticks\":\"\"},\"colorscale\":[[0.0,\"#0d0887\"],[0.1111111111111111,\"#46039f\"],[0.2222222222222222,\"#7201a8\"],[0.3333333333333333,\"#9c179e\"],[0.4444444444444444,\"#bd3786\"],[0.5555555555555556,\"#d8576b\"],[0.6666666666666666,\"#ed7953\"],[0.7777777777777778,\"#fb9f3a\"],[0.8888888888888888,\"#fdca26\"],[1.0,\"#f0f921\"]]}],\"choropleth\":[{\"type\":\"choropleth\",\"colorbar\":{\"outlinewidth\":0,\"ticks\":\"\"}}],\"histogram2d\":[{\"type\":\"histogram2d\",\"colorbar\":{\"outlinewidth\":0,\"ticks\":\"\"},\"colorscale\":[[0.0,\"#0d0887\"],[0.1111111111111111,\"#46039f\"],[0.2222222222222222,\"#7201a8\"],[0.3333333333333333,\"#9c179e\"],[0.4444444444444444,\"#bd3786\"],[0.5555555555555556,\"#d8576b\"],[0.6666666666666666,\"#ed7953\"],[0.7777777777777778,\"#fb9f3a\"],[0.8888888888888888,\"#fdca26\"],[1.0,\"#f0f921\"]]}],\"heatmap\":[{\"type\":\"heatmap\",\"colorbar\":{\"outlinewidth\":0,\"ticks\":\"\"},\"colorscale\":[[0.0,\"#0d0887\"],[0.1111111111111111,\"#46039f\"],[0.2222222222222222,\"#7201a8\"],[0.3333333333333333,\"#9c179e\"],[0.4444444444444444,\"#bd3786\"],[0.5555555555555556,\"#d8576b\"],[0.6666666666666666,\"#ed7953\"],[0.7777777777777778,\"#fb9f3a\"],[0.8888888888888888,\"#fdca26\"],[1.0,\"#f0f921\"]]}],\"heatmapgl\":[{\"type\":\"heatmapgl\",\"colorbar\":{\"outlinewidth\":0,\"ticks\":\"\"},\"colorscale\":[[0.0,\"#0d0887\"],[0.1111111111111111,\"#46039f\"],[0.2222222222222222,\"#7201a8\"],[0.3333333333333333,\"#9c179e\"],[0.4444444444444444,\"#bd3786\"],[0.5555555555555556,\"#d8576b\"],[0.6666666666666666,\"#ed7953\"],[0.7777777777777778,\"#fb9f3a\"],[0.8888888888888888,\"#fdca26\"],[1.0,\"#f0f921\"]]}],\"contourcarpet\":[{\"type\":\"contourcarpet\",\"colorbar\":{\"outlinewidth\":0,\"ticks\":\"\"}}],\"contour\":[{\"type\":\"contour\",\"colorbar\":{\"outlinewidth\":0,\"ticks\":\"\"},\"colorscale\":[[0.0,\"#0d0887\"],[0.1111111111111111,\"#46039f\"],[0.2222222222222222,\"#7201a8\"],[0.3333333333333333,\"#9c179e\"],[0.4444444444444444,\"#bd3786\"],[0.5555555555555556,\"#d8576b\"],[0.6666666666666666,\"#ed7953\"],[0.7777777777777778,\"#fb9f3a\"],[0.8888888888888888,\"#fdca26\"],[1.0,\"#f0f921\"]]}],\"surface\":[{\"type\":\"surface\",\"colorbar\":{\"outlinewidth\":0,\"ticks\":\"\"},\"colorscale\":[[0.0,\"#0d0887\"],[0.1111111111111111,\"#46039f\"],[0.2222222222222222,\"#7201a8\"],[0.3333333333333333,\"#9c179e\"],[0.4444444444444444,\"#bd3786\"],[0.5555555555555556,\"#d8576b\"],[0.6666666666666666,\"#ed7953\"],[0.7777777777777778,\"#fb9f3a\"],[0.8888888888888888,\"#fdca26\"],[1.0,\"#f0f921\"]]}],\"mesh3d\":[{\"type\":\"mesh3d\",\"colorbar\":{\"outlinewidth\":0,\"ticks\":\"\"}}],\"scatter\":[{\"fillpattern\":{\"fillmode\":\"overlay\",\"size\":10,\"solidity\":0.2},\"type\":\"scatter\"}],\"parcoords\":[{\"type\":\"parcoords\",\"line\":{\"colorbar\":{\"outlinewidth\":0,\"ticks\":\"\"}}}],\"scatterpolargl\":[{\"type\":\"scatterpolargl\",\"marker\":{\"colorbar\":{\"outlinewidth\":0,\"ticks\":\"\"}}}],\"bar\":[{\"error_x\":{\"color\":\"#2a3f5f\"},\"error_y\":{\"color\":\"#2a3f5f\"},\"marker\":{\"line\":{\"color\":\"#E5ECF6\",\"width\":0.5},\"pattern\":{\"fillmode\":\"overlay\",\"size\":10,\"solidity\":0.2}},\"type\":\"bar\"}],\"scattergeo\":[{\"type\":\"scattergeo\",\"marker\":{\"colorbar\":{\"outlinewidth\":0,\"ticks\":\"\"}}}],\"scatterpolar\":[{\"type\":\"scatterpolar\",\"marker\":{\"colorbar\":{\"outlinewidth\":0,\"ticks\":\"\"}}}],\"histogram\":[{\"marker\":{\"pattern\":{\"fillmode\":\"overlay\",\"size\":10,\"solidity\":0.2}},\"type\":\"histogram\"}],\"scattergl\":[{\"type\":\"scattergl\",\"marker\":{\"colorbar\":{\"outlinewidth\":0,\"ticks\":\"\"}}}],\"scatter3d\":[{\"type\":\"scatter3d\",\"line\":{\"colorbar\":{\"outlinewidth\":0,\"ticks\":\"\"}},\"marker\":{\"colorbar\":{\"outlinewidth\":0,\"ticks\":\"\"}}}],\"scattermapbox\":[{\"type\":\"scattermapbox\",\"marker\":{\"colorbar\":{\"outlinewidth\":0,\"ticks\":\"\"}}}],\"scatterternary\":[{\"type\":\"scatterternary\",\"marker\":{\"colorbar\":{\"outlinewidth\":0,\"ticks\":\"\"}}}],\"scattercarpet\":[{\"type\":\"scattercarpet\",\"marker\":{\"colorbar\":{\"outlinewidth\":0,\"ticks\":\"\"}}}],\"carpet\":[{\"aaxis\":{\"endlinecolor\":\"#2a3f5f\",\"gridcolor\":\"white\",\"linecolor\":\"white\",\"minorgridcolor\":\"white\",\"startlinecolor\":\"#2a3f5f\"},\"baxis\":{\"endlinecolor\":\"#2a3f5f\",\"gridcolor\":\"white\",\"linecolor\":\"white\",\"minorgridcolor\":\"white\",\"startlinecolor\":\"#2a3f5f\"},\"type\":\"carpet\"}],\"table\":[{\"cells\":{\"fill\":{\"color\":\"#EBF0F8\"},\"line\":{\"color\":\"white\"}},\"header\":{\"fill\":{\"color\":\"#C8D4E3\"},\"line\":{\"color\":\"white\"}},\"type\":\"table\"}],\"barpolar\":[{\"marker\":{\"line\":{\"color\":\"#E5ECF6\",\"width\":0.5},\"pattern\":{\"fillmode\":\"overlay\",\"size\":10,\"solidity\":0.2}},\"type\":\"barpolar\"}],\"pie\":[{\"automargin\":true,\"type\":\"pie\"}]},\"layout\":{\"autotypenumbers\":\"strict\",\"colorway\":[\"#636efa\",\"#EF553B\",\"#00cc96\",\"#ab63fa\",\"#FFA15A\",\"#19d3f3\",\"#FF6692\",\"#B6E880\",\"#FF97FF\",\"#FECB52\"],\"font\":{\"color\":\"#2a3f5f\"},\"hovermode\":\"closest\",\"hoverlabel\":{\"align\":\"left\"},\"paper_bgcolor\":\"white\",\"plot_bgcolor\":\"#E5ECF6\",\"polar\":{\"bgcolor\":\"#E5ECF6\",\"angularaxis\":{\"gridcolor\":\"white\",\"linecolor\":\"white\",\"ticks\":\"\"},\"radialaxis\":{\"gridcolor\":\"white\",\"linecolor\":\"white\",\"ticks\":\"\"}},\"ternary\":{\"bgcolor\":\"#E5ECF6\",\"aaxis\":{\"gridcolor\":\"white\",\"linecolor\":\"white\",\"ticks\":\"\"},\"baxis\":{\"gridcolor\":\"white\",\"linecolor\":\"white\",\"ticks\":\"\"},\"caxis\":{\"gridcolor\":\"white\",\"linecolor\":\"white\",\"ticks\":\"\"}},\"coloraxis\":{\"colorbar\":{\"outlinewidth\":0,\"ticks\":\"\"}},\"colorscale\":{\"sequential\":[[0.0,\"#0d0887\"],[0.1111111111111111,\"#46039f\"],[0.2222222222222222,\"#7201a8\"],[0.3333333333333333,\"#9c179e\"],[0.4444444444444444,\"#bd3786\"],[0.5555555555555556,\"#d8576b\"],[0.6666666666666666,\"#ed7953\"],[0.7777777777777778,\"#fb9f3a\"],[0.8888888888888888,\"#fdca26\"],[1.0,\"#f0f921\"]],\"sequentialminus\":[[0.0,\"#0d0887\"],[0.1111111111111111,\"#46039f\"],[0.2222222222222222,\"#7201a8\"],[0.3333333333333333,\"#9c179e\"],[0.4444444444444444,\"#bd3786\"],[0.5555555555555556,\"#d8576b\"],[0.6666666666666666,\"#ed7953\"],[0.7777777777777778,\"#fb9f3a\"],[0.8888888888888888,\"#fdca26\"],[1.0,\"#f0f921\"]],\"diverging\":[[0,\"#8e0152\"],[0.1,\"#c51b7d\"],[0.2,\"#de77ae\"],[0.3,\"#f1b6da\"],[0.4,\"#fde0ef\"],[0.5,\"#f7f7f7\"],[0.6,\"#e6f5d0\"],[0.7,\"#b8e186\"],[0.8,\"#7fbc41\"],[0.9,\"#4d9221\"],[1,\"#276419\"]]},\"xaxis\":{\"gridcolor\":\"white\",\"linecolor\":\"white\",\"ticks\":\"\",\"title\":{\"standoff\":15},\"zerolinecolor\":\"white\",\"automargin\":true,\"zerolinewidth\":2},\"yaxis\":{\"gridcolor\":\"white\",\"linecolor\":\"white\",\"ticks\":\"\",\"title\":{\"standoff\":15},\"zerolinecolor\":\"white\",\"automargin\":true,\"zerolinewidth\":2},\"scene\":{\"xaxis\":{\"backgroundcolor\":\"#E5ECF6\",\"gridcolor\":\"white\",\"linecolor\":\"white\",\"showbackground\":true,\"ticks\":\"\",\"zerolinecolor\":\"white\",\"gridwidth\":2},\"yaxis\":{\"backgroundcolor\":\"#E5ECF6\",\"gridcolor\":\"white\",\"linecolor\":\"white\",\"showbackground\":true,\"ticks\":\"\",\"zerolinecolor\":\"white\",\"gridwidth\":2},\"zaxis\":{\"backgroundcolor\":\"#E5ECF6\",\"gridcolor\":\"white\",\"linecolor\":\"white\",\"showbackground\":true,\"ticks\":\"\",\"zerolinecolor\":\"white\",\"gridwidth\":2}},\"shapedefaults\":{\"line\":{\"color\":\"#2a3f5f\"}},\"annotationdefaults\":{\"arrowcolor\":\"#2a3f5f\",\"arrowhead\":0,\"arrowwidth\":1},\"geo\":{\"bgcolor\":\"white\",\"landcolor\":\"#E5ECF6\",\"subunitcolor\":\"white\",\"showland\":true,\"showlakes\":true,\"lakecolor\":\"white\"},\"title\":{\"x\":0.05},\"mapbox\":{\"style\":\"light\"}}},\"xaxis\":{\"domain\":[0.21,1]},\"yaxis2\":{\"anchor\":\"free\",\"position\":0,\"side\":\"right\"}},                        {\"responsive\": true}                    ).then(function(){\n",
       "                            \n",
       "var gd = document.getElementById('09130907-7786-46ea-8005-e17517b62d3f');\n",
       "var x = new MutationObserver(function (mutations, observer) {{\n",
       "        var display = window.getComputedStyle(gd).display;\n",
       "        if (!display || display === 'none') {{\n",
       "            console.log([gd, 'removed!']);\n",
       "            Plotly.purge(gd);\n",
       "            observer.disconnect();\n",
       "        }}\n",
       "}});\n",
       "\n",
       "// Listen for the removal of the full notebook cells\n",
       "var notebookContainer = gd.closest('#notebook-container');\n",
       "if (notebookContainer) {{\n",
       "    x.observe(notebookContainer, {childList: true});\n",
       "}}\n",
       "\n",
       "// Listen for the clearing of the current output cell\n",
       "var outputEl = gd.closest('.output');\n",
       "if (outputEl) {{\n",
       "    x.observe(outputEl, {childList: true});\n",
       "}}\n",
       "\n",
       "                        })                };                });            </script>        </div>"
      ]
     },
     "metadata": {},
     "output_type": "display_data"
    }
   ],
   "source": [
    "#trametinib(MAP2K1)[-] and GDC0994(MAPK1_3)\n",
    "[x1,y1,z1] = cs_calculation(treat_int=[0,3], edges=negative_edges, communities=target_communities, treatments=treatments)\n",
    "\n",
    "# HEATMAP\n",
    "fig = go.Figure(data=go.Heatmap(\n",
    "                z=z1,\n",
    "                x=x1,\n",
    "                y=y1,\n",
    "                yaxis='y2',\n",
    "                hoverongaps = False))\n",
    "\n",
    "fig.update_layout(xaxis=dict(domain=[0.21,1]),\n",
    "                  yaxis2=dict(anchor='free', position= 0, side='right'))\n",
    "\n",
    "\n",
    "fig.show()\n"
   ]
  },
  {
   "cell_type": "code",
   "execution_count": 211,
   "metadata": {},
   "outputs": [
    {
     "data": {
      "application/vnd.plotly.v1+json": {
       "config": {
        "plotlyServerURL": "https://plot.ly"
       },
       "data": [
        {
         "hoverongaps": false,
         "type": "heatmap",
         "x": [
          "CIT",
          "CSNK1E",
          "PRKCI",
          "ABL1",
          "LIMK1_2",
          "PAK1",
          "PAK3",
          "PLK1",
          "PIK3CA",
          "TTK",
          "MAP3K1",
          "MAPK14",
          "LATS1",
          "TNK2",
          "MAP4K5",
          "MINK1",
          "RPS6KA2",
          "SRPK1",
          "MTOR",
          "YES1",
          "PDGFRB",
          "MAP2K1",
          "STK3",
          "AKT1_2",
          "PRKACA",
          "PAK4",
          "PIK3CB",
          "PRKACB",
          "MAPKAPK2",
          "RPS6KB1",
          "CDK2"
         ],
         "y": [
          "PI3K.GDC0941_vs_Control<sub>community CS</sub>",
          "AKT.AZD5363_vs_Control<sub>community CS</sub>"
         ],
         "z": [
          [
           15.15,
           5,
           6.03,
           12.39,
           18.09,
           18.56,
           15.25,
           9.75,
           38.57,
           30.59,
           7,
           3.12,
           15.38,
           14.14,
           6.08,
           13.05,
           4.09,
           11.12,
           29.05,
           12.92,
           3.47,
           4.69,
           6.33,
           35.89,
           15.71,
           7.37,
           6.56,
           8.5,
           7.82,
           4.22,
           null
          ],
          [
           18.75,
           6.22,
           5.01,
           8.86,
           30.72,
           4.87,
           11.87,
           7.48,
           45.47,
           28.07,
           4.22,
           2.28,
           14,
           4.92,
           4.47,
           10.76,
           null,
           7.54,
           27.88,
           null,
           null,
           null,
           null,
           43.31,
           14.64,
           null,
           8.56,
           7.08,
           6.81,
           3.34,
           5.15
          ]
         ]
        }
       ],
       "layout": {
        "template": {
         "data": {
          "bar": [
           {
            "error_x": {
             "color": "#2a3f5f"
            },
            "error_y": {
             "color": "#2a3f5f"
            },
            "marker": {
             "line": {
              "color": "#E5ECF6",
              "width": 0.5
             },
             "pattern": {
              "fillmode": "overlay",
              "size": 10,
              "solidity": 0.2
             }
            },
            "type": "bar"
           }
          ],
          "barpolar": [
           {
            "marker": {
             "line": {
              "color": "#E5ECF6",
              "width": 0.5
             },
             "pattern": {
              "fillmode": "overlay",
              "size": 10,
              "solidity": 0.2
             }
            },
            "type": "barpolar"
           }
          ],
          "carpet": [
           {
            "aaxis": {
             "endlinecolor": "#2a3f5f",
             "gridcolor": "white",
             "linecolor": "white",
             "minorgridcolor": "white",
             "startlinecolor": "#2a3f5f"
            },
            "baxis": {
             "endlinecolor": "#2a3f5f",
             "gridcolor": "white",
             "linecolor": "white",
             "minorgridcolor": "white",
             "startlinecolor": "#2a3f5f"
            },
            "type": "carpet"
           }
          ],
          "choropleth": [
           {
            "colorbar": {
             "outlinewidth": 0,
             "ticks": ""
            },
            "type": "choropleth"
           }
          ],
          "contour": [
           {
            "colorbar": {
             "outlinewidth": 0,
             "ticks": ""
            },
            "colorscale": [
             [
              0,
              "#0d0887"
             ],
             [
              0.1111111111111111,
              "#46039f"
             ],
             [
              0.2222222222222222,
              "#7201a8"
             ],
             [
              0.3333333333333333,
              "#9c179e"
             ],
             [
              0.4444444444444444,
              "#bd3786"
             ],
             [
              0.5555555555555556,
              "#d8576b"
             ],
             [
              0.6666666666666666,
              "#ed7953"
             ],
             [
              0.7777777777777778,
              "#fb9f3a"
             ],
             [
              0.8888888888888888,
              "#fdca26"
             ],
             [
              1,
              "#f0f921"
             ]
            ],
            "type": "contour"
           }
          ],
          "contourcarpet": [
           {
            "colorbar": {
             "outlinewidth": 0,
             "ticks": ""
            },
            "type": "contourcarpet"
           }
          ],
          "heatmap": [
           {
            "colorbar": {
             "outlinewidth": 0,
             "ticks": ""
            },
            "colorscale": [
             [
              0,
              "#0d0887"
             ],
             [
              0.1111111111111111,
              "#46039f"
             ],
             [
              0.2222222222222222,
              "#7201a8"
             ],
             [
              0.3333333333333333,
              "#9c179e"
             ],
             [
              0.4444444444444444,
              "#bd3786"
             ],
             [
              0.5555555555555556,
              "#d8576b"
             ],
             [
              0.6666666666666666,
              "#ed7953"
             ],
             [
              0.7777777777777778,
              "#fb9f3a"
             ],
             [
              0.8888888888888888,
              "#fdca26"
             ],
             [
              1,
              "#f0f921"
             ]
            ],
            "type": "heatmap"
           }
          ],
          "heatmapgl": [
           {
            "colorbar": {
             "outlinewidth": 0,
             "ticks": ""
            },
            "colorscale": [
             [
              0,
              "#0d0887"
             ],
             [
              0.1111111111111111,
              "#46039f"
             ],
             [
              0.2222222222222222,
              "#7201a8"
             ],
             [
              0.3333333333333333,
              "#9c179e"
             ],
             [
              0.4444444444444444,
              "#bd3786"
             ],
             [
              0.5555555555555556,
              "#d8576b"
             ],
             [
              0.6666666666666666,
              "#ed7953"
             ],
             [
              0.7777777777777778,
              "#fb9f3a"
             ],
             [
              0.8888888888888888,
              "#fdca26"
             ],
             [
              1,
              "#f0f921"
             ]
            ],
            "type": "heatmapgl"
           }
          ],
          "histogram": [
           {
            "marker": {
             "pattern": {
              "fillmode": "overlay",
              "size": 10,
              "solidity": 0.2
             }
            },
            "type": "histogram"
           }
          ],
          "histogram2d": [
           {
            "colorbar": {
             "outlinewidth": 0,
             "ticks": ""
            },
            "colorscale": [
             [
              0,
              "#0d0887"
             ],
             [
              0.1111111111111111,
              "#46039f"
             ],
             [
              0.2222222222222222,
              "#7201a8"
             ],
             [
              0.3333333333333333,
              "#9c179e"
             ],
             [
              0.4444444444444444,
              "#bd3786"
             ],
             [
              0.5555555555555556,
              "#d8576b"
             ],
             [
              0.6666666666666666,
              "#ed7953"
             ],
             [
              0.7777777777777778,
              "#fb9f3a"
             ],
             [
              0.8888888888888888,
              "#fdca26"
             ],
             [
              1,
              "#f0f921"
             ]
            ],
            "type": "histogram2d"
           }
          ],
          "histogram2dcontour": [
           {
            "colorbar": {
             "outlinewidth": 0,
             "ticks": ""
            },
            "colorscale": [
             [
              0,
              "#0d0887"
             ],
             [
              0.1111111111111111,
              "#46039f"
             ],
             [
              0.2222222222222222,
              "#7201a8"
             ],
             [
              0.3333333333333333,
              "#9c179e"
             ],
             [
              0.4444444444444444,
              "#bd3786"
             ],
             [
              0.5555555555555556,
              "#d8576b"
             ],
             [
              0.6666666666666666,
              "#ed7953"
             ],
             [
              0.7777777777777778,
              "#fb9f3a"
             ],
             [
              0.8888888888888888,
              "#fdca26"
             ],
             [
              1,
              "#f0f921"
             ]
            ],
            "type": "histogram2dcontour"
           }
          ],
          "mesh3d": [
           {
            "colorbar": {
             "outlinewidth": 0,
             "ticks": ""
            },
            "type": "mesh3d"
           }
          ],
          "parcoords": [
           {
            "line": {
             "colorbar": {
              "outlinewidth": 0,
              "ticks": ""
             }
            },
            "type": "parcoords"
           }
          ],
          "pie": [
           {
            "automargin": true,
            "type": "pie"
           }
          ],
          "scatter": [
           {
            "fillpattern": {
             "fillmode": "overlay",
             "size": 10,
             "solidity": 0.2
            },
            "type": "scatter"
           }
          ],
          "scatter3d": [
           {
            "line": {
             "colorbar": {
              "outlinewidth": 0,
              "ticks": ""
             }
            },
            "marker": {
             "colorbar": {
              "outlinewidth": 0,
              "ticks": ""
             }
            },
            "type": "scatter3d"
           }
          ],
          "scattercarpet": [
           {
            "marker": {
             "colorbar": {
              "outlinewidth": 0,
              "ticks": ""
             }
            },
            "type": "scattercarpet"
           }
          ],
          "scattergeo": [
           {
            "marker": {
             "colorbar": {
              "outlinewidth": 0,
              "ticks": ""
             }
            },
            "type": "scattergeo"
           }
          ],
          "scattergl": [
           {
            "marker": {
             "colorbar": {
              "outlinewidth": 0,
              "ticks": ""
             }
            },
            "type": "scattergl"
           }
          ],
          "scattermapbox": [
           {
            "marker": {
             "colorbar": {
              "outlinewidth": 0,
              "ticks": ""
             }
            },
            "type": "scattermapbox"
           }
          ],
          "scatterpolar": [
           {
            "marker": {
             "colorbar": {
              "outlinewidth": 0,
              "ticks": ""
             }
            },
            "type": "scatterpolar"
           }
          ],
          "scatterpolargl": [
           {
            "marker": {
             "colorbar": {
              "outlinewidth": 0,
              "ticks": ""
             }
            },
            "type": "scatterpolargl"
           }
          ],
          "scatterternary": [
           {
            "marker": {
             "colorbar": {
              "outlinewidth": 0,
              "ticks": ""
             }
            },
            "type": "scatterternary"
           }
          ],
          "surface": [
           {
            "colorbar": {
             "outlinewidth": 0,
             "ticks": ""
            },
            "colorscale": [
             [
              0,
              "#0d0887"
             ],
             [
              0.1111111111111111,
              "#46039f"
             ],
             [
              0.2222222222222222,
              "#7201a8"
             ],
             [
              0.3333333333333333,
              "#9c179e"
             ],
             [
              0.4444444444444444,
              "#bd3786"
             ],
             [
              0.5555555555555556,
              "#d8576b"
             ],
             [
              0.6666666666666666,
              "#ed7953"
             ],
             [
              0.7777777777777778,
              "#fb9f3a"
             ],
             [
              0.8888888888888888,
              "#fdca26"
             ],
             [
              1,
              "#f0f921"
             ]
            ],
            "type": "surface"
           }
          ],
          "table": [
           {
            "cells": {
             "fill": {
              "color": "#EBF0F8"
             },
             "line": {
              "color": "white"
             }
            },
            "header": {
             "fill": {
              "color": "#C8D4E3"
             },
             "line": {
              "color": "white"
             }
            },
            "type": "table"
           }
          ]
         },
         "layout": {
          "annotationdefaults": {
           "arrowcolor": "#2a3f5f",
           "arrowhead": 0,
           "arrowwidth": 1
          },
          "autotypenumbers": "strict",
          "coloraxis": {
           "colorbar": {
            "outlinewidth": 0,
            "ticks": ""
           }
          },
          "colorscale": {
           "diverging": [
            [
             0,
             "#8e0152"
            ],
            [
             0.1,
             "#c51b7d"
            ],
            [
             0.2,
             "#de77ae"
            ],
            [
             0.3,
             "#f1b6da"
            ],
            [
             0.4,
             "#fde0ef"
            ],
            [
             0.5,
             "#f7f7f7"
            ],
            [
             0.6,
             "#e6f5d0"
            ],
            [
             0.7,
             "#b8e186"
            ],
            [
             0.8,
             "#7fbc41"
            ],
            [
             0.9,
             "#4d9221"
            ],
            [
             1,
             "#276419"
            ]
           ],
           "sequential": [
            [
             0,
             "#0d0887"
            ],
            [
             0.1111111111111111,
             "#46039f"
            ],
            [
             0.2222222222222222,
             "#7201a8"
            ],
            [
             0.3333333333333333,
             "#9c179e"
            ],
            [
             0.4444444444444444,
             "#bd3786"
            ],
            [
             0.5555555555555556,
             "#d8576b"
            ],
            [
             0.6666666666666666,
             "#ed7953"
            ],
            [
             0.7777777777777778,
             "#fb9f3a"
            ],
            [
             0.8888888888888888,
             "#fdca26"
            ],
            [
             1,
             "#f0f921"
            ]
           ],
           "sequentialminus": [
            [
             0,
             "#0d0887"
            ],
            [
             0.1111111111111111,
             "#46039f"
            ],
            [
             0.2222222222222222,
             "#7201a8"
            ],
            [
             0.3333333333333333,
             "#9c179e"
            ],
            [
             0.4444444444444444,
             "#bd3786"
            ],
            [
             0.5555555555555556,
             "#d8576b"
            ],
            [
             0.6666666666666666,
             "#ed7953"
            ],
            [
             0.7777777777777778,
             "#fb9f3a"
            ],
            [
             0.8888888888888888,
             "#fdca26"
            ],
            [
             1,
             "#f0f921"
            ]
           ]
          },
          "colorway": [
           "#636efa",
           "#EF553B",
           "#00cc96",
           "#ab63fa",
           "#FFA15A",
           "#19d3f3",
           "#FF6692",
           "#B6E880",
           "#FF97FF",
           "#FECB52"
          ],
          "font": {
           "color": "#2a3f5f"
          },
          "geo": {
           "bgcolor": "white",
           "lakecolor": "white",
           "landcolor": "#E5ECF6",
           "showlakes": true,
           "showland": true,
           "subunitcolor": "white"
          },
          "hoverlabel": {
           "align": "left"
          },
          "hovermode": "closest",
          "mapbox": {
           "style": "light"
          },
          "paper_bgcolor": "white",
          "plot_bgcolor": "#E5ECF6",
          "polar": {
           "angularaxis": {
            "gridcolor": "white",
            "linecolor": "white",
            "ticks": ""
           },
           "bgcolor": "#E5ECF6",
           "radialaxis": {
            "gridcolor": "white",
            "linecolor": "white",
            "ticks": ""
           }
          },
          "scene": {
           "xaxis": {
            "backgroundcolor": "#E5ECF6",
            "gridcolor": "white",
            "gridwidth": 2,
            "linecolor": "white",
            "showbackground": true,
            "ticks": "",
            "zerolinecolor": "white"
           },
           "yaxis": {
            "backgroundcolor": "#E5ECF6",
            "gridcolor": "white",
            "gridwidth": 2,
            "linecolor": "white",
            "showbackground": true,
            "ticks": "",
            "zerolinecolor": "white"
           },
           "zaxis": {
            "backgroundcolor": "#E5ECF6",
            "gridcolor": "white",
            "gridwidth": 2,
            "linecolor": "white",
            "showbackground": true,
            "ticks": "",
            "zerolinecolor": "white"
           }
          },
          "shapedefaults": {
           "line": {
            "color": "#2a3f5f"
           }
          },
          "ternary": {
           "aaxis": {
            "gridcolor": "white",
            "linecolor": "white",
            "ticks": ""
           },
           "baxis": {
            "gridcolor": "white",
            "linecolor": "white",
            "ticks": ""
           },
           "bgcolor": "#E5ECF6",
           "caxis": {
            "gridcolor": "white",
            "linecolor": "white",
            "ticks": ""
           }
          },
          "title": {
           "x": 0.05
          },
          "xaxis": {
           "automargin": true,
           "gridcolor": "white",
           "linecolor": "white",
           "ticks": "",
           "title": {
            "standoff": 15
           },
           "zerolinecolor": "white",
           "zerolinewidth": 2
          },
          "yaxis": {
           "automargin": true,
           "gridcolor": "white",
           "linecolor": "white",
           "ticks": "",
           "title": {
            "standoff": 15
           },
           "zerolinecolor": "white",
           "zerolinewidth": 2
          }
         }
        }
       }
      },
      "text/html": [
       "<div>                            <div id=\"5e12cf16-0082-49c5-8c80-53cd7bd0c635\" class=\"plotly-graph-div\" style=\"height:525px; width:100%;\"></div>            <script type=\"text/javascript\">                require([\"plotly\"], function(Plotly) {                    window.PLOTLYENV=window.PLOTLYENV || {};                                    if (document.getElementById(\"5e12cf16-0082-49c5-8c80-53cd7bd0c635\")) {                    Plotly.newPlot(                        \"5e12cf16-0082-49c5-8c80-53cd7bd0c635\",                        [{\"hoverongaps\":false,\"x\":[\"CIT\",\"CSNK1E\",\"PRKCI\",\"ABL1\",\"LIMK1_2\",\"PAK1\",\"PAK3\",\"PLK1\",\"PIK3CA\",\"TTK\",\"MAP3K1\",\"MAPK14\",\"LATS1\",\"TNK2\",\"MAP4K5\",\"MINK1\",\"RPS6KA2\",\"SRPK1\",\"MTOR\",\"YES1\",\"PDGFRB\",\"MAP2K1\",\"STK3\",\"AKT1_2\",\"PRKACA\",\"PAK4\",\"PIK3CB\",\"PRKACB\",\"MAPKAPK2\",\"RPS6KB1\",\"CDK2\"],\"y\":[\"PI3K.GDC0941_vs_Control<sub>community CS</sub>\",\"AKT.AZD5363_vs_Control<sub>community CS</sub>\"],\"z\":[[15.15,5.0,6.03,12.39,18.09,18.56,15.25,9.75,38.57,30.59,7.0,3.12,15.38,14.14,6.08,13.05,4.09,11.12,29.05,12.92,3.47,4.69,6.33,35.89,15.71,7.37,6.56,8.5,7.82,4.22,null],[18.75,6.22,5.01,8.86,30.72,4.87,11.87,7.48,45.47,28.07,4.22,2.28,14.0,4.92,4.47,10.76,null,7.54,27.88,null,null,null,null,43.31,14.64,null,8.56,7.08,6.81,3.34,5.15]],\"type\":\"heatmap\"}],                        {\"template\":{\"data\":{\"histogram2dcontour\":[{\"type\":\"histogram2dcontour\",\"colorbar\":{\"outlinewidth\":0,\"ticks\":\"\"},\"colorscale\":[[0.0,\"#0d0887\"],[0.1111111111111111,\"#46039f\"],[0.2222222222222222,\"#7201a8\"],[0.3333333333333333,\"#9c179e\"],[0.4444444444444444,\"#bd3786\"],[0.5555555555555556,\"#d8576b\"],[0.6666666666666666,\"#ed7953\"],[0.7777777777777778,\"#fb9f3a\"],[0.8888888888888888,\"#fdca26\"],[1.0,\"#f0f921\"]]}],\"choropleth\":[{\"type\":\"choropleth\",\"colorbar\":{\"outlinewidth\":0,\"ticks\":\"\"}}],\"histogram2d\":[{\"type\":\"histogram2d\",\"colorbar\":{\"outlinewidth\":0,\"ticks\":\"\"},\"colorscale\":[[0.0,\"#0d0887\"],[0.1111111111111111,\"#46039f\"],[0.2222222222222222,\"#7201a8\"],[0.3333333333333333,\"#9c179e\"],[0.4444444444444444,\"#bd3786\"],[0.5555555555555556,\"#d8576b\"],[0.6666666666666666,\"#ed7953\"],[0.7777777777777778,\"#fb9f3a\"],[0.8888888888888888,\"#fdca26\"],[1.0,\"#f0f921\"]]}],\"heatmap\":[{\"type\":\"heatmap\",\"colorbar\":{\"outlinewidth\":0,\"ticks\":\"\"},\"colorscale\":[[0.0,\"#0d0887\"],[0.1111111111111111,\"#46039f\"],[0.2222222222222222,\"#7201a8\"],[0.3333333333333333,\"#9c179e\"],[0.4444444444444444,\"#bd3786\"],[0.5555555555555556,\"#d8576b\"],[0.6666666666666666,\"#ed7953\"],[0.7777777777777778,\"#fb9f3a\"],[0.8888888888888888,\"#fdca26\"],[1.0,\"#f0f921\"]]}],\"heatmapgl\":[{\"type\":\"heatmapgl\",\"colorbar\":{\"outlinewidth\":0,\"ticks\":\"\"},\"colorscale\":[[0.0,\"#0d0887\"],[0.1111111111111111,\"#46039f\"],[0.2222222222222222,\"#7201a8\"],[0.3333333333333333,\"#9c179e\"],[0.4444444444444444,\"#bd3786\"],[0.5555555555555556,\"#d8576b\"],[0.6666666666666666,\"#ed7953\"],[0.7777777777777778,\"#fb9f3a\"],[0.8888888888888888,\"#fdca26\"],[1.0,\"#f0f921\"]]}],\"contourcarpet\":[{\"type\":\"contourcarpet\",\"colorbar\":{\"outlinewidth\":0,\"ticks\":\"\"}}],\"contour\":[{\"type\":\"contour\",\"colorbar\":{\"outlinewidth\":0,\"ticks\":\"\"},\"colorscale\":[[0.0,\"#0d0887\"],[0.1111111111111111,\"#46039f\"],[0.2222222222222222,\"#7201a8\"],[0.3333333333333333,\"#9c179e\"],[0.4444444444444444,\"#bd3786\"],[0.5555555555555556,\"#d8576b\"],[0.6666666666666666,\"#ed7953\"],[0.7777777777777778,\"#fb9f3a\"],[0.8888888888888888,\"#fdca26\"],[1.0,\"#f0f921\"]]}],\"surface\":[{\"type\":\"surface\",\"colorbar\":{\"outlinewidth\":0,\"ticks\":\"\"},\"colorscale\":[[0.0,\"#0d0887\"],[0.1111111111111111,\"#46039f\"],[0.2222222222222222,\"#7201a8\"],[0.3333333333333333,\"#9c179e\"],[0.4444444444444444,\"#bd3786\"],[0.5555555555555556,\"#d8576b\"],[0.6666666666666666,\"#ed7953\"],[0.7777777777777778,\"#fb9f3a\"],[0.8888888888888888,\"#fdca26\"],[1.0,\"#f0f921\"]]}],\"mesh3d\":[{\"type\":\"mesh3d\",\"colorbar\":{\"outlinewidth\":0,\"ticks\":\"\"}}],\"scatter\":[{\"fillpattern\":{\"fillmode\":\"overlay\",\"size\":10,\"solidity\":0.2},\"type\":\"scatter\"}],\"parcoords\":[{\"type\":\"parcoords\",\"line\":{\"colorbar\":{\"outlinewidth\":0,\"ticks\":\"\"}}}],\"scatterpolargl\":[{\"type\":\"scatterpolargl\",\"marker\":{\"colorbar\":{\"outlinewidth\":0,\"ticks\":\"\"}}}],\"bar\":[{\"error_x\":{\"color\":\"#2a3f5f\"},\"error_y\":{\"color\":\"#2a3f5f\"},\"marker\":{\"line\":{\"color\":\"#E5ECF6\",\"width\":0.5},\"pattern\":{\"fillmode\":\"overlay\",\"size\":10,\"solidity\":0.2}},\"type\":\"bar\"}],\"scattergeo\":[{\"type\":\"scattergeo\",\"marker\":{\"colorbar\":{\"outlinewidth\":0,\"ticks\":\"\"}}}],\"scatterpolar\":[{\"type\":\"scatterpolar\",\"marker\":{\"colorbar\":{\"outlinewidth\":0,\"ticks\":\"\"}}}],\"histogram\":[{\"marker\":{\"pattern\":{\"fillmode\":\"overlay\",\"size\":10,\"solidity\":0.2}},\"type\":\"histogram\"}],\"scattergl\":[{\"type\":\"scattergl\",\"marker\":{\"colorbar\":{\"outlinewidth\":0,\"ticks\":\"\"}}}],\"scatter3d\":[{\"type\":\"scatter3d\",\"line\":{\"colorbar\":{\"outlinewidth\":0,\"ticks\":\"\"}},\"marker\":{\"colorbar\":{\"outlinewidth\":0,\"ticks\":\"\"}}}],\"scattermapbox\":[{\"type\":\"scattermapbox\",\"marker\":{\"colorbar\":{\"outlinewidth\":0,\"ticks\":\"\"}}}],\"scatterternary\":[{\"type\":\"scatterternary\",\"marker\":{\"colorbar\":{\"outlinewidth\":0,\"ticks\":\"\"}}}],\"scattercarpet\":[{\"type\":\"scattercarpet\",\"marker\":{\"colorbar\":{\"outlinewidth\":0,\"ticks\":\"\"}}}],\"carpet\":[{\"aaxis\":{\"endlinecolor\":\"#2a3f5f\",\"gridcolor\":\"white\",\"linecolor\":\"white\",\"minorgridcolor\":\"white\",\"startlinecolor\":\"#2a3f5f\"},\"baxis\":{\"endlinecolor\":\"#2a3f5f\",\"gridcolor\":\"white\",\"linecolor\":\"white\",\"minorgridcolor\":\"white\",\"startlinecolor\":\"#2a3f5f\"},\"type\":\"carpet\"}],\"table\":[{\"cells\":{\"fill\":{\"color\":\"#EBF0F8\"},\"line\":{\"color\":\"white\"}},\"header\":{\"fill\":{\"color\":\"#C8D4E3\"},\"line\":{\"color\":\"white\"}},\"type\":\"table\"}],\"barpolar\":[{\"marker\":{\"line\":{\"color\":\"#E5ECF6\",\"width\":0.5},\"pattern\":{\"fillmode\":\"overlay\",\"size\":10,\"solidity\":0.2}},\"type\":\"barpolar\"}],\"pie\":[{\"automargin\":true,\"type\":\"pie\"}]},\"layout\":{\"autotypenumbers\":\"strict\",\"colorway\":[\"#636efa\",\"#EF553B\",\"#00cc96\",\"#ab63fa\",\"#FFA15A\",\"#19d3f3\",\"#FF6692\",\"#B6E880\",\"#FF97FF\",\"#FECB52\"],\"font\":{\"color\":\"#2a3f5f\"},\"hovermode\":\"closest\",\"hoverlabel\":{\"align\":\"left\"},\"paper_bgcolor\":\"white\",\"plot_bgcolor\":\"#E5ECF6\",\"polar\":{\"bgcolor\":\"#E5ECF6\",\"angularaxis\":{\"gridcolor\":\"white\",\"linecolor\":\"white\",\"ticks\":\"\"},\"radialaxis\":{\"gridcolor\":\"white\",\"linecolor\":\"white\",\"ticks\":\"\"}},\"ternary\":{\"bgcolor\":\"#E5ECF6\",\"aaxis\":{\"gridcolor\":\"white\",\"linecolor\":\"white\",\"ticks\":\"\"},\"baxis\":{\"gridcolor\":\"white\",\"linecolor\":\"white\",\"ticks\":\"\"},\"caxis\":{\"gridcolor\":\"white\",\"linecolor\":\"white\",\"ticks\":\"\"}},\"coloraxis\":{\"colorbar\":{\"outlinewidth\":0,\"ticks\":\"\"}},\"colorscale\":{\"sequential\":[[0.0,\"#0d0887\"],[0.1111111111111111,\"#46039f\"],[0.2222222222222222,\"#7201a8\"],[0.3333333333333333,\"#9c179e\"],[0.4444444444444444,\"#bd3786\"],[0.5555555555555556,\"#d8576b\"],[0.6666666666666666,\"#ed7953\"],[0.7777777777777778,\"#fb9f3a\"],[0.8888888888888888,\"#fdca26\"],[1.0,\"#f0f921\"]],\"sequentialminus\":[[0.0,\"#0d0887\"],[0.1111111111111111,\"#46039f\"],[0.2222222222222222,\"#7201a8\"],[0.3333333333333333,\"#9c179e\"],[0.4444444444444444,\"#bd3786\"],[0.5555555555555556,\"#d8576b\"],[0.6666666666666666,\"#ed7953\"],[0.7777777777777778,\"#fb9f3a\"],[0.8888888888888888,\"#fdca26\"],[1.0,\"#f0f921\"]],\"diverging\":[[0,\"#8e0152\"],[0.1,\"#c51b7d\"],[0.2,\"#de77ae\"],[0.3,\"#f1b6da\"],[0.4,\"#fde0ef\"],[0.5,\"#f7f7f7\"],[0.6,\"#e6f5d0\"],[0.7,\"#b8e186\"],[0.8,\"#7fbc41\"],[0.9,\"#4d9221\"],[1,\"#276419\"]]},\"xaxis\":{\"gridcolor\":\"white\",\"linecolor\":\"white\",\"ticks\":\"\",\"title\":{\"standoff\":15},\"zerolinecolor\":\"white\",\"automargin\":true,\"zerolinewidth\":2},\"yaxis\":{\"gridcolor\":\"white\",\"linecolor\":\"white\",\"ticks\":\"\",\"title\":{\"standoff\":15},\"zerolinecolor\":\"white\",\"automargin\":true,\"zerolinewidth\":2},\"scene\":{\"xaxis\":{\"backgroundcolor\":\"#E5ECF6\",\"gridcolor\":\"white\",\"linecolor\":\"white\",\"showbackground\":true,\"ticks\":\"\",\"zerolinecolor\":\"white\",\"gridwidth\":2},\"yaxis\":{\"backgroundcolor\":\"#E5ECF6\",\"gridcolor\":\"white\",\"linecolor\":\"white\",\"showbackground\":true,\"ticks\":\"\",\"zerolinecolor\":\"white\",\"gridwidth\":2},\"zaxis\":{\"backgroundcolor\":\"#E5ECF6\",\"gridcolor\":\"white\",\"linecolor\":\"white\",\"showbackground\":true,\"ticks\":\"\",\"zerolinecolor\":\"white\",\"gridwidth\":2}},\"shapedefaults\":{\"line\":{\"color\":\"#2a3f5f\"}},\"annotationdefaults\":{\"arrowcolor\":\"#2a3f5f\",\"arrowhead\":0,\"arrowwidth\":1},\"geo\":{\"bgcolor\":\"white\",\"landcolor\":\"#E5ECF6\",\"subunitcolor\":\"white\",\"showland\":true,\"showlakes\":true,\"lakecolor\":\"white\"},\"title\":{\"x\":0.05},\"mapbox\":{\"style\":\"light\"}}}},                        {\"responsive\": true}                    ).then(function(){\n",
       "                            \n",
       "var gd = document.getElementById('5e12cf16-0082-49c5-8c80-53cd7bd0c635');\n",
       "var x = new MutationObserver(function (mutations, observer) {{\n",
       "        var display = window.getComputedStyle(gd).display;\n",
       "        if (!display || display === 'none') {{\n",
       "            console.log([gd, 'removed!']);\n",
       "            Plotly.purge(gd);\n",
       "            observer.disconnect();\n",
       "        }}\n",
       "}});\n",
       "\n",
       "// Listen for the removal of the full notebook cells\n",
       "var notebookContainer = gd.closest('#notebook-container');\n",
       "if (notebookContainer) {{\n",
       "    x.observe(notebookContainer, {childList: true});\n",
       "}}\n",
       "\n",
       "// Listen for the clearing of the current output cell\n",
       "var outputEl = gd.closest('.output');\n",
       "if (outputEl) {{\n",
       "    x.observe(outputEl, {childList: true});\n",
       "}}\n",
       "\n",
       "                        })                };                });            </script>        </div>"
      ]
     },
     "metadata": {},
     "output_type": "display_data"
    }
   ],
   "source": [
    "#GDC0941(PI3K)[-] and AZD5363(AKT)[-]\n",
    "[x2,y2,z2] = cs_calculation(treat_int=[1,2], edges=negative_edges, communities=target_communities, treatments=treatments)\n",
    "\n",
    "# HEATMAP\n",
    "fig = go.Figure(data=go.Heatmap(\n",
    "                z=z2,\n",
    "                x=x2,\n",
    "                y=y2,\n",
    "                hoverongaps = False))\n",
    "fig.show()"
   ]
  },
  {
   "cell_type": "markdown",
   "metadata": {},
   "source": [
    "## 2.5 - Saving the edges and nodes of each community as dataframes"
   ]
  },
  {
   "cell_type": "markdown",
   "metadata": {},
   "source": [
    "## Individual communities"
   ]
  },
  {
   "cell_type": "code",
   "execution_count": 170,
   "metadata": {},
   "outputs": [],
   "source": [
    "#Save nodes and edges as dataframe to make nice visualizations in R\n",
    "\n",
    "#nodes community strength\n",
    "nodes_cs = list(zip([x1]+[x1],z1)) + list(zip([x2]+[x2],z2)) \n",
    "nodes_cs = [nodes_cs[0]] + [nodes_cs[2]] + [nodes_cs[3]] + [nodes_cs[1]]\n",
    "\n",
    "#Filter to keep edges of interest only\n",
    "negative_edges_com = [ [x for x in negative_edges[n] if (x[0] in list(itertools.chain(*kinase_int[n])) and x[1] in list(itertools.chain(*kinase_int[n])) ) ] for n in range(4)]\n",
    "#Add weight to draw edges\n",
    "negative_edges_pos = [ [ (*x , abs(x[2])*10 ) for x in network] for network in negative_edges_com ]\n",
    "\n",
    "#Add community + color to nodes\n",
    "nodes_inf = []\n",
    "for n in range(len(kinase_int)):\n",
    "    nodes_inf0 = list(zip( kinase_int[n][0], ['kinases present exclusively in this SC']*len(kinase_int[n][0]) ,  ['#96efff']* len(kinase_int[n][0]) )) \n",
    "    nodes_inf1 = list(zip(kinase_int[n][1], ['kinases present in both SCs']*len(kinase_int[n][1]) ,  ['#FFDB33']* len(kinase_int[n][1]) )) \n",
    "    nodes_inf_sum = nodes_inf0 + nodes_inf1\n",
    "    nodes_df = pd.DataFrame( nodes_inf_sum, columns=['id', 'group', 'color'])\n",
    "    #add community strength\n",
    "    nodes_cs_df = pd.DataFrame( list(zip(nodes_cs[n][0], nodes_cs[n][1])) , columns = ['id','community_strength'] )\n",
    "    nodes_df_add = pd.merge(nodes_df, nodes_cs_df, on='id')\n",
    "    #save nodes as csv file\n",
    "    nodes_df_add.to_csv('output_dataframes/{}_nodes.csv'.format(treatments[n]))\n",
    "    #save edges as csv file\n",
    "    edges_df = pd.DataFrame(negative_edges_pos[n], columns=['from','to','z-score','weight'])\n",
    "    edges_df.to_csv('output_dataframes/{}_edges.csv'.format(treatments[n]))\n",
    "\n"
   ]
  },
  {
   "cell_type": "code",
   "execution_count": null,
   "metadata": {},
   "outputs": [],
   "source": [
    "## Intersection of trametinib, GDC0941 and AZD5363"
   ]
  },
  {
   "cell_type": "code",
   "execution_count": 171,
   "metadata": {},
   "outputs": [],
   "source": [
    "#Calculate average edge weights across the three networks\n",
    "edges_MAP2K1_PIK3CA_AKT = [ { (edge[0],edge[1]):abs(edge[2]) for edge in negative_edges[n]} for n in [0,1,2]  ]   \n",
    "edges_MAP2K1_PIK3CA_AKT_sum = dict( functools.reduce(operator.add, map(collections.Counter, xx))  )\n",
    "edges_MAP2K1_PIK3CA_AKT_ave = [ (*key, (result[key]/3)) for key in edges ]\n",
    "\n",
    "#Save nodes and edges as dataframe to make nice network visualizations in R\n",
    "edges_df = pd.DataFrame(edges_MAP2K1_PIK3CA_AKT_ave, columns=['from','to','weight'])\n",
    "edges_df.to_csv('output_dataframes/MAP2K1_PIK3CA_AKT_edges.csv')\n",
    "\n",
    "intersection_x = list(zip(intersection, ['MAP2K1_PIK3CA_AKT'] * len(intersection), ['#96efff']* len(intersection) ) )\n",
    "MAP2K1_PIK3CA_x = list(zip(MAP2K1_PIK3CA, ['MAP2K1_PIK3CA_notAKT']*len(MAP2K1_PIK3CA), ['#FFDB33']* len(MAP2K1_PIK3CA) ) )\n",
    "nodes = intersection_x + MAP2K1_PIK3CA_x\n",
    "nodes_df = pd.DataFrame( nodes, columns=['id', 'group', 'color'])\n",
    "\n",
    "nodes_df.to_csv('output_dataframes/MAP2K1_PIK3CA_AKT_nodes.csv')"
   ]
  },
  {
   "cell_type": "markdown",
   "metadata": {},
   "source": [
    "# Positive edges"
   ]
  },
  {
   "cell_type": "code",
   "execution_count": 70,
   "metadata": {},
   "outputs": [],
   "source": [
    "#Store dataset treatments names, kinase interactions (network edges) with a z-score < 0, and their z-scores (edges weight) \n",
    "[treatments,positive_edges, positive_nodes] = dataset_info('input/PROJECT_DATASET_2.csv', sign = 'pos')"
   ]
  },
  {
   "cell_type": "code",
   "execution_count": null,
   "metadata": {},
   "outputs": [],
   "source": [
    "#Store contents of communities identified in each network\n",
    "all_pos_communities = ['a'] * 4\n",
    "for n in list(range(0,4)):\n",
    "    [A_asso,n_iter,labels, kin_communities, target_community] = converge_asso(positive_edges[n])\n",
    "    #All identified communities\n",
    "    all_pos_communities[n] = kin_communities"
   ]
  },
  {
   "cell_type": "code",
   "execution_count": 79,
   "metadata": {},
   "outputs": [
    {
     "name": "stdout",
     "output_type": "stream",
     "text": [
      "MAP2K1\n"
     ]
    },
    {
     "data": {
      "text/plain": [
       "[['ARAF',\n",
       "  'ERN1',\n",
       "  'CAMKK2',\n",
       "  'CIT',\n",
       "  'TAOK3',\n",
       "  'IRAK1',\n",
       "  'MAP4K5',\n",
       "  'MAPK14',\n",
       "  'PDGFRB',\n",
       "  'CDK2',\n",
       "  'CSNK1E',\n",
       "  'MAP3K1',\n",
       "  'MAP4K4',\n",
       "  'YES1',\n",
       "  'MAPK1_3',\n",
       "  'MINK1',\n",
       "  'SRPK1',\n",
       "  'PRKCI',\n",
       "  'SRPK3',\n",
       "  'KIT',\n",
       "  'MAPK9',\n",
       "  'PLK1',\n",
       "  'RPS6KA2',\n",
       "  'CDK4',\n",
       "  'TTK',\n",
       "  'PAK3',\n",
       "  'ROCK1_2'],\n",
       " ['CDK9', 'ABL2', 'FYN', 'MELK', 'CDK17', 'ULK1', 'CDK6', 'SIK2'],\n",
       " ['PIK3CA', 'ABL1', 'AKT1_2', 'MAPKAPK2'],\n",
       " ['TNK2', 'MAP3K3', 'CSNK2A2'],\n",
       " ['PRKACA', 'LATS1', 'LIMK1_2'],\n",
       " ['PAK1', 'PAK4', 'RPS6KA4'],\n",
       " ['STK4', 'PIK3CB'],\n",
       " ['CDKL5'],\n",
       " ['CAMK2D'],\n",
       " ['PKN2'],\n",
       " ['CLK1'],\n",
       " ['MAP2K1'],\n",
       " ['CDK1'],\n",
       " ['CAMK2A'],\n",
       " ['RPS6KA6'],\n",
       " ['MAST1'],\n",
       " ['STK3'],\n",
       " ['PHKG2'],\n",
       " ['MARK3'],\n",
       " ['RPS6KA3'],\n",
       " ['CDK5']]"
      ]
     },
     "execution_count": 79,
     "metadata": {},
     "output_type": "execute_result"
    }
   ],
   "source": [
    "n=0\n",
    "print(targets[n])\n",
    "all_pos_communities[n]"
   ]
  },
  {
   "cell_type": "markdown",
   "metadata": {},
   "source": [
    "# 3 - Example 2 - Analysis and Results"
   ]
  },
  {
   "cell_type": "markdown",
   "metadata": {},
   "source": [
    "# Negative edges"
   ]
  },
  {
   "cell_type": "code",
   "execution_count": 118,
   "metadata": {},
   "outputs": [],
   "source": [
    "#Store dataset treatments names, kinase interactions (network edges) with a z-score < 0, and their z-scores (edges weight) \n",
    "[treatments2,negative_edges2, negative_nodes2] = dataset_info('input/example2_edges_zscores.csv')\n",
    "#Main kinase targets of each of the treatments/inhibitors in the dataset\n",
    "targets2 = ['MTOR']"
   ]
  },
  {
   "cell_type": "code",
   "execution_count": 148,
   "metadata": {},
   "outputs": [
    {
     "data": {
      "text/plain": [
       "['MAPK1_3',\n",
       " 'SRPK3',\n",
       " 'PDGFRB',\n",
       " 'LIMK1_2',\n",
       " 'TTK',\n",
       " 'MTOR',\n",
       " 'ROCK1_2',\n",
       " 'TNK2',\n",
       " 'PAK3',\n",
       " 'SRPK1',\n",
       " 'AKT1_2',\n",
       " 'ABL1']"
      ]
     },
     "execution_count": 148,
     "metadata": {},
     "output_type": "execute_result"
    }
   ],
   "source": [
    "#Store contents of communities identified in each network\n",
    "[A_asso,n_iter,labels, kin_communities, target_community] = converge_asso(edges_list=negative_edges2[0], target=targets2[0])\n",
    "#All identified communities\n",
    "all_communities2 = kin_communities\n",
    "#Because we noticed that when extracting the community of interest with the converge_asso\n",
    "#function the contents of said community differ from run from run, for this network we run the community detection function (converge_asso)\n",
    "#50 times, and keep only the nodes that are present in the community in all 50 runs of the converge_asso function\n",
    "target_communities2 = rep_check(50, negative_edges2[0], targets2[0])\n",
    "\n",
    "target_communities2"
   ]
  },
  {
   "cell_type": "markdown",
   "metadata": {},
   "source": [
    "# Positive edges"
   ]
  },
  {
   "cell_type": "code",
   "execution_count": 149,
   "metadata": {},
   "outputs": [],
   "source": [
    "#Store dataset treatments names, kinase interactions (network edges) with a z-score < 0, and their z-scores (edges weight) \n",
    "[treatments2,positive_edges2, positive_nodes2] = dataset_info('input/example2_edges_zscores.csv', sign='pos')\n"
   ]
  },
  {
   "cell_type": "code",
   "execution_count": 150,
   "metadata": {},
   "outputs": [
    {
     "data": {
      "text/plain": [
       "[['ERN1',\n",
       "  'PDGFRB',\n",
       "  'MAPK1_3',\n",
       "  'PRKCI',\n",
       "  'PLK1',\n",
       "  'TNK2',\n",
       "  'AKT1_2',\n",
       "  'PIK3CA',\n",
       "  'MAP2K1',\n",
       "  'STK3',\n",
       "  'SRPK3',\n",
       "  'MTOR',\n",
       "  'STK4',\n",
       "  'HIPK3',\n",
       "  'MAP3K2',\n",
       "  'CDK4',\n",
       "  'MAPKAPK2',\n",
       "  'RPS6KB1']]"
      ]
     },
     "execution_count": 150,
     "metadata": {},
     "output_type": "execute_result"
    }
   ],
   "source": [
    "#Store contents of communities identified in each network\n",
    "[A_asso,n_iter,labels, kin_communities, target_community] = converge_asso(positive_edges2[0], target=targets2[0])\n",
    "#All identified communities\n",
    "pos_all_communities2 = kin_communities\n",
    "#Community containing the target\n",
    "pos_target_communities2 = target_community\n",
    "\n",
    "pos_target_communities2"
   ]
  },
  {
   "cell_type": "markdown",
   "metadata": {},
   "source": [
    "# Comparisson of MTOR community in negative and positive edges"
   ]
  },
  {
   "cell_type": "code",
   "execution_count": 171,
   "metadata": {},
   "outputs": [
    {
     "name": "stdout",
     "output_type": "stream",
     "text": [
      "10⁺₍STRING₎\n",
      "10⁻\n"
     ]
    }
   ],
   "source": [
    "SUB = str.maketrans(\"0123456789ABCDEFGHIJKLMNOPQRSTUVWXYZ\", \"₀₁₂₃₄₅₆₇₈₉ₐ₈CDₑբGₕᵢⱼₖₗₘₙₒₚQᵣₛₜᵤᵥwₓᵧZₐ♭꜀ᑯₑբ₉ₕᵢⱼₖₗₘₙₒₚ૧ᵣₛₜᵤᵥwₓᵧ\")\n",
    "print(\"10\\u207A\\u208DSTRING\\u208E\")\n",
    "print(\"10\\u207B\")"
   ]
  },
  {
   "cell_type": "code",
   "execution_count": 163,
   "metadata": {},
   "outputs": [
    {
     "ename": "SyntaxError",
     "evalue": "(unicode error) 'unicodeescape' codec can't decode bytes in position 24-42: unknown Unicode character name (506135909.py, line 1)",
     "output_type": "error",
     "traceback": [
      "\u001b[0;36m  Cell \u001b[0;32mIn [163], line 1\u001b[0;36m\u001b[0m\n\u001b[0;31m    print('RRR\\N{SUPERSCRIPT MINUS}\\N{SUBSCRIPT MTOR\\}')\u001b[0m\n\u001b[0m                                                       ^\u001b[0m\n\u001b[0;31mSyntaxError\u001b[0m\u001b[0;31m:\u001b[0m (unicode error) 'unicodeescape' codec can't decode bytes in position 24-42: unknown Unicode character name\n"
     ]
    }
   ],
   "source": [
    "print('RRR\\N{SUPERSCRIPT MINUS}\\N{SUBSCRIPT MTOR\\}')\n",
    "print('RRR\\N{SUBSCRIPT MINUS}')"
   ]
  },
  {
   "cell_type": "code",
   "execution_count": 177,
   "metadata": {},
   "outputs": [
    {
     "name": "stdout",
     "output_type": "stream",
     "text": [
      "ABCDEFGHIJKLMNOPQRSTUVWXYZ\n",
      "ₐ₈CDₑբGₕᵢⱼₖₗₘₙₒₚQᵣₛₜᵤᵥwₓᵧZ\n"
     ]
    }
   ],
   "source": [
    "example_string = \"A0X\"\n",
    "\n",
    "SUB = str.maketrans(\"0123456789\", \"₀₁₂₃₄₅₆₇₈₉\")\n",
    "SUP = str.maketrans(\"-+\", \"−+\")\n",
    "\n",
    "print(example_string.translate(SUP))\n",
    "print(example_string.translate(SUB))"
   ]
  },
  {
   "cell_type": "code",
   "execution_count": 154,
   "metadata": {},
   "outputs": [],
   "source": [
    "neg_pos_target_communities = [target_communities2, pos_target_communities2[0]]\n",
    "\n",
    "neg_pos_target_communities "
   ]
  },
  {
   "cell_type": "code",
   "execution_count": null,
   "metadata": {},
   "outputs": [],
   "source": [
    "[x1,y1,z1] = cs_calculation(treat_int=[0,1], communities=neg_pos_target_communities, treatments=community_names)\n",
    "\n",
    "# HEATMAP\n",
    "fig = go.Figure(data=go.Heatmap(\n",
    "                z=z1,\n",
    "                x=x1,\n",
    "                y=y1,\n",
    "                hoverongaps = False))\n",
    "fig.show()"
   ]
  }
 ],
 "metadata": {
  "kernelspec": {
   "display_name": "Python 3 (ipykernel)",
   "language": "python",
   "name": "python3"
  },
  "language_info": {
   "codemirror_mode": {
    "name": "ipython",
    "version": 3
   },
   "file_extension": ".py",
   "mimetype": "text/x-python",
   "name": "python",
   "nbconvert_exporter": "python",
   "pygments_lexer": "ipython3",
   "version": "3.9.12"
  }
 },
 "nbformat": 4,
 "nbformat_minor": 4
}
